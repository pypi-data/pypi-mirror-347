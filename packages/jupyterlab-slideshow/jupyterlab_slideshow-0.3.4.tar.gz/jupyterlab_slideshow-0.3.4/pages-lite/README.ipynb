{
  "metadata": {
    "kernelspec": {
      "name": "python",
      "display_name": "Python (Pyodide)",
      "language": "python"
    },
    "language_info": {
      "codemirror_mode": {
        "name": "python",
        "version": 3
      },
      "file_extension": ".py",
      "mimetype": "text/x-python",
      "name": "python",
      "nbconvert_exporter": "python",
      "pygments_lexer": "ipython3",
      "version": "3.8"
    }
  },
  "nbformat_minor": 4,
  "nbformat": 4,
  "cells": [
    {
      "cell_type": "markdown",
      "source": "# jupyterlab-deck reports\n\n> For documentation, see the [ReadTheDocs] site!\n\n[ReadTheDocs]: https://jupyterlab-deck.rtfd.io",
      "metadata": {
        "slideshow": {
          "slide_type": "slide"
        },
        "tags": []
      }
    },
    {
      "cell_type": "markdown",
      "source": "## Aceptance Tests: Robot Framework\n\n> [Robot Framework][rf] is used with [JupyterLibrary] to test that the system\n> functions as expected in the browser\n\n[rf]: https://robotframework.org\n[JupyterLibrary]: https://robotframework-jupyterlibrary.rtfd.io\n",
      "metadata": {
        "slideshow": {
          "slide_type": "slide"
        },
        "tags": []
      }
    },
    {
      "cell_type": "code",
      "source": "%%html\n<iframe src=\"./robot/latest/log.html\" style=\"width: 99%; height: 70vh; overflow-y: hidden;\">",
      "metadata": {
        "jupyter": {
          "source_hidden": true
        },
        "tags": [],
        "trusted": true
      },
      "outputs": [
        {
          "output_type": "display_data",
          "data": {
            "text/plain": "<IPython.core.display.HTML object>",
            "text/html": "<iframe src=\"./robot/latest/log.html\" style=\"width: 99%; height: 70vh; overflow-y: hidden;\">\n"
          },
          "metadata": {}
        }
      ],
      "execution_count": 2
    },
    {
      "cell_type": "markdown",
      "source": "## Robot Screenshots",
      "metadata": {
        "slideshow": {
          "slide_type": "slide"
        },
        "tags": []
      }
    },
    {
      "cell_type": "code",
      "source": "%pip install ipywidgets\nimport ipywidgets, pathlib",
      "metadata": {
        "tags": [],
        "jupyter": {
          "source_hidden": true
        },
        "trusted": true
      },
      "outputs": [],
      "execution_count": 3
    },
    {
      "cell_type": "code",
      "source": "screens = ipywidgets.SelectionRangeSlider(options=sorted(pathlib.Path(\"robot/latest/screenshots\").rglob(\"*.png\")), layout=dict(width=\"80%\"))\nscreens.value = [screens.options[0], screens.options[0]]\nhtml = ipywidgets.HTML(layout=dict(height=\"60vh\", max_height=\"60vh\"))",
      "metadata": {
        "tags": [],
        "jupyter": {
          "source_hidden": true
        },
        "trusted": true
      },
      "outputs": [],
      "execution_count": 4
    },
    {
      "cell_type": "code",
      "source": "def screens_changed(*a):\n    if not screens.value and len(screens.value) == 2: return\n    mm = list(map(screens.options.index, screens.value))\n    html.value = \" \".join([\n        f\"\"\"<a href=\"../files/{s}\"><img src=\"../files/{s}\" width=\"200\" /></a>\"\"\" for s in screens.options[mm[0]:mm[1]]\n    ])\nscreens_changed()\nscreens.observe(screens_changed)",
      "metadata": {
        "tags": [],
        "jupyter": {
          "source_hidden": true
        },
        "trusted": true
      },
      "outputs": [],
      "execution_count": 5
    },
    {
      "cell_type": "code",
      "source": "display(screens,html)",
      "metadata": {
        "trusted": true
      },
      "outputs": [
        {
          "output_type": "display_data",
          "data": {
            "text/plain": "SelectionRangeSlider(index=(0, 0), layout=Layout(width='80%'), options=(PosixPath('robot/latest/screenshots/li…",
            "application/vnd.jupyter.widget-view+json": {
              "version_major": 2,
              "version_minor": 0,
              "model_id": "c82d149289cc499aaa8d31352cd11d66"
            }
          },
          "metadata": {}
        },
        {
          "output_type": "display_data",
          "data": {
            "text/plain": "HTML(value='', layout=Layout(height='60vh', max_height='60vh'))",
            "application/vnd.jupyter.widget-view+json": {
              "version_major": 2,
              "version_minor": 0,
              "model_id": "0c5218fca812440492a744c2aa020a63"
            }
          },
          "metadata": {}
        }
      ],
      "execution_count": 6
    },
    {
      "cell_type": "markdown",
      "source": "## Frontend Code Coverage: NYC\n\n> After the Robot Framework tests run against code instrumented with [istanbul](https://istanbul.js.org) a coverage report is generated with [nyc](https://github.com/istanbuljs/nyc).",
      "metadata": {
        "slideshow": {
          "slide_type": "slide"
        },
        "tags": []
      }
    },
    {
      "cell_type": "code",
      "source": "%%html\n<iframe src=\"./nyc/index.html\" style=\"width: 99%; height: 70vh; overflow-y: hidden;\">",
      "metadata": {
        "jupyter": {
          "source_hidden": true
        },
        "tags": [],
        "trusted": true
      },
      "outputs": [
        {
          "output_type": "display_data",
          "data": {
            "text/plain": "<IPython.core.display.HTML object>",
            "text/html": "<iframe src=\"./nyc/index.html\" style=\"width: 99%; height: 70vh; overflow-y: hidden;\">\n"
          },
          "metadata": {}
        }
      ],
      "execution_count": 7
    },
    {
      "cell_type": "markdown",
      "source": "## Unit Tests with Pytest\n\n> [pytest](https://docs.pytest.org) is used to test that the outer python packaging environment works, and [pytest-html](https://pytest-html.readthedocs.io) generates reports.",
      "metadata": {
        "slideshow": {
          "slide_type": "slide"
        },
        "tags": []
      }
    },
    {
      "cell_type": "code",
      "source": "%%html\n<iframe src=\"pytest.html\" style=\"width: 99%; height: 70vh; overflow-y: hidden;\">",
      "metadata": {
        "jupyter": {
          "source_hidden": true
        },
        "tags": [],
        "trusted": true
      },
      "outputs": [
        {
          "output_type": "display_data",
          "data": {
            "text/plain": "<IPython.core.display.HTML object>",
            "text/html": "<iframe src=\"pytest.html\" style=\"width: 99%; height: 70vh; overflow-y: hidden;\">\n"
          },
          "metadata": {}
        }
      ],
      "execution_count": 8
    },
    {
      "cell_type": "markdown",
      "source": "## Coverage with pytest-cov\n\n> [pytest-cov](https://pytest-cov.readthedocs.io) also runs, generating python coverage.",
      "metadata": {
        "slideshow": {
          "slide_type": "slide"
        },
        "tags": []
      }
    },
    {
      "cell_type": "code",
      "source": "%%html\n<iframe src=\"htmlcov/index.html\" style=\"width: 99%; height: 70vh; overflow-y: hidden;\">",
      "metadata": {
        "jupyter": {
          "source_hidden": true
        },
        "tags": [],
        "trusted": true
      },
      "outputs": [
        {
          "output_type": "display_data",
          "data": {
            "text/plain": "<IPython.core.display.HTML object>",
            "text/html": "<iframe src=\"htmlcov/index.html\" style=\"width: 99%; height: 70vh; overflow-y: hidden;\">\n"
          },
          "metadata": {}
        }
      ],
      "execution_count": 9
    }
  ]
}