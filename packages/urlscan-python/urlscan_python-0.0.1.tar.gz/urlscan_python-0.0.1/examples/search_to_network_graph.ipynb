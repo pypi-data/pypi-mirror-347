{
 "cells": [
  {
   "cell_type": "markdown",
   "id": "0",
   "metadata": {},
   "source": [
    "# Search to Network Graph With Pandas, NetworkX and Sigma (ipysigma)\n",
    "\n",
    "This Jupyternotebook demonstrates how to create & visualize a graph based on urlscan.io search results.\n",
    "\n",
    "## How It Works\n",
    "\n",
    "- Do search\n",
    "- Convert search results into a Pandas DataFrame\n",
    "- Convert the Pandas DataFrame into a NetworkX graph represents `page.ip` to `page.domain` relationships\n",
    "- Visualize the graph with Sigma.js (`ipysigma`)"
   ]
  },
  {
   "cell_type": "code",
   "execution_count": null,
   "id": "1",
   "metadata": {},
   "outputs": [],
   "source": [
    "!pip install python-dotenv networkx pandas ipysigma urlscan-python"
   ]
  },
  {
   "cell_type": "code",
   "execution_count": null,
   "id": "2",
   "metadata": {},
   "outputs": [],
   "source": [
    "import os\n",
    "\n",
    "import dotenv\n",
    "import networkx as nx\n",
    "import pandas as pd\n",
    "from ipysigma import Sigma\n",
    "\n",
    "from urlscan import Client"
   ]
  },
  {
   "cell_type": "code",
   "execution_count": null,
   "id": "3",
   "metadata": {},
   "outputs": [],
   "source": [
    "# load urlscan.API key via URLSCAN_API_KEY env or input & set search query via input\n",
    "dotenv.load_dotenv()\n",
    "\n",
    "URLSCAN_API_KEY = os.environ.get(\"URLSCAN_API_KEY\") or input(\"URLSCAN_API_KEY: \")\n",
    "SEARCH_QUERY = input(\"Search query:\")"
   ]
  },
  {
   "cell_type": "code",
   "execution_count": null,
   "id": "4",
   "metadata": {},
   "outputs": [],
   "source": [
    "# do search\n",
    "print(f\"Searching for {SEARCH_QUERY}...\")  # noqa: T201\n",
    "\n",
    "with Client(URLSCAN_API_KEY) as client:\n",
    "    results = list(client.search(SEARCH_QUERY, limit=10000))"
   ]
  },
  {
   "cell_type": "code",
   "execution_count": null,
   "id": "5",
   "metadata": {},
   "outputs": [],
   "source": [
    "# convert search results to pandas DataFrame\n",
    "df = pd.json_normalize(results)"
   ]
  },
  {
   "cell_type": "code",
   "execution_count": null,
   "id": "6",
   "metadata": {},
   "outputs": [],
   "source": [
    "# drop duplicates\n",
    "df = df.drop_duplicates(subset=[\"page.ip\", \"page.domain\"])"
   ]
  },
  {
   "cell_type": "code",
   "execution_count": null,
   "id": "7",
   "metadata": {},
   "outputs": [],
   "source": [
    "# convert DataFrame to networkx graph\n",
    "g = nx.Graph()\n",
    "g.add_nodes_from(df[\"page.ip\"], tag=\"ip\")\n",
    "g.add_nodes_from(df[\"page.domain\"], tag=\"domain\")\n",
    "edges = [(row[\"page.ip\"], row[\"page.domain\"]) for _, row in df.iterrows()]\n",
    "g.add_edges_from(edges)"
   ]
  },
  {
   "cell_type": "code",
   "execution_count": null,
   "id": "8",
   "metadata": {},
   "outputs": [],
   "source": [
    "# visualize graph with ipysigma\n",
    "Sigma(g, node_color=\"tag\")"
   ]
  }
 ],
 "metadata": {
  "kernelspec": {
   "display_name": ".venv",
   "language": "python",
   "name": "python3"
  },
  "language_info": {
   "codemirror_mode": {
    "name": "ipython",
    "version": 3
   },
   "file_extension": ".py",
   "mimetype": "text/x-python",
   "name": "python",
   "nbconvert_exporter": "python",
   "pygments_lexer": "ipython3",
   "version": "3.12.9"
  }
 },
 "nbformat": 4,
 "nbformat_minor": 5
}
