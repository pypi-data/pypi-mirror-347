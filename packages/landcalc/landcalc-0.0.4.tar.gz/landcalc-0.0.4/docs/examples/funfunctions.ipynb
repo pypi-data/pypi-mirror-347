{
 "cells": [
  {
   "cell_type": "markdown",
   "id": "0",
   "metadata": {},
   "source": [
    "# Fun Function with LandCalc"
   ]
  },
  {
   "cell_type": "code",
   "execution_count": null,
   "id": "1",
   "metadata": {},
   "outputs": [],
   "source": [
    "import landcalc as landcalc"
   ]
  },
  {
   "cell_type": "markdown",
   "id": "2",
   "metadata": {},
   "source": [
    "## Adding Rasters"
   ]
  },
  {
   "cell_type": "code",
   "execution_count": null,
   "id": "3",
   "metadata": {},
   "outputs": [],
   "source": [
    "url = \"https://opengeos.org/data/raster/landsat7.tif\"\n",
    "\n",
    "m = landcalc.Map()\n",
    "m.add_raster(filepath=url, name=\"San Fransico\", opacity=0.9)\n",
    "m"
   ]
  },
  {
   "cell_type": "markdown",
   "id": "4",
   "metadata": {},
   "source": [
    "## Adding Images"
   ]
  },
  {
   "cell_type": "code",
   "execution_count": null,
   "id": "5",
   "metadata": {},
   "outputs": [],
   "source": [
    "url = \"https://github.com/opengeos/datasets/releases/download/pace/cat.png\"\n",
    "\n",
    "m = landcalc.Map()\n",
    "m.add_image(url, name=\"Cat\", opacity=0.9)\n",
    "m"
   ]
  },
  {
   "cell_type": "markdown",
   "id": "6",
   "metadata": {},
   "source": [
    "## Adding Videos"
   ]
  },
  {
   "cell_type": "code",
   "execution_count": null,
   "id": "7",
   "metadata": {},
   "outputs": [],
   "source": [
    "url = \"https://github.com/opengeos/datasets/releases/download/videos/aral_sea.mp4\"\n",
    "m = landcalc.Map()\n",
    "m.add_video(url, bounds=[[37.75, -122.5], [37.8, -122.35]])\n",
    "m"
   ]
  },
  {
   "cell_type": "markdown",
   "id": "8",
   "metadata": {},
   "source": [
    "## Adding WMS Layers"
   ]
  },
  {
   "cell_type": "code",
   "execution_count": null,
   "id": "9",
   "metadata": {},
   "outputs": [],
   "source": [
    "url = \"http://mesonet.agron.iastate.edu/cgi-bin/wms/nexrad/n0r.cgi\"\n",
    "\n",
    "m = landcalc.Map(enter=(38.491, -95.712), zoom=4)\n",
    "\n",
    "m.add_wms_layer(\n",
    "    url,\n",
    "    name=\"NEXRAD\",\n",
    "    layers=\"nexrad-n0r-900913\",\n",
    "    format=\"image/png\",\n",
    "    transparent=True,\n",
    ")\n",
    "\n",
    "m"
   ]
  }
 ],
 "metadata": {
  "kernelspec": {
   "display_name": "geo",
   "language": "python",
   "name": "python3"
  },
  "language_info": {
   "codemirror_mode": {
    "name": "ipython",
    "version": 3
   },
   "file_extension": ".py",
   "mimetype": "text/x-python",
   "name": "python",
   "nbconvert_exporter": "python",
   "pygments_lexer": "ipython3",
   "version": "3.12.9"
  }
 },
 "nbformat": 4,
 "nbformat_minor": 5
}
