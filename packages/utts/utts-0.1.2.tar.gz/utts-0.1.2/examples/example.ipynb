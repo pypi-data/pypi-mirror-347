{
 "cells": [
  {
   "cell_type": "markdown",
   "metadata": {},
   "source": [
    "# UTTS - Compare Text-to-Speech Models\n",
    "\n",
    "### Installation"
   ]
  },
  {
   "cell_type": "code",
   "execution_count": null,
   "metadata": {
    "colab": {
     "base_uri": "https://localhost:8080/"
    },
    "id": "TLGMAct-fvFp",
    "outputId": "80645f0d-16b7-4498-eba6-e61d34f7d395"
   },
   "outputs": [],
   "source": [
    "!pip install --upgrade git+https://github.com/arch1baald/utts.git"
   ]
  },
  {
   "cell_type": "markdown",
   "metadata": {},
   "source": [
    "Obtain API keys for the services you want to use:\n",
    "- [OpenAI](https://platform.openai.com/settings/api-keys)\n",
    "- [ElevenLabs](https://elevenlabs.io/app/settings/api-keys)\n",
    "- [Replicate](https://replicate.com/account/api-tokens) (for Kokoro and Orpheus)\n",
    "- [Zyphra/Zonos](https://playground.zyphra.com/settings/api-keys)\n",
    "- [Hume AI](https://platform.hume.ai/settings/keys)\n",
    "- [Cartesia](https://play.cartesia.ai/keys)"
   ]
  },
  {
   "cell_type": "code",
   "execution_count": null,
   "metadata": {
    "id": "1kTKPyF7fybF"
   },
   "outputs": [],
   "source": [
    "from IPython.display import Audio\n",
    "\n",
    "import utts\n",
    "from utts.utils import batch_generate, random_choice_enum\n",
    "\n",
    "\n",
    "# Leave blank if you don't have a key\n",
    "api_keys = \"\"\"\n",
    "OPENAI__API_KEY=\n",
    "ELEVENLABS__API_KEY=\n",
    "REPLICATE__API_KEY=\n",
    "ZYPHRA__API_KEY=\n",
    "HUME__API_KEY=\n",
    "CARTESIA__API_KEY=\n",
    "\"\"\"\n",
    "with open('.env', 'w') as fout:\n",
    "    fout.write(api_keys)"
   ]
  },
  {
   "cell_type": "markdown",
   "metadata": {},
   "source": [
    "### Quick Start"
   ]
  },
  {
   "cell_type": "code",
   "execution_count": null,
   "metadata": {},
   "outputs": [],
   "source": [
    "audio = utts.elevenlabs.generate('Hello, world!')\n",
    "Audio(audio)"
   ]
  },
  {
   "cell_type": "markdown",
   "metadata": {},
   "source": [
    "### Batch generation\n",
    "With default voices and models:"
   ]
  },
  {
   "cell_type": "code",
   "execution_count": null,
   "metadata": {},
   "outputs": [],
   "source": [
    "text = \"Hello, world!\"\n",
    "\n",
    "batch = [\n",
    "    (utts.openai.generate, text),\n",
    "    (utts.elevenlabs.generate, text),\n",
    "    (utts.cartesia.generate, text),\n",
    "    (utts.kokoro.generate, text),\n",
    "    (utts.hume.generate, text),\n",
    "    (utts.zyphra.generate, text)\n",
    "]\n",
    "\n",
    "res = batch_generate(batch)"
   ]
  },
  {
   "cell_type": "markdown",
   "metadata": {},
   "source": [
    "With random voices and models:"
   ]
  },
  {
   "cell_type": "code",
   "execution_count": null,
   "metadata": {
    "colab": {
     "base_uri": "https://localhost:8080/",
     "height": 693
    },
    "id": "ZzVBNsNR2qVX",
    "outputId": "4e8bc1f1-c427-4b7f-9bf6-3daa24101478"
   },
   "outputs": [],
   "source": [
    "text = \"Hello, world!\"\n",
    "\n",
    "batch = [\n",
    "    (utts.openai.generate, text, {\"voice\": random_choice_enum(utts.openai.Voice), \"model\": random_choice_enum(utts.openai.Model)}),\n",
    "    (utts.elevenlabs.generate, text, {\"voice\": random_choice_enum(utts.elevenlabs.Voice), \"model\": random_choice_enum(utts.elevenlabs.Model)}),\n",
    "    (utts.cartesia.generate, text, {\"voice\": random_choice_enum(utts.cartesia.Voice), \"model\": random_choice_enum(utts.cartesia.Model)}),\n",
    "    (utts.hume.generate, text),\n",
    "    (utts.kokoro.generate, text, {\"voice\": random_choice_enum(utts.kokoro.Voice), \"model\": random_choice_enum(utts.kokoro.Model)}),\n",
    "    (utts.zyphra.generate, text, {\"voice\": random_choice_enum(utts.zyphra.Voice), \"model\": random_choice_enum(utts.zyphra.Model)}),\n",
    "]\n",
    "\n",
    "res = batch_generate(batch)"
   ]
  },
  {
   "cell_type": "code",
   "execution_count": null,
   "metadata": {},
   "outputs": [],
   "source": []
  }
 ],
 "metadata": {
  "colab": {
   "provenance": []
  },
  "kernelspec": {
   "display_name": "Python 3 (ipykernel)",
   "language": "python",
   "name": "python3"
  },
  "language_info": {
   "codemirror_mode": {
    "name": "ipython",
    "version": 3
   },
   "file_extension": ".py",
   "mimetype": "text/x-python",
   "name": "python",
   "nbconvert_exporter": "python",
   "pygments_lexer": "ipython3",
   "version": "3.11.12"
  }
 },
 "nbformat": 4,
 "nbformat_minor": 4
}
