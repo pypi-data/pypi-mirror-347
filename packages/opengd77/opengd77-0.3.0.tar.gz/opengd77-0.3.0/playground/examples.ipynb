{
 "cells": [
  {
   "cell_type": "code",
   "execution_count": 1,
   "metadata": {},
   "outputs": [
    {
     "data": {
      "text/html": [
       "<pre style=\"white-space:pre;overflow-x:auto;line-height:normal;font-family:Menlo,'DejaVu Sans Mono',consolas,'Courier New',monospace\"><span style=\"color: #800080; text-decoration-color: #800080; font-weight: bold\">DigitalChannel</span><span style=\"font-weight: bold\">(</span>\n",
       "    <span style=\"color: #808000; text-decoration-color: #808000\">name</span>=<span style=\"color: #008000; text-decoration-color: #008000\">'Test Channel'</span>,\n",
       "    <span style=\"color: #808000; text-decoration-color: #808000\">rx_frequency</span>=<span style=\"color: #800080; text-decoration-color: #800080; font-weight: bold\">Decimal</span><span style=\"font-weight: bold\">(</span><span style=\"color: #008000; text-decoration-color: #008000\">'145.000'</span><span style=\"font-weight: bold\">)</span>,\n",
       "    <span style=\"color: #808000; text-decoration-color: #808000\">tx_frequency</span>=<span style=\"color: #800080; text-decoration-color: #800080; font-weight: bold\">Decimal</span><span style=\"font-weight: bold\">(</span><span style=\"color: #008000; text-decoration-color: #008000\">'145.000'</span><span style=\"font-weight: bold\">)</span>,\n",
       "    <span style=\"color: #808000; text-decoration-color: #808000\">power</span>=<span style=\"font-weight: bold\">&lt;</span><span style=\"color: #ff00ff; text-decoration-color: #ff00ff; font-weight: bold\">Power.MASTER:</span><span style=\"color: #000000; text-decoration-color: #000000\"> </span><span style=\"color: #008080; text-decoration-color: #008080; font-weight: bold\">1</span><span style=\"color: #000000; text-decoration-color: #000000\">&gt;,</span>\n",
       "<span style=\"color: #000000; text-decoration-color: #000000\">    </span><span style=\"color: #808000; text-decoration-color: #808000\">rx_only</span><span style=\"color: #000000; text-decoration-color: #000000\">=</span><span style=\"color: #ff0000; text-decoration-color: #ff0000; font-style: italic\">False</span><span style=\"color: #000000; text-decoration-color: #000000\">,</span>\n",
       "<span style=\"color: #000000; text-decoration-color: #000000\">    </span><span style=\"color: #808000; text-decoration-color: #808000\">scan_zone_skip</span><span style=\"color: #000000; text-decoration-color: #000000\">=</span><span style=\"color: #ff0000; text-decoration-color: #ff0000; font-style: italic\">False</span><span style=\"color: #000000; text-decoration-color: #000000\">,</span>\n",
       "<span style=\"color: #000000; text-decoration-color: #000000\">    </span><span style=\"color: #808000; text-decoration-color: #808000\">scan_all_skip</span><span style=\"color: #000000; text-decoration-color: #000000\">=</span><span style=\"color: #ff0000; text-decoration-color: #ff0000; font-style: italic\">False</span><span style=\"color: #000000; text-decoration-color: #000000\">,</span>\n",
       "<span style=\"color: #000000; text-decoration-color: #000000\">    </span><span style=\"color: #808000; text-decoration-color: #808000\">timeout</span><span style=\"color: #000000; text-decoration-color: #000000\">=</span><span style=\"color: #800080; text-decoration-color: #800080; font-style: italic\">None</span><span style=\"color: #000000; text-decoration-color: #000000\">,</span>\n",
       "<span style=\"color: #000000; text-decoration-color: #000000\">    </span><span style=\"color: #808000; text-decoration-color: #808000\">vox</span><span style=\"color: #000000; text-decoration-color: #000000\">=</span><span style=\"color: #ff0000; text-decoration-color: #ff0000; font-style: italic\">False</span><span style=\"color: #000000; text-decoration-color: #000000\">,</span>\n",
       "<span style=\"color: #000000; text-decoration-color: #000000\">    </span><span style=\"color: #808000; text-decoration-color: #808000\">no_beep</span><span style=\"color: #000000; text-decoration-color: #000000\">=</span><span style=\"color: #ff0000; text-decoration-color: #ff0000; font-style: italic\">False</span><span style=\"color: #000000; text-decoration-color: #000000\">,</span>\n",
       "<span style=\"color: #000000; text-decoration-color: #000000\">    </span><span style=\"color: #808000; text-decoration-color: #808000\">no_economy</span><span style=\"color: #000000; text-decoration-color: #000000\">=</span><span style=\"color: #ff0000; text-decoration-color: #ff0000; font-style: italic\">False</span><span style=\"color: #000000; text-decoration-color: #000000\">,</span>\n",
       "<span style=\"color: #000000; text-decoration-color: #000000\">    </span><span style=\"color: #808000; text-decoration-color: #808000\">aprs</span><span style=\"color: #000000; text-decoration-color: #000000\">=</span><span style=\"color: #800080; text-decoration-color: #800080; font-style: italic\">None</span><span style=\"color: #000000; text-decoration-color: #000000\">,</span>\n",
       "<span style=\"color: #000000; text-decoration-color: #000000\">    </span><span style=\"color: #808000; text-decoration-color: #808000\">latitude</span><span style=\"color: #000000; text-decoration-color: #000000\">=</span><span style=\"color: #800080; text-decoration-color: #800080; font-weight: bold\">Decimal</span><span style=\"color: #000000; text-decoration-color: #000000; font-weight: bold\">(</span><span style=\"color: #008000; text-decoration-color: #008000\">'0'</span><span style=\"color: #000000; text-decoration-color: #000000; font-weight: bold\">)</span><span style=\"color: #000000; text-decoration-color: #000000\">,</span>\n",
       "<span style=\"color: #000000; text-decoration-color: #000000\">    </span><span style=\"color: #808000; text-decoration-color: #808000\">longitude</span><span style=\"color: #000000; text-decoration-color: #000000\">=</span><span style=\"color: #800080; text-decoration-color: #800080; font-weight: bold\">Decimal</span><span style=\"color: #000000; text-decoration-color: #000000; font-weight: bold\">(</span><span style=\"color: #008000; text-decoration-color: #008000\">'0'</span><span style=\"color: #000000; text-decoration-color: #000000; font-weight: bold\">)</span><span style=\"color: #000000; text-decoration-color: #000000\">,</span>\n",
       "<span style=\"color: #000000; text-decoration-color: #000000\">    </span><span style=\"color: #808000; text-decoration-color: #808000\">use_location</span><span style=\"color: #000000; text-decoration-color: #000000\">=</span><span style=\"color: #ff0000; text-decoration-color: #ff0000; font-style: italic\">False</span><span style=\"color: #000000; text-decoration-color: #000000\">,</span>\n",
       "<span style=\"color: #000000; text-decoration-color: #000000\">    </span><span style=\"color: #808000; text-decoration-color: #808000\">tg_list</span><span style=\"color: #000000; text-decoration-color: #000000\">=</span><span style=\"color: #800080; text-decoration-color: #800080; font-style: italic\">None</span><span style=\"color: #000000; text-decoration-color: #000000\">,</span>\n",
       "<span style=\"color: #000000; text-decoration-color: #000000\">    </span><span style=\"color: #808000; text-decoration-color: #808000\">color_code</span><span style=\"color: #000000; text-decoration-color: #000000\">=</span><span style=\"color: #008080; text-decoration-color: #008080; font-weight: bold\">0</span><span style=\"color: #000000; text-decoration-color: #000000\">,</span>\n",
       "<span style=\"color: #000000; text-decoration-color: #000000\">    </span><span style=\"color: #808000; text-decoration-color: #808000\">contact</span><span style=\"color: #000000; text-decoration-color: #000000\">=</span><span style=\"color: #800080; text-decoration-color: #800080; font-style: italic\">None</span><span style=\"color: #000000; text-decoration-color: #000000\">,</span>\n",
       "<span style=\"color: #000000; text-decoration-color: #000000\">    </span><span style=\"color: #808000; text-decoration-color: #808000\">repeater_timeslot</span><span style=\"color: #000000; text-decoration-color: #000000\">=</span><span style=\"color: #008080; text-decoration-color: #008080; font-weight: bold\">1</span><span style=\"color: #000000; text-decoration-color: #000000\">,</span>\n",
       "<span style=\"color: #000000; text-decoration-color: #000000\">    </span><span style=\"color: #808000; text-decoration-color: #808000\">timeslot_1_talker_alias</span><span style=\"color: #000000; text-decoration-color: #000000\">=&lt;TalkerAlias.APRS|TEXT: </span><span style=\"color: #008080; text-decoration-color: #008080; font-weight: bold\">3</span><span style=\"color: #000000; text-decoration-color: #000000\">&gt;,</span>\n",
       "<span style=\"color: #000000; text-decoration-color: #000000\">    </span><span style=\"color: #808000; text-decoration-color: #808000\">timeslot_2_talker_alias</span><span style=\"color: #000000; text-decoration-color: #000000\">=&lt;TalkerAlias.APRS|TEXT: </span><span style=\"color: #008080; text-decoration-color: #008080; font-weight: bold\">3</span><span style=\"font-weight: bold\">&gt;</span>,\n",
       "    <span style=\"color: #808000; text-decoration-color: #808000\">override_master_dmr_id</span>=<span style=\"color: #800080; text-decoration-color: #800080; font-style: italic\">None</span>,\n",
       "    <span style=\"color: #808000; text-decoration-color: #808000\">force_dmo</span>=<span style=\"color: #ff0000; text-decoration-color: #ff0000; font-style: italic\">False</span>\n",
       "<span style=\"font-weight: bold\">)</span>\n",
       "</pre>\n"
      ],
      "text/plain": [
       "\u001b[1;35mDigitalChannel\u001b[0m\u001b[1m(\u001b[0m\n",
       "    \u001b[33mname\u001b[0m=\u001b[32m'Test Channel'\u001b[0m,\n",
       "    \u001b[33mrx_frequency\u001b[0m=\u001b[1;35mDecimal\u001b[0m\u001b[1m(\u001b[0m\u001b[32m'145.000'\u001b[0m\u001b[1m)\u001b[0m,\n",
       "    \u001b[33mtx_frequency\u001b[0m=\u001b[1;35mDecimal\u001b[0m\u001b[1m(\u001b[0m\u001b[32m'145.000'\u001b[0m\u001b[1m)\u001b[0m,\n",
       "    \u001b[33mpower\u001b[0m=\u001b[1m<\u001b[0m\u001b[1;95mPower.MASTER:\u001b[0m\u001b[39m \u001b[0m\u001b[1;36m1\u001b[0m\u001b[39m>,\u001b[0m\n",
       "\u001b[39m    \u001b[0m\u001b[33mrx_only\u001b[0m\u001b[39m=\u001b[0m\u001b[3;91mFalse\u001b[0m\u001b[39m,\u001b[0m\n",
       "\u001b[39m    \u001b[0m\u001b[33mscan_zone_skip\u001b[0m\u001b[39m=\u001b[0m\u001b[3;91mFalse\u001b[0m\u001b[39m,\u001b[0m\n",
       "\u001b[39m    \u001b[0m\u001b[33mscan_all_skip\u001b[0m\u001b[39m=\u001b[0m\u001b[3;91mFalse\u001b[0m\u001b[39m,\u001b[0m\n",
       "\u001b[39m    \u001b[0m\u001b[33mtimeout\u001b[0m\u001b[39m=\u001b[0m\u001b[3;35mNone\u001b[0m\u001b[39m,\u001b[0m\n",
       "\u001b[39m    \u001b[0m\u001b[33mvox\u001b[0m\u001b[39m=\u001b[0m\u001b[3;91mFalse\u001b[0m\u001b[39m,\u001b[0m\n",
       "\u001b[39m    \u001b[0m\u001b[33mno_beep\u001b[0m\u001b[39m=\u001b[0m\u001b[3;91mFalse\u001b[0m\u001b[39m,\u001b[0m\n",
       "\u001b[39m    \u001b[0m\u001b[33mno_economy\u001b[0m\u001b[39m=\u001b[0m\u001b[3;91mFalse\u001b[0m\u001b[39m,\u001b[0m\n",
       "\u001b[39m    \u001b[0m\u001b[33maprs\u001b[0m\u001b[39m=\u001b[0m\u001b[3;35mNone\u001b[0m\u001b[39m,\u001b[0m\n",
       "\u001b[39m    \u001b[0m\u001b[33mlatitude\u001b[0m\u001b[39m=\u001b[0m\u001b[1;35mDecimal\u001b[0m\u001b[1;39m(\u001b[0m\u001b[32m'0'\u001b[0m\u001b[1;39m)\u001b[0m\u001b[39m,\u001b[0m\n",
       "\u001b[39m    \u001b[0m\u001b[33mlongitude\u001b[0m\u001b[39m=\u001b[0m\u001b[1;35mDecimal\u001b[0m\u001b[1;39m(\u001b[0m\u001b[32m'0'\u001b[0m\u001b[1;39m)\u001b[0m\u001b[39m,\u001b[0m\n",
       "\u001b[39m    \u001b[0m\u001b[33muse_location\u001b[0m\u001b[39m=\u001b[0m\u001b[3;91mFalse\u001b[0m\u001b[39m,\u001b[0m\n",
       "\u001b[39m    \u001b[0m\u001b[33mtg_list\u001b[0m\u001b[39m=\u001b[0m\u001b[3;35mNone\u001b[0m\u001b[39m,\u001b[0m\n",
       "\u001b[39m    \u001b[0m\u001b[33mcolor_code\u001b[0m\u001b[39m=\u001b[0m\u001b[1;36m0\u001b[0m\u001b[39m,\u001b[0m\n",
       "\u001b[39m    \u001b[0m\u001b[33mcontact\u001b[0m\u001b[39m=\u001b[0m\u001b[3;35mNone\u001b[0m\u001b[39m,\u001b[0m\n",
       "\u001b[39m    \u001b[0m\u001b[33mrepeater_timeslot\u001b[0m\u001b[39m=\u001b[0m\u001b[1;36m1\u001b[0m\u001b[39m,\u001b[0m\n",
       "\u001b[39m    \u001b[0m\u001b[33mtimeslot_1_talker_alias\u001b[0m\u001b[39m=<TalkerAlias.APRS|TEXT: \u001b[0m\u001b[1;36m3\u001b[0m\u001b[39m>,\u001b[0m\n",
       "\u001b[39m    \u001b[0m\u001b[33mtimeslot_2_talker_alias\u001b[0m\u001b[39m=<TalkerAlias.APRS|TEXT: \u001b[0m\u001b[1;36m3\u001b[0m\u001b[1m>\u001b[0m,\n",
       "    \u001b[33moverride_master_dmr_id\u001b[0m=\u001b[3;35mNone\u001b[0m,\n",
       "    \u001b[33mforce_dmo\u001b[0m=\u001b[3;91mFalse\u001b[0m\n",
       "\u001b[1m)\u001b[0m\n"
      ]
     },
     "metadata": {},
     "output_type": "display_data"
    },
    {
     "data": {
      "text/html": [
       "<pre style=\"white-space:pre;overflow-x:auto;line-height:normal;font-family:Menlo,'DejaVu Sans Mono',consolas,'Courier New',monospace\"><span style=\"font-weight: bold\">{</span>\n",
       "    <span style=\"color: #008000; text-decoration-color: #008000\">'Channel Number'</span>: <span style=\"color: #008080; text-decoration-color: #008080; font-weight: bold\">1</span>,\n",
       "    <span style=\"color: #008000; text-decoration-color: #008000\">'Channel Name'</span>: <span style=\"color: #008000; text-decoration-color: #008000\">'Test Channel'</span>,\n",
       "    <span style=\"color: #008000; text-decoration-color: #008000\">'Channel Type'</span>: <span style=\"color: #008000; text-decoration-color: #008000\">'Digital'</span>,\n",
       "    <span style=\"color: #008000; text-decoration-color: #008000\">'Rx Frequency'</span>: <span style=\"color: #800080; text-decoration-color: #800080; font-weight: bold\">Decimal</span><span style=\"font-weight: bold\">(</span><span style=\"color: #008000; text-decoration-color: #008000\">'145.000'</span><span style=\"font-weight: bold\">)</span>,\n",
       "    <span style=\"color: #008000; text-decoration-color: #008000\">'Tx Frequency'</span>: <span style=\"color: #800080; text-decoration-color: #800080; font-weight: bold\">Decimal</span><span style=\"font-weight: bold\">(</span><span style=\"color: #008000; text-decoration-color: #008000\">'145.000'</span><span style=\"font-weight: bold\">)</span>,\n",
       "    <span style=\"color: #008000; text-decoration-color: #008000\">'Power'</span>: <span style=\"color: #008000; text-decoration-color: #008000\">'Master'</span>,\n",
       "    <span style=\"color: #008000; text-decoration-color: #008000\">'Rx Only'</span>: <span style=\"color: #008000; text-decoration-color: #008000\">'No'</span>,\n",
       "    <span style=\"color: #008000; text-decoration-color: #008000\">'Zone Skip'</span>: <span style=\"color: #008000; text-decoration-color: #008000\">'No'</span>,\n",
       "    <span style=\"color: #008000; text-decoration-color: #008000\">'All Skip'</span>: <span style=\"color: #008000; text-decoration-color: #008000\">'No'</span>,\n",
       "    <span style=\"color: #008000; text-decoration-color: #008000\">'TOT'</span>: <span style=\"color: #008080; text-decoration-color: #008080; font-weight: bold\">0</span>,\n",
       "    <span style=\"color: #008000; text-decoration-color: #008000\">'VOX'</span>: <span style=\"color: #008000; text-decoration-color: #008000\">'Off'</span>,\n",
       "    <span style=\"color: #008000; text-decoration-color: #008000\">'No Beep'</span>: <span style=\"color: #008000; text-decoration-color: #008000\">'No'</span>,\n",
       "    <span style=\"color: #008000; text-decoration-color: #008000\">'No Eco'</span>: <span style=\"color: #008000; text-decoration-color: #008000\">'No'</span>,\n",
       "    <span style=\"color: #008000; text-decoration-color: #008000\">'APRS'</span>: <span style=\"color: #008000; text-decoration-color: #008000\">'None'</span>,\n",
       "    <span style=\"color: #008000; text-decoration-color: #008000\">'Latitude'</span>: <span style=\"color: #800080; text-decoration-color: #800080; font-weight: bold\">Decimal</span><span style=\"font-weight: bold\">(</span><span style=\"color: #008000; text-decoration-color: #008000\">'0'</span><span style=\"font-weight: bold\">)</span>,\n",
       "    <span style=\"color: #008000; text-decoration-color: #008000\">'Longitude'</span>: <span style=\"color: #800080; text-decoration-color: #800080; font-weight: bold\">Decimal</span><span style=\"font-weight: bold\">(</span><span style=\"color: #008000; text-decoration-color: #008000\">'0'</span><span style=\"font-weight: bold\">)</span>,\n",
       "    <span style=\"color: #008000; text-decoration-color: #008000\">'Use location'</span>: <span style=\"color: #008000; text-decoration-color: #008000\">'No'</span>,\n",
       "    <span style=\"color: #008000; text-decoration-color: #008000\">'Colour Code'</span>: <span style=\"color: #008080; text-decoration-color: #008080; font-weight: bold\">0</span>,\n",
       "    <span style=\"color: #008000; text-decoration-color: #008000\">'Timeslot'</span>: <span style=\"color: #008080; text-decoration-color: #008080; font-weight: bold\">1</span>,\n",
       "    <span style=\"color: #008000; text-decoration-color: #008000\">'Contact'</span>: <span style=\"color: #008000; text-decoration-color: #008000\">'None'</span>,\n",
       "    <span style=\"color: #008000; text-decoration-color: #008000\">'TG List'</span>: <span style=\"color: #008000; text-decoration-color: #008000\">'None'</span>,\n",
       "    <span style=\"color: #008000; text-decoration-color: #008000\">'DMR ID'</span>: <span style=\"color: #008000; text-decoration-color: #008000\">'None'</span>,\n",
       "    <span style=\"color: #008000; text-decoration-color: #008000\">'TS1_TA_Tx'</span>: <span style=\"color: #008000; text-decoration-color: #008000\">'APRS+Text'</span>,\n",
       "    <span style=\"color: #008000; text-decoration-color: #008000\">'TS2_TA_Tx'</span>: <span style=\"color: #008000; text-decoration-color: #008000\">'APRS+Text'</span>\n",
       "<span style=\"font-weight: bold\">}</span>\n",
       "</pre>\n"
      ],
      "text/plain": [
       "\u001b[1m{\u001b[0m\n",
       "    \u001b[32m'Channel Number'\u001b[0m: \u001b[1;36m1\u001b[0m,\n",
       "    \u001b[32m'Channel Name'\u001b[0m: \u001b[32m'Test Channel'\u001b[0m,\n",
       "    \u001b[32m'Channel Type'\u001b[0m: \u001b[32m'Digital'\u001b[0m,\n",
       "    \u001b[32m'Rx Frequency'\u001b[0m: \u001b[1;35mDecimal\u001b[0m\u001b[1m(\u001b[0m\u001b[32m'145.000'\u001b[0m\u001b[1m)\u001b[0m,\n",
       "    \u001b[32m'Tx Frequency'\u001b[0m: \u001b[1;35mDecimal\u001b[0m\u001b[1m(\u001b[0m\u001b[32m'145.000'\u001b[0m\u001b[1m)\u001b[0m,\n",
       "    \u001b[32m'Power'\u001b[0m: \u001b[32m'Master'\u001b[0m,\n",
       "    \u001b[32m'Rx Only'\u001b[0m: \u001b[32m'No'\u001b[0m,\n",
       "    \u001b[32m'Zone Skip'\u001b[0m: \u001b[32m'No'\u001b[0m,\n",
       "    \u001b[32m'All Skip'\u001b[0m: \u001b[32m'No'\u001b[0m,\n",
       "    \u001b[32m'TOT'\u001b[0m: \u001b[1;36m0\u001b[0m,\n",
       "    \u001b[32m'VOX'\u001b[0m: \u001b[32m'Off'\u001b[0m,\n",
       "    \u001b[32m'No Beep'\u001b[0m: \u001b[32m'No'\u001b[0m,\n",
       "    \u001b[32m'No Eco'\u001b[0m: \u001b[32m'No'\u001b[0m,\n",
       "    \u001b[32m'APRS'\u001b[0m: \u001b[32m'None'\u001b[0m,\n",
       "    \u001b[32m'Latitude'\u001b[0m: \u001b[1;35mDecimal\u001b[0m\u001b[1m(\u001b[0m\u001b[32m'0'\u001b[0m\u001b[1m)\u001b[0m,\n",
       "    \u001b[32m'Longitude'\u001b[0m: \u001b[1;35mDecimal\u001b[0m\u001b[1m(\u001b[0m\u001b[32m'0'\u001b[0m\u001b[1m)\u001b[0m,\n",
       "    \u001b[32m'Use location'\u001b[0m: \u001b[32m'No'\u001b[0m,\n",
       "    \u001b[32m'Colour Code'\u001b[0m: \u001b[1;36m0\u001b[0m,\n",
       "    \u001b[32m'Timeslot'\u001b[0m: \u001b[1;36m1\u001b[0m,\n",
       "    \u001b[32m'Contact'\u001b[0m: \u001b[32m'None'\u001b[0m,\n",
       "    \u001b[32m'TG List'\u001b[0m: \u001b[32m'None'\u001b[0m,\n",
       "    \u001b[32m'DMR ID'\u001b[0m: \u001b[32m'None'\u001b[0m,\n",
       "    \u001b[32m'TS1_TA_Tx'\u001b[0m: \u001b[32m'APRS+Text'\u001b[0m,\n",
       "    \u001b[32m'TS2_TA_Tx'\u001b[0m: \u001b[32m'APRS+Text'\u001b[0m\n",
       "\u001b[1m}\u001b[0m\n"
      ]
     },
     "metadata": {},
     "output_type": "display_data"
    }
   ],
   "source": [
    "from decimal import Decimal\n",
    "\n",
    "from rich import print as pprint\n",
    "\n",
    "from opengd77.converters import channel_to_dict\n",
    "from opengd77.models import DigitalChannel, TalkerAlias\n",
    "\n",
    "channel = DigitalChannel(\n",
    "    name=\"Test Channel\",\n",
    "    rx_frequency=Decimal(\"145.000\"),\n",
    "    tx_frequency=Decimal(\"145.000\"),\n",
    "    timeslot_1_talker_alias=TalkerAlias.APRS | TalkerAlias.TEXT,\n",
    "    timeslot_2_talker_alias=TalkerAlias.TEXT | TalkerAlias.APRS,\n",
    ")\n",
    "pprint(channel)\n",
    "pprint(channel_to_dict(channel, number=1))"
   ]
  }
 ],
 "metadata": {
  "kernelspec": {
   "display_name": ".venv",
   "language": "python",
   "name": "python3"
  },
  "language_info": {
   "codemirror_mode": {
    "name": "ipython",
    "version": 3
   },
   "file_extension": ".py",
   "mimetype": "text/x-python",
   "name": "python",
   "nbconvert_exporter": "python",
   "pygments_lexer": "ipython3",
   "version": "3.13.2"
  }
 },
 "nbformat": 4,
 "nbformat_minor": 2
}
