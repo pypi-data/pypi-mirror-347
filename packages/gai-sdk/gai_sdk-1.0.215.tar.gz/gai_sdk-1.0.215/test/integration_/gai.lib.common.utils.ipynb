{
 "cells": [
  {
   "cell_type": "markdown",
   "metadata": {},
   "source": [
    "# Package\n",
    "\n",
    "## Task: Including non-Python Files in the Package\n",
    "\n",
    "The objective is to find `gai.yml` and `docker-compose.yml` files stored in the `/gai-sdk/gai` directory.  \n",
    "**NOTE**: Make sure __init__.py is present in `gai-sdk/gai`.\n"
   ]
  },
  {
   "cell_type": "markdown",
   "metadata": {},
   "source": [
    "### Step 1: pyproject.toml\n",
    "\n",
    "Make the following changes to the `pyproject.toml` file.\n",
    "\n",
    "#### a) **include** Directive\n",
    "\n",
    "Use `include` directive is used by Poetry to include the data files in the package distribution.  \n",
    "In this case, Poetry will include the files `gai/docker-compose.yml` and `gai/gai.yml` when you run `poetry build`.\n",
    "\n",
    "```\n",
    "include = [ \"gai/docker-compose.yml\", \"gai/gai.yml\"]\n",
    "```\n",
    "\n",
    "#### b) **[[tool.poetry.packages]]** Directive\n",
    "\n",
    "This tells Poetry specifically where to place the files in the package distribution.  \n",
    "In this case, the directory `gai-sdk/gai` to the package `gai` from the root of the project `.`.\n",
    "\n",
    "```\n",
    "[[tool.poetry.packages]]\n",
    "include = \"gai\"\n",
    "from = \".\"\n",
    "```"
   ]
  },
  {
   "cell_type": "markdown",
   "metadata": {},
   "source": [
    "### Step 2: __init__.py\n",
    "\n",
    "Create an empty `__init__.py` file in the `gai-sdk/gai` directory.\n",
    "\n",
    "This will make the directory `gai-sdk/gai` a package and without this Poetry will not find the files.\n",
    "\n",
    "You can check this using the code below which should include the line containing **.../gai-sdk**."
   ]
  },
  {
   "cell_type": "code",
   "execution_count": 2,
   "metadata": {},
   "outputs": [
    {
     "name": "stdout",
     "output_type": "stream",
     "text": [
      "/home/kakkoii1337/github/kakkoii1337/gai-sdk/.venv/lib/python3.10/site-packages\n",
      "\t/home/kakkoii1337/github/kakkoii1337/gai-sdk/gai-scripts/src\n",
      "\t/home/kakkoii1337/github/kakkoii1337/gai-sdk/gai-tts/src\n",
      "\t/home/kakkoii1337/github/kakkoii1337/gai-sdk/gai-itt/src\n",
      "\t/home/kakkoii1337/github/kakkoii1337/gai-sdk/gai-ttt/src\n",
      "\t/home/kakkoii1337/github/kakkoii1337/gai-sdk/gai-rag/src\n",
      "\t/home/kakkoii1337/github/kakkoii1337/gai-sdk/gai-tti/src\n",
      "\t/home/kakkoii1337/github/kakkoii1337/gai-sdk\n",
      "\t/home/kakkoii1337/github/kakkoii1337/gai-sdk/gai-lib/src\n"
     ]
    }
   ],
   "source": [
    "# Find 'gai-sdk.pth' file in site-packages\n",
    "import site\n",
    "sites = site.getsitepackages()\n",
    "site_package_path = sites[0]\n",
    "print(site_package_path)\n",
    "\n",
    "# Find namespace packages using \"/gai-sdk.pth\" file\n",
    "with open(site_package_path + '/gai_sdk.pth', 'r') as f:\n",
    "    lines = f.readlines()\n",
    "    for package_path in lines:\n",
    "        print(\"\\t\"+package_path.strip())\n",
    "\n",
    "# In the output below, the line containing \".../gai-sdk\" will only be shown if the \"gai-sdk/gai\" directory contains an __init__.py file.\n"
   ]
  },
  {
   "cell_type": "markdown",
   "metadata": {},
   "source": [
    "### Step 3: importlib.resources (Python 3.7+)\n",
    "\n",
    "Use importlib.resources to find the data files in the package.  \n",
    "Note that this won't work properly if the above steps are not followed and is difficult to debug."
   ]
  },
  {
   "cell_type": "code",
   "execution_count": 3,
   "metadata": {},
   "outputs": [
    {
     "name": "stdout",
     "output_type": "stream",
     "text": [
      "/home/kakkoii1337/github/kakkoii1337/gai-sdk/gai/gai.yml\n",
      "/home/kakkoii1337/github/kakkoii1337/gai-sdk/gai/docker-compose.yml\n"
     ]
    }
   ],
   "source": [
    "# unable to locate the resources file when package is installed using poetry\n",
    "import importlib.resources as pkg_resources\n",
    "print(pkg_resources.path('gai', 'gai.yml'))\n",
    "print(pkg_resources.path('gai', 'docker-compose.yml'))\n"
   ]
  },
  {
   "cell_type": "markdown",
   "metadata": {},
   "source": [
    "## 2. Executables\n",
    "\n",
    "Example:\n",
    "\n",
    "- scripts"
   ]
  }
 ],
 "metadata": {
  "kernelspec": {
   "display_name": "gai-sdk",
   "language": "python",
   "name": "python3"
  },
  "language_info": {
   "codemirror_mode": {
    "name": "ipython",
    "version": 3
   },
   "file_extension": ".py",
   "mimetype": "text/x-python",
   "name": "python",
   "nbconvert_exporter": "python",
   "pygments_lexer": "ipython3",
   "version": "3.10.12"
  }
 },
 "nbformat": 4,
 "nbformat_minor": 2
}
