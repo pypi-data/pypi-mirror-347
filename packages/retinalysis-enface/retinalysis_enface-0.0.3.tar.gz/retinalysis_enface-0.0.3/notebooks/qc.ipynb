{
 "cells": [
  {
   "cell_type": "code",
   "execution_count": null,
   "metadata": {},
   "outputs": [],
   "source": [
    "from pathlib import Path\n",
    "\n",
    "import torch\n",
    "\n",
    "# from rtnls_models.inference.segmentation import (\n",
    "#     SegmentationEnsemble,\n",
    "# )\n",
    "# from rtnls_models.run import preprocess_for_inference\n",
    "# from rtnls_models.utils.config import load_config\n",
    "from rtnls_enface.loader import FundusLoader\n",
    "from rtnls_enface.qc.validators import GeneralQCValidator"
   ]
  },
  {
   "cell_type": "code",
   "execution_count": null,
   "metadata": {},
   "outputs": [],
   "source": [
    "ds_path = Path(\"/mnt/ssd1/fundus_prep/fundus_prep\")\n",
    "\n",
    "# input folders. these are the folders where we stored the preprocessed images\n",
    "rgb_path = ds_path / \"rgb\"\n",
    "ce_path = ds_path / \"ce\"\n",
    "\n",
    "# these are the output folders for:\n",
    "av_path = ds_path / \"av\"  # artery-vein segmentations\n",
    "discs_path = ds_path / \"discs\"  # optic disc segmentations\n",
    "vessels_path = ds_path / \"vessels\"  # optic disc segmentations\n",
    "\n",
    "device = torch.device(\"cuda:0\")  # device to use for inference\n"
   ]
  },
  {
   "cell_type": "markdown",
   "metadata": {},
   "source": [
    "## Preprocess"
   ]
  },
  {
   "cell_type": "code",
   "execution_count": null,
   "metadata": {},
   "outputs": [],
   "source": [
    "# files = list((ds_path / \"original\").glob(\"*\"))\n",
    "# bounds = preprocess_for_inference(\n",
    "#     files,  # List of image files\n",
    "#     rgb_path=ds_path / \"rgb\",  # Output path for RGB images\n",
    "#     ce_path=ds_path / \"ce\",  # Output path for Contrast Enhanced images\n",
    "#     n_jobs=4,  # number of preprocessing workers\n",
    "# )\n",
    "# df_bounds = pd.DataFrame(bounds).set_index(\"id\")\n",
    "# df_bounds.to_csv(ds_path / \"meta.csv\")"
   ]
  },
  {
   "cell_type": "markdown",
   "metadata": {},
   "source": [
    "## Disc segmentation"
   ]
  },
  {
   "cell_type": "code",
   "execution_count": null,
   "metadata": {},
   "outputs": [],
   "source": [
    "# device = torch.device(\"cuda:0\")\n",
    "# disc_ensemble = SegmentationEnsemble(load_config(\"disc\"), device=device)\n",
    "# disc_ensemble.predict_preprocessed(\n",
    "#     rgb_path, ce_path, dest_path=discs_path, num_workers=2\n",
    "# )"
   ]
  },
  {
   "cell_type": "markdown",
   "metadata": {},
   "source": [
    "## Vessel segmentation"
   ]
  },
  {
   "cell_type": "code",
   "execution_count": null,
   "metadata": {},
   "outputs": [],
   "source": [
    "# av_ensemble = SegmentationEnsemble(load_config(\"vessels\"), device=device)\n",
    "# # run the model, pass the path for the outputs\n",
    "# av_ensemble.predict_preprocessed(\n",
    "#     rgb_path, ce_path, dest_path=vessels_path, num_workers=2\n",
    "# )"
   ]
  },
  {
   "cell_type": "code",
   "execution_count": null,
   "metadata": {},
   "outputs": [],
   "source": [
    "loader = FundusLoader.from_folders(discs_path, rgb_path, meta_path=ds_path / \"meta.csv\")"
   ]
  },
  {
   "cell_type": "code",
   "execution_count": null,
   "metadata": {},
   "outputs": [],
   "source": [
    "validator = GeneralQCValidator()"
   ]
  },
  {
   "cell_type": "code",
   "execution_count": null,
   "metadata": {},
   "outputs": [],
   "source": [
    "ret = loader.make_object(\"519744\")"
   ]
  },
  {
   "cell_type": "code",
   "execution_count": null,
   "metadata": {},
   "outputs": [],
   "source": [
    "validator(ret)"
   ]
  },
  {
   "cell_type": "code",
   "execution_count": null,
   "metadata": {},
   "outputs": [],
   "source": [
    "ret.plot()"
   ]
  },
  {
   "cell_type": "code",
   "execution_count": null,
   "metadata": {},
   "outputs": [],
   "source": []
  }
 ],
 "metadata": {
  "kernelspec": {
   "display_name": "retinalysis",
   "language": "python",
   "name": "python3"
  },
  "language_info": {
   "codemirror_mode": {
    "name": "ipython",
    "version": 3
   },
   "file_extension": ".py",
   "mimetype": "text/x-python",
   "name": "python",
   "nbconvert_exporter": "python",
   "pygments_lexer": "ipython3",
   "version": "3.10.13"
  }
 },
 "nbformat": 4,
 "nbformat_minor": 2
}
