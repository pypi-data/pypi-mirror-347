{
 "cells": [
  {
   "cell_type": "code",
   "execution_count": 1,
   "metadata": {},
   "outputs": [],
   "source": [
    "import scipy.sparse as sps\n",
    "import numpy as np\n",
    "\n",
    "try:\n",
    "    import sparse_dot_mkl\n",
    "    dot_product = sparse_dot_mkl.dot_product_mkl\n",
    "except ImportError:\n",
    "    def dot_product(x, y, dense=False, **kwargs):\n",
    "        z = x @ y\n",
    "        return z.A if dense and sps.issparse(z) else z "
   ]
  },
  {
   "cell_type": "code",
   "execution_count": 7,
   "metadata": {},
   "outputs": [
    {
     "ename": "ValueError",
     "evalue": "unrecognized csr_matrix constructor input: (300,)",
     "output_type": "error",
     "traceback": [
      "\u001b[0;31m---------------------------------------------------------------------------\u001b[0m",
      "\u001b[0;31mValueError\u001b[0m                                Traceback (most recent call last)",
      "Cell \u001b[0;32mIn[7], line 1\u001b[0m\n\u001b[0;32m----> 1\u001b[0m \u001b[43mcsr_matrix\u001b[49m\u001b[43m(\u001b[49m\u001b[43m(\u001b[49m\u001b[38;5;241;43m300\u001b[39;49m\u001b[43m,\u001b[49m\u001b[43m)\u001b[49m\u001b[43m)\u001b[49m\n",
      "File \u001b[0;32m~/.miniconda3/envs/supirfactor/lib/python3.10/site-packages/scipy/sparse/_compressed.py:78\u001b[0m, in \u001b[0;36m_cs_matrix.__init__\u001b[0;34m(self, arg1, shape, dtype, copy)\u001b[0m\n\u001b[1;32m     76\u001b[0m             \u001b[38;5;28mself\u001b[39m\u001b[38;5;241m.\u001b[39mdata \u001b[38;5;241m=\u001b[39m np\u001b[38;5;241m.\u001b[39marray(data, copy\u001b[38;5;241m=\u001b[39mcopy, dtype\u001b[38;5;241m=\u001b[39mdtype)\n\u001b[1;32m     77\u001b[0m         \u001b[38;5;28;01melse\u001b[39;00m:\n\u001b[0;32m---> 78\u001b[0m             \u001b[38;5;28;01mraise\u001b[39;00m \u001b[38;5;167;01mValueError\u001b[39;00m(\u001b[38;5;124mf\u001b[39m\u001b[38;5;124m\"\u001b[39m\u001b[38;5;124munrecognized \u001b[39m\u001b[38;5;132;01m{\u001b[39;00m\u001b[38;5;28mself\u001b[39m\u001b[38;5;241m.\u001b[39m\u001b[38;5;18m__class__\u001b[39m\u001b[38;5;241m.\u001b[39m\u001b[38;5;18m__name__\u001b[39m\u001b[38;5;132;01m}\u001b[39;00m\u001b[38;5;124m \u001b[39m\u001b[38;5;124m\"\u001b[39m\n\u001b[1;32m     79\u001b[0m                              \u001b[38;5;124mf\u001b[39m\u001b[38;5;124m\"\u001b[39m\u001b[38;5;124mconstructor input: \u001b[39m\u001b[38;5;132;01m{\u001b[39;00marg1\u001b[38;5;132;01m}\u001b[39;00m\u001b[38;5;124m\"\u001b[39m)\n\u001b[1;32m     81\u001b[0m \u001b[38;5;28;01melse\u001b[39;00m:\n\u001b[1;32m     82\u001b[0m     \u001b[38;5;66;03m# must be dense\u001b[39;00m\n\u001b[1;32m     83\u001b[0m     \u001b[38;5;28;01mtry\u001b[39;00m:\n",
      "\u001b[0;31mValueError\u001b[0m: unrecognized csr_matrix constructor input: (300,)"
     ]
    }
   ],
   "source": [
    "csr_matrix((300,))"
   ]
  },
  {
   "cell_type": "code",
   "execution_count": 3,
   "metadata": {},
   "outputs": [
    {
     "name": "stdout",
     "output_type": "stream",
     "text": [
      "vec.shape: (4,)\n",
      "mat.shape: (4, 3)\n",
      "expected.shape: (3,)\n",
      "actual.shape: (3,)\n",
      "expected.shape == actual.shape: True\n"
     ]
    }
   ],
   "source": [
    "import numpy as np\n",
    "from scipy.sparse import csr_matrix\n",
    "from sparse_dot_mkl import dot_product_mkl\n",
    "\n",
    "m, n = 4, 3\n",
    "\n",
    "vec = np.random.random(m)\n",
    "print(f'vec.shape: {vec.shape}')\n",
    "\n",
    "mat = csr_matrix((np.array([1]), (np.array([1]), np.array([1]))), shape=(m, n))\n",
    "print(f'mat.shape: {mat.shape}')\n",
    "\n",
    "# Compute the expected result with SciPy\n",
    "expected = vec @ mat\n",
    "print(f'expected.shape: {expected.shape}')\n",
    "\n",
    "# Do the actual computation\n",
    "actual = dot_product_mkl(vec, mat)\n",
    "print(f'actual.shape: {actual.shape}')\n",
    "\n",
    "# Check if the shapes match\n",
    "print(f'expected.shape == actual.shape: {expected.shape == actual.shape}')"
   ]
  },
  {
   "cell_type": "code",
   "execution_count": 2,
   "metadata": {},
   "outputs": [
    {
     "name": "stdout",
     "output_type": "stream",
     "text": [
      "X sparsity: 78.80 %\n"
     ]
    }
   ],
   "source": [
    "np.random.seed(0)\n",
    "X = np.random.randn(500, 5000)\n",
    "X[X < 0.8] = 0\n",
    "X = sps.csr_matrix(X)\n",
    "print(f'X sparsity: {100 * (1 - X.count_nonzero() / np.prod(X.shape)):5.2f} %')"
   ]
  },
  {
   "cell_type": "code",
   "execution_count": 3,
   "metadata": {},
   "outputs": [
    {
     "data": {
      "text/plain": [
       "<500x500 sparse matrix of type '<class 'numpy.float64'>'\n",
       "\twith 250000 stored elements in Compressed Sparse Row format>"
      ]
     },
     "execution_count": 3,
     "metadata": {},
     "output_type": "execute_result"
    }
   ],
   "source": [
    "X @ X.T"
   ]
  },
  {
   "cell_type": "code",
   "execution_count": 4,
   "metadata": {},
   "outputs": [],
   "source": [
    "expected_result = (X @ X.T).toarray()\n",
    "expected_result_tril = expected_result.copy()\n",
    "expected_result_tril[np.tril_indices(expected_result.shape[0], k=-1)] = 0"
   ]
  },
  {
   "cell_type": "code",
   "execution_count": 5,
   "metadata": {},
   "outputs": [
    {
     "data": {
      "text/plain": [
       "True"
      ]
     },
     "execution_count": 5,
     "metadata": {},
     "output_type": "execute_result"
    }
   ],
   "source": [
    "mkl_result1 = sparse_dot_mkl.dot_product_mkl(X, X.T)\n",
    "np.allclose(mkl_result1.toarray(), expected_result)"
   ]
  },
  {
   "cell_type": "code",
   "execution_count": 6,
   "metadata": {},
   "outputs": [
    {
     "data": {
      "text/plain": [
       "True"
      ]
     },
     "execution_count": 6,
     "metadata": {},
     "output_type": "execute_result"
    }
   ],
   "source": [
    "mkl_result2 = sparse_dot_mkl.gram_matrix_mkl(X, transpose=True)\n",
    "np.allclose(mkl_result2.toarray(), expected_result_tril)"
   ]
  },
  {
   "cell_type": "code",
   "execution_count": 7,
   "metadata": {},
   "outputs": [
    {
     "name": "stdout",
     "output_type": "stream",
     "text": [
      "Scipy Matrix Multiplication Product:\n",
      "204 ms ± 8.2 ms per loop (mean ± std. dev. of 7 runs, 1 loop each)\n",
      "MKL Matrix Multiplication Product:\n",
      "52.5 ms ± 579 µs per loop (mean ± std. dev. of 7 runs, 10 loops each)\n",
      "MKL Gram Matrix Product:\n",
      "28.1 ms ± 213 µs per loop (mean ± std. dev. of 7 runs, 10 loops each)\n"
     ]
    }
   ],
   "source": [
    "print(\"Scipy Matrix Multiplication Product:\")\n",
    "%timeit X @ X.T\n",
    "\n",
    "print(\"MKL Matrix Multiplication Product:\")\n",
    "%timeit sparse_dot_mkl.dot_product_mkl(X, X.T)\n",
    "\n",
    "print(\"MKL Gram Matrix Product:\")\n",
    "%timeit sparse_dot_mkl.dot_product_transpose_mkl(X, transpose=True)"
   ]
  }
 ],
 "metadata": {
  "kernelspec": {
   "display_name": "Python 3 (ipykernel)",
   "language": "python",
   "name": "python3"
  },
  "language_info": {
   "codemirror_mode": {
    "name": "ipython",
    "version": 3
   },
   "file_extension": ".py",
   "mimetype": "text/x-python",
   "name": "python",
   "nbconvert_exporter": "python",
   "pygments_lexer": "ipython3",
   "version": "3.10.14"
  }
 },
 "nbformat": 4,
 "nbformat_minor": 4
}
