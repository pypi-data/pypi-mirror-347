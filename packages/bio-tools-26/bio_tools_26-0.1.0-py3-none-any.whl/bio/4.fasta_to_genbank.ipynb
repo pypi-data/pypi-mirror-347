{
 "cells": [
  {
   "cell_type": "code",
   "execution_count": 1,
   "id": "70031741",
   "metadata": {},
   "outputs": [
    {
     "name": "stdout",
     "output_type": "stream",
     "text": [
      "Hello\n"
     ]
    }
   ],
   "source": [
    "print(\"Hello\")"
   ]
  },
  {
   "cell_type": "code",
   "execution_count": null,
   "id": "86ebc9cf",
   "metadata": {},
   "outputs": [
    {
     "name": "stdout",
     "output_type": "stream",
     "text": [
      "File saved successfully\n"
     ]
    }
   ],
   "source": [
    "from Bio import SeqIO\n",
    "from Bio.SeqRecord import SeqRecord\n",
    "\n",
    "\n",
    "def fastaToGenBank(fasta, genbankPath):\n",
    "    records = []\n",
    "    i = 0\n",
    "    for record in SeqIO.parse(fasta, \"fasta\"):  \n",
    "        seqRec = SeqRecord(\n",
    "            record.seq,\n",
    "            id=record.id,\n",
    "            description=record.description,\n",
    "            name= \"seq\",\n",
    "            annotations={\n",
    "                \"molecule_type\": \"DNA\"\n",
    "            }\n",
    "        ) \n",
    "        records.append(seqRec)\n",
    "    \n",
    "    # wrtie these records to the genvabk file\n",
    "    SeqIO.write(records, genbankPath, \"genbank\")\n",
    "    print(\"File saved successfully\")\n",
    "\n",
    "fastaPath = \"./All Files/example2_4.fasta\"\n",
    "genPath = \"./All Files/outputGen4.genbank\"\n",
    "fastaToGenBank(fastaPath, genPath)"
   ]
  },
  {
   "cell_type": "code",
   "execution_count": null,
   "id": "63f9c5a8",
   "metadata": {},
   "outputs": [],
   "source": []
  }
 ],
 "metadata": {
  "kernelspec": {
   "display_name": "Python 3",
   "language": "python",
   "name": "python3"
  },
  "language_info": {
   "codemirror_mode": {
    "name": "ipython",
    "version": 3
   },
   "file_extension": ".py",
   "mimetype": "text/x-python",
   "name": "python",
   "nbconvert_exporter": "python",
   "pygments_lexer": "ipython3",
   "version": "3.9.6"
  }
 },
 "nbformat": 4,
 "nbformat_minor": 5
}
