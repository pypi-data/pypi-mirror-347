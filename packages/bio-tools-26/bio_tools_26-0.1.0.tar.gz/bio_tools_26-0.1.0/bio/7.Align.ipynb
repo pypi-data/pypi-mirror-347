{
 "cells": [
  {
   "cell_type": "code",
   "execution_count": 7,
   "id": "a94cf5b4",
   "metadata": {},
   "outputs": [
    {
     "name": "stdout",
     "output_type": "stream",
     "text": [
      "target            0 ATGC--ATGC----C--T-A 11\n",
      "                  0 ||||--||||----|--|-| 20\n",
      "query             0 ATGCTGATGCATGACGATCA 20\n",
      "\n",
      "11.0\n"
     ]
    }
   ],
   "source": [
    "from Bio.Align import PairwiseAligner\n",
    "from Bio.Seq import Seq\n",
    "\n",
    "seq1 = \"ATGCATGCCTA\"\n",
    "seq2 = \"ATGCTGATGCATGACGATCA\"\n",
    "\n",
    "aligner = PairwiseAligner()\n",
    "alignment = aligner.align(seq1, seq2)\n",
    "print(alignment[0])\n",
    "print(alignment[0].score)"
   ]
  },
  {
   "cell_type": "code",
   "execution_count": null,
   "id": "d3f1db31",
   "metadata": {},
   "outputs": [],
   "source": []
  }
 ],
 "metadata": {
  "kernelspec": {
   "display_name": "Python 3",
   "language": "python",
   "name": "python3"
  },
  "language_info": {
   "codemirror_mode": {
    "name": "ipython",
    "version": 3
   },
   "file_extension": ".py",
   "mimetype": "text/x-python",
   "name": "python",
   "nbconvert_exporter": "python",
   "pygments_lexer": "ipython3",
   "version": "3.9.6"
  }
 },
 "nbformat": 4,
 "nbformat_minor": 5
}
