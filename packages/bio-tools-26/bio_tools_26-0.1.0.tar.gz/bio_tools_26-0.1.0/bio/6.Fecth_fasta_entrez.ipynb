{
 "cells": [
  {
   "cell_type": "code",
   "execution_count": null,
   "id": "6de81631",
   "metadata": {},
   "outputs": [
    {
     "name": "stdout",
     "output_type": "stream",
     "text": [
      "Hello\n"
     ]
    }
   ],
   "source": [
    "print(\"Hello\")"
   ]
  },
  {
   "cell_type": "code",
   "execution_count": 7,
   "id": "f57d90a6",
   "metadata": {},
   "outputs": [
    {
     "name": "stdout",
     "output_type": "stream",
     "text": [
      "Accession Number: NM_001301717.2\n",
      "Description: Homo sapiens C-C motif chemokine receptor 7 (CCR7), transcript variant 4, mRNA\n",
      "Organism: Homo sapiens\n",
      "Sequence: CTCTAGATGAGTCAGTGGAGGGCGGGTGGAGCGTTGAACCGTGAAGAGTGTGGTTGGGCGTAAACGTGGACTTAAACTCAGGAGCTAAGGGGGAAACCAATGAAAAGCGTGCTGGTGGTGGCTCTCCTTGTCATTTTCCAGGTATGCCTGTGTCAAGATGAGGTCACGGACGATTACATCGGAGACAACACCACAGTGGACTACACTTTGTTCGAGTCTTTGTGCTCCAAGAAGGACGTGCGGAACTTTAAAGCCTGGTTCCTCCCTATCATGTACTCCATCATTTGTTTCGTGGGCCTACTGGGCAATGGGCTGGTCGTGTTGACCTATATCTATTTCAAGAGGCTCAAGACCATGACCGATACCTACCTGCTCAACCTGGCGGTGGCAGACATCCTCTTCCTCCTGACCCTTCCCTTCTGGGCCTACAGCGCGGCCAAGTCCTGGGTCTTCGGTGTCCACTTTTGCAAGCTCATCTTTGCCATCTACAAGATGAGCTTCTTCAGTGGCATGCTCCTACTTCTTTGCATCAGCATTGACCGCTACGTGGCCATCGTCCAGGCTGTCTCAGCTCACCGCCACCGTGCCCGCGTCCTTCTCATCAGCAAGCTGTCCTGTGTGGGCATCTGGATACTAGCCACAGTGCTCTCCATCCCAGAGCTCCTGTACAGTGACCTCCAGAGGAGCAGCAGTGAGCAAGCGATGCGATGCTCTCTCATCACAGAGCATGTGGAGGCCTTTATCACCATCCAGGTGGCCCAGATGGTGATCGGCTTTCTGGTCCCCCTGCTGGCCATGAGCTTCTGTTACCTTGTCATCATCCGCACCCTGCTCCAGGCACGCAACTTTGAGCGCAACAAGGCCATCAAGGTGATCATCGCTGTGGTCGTGGTCTTCATAGTCTTCCAGCTGCCCTACAATGGGGTGGTCCTGGCCCAGACGGTGGCCAACTTCAACATCACCAGTAGCACCTGTGAGCTCAGTAAGCAACTCAACATCGCCTACGACGTCACCTACAGCCTGGCCTGCGTCCGCTGCTGCGTCAACCCTTTCTTGTACGCCTTCATCGGCGTCAAGTTCCGCAACGATCTCTTCAAGCTCTTCAAGGACCTGGGCTGCCTCAGCCAGGAGCAGCTCCGGCAGTGGTCTTCCTGTCGGCACATCCGGCGCTCCTCCATGAGTGTGGAGGCCGAGACCACCACCACCTTCTCCCCATAGGCGACTCTTCTGCCTGGACTAGAGGGACCTCTCCCAGGGTCCCTGGGGTGGGGATAGGGAGCAGATGCAATGACTCAGGACATCCCCCCGCCAAAAGCTGCTCAGGGAAAAGCAGCTCTCCCCTCAGAGTGCAAGCCCCTGCTCCAGAAGATAGCTTCACCCCAATCCCAGCTACCTCAACCAATGCCAAAAAAAGACAGGGCTGATAAGCTAACACCAGACAGACAACACTGGGAAACAGAGGCTATTGTCCCCTAAACCAAAAACTGAAAGTGAAAGTCCAGAAACTGTTCCCACCTGCTGGAGTGAAGGGGCCAAGGAGGGTGAGTGCAAGGGGCGTGGGAGTGGCCTGAAGAGTCCTCTGAATGAACCTTCTGGCCTCCCACAGACTCAAATGCTCAGACCAGCTCTTCCGAAAACCAGGCCTTATCTCCAAGACCAGAGATAGTGGGGAGACTTCTTGGCTTGGTGAGGAAAAGCGGACATCAGCTGGTCAAACAAACTCTCTGAACCCCTCCCTCCATCGTTTTCTTCACTGTCCTCCAAGCCAGCGGGAATGGCAGCTGCCACGCCGCCCTAAAAGCACACTCATCCCCTCACTTGCCGCGTCGCCCTCCCAGGCTCTCAACAGGGGAGAGTGTGGTGTTTCCTGCAGGCCAGGCCAGCTGCCTCCGCGTGATCAAAGCCACACTCTGGGCTCCAGAGTGGGGATGACATGCACTCAGCTCTTGGCTCCACTGGGATGGGAGGAGAGGACAAGGGAAATGTCAGGGGCGGGGAGGGTGACAGTGGCCGCCCAAGGCCCACGAGCTTGTTCTTTGTTCTTTGTCACAGGGACTGAAAACCTCTCCTCATGTTCTGCTTTCGATTCGTTAAGAGAGCAACATTTTACCCACACACAGATAAAGTTTTCCCTTGAGGAAACAACAGCTTTAAAAGAAAAAGAAAAAAAAAGTCTTTGGTAAATGGCAAA\n",
      "Length of Sequence: 2191\n",
      "Features: [SeqFeature(SimpleLocation(ExactPosition(0), ExactPosition(2191), strand=1), type='source', qualifiers=...), SeqFeature(SimpleLocation(ExactPosition(0), ExactPosition(2191), strand=1), type='gene', qualifiers=...), SeqFeature(SimpleLocation(ExactPosition(0), ExactPosition(91), strand=1), type='exon', qualifiers=...), SeqFeature(SimpleLocation(ExactPosition(72), ExactPosition(75), strand=1), type='misc_feature', qualifiers=...), SeqFeature(SimpleLocation(ExactPosition(91), ExactPosition(141), strand=1), type='exon', qualifiers=...), SeqFeature(SimpleLocation(ExactPosition(99), ExactPosition(1218), strand=1), type='CDS', qualifiers=...), SeqFeature(SimpleLocation(ExactPosition(99), ExactPosition(153), strand=1), type='sig_peptide', qualifiers=...), SeqFeature(SimpleLocation(ExactPosition(141), ExactPosition(2191), strand=1), type='exon', qualifiers=...), SeqFeature(SimpleLocation(ExactPosition(2160), ExactPosition(2166), strand=1), type='regulatory', qualifiers=...), SeqFeature(SimpleLocation(ExactPosition(2190), ExactPosition(2191), strand=1), type='polyA_site', qualifiers=...)]\n"
     ]
    }
   ],
   "source": [
    "from Bio import Entrez\n",
    "from Bio import SeqIO\n",
    "Entrez.email = \"exmaple@gmail.com\"\n",
    "accessNo = \"NM_001301717\" \n",
    "\n",
    "handler = Entrez.efetch(db=\"nucleotide\", id=accessNo, rettype=\"genbank\", retmode = \"text\")\n",
    "# Parse the record\n",
    "record = SeqIO.read(handler, \"genbank\")\n",
    "\n",
    "SeqIO.write(record, \"./All Files/outputgen6.genbank\", \"genbank\")\n",
    "\n",
    "seq_record = record\n",
    "print(f\"Accession Number: {seq_record.id}\")\n",
    "print(f\"Description: {seq_record.description}\")\n",
    "print(f\"Organism: {seq_record.annotations['organism']}\")\n",
    "print(f\"Sequence: {seq_record.seq}\")\n",
    "print(f\"Length of Sequence: {len(seq_record.seq)}\")\n",
    "print(f\"Features: {seq_record.features}\")"
   ]
  },
  {
   "cell_type": "code",
   "execution_count": null,
   "id": "93662252",
   "metadata": {},
   "outputs": [],
   "source": []
  }
 ],
 "metadata": {
  "kernelspec": {
   "display_name": "Python 3",
   "language": "python",
   "name": "python3"
  },
  "language_info": {
   "codemirror_mode": {
    "name": "ipython",
    "version": 3
   },
   "file_extension": ".py",
   "mimetype": "text/x-python",
   "name": "python",
   "nbconvert_exporter": "python",
   "pygments_lexer": "ipython3",
   "version": "3.9.6"
  }
 },
 "nbformat": 4,
 "nbformat_minor": 5
}
