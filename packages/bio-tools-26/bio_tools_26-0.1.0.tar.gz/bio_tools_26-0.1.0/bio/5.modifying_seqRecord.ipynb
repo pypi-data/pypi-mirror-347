{
 "cells": [
  {
   "cell_type": "code",
   "execution_count": 1,
   "id": "9d5d4934",
   "metadata": {},
   "outputs": [
    {
     "name": "stdout",
     "output_type": "stream",
     "text": [
      "hello\n"
     ]
    }
   ],
   "source": [
    "print(\"hello\")"
   ]
  },
  {
   "cell_type": "code",
   "execution_count": 3,
   "id": "f9c934c7",
   "metadata": {},
   "outputs": [
    {
     "name": "stdout",
     "output_type": "stream",
     "text": [
      "ID: FirstToBeKnow\n",
      "Name: NewThing\n",
      "Description: Exmaple Sequence\n",
      "Annotations: {'molecule_type': 'DNA', 'function': 'Hypothetical Func', 'organism': 'Typical Homo', 'gene': 'Hypothtical Gene'}\n",
      "Features: [SeqFeature(SimpleLocation(ExactPosition(0), ExactPosition(21)), qualifiers=...)]\n"
     ]
    }
   ],
   "source": [
    "from Bio.SeqRecord import SeqRecord\n",
    "from Bio.Seq import Seq\n",
    "\n",
    "seq = Seq(\"ATGCGTACATGCATGC\")\n",
    "seqRec = SeqRecord(\n",
    "    seq,\n",
    "    name=\"NewThing\",\n",
    "    description=\"Exmaple Sequence\",\n",
    "    id=\"FirstToBeKnow\"\n",
    ")\n",
    "\n",
    "# add annotations\n",
    "seqRec.annotations[\"molecule_type\"] = \"DNA\" \n",
    "seqRec.annotations[\"function\"] = \"Hypothetical Func\"\n",
    "seqRec.annotations[\"organism\"] = \"Typical Homo\"\n",
    "seqRec.annotations[\"gene\"] = \"Hypothtical Gene\"\n",
    "\n",
    "# add the features to this SeqRecord\n",
    "from Bio.SeqFeature import SeqFeature,FeatureLocation\n",
    "\n",
    "feature = SeqFeature(FeatureLocation(0, 21), qualifiers={\"gene\": \"Hypothtical Gene\"})\n",
    "seqRec.features.append(feature)\n",
    "record = seqRec\n",
    "# Step 6: Print the updated SeqRecord\n",
    "print(f\"ID: {record.id}\")\n",
    "print(f\"Name: {record.name}\")\n",
    "print(f\"Description: {record.description}\")\n",
    "print(f\"Annotations: {record.annotations}\")\n",
    "print(f\"Features: {record.features}\")"
   ]
  },
  {
   "cell_type": "code",
   "execution_count": null,
   "id": "39f4fc52",
   "metadata": {},
   "outputs": [],
   "source": []
  }
 ],
 "metadata": {
  "kernelspec": {
   "display_name": "Python 3",
   "language": "python",
   "name": "python3"
  },
  "language_info": {
   "codemirror_mode": {
    "name": "ipython",
    "version": 3
   },
   "file_extension": ".py",
   "mimetype": "text/x-python",
   "name": "python",
   "nbconvert_exporter": "python",
   "pygments_lexer": "ipython3",
   "version": "3.9.6"
  }
 },
 "nbformat": 4,
 "nbformat_minor": 5
}
