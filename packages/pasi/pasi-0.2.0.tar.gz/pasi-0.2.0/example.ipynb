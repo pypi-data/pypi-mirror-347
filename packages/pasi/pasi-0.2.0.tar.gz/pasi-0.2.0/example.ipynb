{
 "cells": [
  {
   "cell_type": "code",
   "execution_count": 1,
   "id": "3ce06798",
   "metadata": {},
   "outputs": [],
   "source": [
    "import pandas as pd\n",
    "import numpy as np\n",
    "from pasi_test import pasiTree, delong_roc_variance\n",
    "from sklearn.utils import resample\n",
    "from sklearn.linear_model import LogisticRegression\n",
    "from sklearn.metrics import roc_auc_score\n",
    "import time\n",
    "from numba import jit"
   ]
  },
  {
   "cell_type": "code",
   "execution_count": 2,
   "id": "55fb3885",
   "metadata": {},
   "outputs": [
    {
     "name": "stdout",
     "output_type": "stream",
     "text": [
      "Predictive model AUC: 0.9593977925201739\n"
     ]
    }
   ],
   "source": [
    "data = pd.read_csv('thyroid_dataset.csv')\n",
    "X,y = data.iloc[:,0:-1], data.iloc[:,-1].to_numpy()\n",
    "\n",
    "# fit a predictive model\n",
    "predModel = LogisticRegression(random_state=19301014, max_iter=1000).fit(X, y)\n",
    "y_pred = predModel.predict_proba(X)[:,1]\n",
    "print('Predictive model AUC: {}'.format(roc_auc_score(y_true=y, y_score=y_pred)))\n",
    "\n",
    "\n",
    "for j in X.columns:\n",
    "    if isinstance(X[j][0], float):\n",
    "        X[j] = X[j].astype('float64')\n",
    "    else:\n",
    "        X[j] = X[j].astype('string')\n",
    "\n",
    "X['age'] = X['age'].astype('int64')"
   ]
  },
  {
   "cell_type": "code",
   "execution_count": 3,
   "id": "4bc4fe16",
   "metadata": {},
   "outputs": [],
   "source": [
    "pasiTree_model = pasiTree(measure='auc', min_samples_leaf=100, max_depth=3).fit(X=X, mu=None, y=y, y_pred=y_pred)"
   ]
  },
  {
   "cell_type": "code",
   "execution_count": 4,
   "id": "e7aab746",
   "metadata": {},
   "outputs": [],
   "source": [
    "s = pasiTree_model.tree.export_graphviz(feature_names=list(X.columns),measure_name='auc')"
   ]
  },
  {
   "cell_type": "code",
   "execution_count": 5,
   "id": "098312c0",
   "metadata": {},
   "outputs": [
    {
     "data": {
      "text/plain": [
       "'digraph Tree {node [shape=box, style=\"rounded\", color=\"black\", fontname=\"helvetica\"] ;edge [fontname=\"helvetica\"] ;1 [label=<node 1<br/>train auc = 0.959 (0.945, 0.974)<br/>n_train = 3152<br/>T3 &le; 1.55>];2 [label=<node 2<br/>train auc = 0.945 (0.929, 0.961)<br/>n_train = 1007<br/>T3 &le; 1.15>];4 [label=<node 4<br/>train auc = 0.887 (0.855, 0.919)<br/>n_train = 504<br/>FTI &le; 117.5>];8 [style=bold; label=<node 8<br/>train auc = 0.917 (0.885, 0.949)<br/>n_train = 363>];4 -> 8;9 [style=bold; label=<node 9<br/>train auc = 0.761 (0.672, 0.85)<br/>n_train = 141>];4 -> 9;2 -> 4;5 [style=bold; label=<node 5<br/>train auc = 0.751 (0.659, 0.842)<br/>n_train = 503>];2 -> 5;1 -> 2;3 [label=<node 3<br/>train auc = 0.67 (0.572, 0.768)<br/>n_train = 2145<br/>TT4 &le; 176.5>];6 [label=<node 6<br/>train auc = 0.63 (0.506, 0.755)<br/>n_train = 1938<br/>T4U &le; 0.935>];12 [style=bold; label=<node 12<br/>train auc = 0.494 (0.268, 0.721)<br/>n_train = 691>];6 -> 12;13 [style=bold; label=<node 13<br/>train auc = 0.723 (0.585, 0.86)<br/>n_train = 1247>];6 -> 13;3 -> 6;7 [style=bold; label=<node 7<br/>train auc = 0.915 (0.845, 0.985)<br/>n_train = 207>];3 -> 7;1 -> 3;}'"
      ]
     },
     "execution_count": 5,
     "metadata": {},
     "output_type": "execute_result"
    }
   ],
   "source": [
    "# https://dreampuf.github.io/GraphvizOnline/\n",
    "\n",
    "s"
   ]
  },
  {
   "cell_type": "code",
   "execution_count": 3,
   "id": "a3e64a02",
   "metadata": {},
   "outputs": [],
   "source": [
    "from pasi_test import delong_roc_variance"
   ]
  },
  {
   "cell_type": "code",
   "execution_count": 5,
   "id": "06f1332c",
   "metadata": {},
   "outputs": [],
   "source": [
    "from pasi_test.acc_functions import compute_auc_and_variance_Hanley_McNeil"
   ]
  },
  {
   "cell_type": "code",
   "execution_count": 170,
   "id": "4aeedc47",
   "metadata": {},
   "outputs": [],
   "source": [
    "def auc_estimation_HM(y, y_pred):\n",
    "    \"\"\"\n",
    "    Compute the Area Under the Curve (AUC) and its variance for a given set of true labels and predictions.\n",
    "    \n",
    "    This function calculates the AUC using the trapezoidal method and then estimates its variance. \n",
    "    Additionally, it provides a 95% confidence interval for the AUC based on the normal approximation.\n",
    "    \n",
    "    Parameters:\n",
    "    -----------\n",
    "    y : numpy.ndarray\n",
    "        A one-dimensional array of true labels. Must contain only binary values (0s and 1s) \n",
    "        where 1 denotes the positive class and 0 denotes the negative class.\n",
    "    \n",
    "    y_pred : numpy.ndarray\n",
    "        A one-dimensional array of prediction scores corresponding to each sample in `y`. \n",
    "        Higher scores are assumed to indicate positive class preference.\n",
    "    \n",
    "    Returns:\n",
    "    --------\n",
    "    dict\n",
    "        A dictionary containing:\n",
    "        - 'mu': Estimated AUC\n",
    "        - 'var': Estimated variance of AUC\n",
    "        - 'sd': Standard deviation (square root of variance)\n",
    "        - 'ci': 95% confidence interval for the AUC (as a list of two values: lower and upper bounds)\n",
    "        - 'm': Number of positive samples\n",
    "        - 'n': Number of negative samples\n",
    "    \n",
    "    Raises:\n",
    "    -------\n",
    "    ValueError:\n",
    "        - If `y` and `y_pred` are not both numpy arrays.\n",
    "        - If shapes of `y` and `y_pred` don't match or they are not 1-dimensional.\n",
    "        - If `y` contains values other than 0 or 1.\n",
    "        \n",
    "    Notes:\n",
    "    ------\n",
    "    The function uses the trapezoidal rule to compute the AUC and a known formula to estimate its variance.\n",
    "    Hanley, J. A., & McNeil, B. J. (1982). The meaning and use of the area under a receiver operating characteristic (ROC) curve. Radiology, 143(1), 29-36.\n",
    "    \"\"\"\n",
    "\n",
    "\n",
    "    # Check that y and y_pred are numpy arrays\n",
    "    if not (isinstance(y, np.ndarray) and isinstance(y_pred, np.ndarray)):\n",
    "        raise ValueError(\"Both y and y_pred must be numpy arrays.\")\n",
    "    \n",
    "    # Check that y and y_pred have the same shape and is of shape (N,)\n",
    "    if y.shape != y_pred.shape or len(y.shape) != 1:\n",
    "        raise ValueError(\"y and y_pred must have the same shape of (N,).\")\n",
    "    \n",
    "    # Check that y contains only 0s and 1s\n",
    "    if not np.array_equal(np.unique(y), [0, 1]) and not np.array_equal(np.unique(y), [1, 0]):\n",
    "        raise ValueError(\"y should contain 0s and 1s.\")\n",
    "    \n",
    "    # Calculate number of positive and negative samples\n",
    "    m = np.sum(y)\n",
    "    n = len(y_pred) - m\n",
    "\n",
    "    # Sort the samples by ascending scores\n",
    "    sorted_indices = np.argsort(y_pred)\n",
    "    y_true_sorted = y[sorted_indices]\n",
    "\n",
    "    # Vectorized calculation of cumulative sum for true positive and false positive\n",
    "    cum_tpr = np.cumsum(y_true_sorted) / m\n",
    "    cum_fpr = np.cumsum(1 - y_true_sorted) / n\n",
    "\n",
    "    # Compute AUC using the trapezoid method\n",
    "    auc = np.sum((cum_tpr[1:] - cum_tpr[:-1]) * (cum_fpr[1:] + cum_fpr[:-1])) / 2\n",
    "\n",
    "    # Estimate variance using the updated formula\n",
    "    auc2 = auc * auc\n",
    "    Q1 = auc / (2 - auc)\n",
    "    Q2 = 2 * auc2 / (1 + auc)\n",
    "    var_auc = (auc * (1 - auc) + (m - 1) * (Q1 - auc2) + (n - 1) * (Q2 - auc2)) / (m * n)\n",
    "\n",
    "    # # 95% CI, normal approximation\n",
    "    # sd_hat = np.sqrt(var_auc)\n",
    "    # alpha = 0.95\n",
    "    # lower_upper_q = np.abs(np.array([0, 1]) - (1 - alpha) / 2)\n",
    "\n",
    "    # if sd_hat > 0:\n",
    "    #     ci = stats.norm.ppf(lower_upper_q, loc=auc, scale=sd_hat)\n",
    "    # else:\n",
    "    #     ci = np.array([0.0, 0.0])\n",
    "    # ci[ci > 1] = 1\n",
    "    # ci[ci < 0] = 0\n",
    "\n",
    "    return auc, var_auc"
   ]
  },
  {
   "cell_type": "code",
   "execution_count": 180,
   "id": "ff5000ae",
   "metadata": {},
   "outputs": [],
   "source": [
    "@jit(nopython=True,parallel=False)\n",
    "def auc_estimation_HM_numba(y:np.array, y_pred:np.array) -> (float, float):\n",
    "    # Check that y contains only 0s and 1s\n",
    "    unique_vals = np.unique(y)\n",
    "    if not (len(unique_vals) == 2 and ((unique_vals[0] == 0 and unique_vals[1] == 1) or (unique_vals[0] == 1 and unique_vals[1] == 0))):\n",
    "        raise ValueError(\"y should contain 0s and 1s.\")\n",
    "    \n",
    "    # Calculate number of positive and negative samples\n",
    "    m = np.sum(y)\n",
    "    n = len(y_pred) - m\n",
    "\n",
    "    # Sort the samples by ascending scores\n",
    "    sorted_indices = np.argsort(y_pred)\n",
    "    y_true_sorted = y[sorted_indices]\n",
    "\n",
    "    # Vectorized calculation of cumulative sum for true positive and false positive\n",
    "    cum_tpr = np.cumsum(y_true_sorted) / m\n",
    "    cum_fpr = np.cumsum(1 - y_true_sorted) / n\n",
    "\n",
    "    # Compute AUC using the trapezoid method\n",
    "    auc = np.sum((cum_tpr[1:] - cum_tpr[:-1]) * (cum_fpr[1:] + cum_fpr[:-1])) / 2\n",
    "\n",
    "    # Estimate variance using the updated formula\n",
    "    auc2 = auc * auc\n",
    "    Q1 = auc / (2 - auc)\n",
    "    Q2 = 2 * auc2 / (1 + auc)\n",
    "    var_auc = (auc * (1 - auc) + (m - 1) * (Q1 - auc2) + (n - 1) * (Q2 - auc2)) / (m * n)\n",
    "\n",
    "    return auc, var_auc"
   ]
  },
  {
   "cell_type": "code",
   "execution_count": 171,
   "id": "eb3cc101",
   "metadata": {},
   "outputs": [],
   "source": [
    "\n",
    "def auc_estimation_Shirahata(y:np.array, y_pred:np.array) -> dict:\n",
    "    \"\"\"\n",
    "    Estimate the AUC and its variance using the formula from Shirahata [1993].\n",
    "    \n",
    "    Parameters:\n",
    "    - y (np.array): True binary responses (0/1) with shape (N,).\n",
    "    - y_pred (np.array): Predicted scores with shape (N,).\n",
    "\n",
    "    Returns:\n",
    "    - dict: A dictionary containing the following key-value pairs:\n",
    "        * 'mu': Estimated AUC\n",
    "        * 'var': Estimated variance of mu\n",
    "        * 'sd': Estimated standard error of mu\n",
    "        * 'ci': 95% confidence interval for AUC (based on the normal approximation)\n",
    "        * 'm': Number of positive samples\n",
    "        * 'n': Number of negative samples\n",
    "        * 'B': Sum of the number of times each positive sample score exceeds each negative sample score\n",
    "\n",
    "    Raises:\n",
    "    - ValueError: If `y` and `y_pred` have different lengths.\n",
    "    - ValueError: If all labels in `y` are positive or all are negative.\n",
    "    \n",
    "    Notes:\n",
    "    - The method is based on Shirahata [1993]. https://www.jstage.jst.go.jp/article/jjscs1988/6/2/6_2_1/_article\n",
    "    \"\"\"\n",
    "    # Check for mismatched sizes\n",
    "    if len(y) != len(y_pred):\n",
    "        raise ValueError(f\"Input arrays y and y_pred must have the same size. {len(y)} != {len(y_pred)}\")\n",
    "    \n",
    "    # Check if y and y_pred have shape (N,)\n",
    "    if y.shape != (len(y),) or y_pred.shape != (len(y_pred),):\n",
    "        raise ValueError(\"Both y and y_pred must have a shape of (N,).\")\n",
    "    \n",
    "    pos_array = y_pred[y == 1]\n",
    "    neg_array = y_pred[y == 0]\n",
    "    m = float(len(pos_array))\n",
    "    n = float(len(neg_array))\n",
    "\n",
    "    # Check for all positive or all negative\n",
    "    if m == 0:\n",
    "        raise ValueError(\"Positive labels must be present in y.\")\n",
    "    \n",
    "    if n == 0:\n",
    "        raise ValueError(\"Negative labels must be present in y.\")\n",
    "\n",
    "\n",
    "    c_array = np.sum(pos_array[:, np.newaxis] > neg_array, axis=1)\n",
    "    d_array = np.sum(neg_array[:, np.newaxis] < pos_array, axis=1)\n",
    "\n",
    "    c_square = np.sum(c_array ** 2)\n",
    "    d_square = np.sum(d_array ** 2)\n",
    "    B = np.sum(c_array)\n",
    "\n",
    "    denominator = m * n\n",
    "    if m > 1:\n",
    "        denominator *= (m - 1)\n",
    "    if n > 1:\n",
    "        denominator *= (n - 1)\n",
    "    \n",
    "    var_hat = (-(m + n - 1) * B ** 2 / (m * n) - B + c_square + d_square) / denominator\n",
    "    \n",
    "    # 95% CI, normal approximation\n",
    "    mu = B / (m * n)\n",
    "\n",
    "    return mu, var_hat\n",
    "\n",
    "\n"
   ]
  },
  {
   "cell_type": "code",
   "execution_count": 188,
   "id": "de91b235",
   "metadata": {},
   "outputs": [],
   "source": [
    "def generate_test_cases(n_samples=1000000, n_cases=10, seed=42):\n",
    "    test_cases = []\n",
    "    np.random.seed(seed)\n",
    "    for _ in range(n_cases):\n",
    "        y_true = np.random.randint(0, 2, n_samples)\n",
    "        y_scores = np.random.rand(n_samples)\n",
    "        test_cases.append((y_true, y_scores))\n",
    "    return test_cases\n",
    "\n",
    "# --- Analysis and comparison of the methods ---\n",
    "\n",
    "def compare_methods(test_cases):\n",
    "    results_delong = []\n",
    "    results_previous = []\n",
    "    results_shirahata = []\n",
    "\n",
    "    delong_times = []\n",
    "    previous_times = []\n",
    "    shirahata_times = []\n",
    "\n",
    "    for y_true, y_scores in test_cases:\n",
    "        # DeLong method\n",
    "        start_time = time.perf_counter()\n",
    "        for _ in range(100):\n",
    "            delong_dict = delong_roc_variance(y=y_true, y_pred=y_scores)\n",
    "            auc_delong, var_delong = delong_dict['mu'], delong_dict['var']\n",
    "        end_time = time.perf_counter()\n",
    "        results_delong.append((auc_delong, var_delong))\n",
    "        delong_times.append((end_time - start_time)/100)\n",
    "\n",
    "        # Previous method\n",
    "        start_time = time.perf_counter()\n",
    "        for _ in range(100):\n",
    "            auc_prev, var_prev = auc_estimation_HM_numba(y_true, y_scores)\n",
    "        end_time = time.perf_counter()\n",
    "        results_previous.append((auc_prev, var_prev))\n",
    "        previous_times.append((end_time - start_time)/100)\n",
    "\n",
    "        # Shirahata method\n",
    "        start_time = time.perf_counter()\n",
    "        for _ in range(100):\n",
    "            auc_shirahata, var_shirahata = auc_estimation_Shirahata(y_true, y_scores)\n",
    "        end_time = time.perf_counter()\n",
    "        results_shirahata.append((auc_shirahata, var_shirahata))\n",
    "        shirahata_times.append((end_time - start_time)/100)\n",
    "    \n",
    "    return results_delong, delong_times, results_previous, previous_times, results_shirahata, shirahata_times\n",
    "\n",
    "# --- Execution and Display of Results ---\n",
    "\n",
    "# Generate test cases\n",
    "test_cases = generate_test_cases(n_samples=10000, n_cases=2)\n",
    "\n",
    "# Compare methods\n",
    "results_delong, delong_times, results_previous, previous_times, results_shirahata, shirahata_times = compare_methods(test_cases)\n"
   ]
  },
  {
   "cell_type": "code",
   "execution_count": 189,
   "id": "98786603",
   "metadata": {},
   "outputs": [
    {
     "data": {
      "text/plain": [
       "[(0.502891119543968, 3.334567797676501e-05),\n",
       " (0.506466758200824, 3.333602631838647e-05)]"
      ]
     },
     "execution_count": 189,
     "metadata": {},
     "output_type": "execute_result"
    }
   ],
   "source": [
    "results_delong"
   ]
  },
  {
   "cell_type": "code",
   "execution_count": 190,
   "id": "ac411d52",
   "metadata": {},
   "outputs": [
    {
     "data": {
      "text/plain": [
       "[(0.5028911195439676, 3.333586389985171e-05),\n",
       " (0.5064667582008258, 3.3329289456592686e-05)]"
      ]
     },
     "execution_count": 190,
     "metadata": {},
     "output_type": "execute_result"
    }
   ],
   "source": [
    "results_previous"
   ]
  },
  {
   "cell_type": "code",
   "execution_count": 191,
   "id": "dab9bcd4",
   "metadata": {},
   "outputs": [
    {
     "data": {
      "text/plain": [
       "[(0.5028911195439681, 3.3342345034407675e-05),\n",
       " (0.5064667582008238, 3.333269288227195e-05)]"
      ]
     },
     "execution_count": 191,
     "metadata": {},
     "output_type": "execute_result"
    }
   ],
   "source": [
    "results_shirahata"
   ]
  },
  {
   "cell_type": "code",
   "execution_count": 192,
   "id": "1ecc8339",
   "metadata": {},
   "outputs": [
    {
     "data": {
      "text/plain": [
       "[0.001789498329962953, 0.0015297870799986413]"
      ]
     },
     "execution_count": 192,
     "metadata": {},
     "output_type": "execute_result"
    }
   ],
   "source": [
    "delong_times"
   ]
  },
  {
   "cell_type": "code",
   "execution_count": 193,
   "id": "567e91b1",
   "metadata": {},
   "outputs": [
    {
     "data": {
      "text/plain": [
       "[0.0007301195799664129, 0.0007109329199738568]"
      ]
     },
     "execution_count": 193,
     "metadata": {},
     "output_type": "execute_result"
    }
   ],
   "source": [
    "previous_times"
   ]
  },
  {
   "cell_type": "code",
   "execution_count": 194,
   "id": "28f031fc",
   "metadata": {},
   "outputs": [
    {
     "data": {
      "text/plain": [
       "[0.0634725516600156, 0.06326952541996433]"
      ]
     },
     "execution_count": 194,
     "metadata": {},
     "output_type": "execute_result"
    }
   ],
   "source": [
    "shirahata_times"
   ]
  },
  {
   "cell_type": "code",
   "execution_count": null,
   "id": "ca1ae27f",
   "metadata": {},
   "outputs": [],
   "source": []
  },
  {
   "cell_type": "code",
   "execution_count": null,
   "id": "e868df70",
   "metadata": {},
   "outputs": [],
   "source": []
  },
  {
   "cell_type": "code",
   "execution_count": null,
   "id": "d8c69ba6",
   "metadata": {},
   "outputs": [],
   "source": []
  }
 ],
 "metadata": {
  "kernelspec": {
   "display_name": "pasi_test",
   "language": "python",
   "name": "python3"
  },
  "language_info": {
   "codemirror_mode": {
    "name": "ipython",
    "version": 3
   },
   "file_extension": ".py",
   "mimetype": "text/x-python",
   "name": "python",
   "nbconvert_exporter": "python",
   "pygments_lexer": "ipython3",
   "version": "3.9.15"
  },
  "vscode": {
   "interpreter": {
    "hash": "2f77f96c3f36ccf9f1228416a071270e0bdde272dedc1f20cf53812adae7735a"
   }
  }
 },
 "nbformat": 4,
 "nbformat_minor": 5
}
