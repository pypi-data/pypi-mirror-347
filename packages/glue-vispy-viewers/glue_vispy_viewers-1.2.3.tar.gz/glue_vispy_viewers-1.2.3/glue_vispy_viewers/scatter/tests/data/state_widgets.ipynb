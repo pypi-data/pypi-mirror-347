{
 "cells": [
  {
   "cell_type": "markdown",
   "metadata": {},
   "source": [
    "## About\n",
    "\n",
    "The purpose of this notebook is to easily check the appearance and functionality of widgets to edit the various state objects."
   ]
  },
  {
   "cell_type": "code",
   "execution_count": null,
   "metadata": {},
   "outputs": [],
   "source": [
    "from glue_jupyter.utils import _register_custom_vue_components\n",
    "_register_custom_vue_components()"
   ]
  },
  {
   "cell_type": "code",
   "execution_count": null,
   "metadata": {},
   "outputs": [],
   "source": [
    "import numpy as np\n",
    "from glue.core import Data\n",
    "data = Data(x=np.ones((3, 2, 4)), y=np.zeros((3, 2, 4)), z=2 * np.ones((3, 2, 4)), label='test data')\n",
    "data.add_subset(data.id['x'] == 1)"
   ]
  },
  {
   "cell_type": "code",
   "execution_count": null,
   "metadata": {},
   "outputs": [],
   "source": [
    "from ipywidgets import Textarea"
   ]
  },
  {
   "cell_type": "markdown",
   "metadata": {},
   "source": [
    "### Scatter 3D"
   ]
  },
  {
   "cell_type": "code",
   "execution_count": null,
   "metadata": {},
   "outputs": [],
   "source": [
    "from glue_vispy_viewers.scatter.viewer_state import Vispy3DScatterViewerState\n",
    "from glue_vispy_viewers.scatter.layer_state import ScatterLayerState\n",
    "from glue_vispy_viewers.scatter.jupyter.viewer_state_widget import Scatter3DViewerStateWidget\n",
    "from glue_vispy_viewers.scatter.jupyter.layer_state_widget import Scatter3DLayerStateWidget"
   ]
  },
  {
   "cell_type": "code",
   "execution_count": null,
   "metadata": {},
   "outputs": [],
   "source": [
    "output = Textarea()\n",
    "\n",
    "def report_viewer_changes(*args, **kwargs):\n",
    "    output.value += f'Viewer state changed: {kwargs}\\n'\n",
    "\n",
    "def report_layer_changes(*args, **kwargs):\n",
    "    output.value += f'Layer state changed: {kwargs}\\n'\n",
    "\n",
    "output.layout = {'width': '800px', 'height': '200px'}\n",
    "output"
   ]
  },
  {
   "cell_type": "code",
   "execution_count": null,
   "metadata": {},
   "outputs": [],
   "source": [
    "viewer_state_scatter_3d = Vispy3DScatterViewerState()\n",
    "layer_state_scatter_3d = ScatterLayerState(layer=data, viewer_state=viewer_state_scatter_3d)\n",
    "viewer_state_scatter_3d.layers = [layer_state_scatter_3d]"
   ]
  },
  {
   "cell_type": "code",
   "execution_count": null,
   "metadata": {},
   "outputs": [],
   "source": [
    "viewer_state_scatter_3d.add_global_callback(report_viewer_changes)\n",
    "layer_state_scatter_3d.add_global_callback(report_layer_changes)"
   ]
  },
  {
   "cell_type": "code",
   "execution_count": null,
   "metadata": {},
   "outputs": [],
   "source": [
    "widget = Scatter3DViewerStateWidget(viewer_state_scatter_3d)\n",
    "widget"
   ]
  },
  {
   "cell_type": "code",
   "execution_count": null,
   "metadata": {},
   "outputs": [],
   "source": [
    "Scatter3DLayerStateWidget(layer_state_scatter_3d)"
   ]
  },
  {
   "cell_type": "code",
   "execution_count": null,
   "metadata": {},
   "outputs": [],
   "source": []
  }
 ],
 "metadata": {
  "kernelspec": {
   "display_name": "Python 3 (ipykernel)",
   "language": "python",
   "name": "python3"
  },
  "language_info": {
   "codemirror_mode": {
    "name": "ipython",
    "version": 3
   },
   "file_extension": ".py",
   "mimetype": "text/x-python",
   "name": "python",
   "nbconvert_exporter": "python",
   "pygments_lexer": "ipython3",
   "version": "3.11.9"
  }
 },
 "nbformat": 4,
 "nbformat_minor": 4
}
