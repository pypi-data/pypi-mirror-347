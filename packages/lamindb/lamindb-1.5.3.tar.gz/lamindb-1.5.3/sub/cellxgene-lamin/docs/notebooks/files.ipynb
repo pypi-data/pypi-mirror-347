{
 "cells": [
  {
   "cell_type": "markdown",
   "metadata": {},
   "source": [
    "![](https://img.shields.io/badge/1/4-lightgrey)"
   ]
  },
  {
   "cell_type": "markdown",
   "metadata": {},
   "source": [
    "# Register h5ad files of cellxgene-census"
   ]
  },
  {
   "cell_type": "markdown",
   "metadata": {},
   "source": [
    "## Setup"
   ]
  },
  {
   "cell_type": "code",
   "execution_count": 1,
   "metadata": {},
   "outputs": [
    {
     "name": "stdout",
     "output_type": "stream",
     "text": [
      "2023-09-19 14:02:40,119:INFO - Found credentials in shared credentials file: ~/.aws/credentials\n",
      "2023-09-19 14:02:40,903:INFO - Found credentials in shared credentials file: ~/.aws/credentials\n",
      "\u2757 storage exists already\n",
      "\u2705 registered instance on hub: https://lamin.ai/sunnyosun/cellxgene-census\n",
      "\u2705 saved: User(id='kmvZDIX9', handle='sunnyosun', email='xs338@nyu.edu', name='Sunny Sun', updated_at=2023-09-19 12:02:50)\n",
      "\u2705 saved: Storage(id='B4O1DDsR', root='s3://lamindata', type='s3', region='us-east-1', updated_at=2023-09-19 12:02:50, created_by_id='kmvZDIX9')\n",
      "\ud83d\udca1 loaded instance: sunnyosun/cellxgene-census\n",
      "\u2757 locked instance (to unlock and push changes to the cloud SQLite file, call: lamin close)\n",
      "\u001b[0m"
     ]
    }
   ],
   "source": [
    "# !lamin init --storage s3://lamindata --name cellxgene-census --schema bionty\n",
    "# !lamin close"
   ]
  },
  {
   "cell_type": "code",
   "execution_count": 1,
   "metadata": {},
   "outputs": [
    {
     "name": "stdout",
     "output_type": "stream",
     "text": [
      "\ud83d\udca1 loaded instance: laminlabs/cellxgene-census\n",
      "\u001b[0m"
     ]
    }
   ],
   "source": [
    "!lamin load laminlabs/cellxgene-census"
   ]
  },
  {
   "cell_type": "code",
   "execution_count": 1,
   "metadata": {},
   "outputs": [
    {
     "name": "stdout",
     "output_type": "stream",
     "text": [
      "\ud83d\udca1 lamindb instance: laminlabs/cellxgene-census\n"
     ]
    }
   ],
   "source": [
    "import lamindb as ln\n",
    "import lnschema_bionty as lb\n",
    "import cellxgene_census"
   ]
  },
  {
   "cell_type": "code",
   "execution_count": 4,
   "metadata": {},
   "outputs": [
    {
     "name": "stdout",
     "output_type": "stream",
     "text": [
      "\ud83d\udca1 notebook imports: cellxgene_census lamindb==0.54.4 lnschema_bionty==0.31.2\n",
      "\ud83d\udca1 Transform(uid='nhGTqlIHEyn7z8', name='Register h5ad files of cellxgene-census', short_name='files', version='0', type='notebook', reference='https://cellxgene-census-lamin-c192.netlify.app/notebooks/files', reference_type='cellxgene-census-lamin', updated_at=2023-10-16 15:04:08, latest_report_id=852, source_file_id=851, created_by_id=1)\n",
      "\ud83d\udca1 Run(uid='u6hWPhTQXwCTlNSi8Iaj', run_at=2023-10-24 15:48:23, transform_id=1, created_by_id=2)\n"
     ]
    }
   ],
   "source": [
    "ln.context.track()"
   ]
  },
  {
   "cell_type": "code",
   "execution_count": 6,
   "metadata": {},
   "outputs": [],
   "source": [
    "census_version = \"2023-07-25\""
   ]
  },
  {
   "cell_type": "markdown",
   "metadata": {},
   "source": [
    "## Register datasets"
   ]
  },
  {
   "cell_type": "code",
   "execution_count": 3,
   "metadata": {},
   "outputs": [
    {
     "name": "stderr",
     "output_type": "stream",
     "text": [
      "The \"stable\" release is currently 2023-07-25. Specify 'census_version=\"2023-07-25\"' in future calls to open_soma() to ensure data consistency.\n",
      "2023-10-05 17:31:56,984:INFO - The \"stable\" release is currently 2023-07-25. Specify 'census_version=\"2023-07-25\"' in future calls to open_soma() to ensure data consistency.\n"
     ]
    }
   ],
   "source": [
    "census = cellxgene_census.open_soma(census_version=census_version)"
   ]
  },
  {
   "cell_type": "code",
   "execution_count": 4,
   "metadata": {},
   "outputs": [
    {
     "data": {
      "text/plain": [
       "<Collection 's3://cellxgene-data-public/cell-census/2023-07-25/soma/' (open for 'r') (2 items)\n",
       "    'census_data': 's3://cellxgene-data-public/cell-census/2023-07-25/soma/census_data' (unopened)\n",
       "    'census_info': 's3://cellxgene-data-public/cell-census/2023-07-25/soma/census_info' (unopened)>"
      ]
     },
     "execution_count": 4,
     "metadata": {},
     "output_type": "execute_result"
    }
   ],
   "source": [
    "census"
   ]
  },
  {
   "cell_type": "code",
   "execution_count": 5,
   "metadata": {},
   "outputs": [
    {
     "data": {
      "text/plain": [
       "<Collection 's3://cellxgene-data-public/cell-census/2023-07-25/soma/census_data' (open for 'r') (2 items)\n",
       "    'mus_musculus': 's3://cellxgene-data-public/cell-census/2023-07-25/soma/census_data/mus_musculus' (unopened)\n",
       "    'homo_sapiens': 's3://cellxgene-data-public/cell-census/2023-07-25/soma/census_data/homo_sapiens' (unopened)>"
      ]
     },
     "execution_count": 5,
     "metadata": {},
     "output_type": "execute_result"
    }
   ],
   "source": [
    "census[\"census_data\"]"
   ]
  },
  {
   "cell_type": "code",
   "execution_count": 6,
   "metadata": {},
   "outputs": [
    {
     "data": {
      "text/plain": [
       "<Collection 's3://cellxgene-data-public/cell-census/2023-07-25/soma/census_info' (open for 'r') (3 items)\n",
       "    'summary': 's3://cellxgene-data-public/cell-census/2023-07-25/soma/census_info/summary' (unopened)\n",
       "    'summary_cell_counts': 's3://cellxgene-data-public/cell-census/2023-07-25/soma/census_info/summary_cell_counts' (unopened)\n",
       "    'datasets': 's3://cellxgene-data-public/cell-census/2023-07-25/soma/census_info/datasets' (unopened)>"
      ]
     },
     "execution_count": 6,
     "metadata": {},
     "output_type": "execute_result"
    }
   ],
   "source": [
    "census[\"census_info\"]"
   ]
  },
  {
   "cell_type": "code",
   "execution_count": 15,
   "metadata": {},
   "outputs": [
    {
     "data": {
      "text/plain": [
       "(593, 8)"
      ]
     },
     "execution_count": 15,
     "metadata": {},
     "output_type": "execute_result"
    }
   ],
   "source": [
    "datasets_df = census[\"census_info\"][\"datasets\"].read().concat().to_pandas()\n",
    "datasets_df.shape"
   ]
  },
  {
   "cell_type": "code",
   "execution_count": 16,
   "metadata": {},
   "outputs": [
    {
     "data": {
      "text/html": [
       "<div>\n",
       "<style scoped>\n",
       "    .dataframe tbody tr th:only-of-type {\n",
       "        vertical-align: middle;\n",
       "    }\n",
       "\n",
       "    .dataframe tbody tr th {\n",
       "        vertical-align: top;\n",
       "    }\n",
       "\n",
       "    .dataframe thead th {\n",
       "        text-align: right;\n",
       "    }\n",
       "</style>\n",
       "<table border=\"1\" class=\"dataframe\">\n",
       "  <thead>\n",
       "    <tr style=\"text-align: right;\">\n",
       "      <th></th>\n",
       "      <th>soma_joinid</th>\n",
       "      <th>collection_id</th>\n",
       "      <th>collection_name</th>\n",
       "      <th>collection_doi</th>\n",
       "      <th>dataset_id</th>\n",
       "      <th>dataset_title</th>\n",
       "      <th>dataset_h5ad_path</th>\n",
       "      <th>dataset_total_cell_count</th>\n",
       "    </tr>\n",
       "  </thead>\n",
       "  <tbody>\n",
       "    <tr>\n",
       "      <th>0</th>\n",
       "      <td>0</td>\n",
       "      <td>e2c257e7-6f79-487c-b81c-39451cd4ab3c</td>\n",
       "      <td>Spatial multiomics map of trophoblast developm...</td>\n",
       "      <td>10.1038/s41586-023-05869-0</td>\n",
       "      <td>f171db61-e57e-4535-a06a-35d8b6ef8f2b</td>\n",
       "      <td>donor_p13_trophoblasts</td>\n",
       "      <td>f171db61-e57e-4535-a06a-35d8b6ef8f2b.h5ad</td>\n",
       "      <td>31497</td>\n",
       "    </tr>\n",
       "    <tr>\n",
       "      <th>1</th>\n",
       "      <td>1</td>\n",
       "      <td>e2c257e7-6f79-487c-b81c-39451cd4ab3c</td>\n",
       "      <td>Spatial multiomics map of trophoblast developm...</td>\n",
       "      <td>10.1038/s41586-023-05869-0</td>\n",
       "      <td>ecf2e08e-2032-4a9e-b466-b65b395f4a02</td>\n",
       "      <td>All donors trophoblasts</td>\n",
       "      <td>ecf2e08e-2032-4a9e-b466-b65b395f4a02.h5ad</td>\n",
       "      <td>67070</td>\n",
       "    </tr>\n",
       "    <tr>\n",
       "      <th>2</th>\n",
       "      <td>2</td>\n",
       "      <td>e2c257e7-6f79-487c-b81c-39451cd4ab3c</td>\n",
       "      <td>Spatial multiomics map of trophoblast developm...</td>\n",
       "      <td>10.1038/s41586-023-05869-0</td>\n",
       "      <td>74cff64f-9da9-4b2a-9b3b-8a04a1598040</td>\n",
       "      <td>All donors all cell states (in vivo)</td>\n",
       "      <td>74cff64f-9da9-4b2a-9b3b-8a04a1598040.h5ad</td>\n",
       "      <td>286326</td>\n",
       "    </tr>\n",
       "    <tr>\n",
       "      <th>3</th>\n",
       "      <td>3</td>\n",
       "      <td>f7cecffa-00b4-4560-a29a-8ad626b8ee08</td>\n",
       "      <td>Mapping single-cell transcriptomes in the intr...</td>\n",
       "      <td>10.1016/j.ccell.2022.11.001</td>\n",
       "      <td>5af90777-6760-4003-9dba-8f945fec6fdf</td>\n",
       "      <td>Single-cell transcriptomic datasets of Renal c...</td>\n",
       "      <td>5af90777-6760-4003-9dba-8f945fec6fdf.h5ad</td>\n",
       "      <td>270855</td>\n",
       "    </tr>\n",
       "    <tr>\n",
       "      <th>4</th>\n",
       "      <td>4</td>\n",
       "      <td>3f50314f-bdc9-40c6-8e4a-b0901ebfbe4c</td>\n",
       "      <td>Single-cell sequencing links multiregional imm...</td>\n",
       "      <td>10.1016/j.ccell.2021.03.007</td>\n",
       "      <td>bd65a70f-b274-4133-b9dd-0d1431b6af34</td>\n",
       "      <td>Single-cell sequencing links multiregional imm...</td>\n",
       "      <td>bd65a70f-b274-4133-b9dd-0d1431b6af34.h5ad</td>\n",
       "      <td>167283</td>\n",
       "    </tr>\n",
       "  </tbody>\n",
       "</table>\n",
       "</div>"
      ],
      "text/plain": [
       "   soma_joinid                         collection_id  \\\n",
       "0            0  e2c257e7-6f79-487c-b81c-39451cd4ab3c   \n",
       "1            1  e2c257e7-6f79-487c-b81c-39451cd4ab3c   \n",
       "2            2  e2c257e7-6f79-487c-b81c-39451cd4ab3c   \n",
       "3            3  f7cecffa-00b4-4560-a29a-8ad626b8ee08   \n",
       "4            4  3f50314f-bdc9-40c6-8e4a-b0901ebfbe4c   \n",
       "\n",
       "                                     collection_name  \\\n",
       "0  Spatial multiomics map of trophoblast developm...   \n",
       "1  Spatial multiomics map of trophoblast developm...   \n",
       "2  Spatial multiomics map of trophoblast developm...   \n",
       "3  Mapping single-cell transcriptomes in the intr...   \n",
       "4  Single-cell sequencing links multiregional imm...   \n",
       "\n",
       "                collection_doi                            dataset_id  \\\n",
       "0   10.1038/s41586-023-05869-0  f171db61-e57e-4535-a06a-35d8b6ef8f2b   \n",
       "1   10.1038/s41586-023-05869-0  ecf2e08e-2032-4a9e-b466-b65b395f4a02   \n",
       "2   10.1038/s41586-023-05869-0  74cff64f-9da9-4b2a-9b3b-8a04a1598040   \n",
       "3  10.1016/j.ccell.2022.11.001  5af90777-6760-4003-9dba-8f945fec6fdf   \n",
       "4  10.1016/j.ccell.2021.03.007  bd65a70f-b274-4133-b9dd-0d1431b6af34   \n",
       "\n",
       "                                       dataset_title  \\\n",
       "0                             donor_p13_trophoblasts   \n",
       "1                            All donors trophoblasts   \n",
       "2               All donors all cell states (in vivo)   \n",
       "3  Single-cell transcriptomic datasets of Renal c...   \n",
       "4  Single-cell sequencing links multiregional imm...   \n",
       "\n",
       "                           dataset_h5ad_path  dataset_total_cell_count  \n",
       "0  f171db61-e57e-4535-a06a-35d8b6ef8f2b.h5ad                     31497  \n",
       "1  ecf2e08e-2032-4a9e-b466-b65b395f4a02.h5ad                     67070  \n",
       "2  74cff64f-9da9-4b2a-9b3b-8a04a1598040.h5ad                    286326  \n",
       "3  5af90777-6760-4003-9dba-8f945fec6fdf.h5ad                    270855  \n",
       "4  bd65a70f-b274-4133-b9dd-0d1431b6af34.h5ad                    167283  "
      ]
     },
     "execution_count": 16,
     "metadata": {},
     "output_type": "execute_result"
    }
   ],
   "source": [
    "datasets_df.head()"
   ]
  },
  {
   "cell_type": "code",
   "execution_count": 9,
   "metadata": {},
   "outputs": [],
   "source": [
    "files = ln.File.from_dir(\"s3://cellxgene-data-public/cell-census/2023-07-25/h5ads\")\n",
    "ln.save(files)"
   ]
  },
  {
   "cell_type": "code",
   "execution_count": 3,
   "metadata": {},
   "outputs": [
    {
     "name": "stdout",
     "output_type": "stream",
     "text": [
      "\u2757 returning existing dataset with same hash: Dataset(uid='EAUF1AaT4kOVyHYnZsUJ', name='cellxgene-census', version='2023-07-25', hash='pEJ9uvIeTLvHkZW2TBT5', updated_at=2023-10-24 16:00:07, transform_id=1, run_id=9, created_by_id=2)\n",
      "init_self_from_db start\n",
      "init_self_from_db done\n",
      "slots done\n",
      "start provenance\n",
      "start loop\n",
      "end loop\n",
      "track_run_input\n",
      "links\n",
      "created\n"
     ]
    }
   ],
   "source": [
    "dataset = ln.Dataset(files, name=\"cellxgene-census\", version=census_version)"
   ]
  },
  {
   "cell_type": "code",
   "execution_count": 23,
   "metadata": {},
   "outputs": [],
   "source": [
    "dataset.save()"
   ]
  },
  {
   "cell_type": "code",
   "execution_count": 10,
   "metadata": {},
   "outputs": [],
   "source": [
    "collections_df = (\n",
    "    datasets_df[[\"collection_id\", \"collection_name\", \"collection_doi\"]]\n",
    "    .drop_duplicates()\n",
    "    .set_index(\"collection_id\")\n",
    ")\n",
    "collections = []\n",
    "for collection_id, row in collections_df.iterrows():\n",
    "    collection = ln.ULabel(\n",
    "        name=row.collection_name,\n",
    "        description=row.collection_doi,\n",
    "        reference=collection_id,\n",
    "        reference_type=\"collection_id\",\n",
    "    )\n",
    "    collections.append(collection)\n",
    "\n",
    "ln.save(collections)\n",
    "\n",
    "is_collection = ln.ULabel(name=\"is_collection\")\n",
    "is_collection.save()\n",
    "is_collection.children.set(collections)"
   ]
  },
  {
   "cell_type": "code",
   "execution_count": 21,
   "metadata": {},
   "outputs": [],
   "source": [
    "collections = is_collection.children\n",
    "files = ln.File.filter()"
   ]
  },
  {
   "cell_type": "code",
   "execution_count": 17,
   "metadata": {},
   "outputs": [],
   "source": [
    "feature_collection = ln.Feature(name=\"collection\", type=\"category\")\n",
    "feature_collection.save()"
   ]
  },
  {
   "cell_type": "code",
   "execution_count": 36,
   "metadata": {},
   "outputs": [],
   "source": [
    "for _, row in datasets_df.iterrows():\n",
    "    file = files.filter(key__endswith=f\"{row.dataset_id}.h5ad\").one()\n",
    "    file.description = f\"{row.dataset_title}|{row.dataset_id}\"\n",
    "    file.save()\n",
    "    file.labels.add(collections.get(reference=row.collection_id), feature_collection)"
   ]
  },
  {
   "cell_type": "markdown",
   "metadata": {},
   "source": [
    "## Annotate with species"
   ]
  },
  {
   "cell_type": "code",
   "execution_count": 11,
   "metadata": {},
   "outputs": [],
   "source": [
    "feature_organism = ln.Feature(name=\"organism\", type=\"category\")\n",
    "feature_organism.save()"
   ]
  },
  {
   "cell_type": "code",
   "execution_count": 39,
   "metadata": {},
   "outputs": [],
   "source": [
    "files = ln.File.filter()"
   ]
  },
  {
   "cell_type": "code",
   "execution_count": 5,
   "metadata": {},
   "outputs": [
    {
     "data": {
      "text/plain": [
       "(511, 1)"
      ]
     },
     "execution_count": 5,
     "metadata": {},
     "output_type": "execute_result"
    }
   ],
   "source": [
    "lb.settings.organism = \"human\"\n",
    "\n",
    "human_datasets = (\n",
    "    census[\"census_data\"][lb.settings.organism.scientific_name]\n",
    "    .obs.read(column_names=[\"dataset_id\"])\n",
    "    .concat()\n",
    "    .to_pandas()\n",
    "    .drop_duplicates()\n",
    ")\n",
    "print(human_datasets.shape)\n",
    "\n",
    "for dataset_id in human_datasets.dataset_id:\n",
    "    file = files.filter(description__contains=dataset_id).one()\n",
    "    file.labels.add(lb.settings.organism, feature_organism)"
   ]
  },
  {
   "cell_type": "code",
   "execution_count": 27,
   "metadata": {},
   "outputs": [
    {
     "name": "stdout",
     "output_type": "stream",
     "text": [
      "(82, 1)\n"
     ]
    }
   ],
   "source": [
    "lb.settings.organism = \"mouse\"\n",
    "\n",
    "mouse_datasets = (\n",
    "    census[\"census_data\"][lb.settings.organism.scientific_name]\n",
    "    .obs.read(column_names=[\"dataset_id\"])\n",
    "    .concat()\n",
    "    .to_pandas()\n",
    "    .drop_duplicates()\n",
    ")\n",
    "print(mouse_datasets.shape)\n",
    "\n",
    "for dataset_id in mouse_datasets.dataset_id:\n",
    "    file = files.filter(description__contains=dataset_id).one()\n",
    "    file.labels.add(lb.settings.organism, feature_organism)"
   ]
  },
  {
   "cell_type": "code",
   "execution_count": 37,
   "metadata": {},
   "outputs": [
    {
     "name": "stdout",
     "output_type": "stream",
     "text": [
      "\u001b[1;92mFile\u001b[0m(id='0sbCRBKbqkEuSjhzfp42', key='cell-census/2023-07-25/h5ads/8c42cfd0-0b0a-46d5-910c-fc833d83c45e.h5ad', suffix='.h5ad', accessor='AnnData', description='Krasnow Lab Human Lung Cell Atlas, 10X|8c42cfd0-0b0a-46d5-910c-fc833d83c45e', size=588959280, hash='N0yW4Iksvgw93PzdE_4M0w-71', hash_type='md5-n', updated_at=2023-10-05 16:06:49)\n",
      "\n",
      "\u001b[1;92mProvenance\u001b[0m:\n",
      "  \ud83d\uddc3\ufe0f storage: Storage(id='oIYGbD74', root='s3://cellxgene-data-public', type='s3', region='us-west-2', updated_at=2023-09-19 13:17:56, created_by_id='kmvZDIX9')\n",
      "  \ud83d\udcd4 transform: Transform(id='nhGTqlIHEyn7z8', name='Register h5ad files of cellxgene-census', short_name='files', version='0', type='notebook', reference='https://github.com/laminlabs/cellxgene-census-lamin/blob/2553c2690909976efe380ca96d9e4d6b9a6c6749/docs/notebooks/datasets.ipynb', reference_type='github', updated_at=2023-10-05 14:04:28, created_by_id='kmvZDIX9')\n",
      "  \ud83d\udc63 run: Run(id='60jqKpxivkwkpEFZr8mp', run_at=2023-10-05 15:31:55, transform_id='nhGTqlIHEyn7z8', created_by_id='kmvZDIX9')\n",
      "  \ud83d\udc64 created_by: User(id='kmvZDIX9', handle='sunnyosun', email='xs338@nyu.edu', name='Sunny Sun', updated_at=2023-09-19 14:58:33)\n",
      "\u001b[1;92mFeatures\u001b[0m:\n",
      "  \u001b[1mexternal\u001b[0m: FeatureSet(id='OHD9LSDGO1FtSWUtcpqG', n=2, registry='core.Feature', hash='NspE1QMvOo8aoOOrotmH', updated_at=2023-10-05 16:06:49, modality_id='FyZj4S3Z', created_by_id='kmvZDIX9')\n",
      "    \ud83d\udd17 organism (1, \u001b[3mbionty.Species\u001b[0m): 'human'\n",
      "    \ud83d\udd17 collection (1, \u001b[3mcore.ULabel\u001b[0m): 'A molecular cell atlas of the human lung from single cell RNA sequencing'\n",
      "\u001b[1;92mLabels\u001b[0m:\n",
      "  \ud83c\udff7\ufe0f species (1, \u001b[3mbionty.Species\u001b[0m): 'human'\n",
      "  \ud83c\udff7\ufe0f ulabels (1, \u001b[3mcore.ULabel\u001b[0m): 'A molecular cell atlas of the human lung from single cell RNA sequencing'\n",
      "\n"
     ]
    }
   ],
   "source": [
    "file.describe()"
   ]
  },
  {
   "cell_type": "code",
   "execution_count": 46,
   "metadata": {},
   "outputs": [],
   "source": [
    "census.close()"
   ]
  }
 ],
 "metadata": {
  "kernelspec": {
   "display_name": "py39",
   "language": "python",
   "name": "python3"
  },
  "language_info": {
   "codemirror_mode": {
    "name": "ipython",
    "version": 3
   },
   "file_extension": ".py",
   "mimetype": "text/x-python",
   "name": "python",
   "nbconvert_exporter": "python",
   "pygments_lexer": "ipython3",
   "version": "3.10.13"
  },
  "nbproject": {
   "id": "nhGTqlIHEyn7",
   "parent": null,
   "pypackage": null,
   "time_init": "2023-09-19T13:16:43.147615+00:00",
   "user_handle": null,
   "user_id": null,
   "user_name": null,
   "version": "1"
  },
  "orig_nbformat": 4
 },
 "nbformat": 4,
 "nbformat_minor": 2
}
