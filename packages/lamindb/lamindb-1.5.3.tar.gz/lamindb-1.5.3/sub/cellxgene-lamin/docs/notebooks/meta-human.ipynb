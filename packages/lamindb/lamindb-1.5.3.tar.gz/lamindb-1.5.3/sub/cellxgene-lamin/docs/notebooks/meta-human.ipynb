{
 "cells": [
  {
   "cell_type": "markdown",
   "metadata": {},
   "source": [
    "![](https://img.shields.io/badge/2/4-lightgrey)"
   ]
  },
  {
   "cell_type": "markdown",
   "metadata": {},
   "source": [
    "# Register cellxgene-census metadata - human"
   ]
  },
  {
   "cell_type": "code",
   "execution_count": 1,
   "metadata": {},
   "outputs": [
    {
     "name": "stdout",
     "output_type": "stream",
     "text": [
      "\ud83d\udca1 lamindb instance: laminlabs/cellxgene-census\n"
     ]
    }
   ],
   "source": [
    "import lamindb as ln\n",
    "import lnschema_bionty as lb\n",
    "import cellxgene_census"
   ]
  },
  {
   "cell_type": "code",
   "execution_count": 2,
   "metadata": {},
   "outputs": [],
   "source": [
    "lb.settings.organism = \"human\"\n",
    "human = lb.settings.organism.scientific_name\n",
    "rna = \"RNA\""
   ]
  },
  {
   "cell_type": "code",
   "execution_count": 3,
   "metadata": {},
   "outputs": [
    {
     "name": "stdout",
     "output_type": "stream",
     "text": [
      "\ud83d\udca1 notebook imports: cellxgene-census==1.3.0 lamin_utils==0.11.3 lamindb==0.55.0 lnschema_bionty==0.31.1\n",
      "\ud83d\udca1 Transform(id='wJfHkfyRK0Gpz8', name='Register cellxgene-census metadata - human', short_name='meta-human', version='0', type='notebook', reference='https://github.com/laminlabs/cellxgene-census-lamin/blob/2553c2690909976efe380ca96d9e4d6b9a6c6749/docs/notebooks/human-meta.ipynb', reference_type='github', updated_at=2023-10-05 14:05:13, created_by_id='kmvZDIX9')\n",
      "\ud83d\udca1 Run(id='qfYt3enkIXsEyPaSbVlJ', run_at=2023-10-05 14:15:57, transform_id='wJfHkfyRK0Gpz8', created_by_id='kmvZDIX9')\n"
     ]
    }
   ],
   "source": [
    "ln.context.track()"
   ]
  },
  {
   "cell_type": "code",
   "execution_count": 4,
   "metadata": {},
   "outputs": [
    {
     "name": "stderr",
     "output_type": "stream",
     "text": [
      "The \"stable\" release is currently 2023-07-25. Specify 'census_version=\"2023-07-25\"' in future calls to open_soma() to ensure data consistency.\n",
      "2023-10-05 16:15:58,271:INFO - The \"stable\" release is currently 2023-07-25. Specify 'census_version=\"2023-07-25\"' in future calls to open_soma() to ensure data consistency.\n"
     ]
    }
   ],
   "source": [
    "census = cellxgene_census.open_soma(census_version=\"2023-07-25\")"
   ]
  },
  {
   "cell_type": "code",
   "execution_count": 5,
   "metadata": {},
   "outputs": [],
   "source": [
    "census_data = census[\"census_data\"][human]"
   ]
  },
  {
   "cell_type": "markdown",
   "metadata": {},
   "source": [
    "## Validate and register genes"
   ]
  },
  {
   "cell_type": "markdown",
   "metadata": {},
   "source": [
    "Gene metadata:"
   ]
  },
  {
   "cell_type": "code",
   "execution_count": 6,
   "metadata": {},
   "outputs": [
    {
     "data": {
      "text/plain": [
       "('soma_joinid', 'feature_id', 'feature_name', 'feature_length')"
      ]
     },
     "execution_count": 6,
     "metadata": {},
     "output_type": "execute_result"
    }
   ],
   "source": [
    "census_data.ms[rna].var.keys()"
   ]
  },
  {
   "cell_type": "code",
   "execution_count": 7,
   "metadata": {},
   "outputs": [],
   "source": [
    "gene_metadata = census_data.ms[rna].var.read().concat().to_pandas()"
   ]
  },
  {
   "cell_type": "code",
   "execution_count": 8,
   "metadata": {},
   "outputs": [
    {
     "data": {
      "text/plain": [
       "(60664, 4)"
      ]
     },
     "execution_count": 8,
     "metadata": {},
     "output_type": "execute_result"
    }
   ],
   "source": [
    "gene_metadata.shape"
   ]
  },
  {
   "cell_type": "code",
   "execution_count": 9,
   "metadata": {},
   "outputs": [
    {
     "data": {
      "text/html": [
       "<div>\n",
       "<style scoped>\n",
       "    .dataframe tbody tr th:only-of-type {\n",
       "        vertical-align: middle;\n",
       "    }\n",
       "\n",
       "    .dataframe tbody tr th {\n",
       "        vertical-align: top;\n",
       "    }\n",
       "\n",
       "    .dataframe thead th {\n",
       "        text-align: right;\n",
       "    }\n",
       "</style>\n",
       "<table border=\"1\" class=\"dataframe\">\n",
       "  <thead>\n",
       "    <tr style=\"text-align: right;\">\n",
       "      <th></th>\n",
       "      <th>soma_joinid</th>\n",
       "      <th>feature_id</th>\n",
       "      <th>feature_name</th>\n",
       "      <th>feature_length</th>\n",
       "    </tr>\n",
       "  </thead>\n",
       "  <tbody>\n",
       "    <tr>\n",
       "      <th>0</th>\n",
       "      <td>0</td>\n",
       "      <td>ENSG00000121410</td>\n",
       "      <td>A1BG</td>\n",
       "      <td>3999</td>\n",
       "    </tr>\n",
       "    <tr>\n",
       "      <th>1</th>\n",
       "      <td>1</td>\n",
       "      <td>ENSG00000268895</td>\n",
       "      <td>A1BG-AS1</td>\n",
       "      <td>3374</td>\n",
       "    </tr>\n",
       "    <tr>\n",
       "      <th>2</th>\n",
       "      <td>2</td>\n",
       "      <td>ENSG00000148584</td>\n",
       "      <td>A1CF</td>\n",
       "      <td>9603</td>\n",
       "    </tr>\n",
       "    <tr>\n",
       "      <th>3</th>\n",
       "      <td>3</td>\n",
       "      <td>ENSG00000175899</td>\n",
       "      <td>A2M</td>\n",
       "      <td>6318</td>\n",
       "    </tr>\n",
       "    <tr>\n",
       "      <th>4</th>\n",
       "      <td>4</td>\n",
       "      <td>ENSG00000245105</td>\n",
       "      <td>A2M-AS1</td>\n",
       "      <td>2948</td>\n",
       "    </tr>\n",
       "  </tbody>\n",
       "</table>\n",
       "</div>"
      ],
      "text/plain": [
       "   soma_joinid       feature_id feature_name  feature_length\n",
       "0            0  ENSG00000121410         A1BG            3999\n",
       "1            1  ENSG00000268895     A1BG-AS1            3374\n",
       "2            2  ENSG00000148584         A1CF            9603\n",
       "3            3  ENSG00000175899          A2M            6318\n",
       "4            4  ENSG00000245105      A2M-AS1            2948"
      ]
     },
     "execution_count": 9,
     "metadata": {},
     "output_type": "execute_result"
    }
   ],
   "source": [
    "gene_metadata.head()"
   ]
  },
  {
   "cell_type": "code",
   "execution_count": 10,
   "metadata": {},
   "outputs": [
    {
     "name": "stdout",
     "output_type": "stream",
     "text": [
      "\u2757 \u001b[1;93m60664 terms\u001b[0m (100.00%) are not validated for \u001b[3mensembl_gene_id\u001b[0m: \u001b[1;93mENSG00000121410, ENSG00000268895, ENSG00000148584, ENSG00000175899, ENSG00000245105, ENSG00000166535, ENSG00000256661, ENSG00000184389, ENSG00000128274, ENSG00000118017, ENSG00000094914, ENSG00000081760, ENSG00000114771, ENSG00000197953, ENSG00000242908, ENSG00000188984, ENSG00000204518, ENSG00000109576, ENSG00000158122, ENSG00000103591, ...\u001b[0m\n",
      "   detected \u001b[1;93m60517 Gene terms\u001b[0m in Bionty for \u001b[3mensembl_gene_id\u001b[0m: \u001b[1;93m'ENSG00000221703', 'ENSG00000227593', 'ENSG00000207077', 'ENSG00000222658', 'ENSG00000272121', 'ENSG00000109272', 'ENSG00000264148', 'ENSG00000260532', 'ENSG00000286126', 'ENSG00000224671', 'ENSG00000053371', 'ENSG00000105364', 'ENSG00000263206', 'ENSG00000261765', 'ENSG00000251946', 'ENSG00000250928', 'ENSG00000258586', 'ENSG00000198815', 'ENSG00000252725', 'ENSG00000272148', ...\u001b[0m\n",
      "\u2192  add records from Bionty to your Gene registry via \u001b[3m.from_values()\u001b[0m\n",
      "   couldn't validate \u001b[1;91m147 terms\u001b[0m: \u001b[1;91m'ENSG00000137808', 'ENSG00000271409', 'ENSG00000278198', 'ENSG00000276814', 'ENSG00000272267', 'ENSG00000273837', 'ENSG00000273614', 'ENSG00000288639', 'ENSG00000280710', 'ENSG00000244693', 'ENSG00000261737', 'ENSG00000237838', 'ENSG00000228139', 'ENSG00000263464', 'ENSG00000231575', 'ENSG00000226403', 'ENSG00000272040', 'ENSG00000273923', 'ENSG00000270672', 'ENSG00000273370', ...\u001b[0m\n",
      "\u2192  if you are sure, create new records via \u001b[3mln.Gene()\u001b[0m and save to your registry\n"
     ]
    }
   ],
   "source": [
    "lb.Gene.inspect(gene_metadata[\"feature_id\"], field=lb.Gene.ensembl_gene_id);"
   ]
  },
  {
   "cell_type": "code",
   "execution_count": 11,
   "metadata": {},
   "outputs": [
    {
     "name": "stdout",
     "output_type": "stream",
     "text": [
      "\u2757 \u001b[1;91mdid not create\u001b[0m Gene records for \u001b[1;93m147 non-validated\u001b[0m \u001b[3mensembl_gene_ids\u001b[0m: \u001b[1;93m'ENSG00000112096', 'ENSG00000137808', 'ENSG00000161149', 'ENSG00000182230', 'ENSG00000203812', 'ENSG00000204092', 'ENSG00000205485', 'ENSG00000212951', 'ENSG00000215271', 'ENSG00000221995', 'ENSG00000224739', 'ENSG00000224745', 'ENSG00000225178', 'ENSG00000225932', 'ENSG00000226377', 'ENSG00000226380', 'ENSG00000226403', 'ENSG00000227021', 'ENSG00000227220', 'ENSG00000227902', ...\u001b[0m\n",
      "\u2757 \u001b[1;93m147 terms\u001b[0m (0.20%) are not validated for \u001b[3mensembl_gene_id\u001b[0m: \u001b[1;93mENSG00000285162, ENSG00000276814, ENSG00000282080, ENSG00000237513, ENSG00000239467, ENSG00000236886, ENSG00000273576, ENSG00000256427, ENSG00000272040, ENSG00000278198, ENSG00000273496, ENSG00000279765, ENSG00000224739, ENSG00000226380, ENSG00000285106, ENSG00000272551, ENSG00000237133, ENSG00000272267, ENSG00000271870, ENSG00000227902, ...\u001b[0m\n"
     ]
    }
   ],
   "source": [
    "# register genes from bionty\n",
    "gene_records = lb.Gene.from_values(\n",
    "    gene_metadata[\"feature_id\"], field=lb.Gene.ensembl_gene_id\n",
    ")\n",
    "ln.save(gene_records)\n",
    "\n",
    "validated = lb.Gene.validate(gene_metadata[\"feature_id\"], field=lb.Gene.ensembl_gene_id)\n",
    "# register legacy genes manually\n",
    "gene_metadata_id = gene_metadata.set_index(\"feature_id\")\n",
    "records = []\n",
    "for gene_id in gene_metadata[\"feature_id\"][~validated]:\n",
    "    records.append(\n",
    "        lb.Gene(\n",
    "            ensembl_gene_id=gene_id, symbol=gene_metadata_id.loc[gene_id].feature_name\n",
    "        )\n",
    "    )\n",
    "ln.save(records)"
   ]
  },
  {
   "cell_type": "code",
   "execution_count": 17,
   "metadata": {},
   "outputs": [],
   "source": [
    "gene_records = lb.Gene.from_values(\n",
    "    gene_metadata[\"feature_id\"], field=lb.Gene.ensembl_gene_id\n",
    ")\n",
    "\n",
    "feature_set = ln.FeatureSet(\n",
    "    features=gene_records,\n",
    "    name=\"all mouse genes in cellxgene-census RNA measurement\",\n",
    ")\n",
    "feature_set.save()"
   ]
  },
  {
   "cell_type": "markdown",
   "metadata": {},
   "source": [
    "## Observational metadata"
   ]
  },
  {
   "cell_type": "markdown",
   "metadata": {},
   "source": [
    "All available metadata columns:"
   ]
  },
  {
   "cell_type": "code",
   "execution_count": 14,
   "metadata": {},
   "outputs": [
    {
     "data": {
      "text/plain": [
       "('soma_joinid',\n",
       " 'dataset_id',\n",
       " 'assay',\n",
       " 'assay_ontology_term_id',\n",
       " 'cell_type',\n",
       " 'cell_type_ontology_term_id',\n",
       " 'development_stage',\n",
       " 'development_stage_ontology_term_id',\n",
       " 'disease',\n",
       " 'disease_ontology_term_id',\n",
       " 'donor_id',\n",
       " 'is_primary_data',\n",
       " 'self_reported_ethnicity',\n",
       " 'self_reported_ethnicity_ontology_term_id',\n",
       " 'sex',\n",
       " 'sex_ontology_term_id',\n",
       " 'suspension_type',\n",
       " 'tissue',\n",
       " 'tissue_ontology_term_id',\n",
       " 'tissue_general',\n",
       " 'tissue_general_ontology_term_id')"
      ]
     },
     "execution_count": 14,
     "metadata": {},
     "output_type": "execute_result"
    }
   ],
   "source": [
    "census_data.obs.keys()"
   ]
  },
  {
   "cell_type": "markdown",
   "metadata": {},
   "source": [
    "### Register features"
   ]
  },
  {
   "cell_type": "markdown",
   "metadata": {},
   "source": [
    "Register `obs` column names as features:"
   ]
  },
  {
   "cell_type": "code",
   "execution_count": 18,
   "metadata": {},
   "outputs": [],
   "source": [
    "features = []\n",
    "for col in census_data.obs.keys():\n",
    "    if col == \"soma_joinid\":\n",
    "        type = \"int\"\n",
    "    elif col == \"is_primary_data\":\n",
    "        type = \"bool\"\n",
    "    else:\n",
    "        type = \"category\"\n",
    "    features.append(ln.Feature(name=col, type=type))\n",
    "\n",
    "ln.save(features)"
   ]
  },
  {
   "cell_type": "markdown",
   "metadata": {},
   "source": [
    "Register a feature set for the obs columns:"
   ]
  },
  {
   "cell_type": "code",
   "execution_count": 19,
   "metadata": {},
   "outputs": [],
   "source": [
    "obs_featureset = ln.FeatureSet(features=features, name=\"census_data.obs.keys\")\n",
    "obs_featureset.save()"
   ]
  },
  {
   "cell_type": "code",
   "execution_count": 22,
   "metadata": {},
   "outputs": [
    {
     "data": {
      "text/plain": [
       "FeatureSet(id='J3X9iz6JBANjvgtZic0u', name='census_data.obs.keys', n=21, registry='core.Feature', hash='TvKFSa5acE9Qre4VRMDS', updated_at=2023-10-05 14:31:03, modality_id='FyZj4S3Z', created_by_id='kmvZDIX9')"
      ]
     },
     "execution_count": 22,
     "metadata": {},
     "output_type": "execute_result"
    }
   ],
   "source": [
    "obs_featureset"
   ]
  },
  {
   "cell_type": "code",
   "execution_count": 25,
   "metadata": {},
   "outputs": [],
   "source": [
    "features = ln.Feature.lookup(return_field=ln.Feature.name)\n",
    "features_records = ln.Feature.lookup()"
   ]
  },
  {
   "cell_type": "markdown",
   "metadata": {},
   "source": [
    "### Validate and register ontologies"
   ]
  },
  {
   "cell_type": "markdown",
   "metadata": {},
   "source": [
    "Fetch all terms used in census for each ontology:"
   ]
  },
  {
   "cell_type": "code",
   "execution_count": 9,
   "metadata": {},
   "outputs": [],
   "source": [
    "dfs = {}\n",
    "\n",
    "for cols in [\n",
    "    (features.assay, features.assay_ontology_term_id),\n",
    "    (features.cell_type, features.cell_type_ontology_term_id),\n",
    "    (features.development_stage, features.development_stage_ontology_term_id),\n",
    "    (features.disease, features.disease_ontology_term_id),\n",
    "    (\n",
    "        features.self_reported_ethnicity,\n",
    "        features.self_reported_ethnicity_ontology_term_id,\n",
    "    ),\n",
    "    (features.sex, features.sex_ontology_term_id),\n",
    "    (features.tissue, features.tissue_ontology_term_id),\n",
    "    (features.tissue_general, features.tissue_general_ontology_term_id),\n",
    "]:\n",
    "    dfs[cols[0]] = (\n",
    "        census_data.obs.read(column_names=[cols[0], cols[1]])\n",
    "        .concat()\n",
    "        .to_pandas()\n",
    "        .drop_duplicates()\n",
    "    )"
   ]
  },
  {
   "cell_type": "code",
   "execution_count": 18,
   "metadata": {},
   "outputs": [
    {
     "data": {
      "text/html": [
       "<div>\n",
       "<style scoped>\n",
       "    .dataframe tbody tr th:only-of-type {\n",
       "        vertical-align: middle;\n",
       "    }\n",
       "\n",
       "    .dataframe tbody tr th {\n",
       "        vertical-align: top;\n",
       "    }\n",
       "\n",
       "    .dataframe thead th {\n",
       "        text-align: right;\n",
       "    }\n",
       "</style>\n",
       "<table border=\"1\" class=\"dataframe\">\n",
       "  <thead>\n",
       "    <tr style=\"text-align: right;\">\n",
       "      <th></th>\n",
       "      <th>assay</th>\n",
       "      <th>assay_ontology_term_id</th>\n",
       "    </tr>\n",
       "  </thead>\n",
       "  <tbody>\n",
       "    <tr>\n",
       "      <th>0</th>\n",
       "      <td>10x 3' v3</td>\n",
       "      <td>EFO:0009922</td>\n",
       "    </tr>\n",
       "    <tr>\n",
       "      <th>31497</th>\n",
       "      <td>10x 3' v2</td>\n",
       "      <td>EFO:0009899</td>\n",
       "    </tr>\n",
       "    <tr>\n",
       "      <th>384893</th>\n",
       "      <td>10x 5' transcription profiling</td>\n",
       "      <td>EFO:0030004</td>\n",
       "    </tr>\n",
       "    <tr>\n",
       "      <th>655748</th>\n",
       "      <td>10x 5' v2</td>\n",
       "      <td>EFO:0009900</td>\n",
       "    </tr>\n",
       "    <tr>\n",
       "      <th>829647</th>\n",
       "      <td>Smart-seq2</td>\n",
       "      <td>EFO:0008931</td>\n",
       "    </tr>\n",
       "  </tbody>\n",
       "</table>\n",
       "</div>"
      ],
      "text/plain": [
       "                                 assay assay_ontology_term_id\n",
       "0                            10x 3' v3            EFO:0009922\n",
       "31497                        10x 3' v2            EFO:0009899\n",
       "384893  10x 5' transcription profiling            EFO:0030004\n",
       "655748                       10x 5' v2            EFO:0009900\n",
       "829647                      Smart-seq2            EFO:0008931"
      ]
     },
     "execution_count": 18,
     "metadata": {},
     "output_type": "execute_result"
    }
   ],
   "source": [
    "dfs[features.assay].head()"
   ]
  },
  {
   "cell_type": "code",
   "execution_count": 11,
   "metadata": {},
   "outputs": [],
   "source": [
    "def register_ontology(orm, name: str, parents: bool = True, **kwargs):\n",
    "    from lamin_utils import logger\n",
    "\n",
    "    df = dfs[name]\n",
    "    records = orm.from_values(\n",
    "        df[f\"{name}_ontology_term_id\"], field=orm.ontology_id, **kwargs\n",
    "    )\n",
    "    for record in records:\n",
    "        census_name = df[df[f\"{name}_ontology_term_id\"] == record.ontology_id][\n",
    "            name\n",
    "        ].tolist()[0]\n",
    "        if census_name != record.name:\n",
    "            logger.warning(\n",
    "                f\"census name '{census_name}' doesn't match ontology name\"\n",
    "                f\" '{record.name}', adding census name as abbr\\n\"\n",
    "            )\n",
    "            record.set_abbr(census_name)\n",
    "    name_with_schema = orm.__get_name_with_schema__()\n",
    "    feature = ln.Feature.filter(name=name).one()\n",
    "    feature.registries = name_with_schema\n",
    "    feature.save()\n",
    "    feature = ln.Feature.filter(name=f\"{name}_ontology_term_id\").one()\n",
    "    feature.registries = name_with_schema\n",
    "    feature.save()\n",
    "    ln.save(records, parents=parents)"
   ]
  },
  {
   "cell_type": "code",
   "execution_count": 20,
   "metadata": {
    "tags": [
     "hide-output"
    ]
   },
   "outputs": [
    {
     "name": "stdout",
     "output_type": "stream",
     "text": [
      "\u2757 now recursing through parents: this only happens once, but is much slower than bulk saving\n"
     ]
    }
   ],
   "source": [
    "register_ontology(lb.ExperimentalFactor, features.assay)"
   ]
  },
  {
   "cell_type": "code",
   "execution_count": 22,
   "metadata": {
    "tags": [
     "hide-output"
    ]
   },
   "outputs": [],
   "source": [
    "register_ontology(lb.CellType, features.cell_type)"
   ]
  },
  {
   "cell_type": "code",
   "execution_count": 13,
   "metadata": {
    "tags": [
     "hide-output"
    ]
   },
   "outputs": [
    {
     "name": "stdout",
     "output_type": "stream",
     "text": [
      "\u2757 \u001b[1;91mdid not create\u001b[0m DevelopmentalStage record for \u001b[1;93m1 non-validated\u001b[0m \u001b[3montology_id\u001b[0m: \u001b[1;93m'unknown'\u001b[0m\n",
      "\n",
      "\u2757 now recursing through parents: this only happens once, but is much slower than bulk saving\n"
     ]
    }
   ],
   "source": [
    "register_ontology(lb.DevelopmentalStage, features.development_stage)"
   ]
  },
  {
   "cell_type": "code",
   "execution_count": 34,
   "metadata": {},
   "outputs": [],
   "source": [
    "lb.DevelopmentalStage(name=\"unknown\").save()"
   ]
  },
  {
   "cell_type": "code",
   "execution_count": 24,
   "metadata": {
    "tags": [
     "hide-output"
    ]
   },
   "outputs": [
    {
     "name": "stdout",
     "output_type": "stream",
     "text": [
      "\u2757 \u001b[1;91mdid not create\u001b[0m Disease record for \u001b[1;93m1 non-validated\u001b[0m \u001b[3montology_id\u001b[0m: \u001b[1;93m'PATO:0000461'\u001b[0m\n",
      "\u2757 now recursing through parents: this only happens once, but is much slower than bulk saving\n"
     ]
    }
   ],
   "source": [
    "register_ontology(lb.Disease, features.disease)"
   ]
  },
  {
   "cell_type": "markdown",
   "metadata": {},
   "source": [
    "'PATO:0000461' is a term for \"normal\" which can be typed with `Phenotype`:"
   ]
  },
  {
   "cell_type": "code",
   "execution_count": 23,
   "metadata": {},
   "outputs": [
    {
     "name": "stdout",
     "output_type": "stream",
     "text": [
      "\u2757 records with similar names exist! did you mean to load one of them?\n"
     ]
    },
    {
     "data": {
      "text/html": [
       "<div>\n",
       "<style scoped>\n",
       "    .dataframe tbody tr th:only-of-type {\n",
       "        vertical-align: middle;\n",
       "    }\n",
       "\n",
       "    .dataframe tbody tr th {\n",
       "        vertical-align: top;\n",
       "    }\n",
       "\n",
       "    .dataframe thead th {\n",
       "        text-align: right;\n",
       "    }\n",
       "</style>\n",
       "<table border=\"1\" class=\"dataframe\">\n",
       "  <thead>\n",
       "    <tr style=\"text-align: right;\">\n",
       "      <th></th>\n",
       "      <th>id</th>\n",
       "      <th>synonyms</th>\n",
       "      <th>__ratio__</th>\n",
       "    </tr>\n",
       "    <tr>\n",
       "      <th>name</th>\n",
       "      <th></th>\n",
       "      <th></th>\n",
       "      <th></th>\n",
       "    </tr>\n",
       "  </thead>\n",
       "  <tbody>\n",
       "    <tr>\n",
       "      <th>adenocarcinoma</th>\n",
       "      <td>O8eOaxZg</td>\n",
       "      <td>adenocarcinoma NOS (morphologic abnormality)|a...</td>\n",
       "      <td>90.0</td>\n",
       "    </tr>\n",
       "    <tr>\n",
       "      <th>clear cell adenocarcinoma</th>\n",
       "      <td>LSTAbvaz</td>\n",
       "      <td>water-clear cell adenocarcinoma (morphologic a...</td>\n",
       "      <td>90.0</td>\n",
       "    </tr>\n",
       "    <tr>\n",
       "      <th>malignant mixed neoplasm</th>\n",
       "      <td>rHqZ9FK3</td>\n",
       "      <td>malignant mixed cancer|malignant mixed tumor|m...</td>\n",
       "      <td>90.0</td>\n",
       "    </tr>\n",
       "    <tr>\n",
       "      <th>pleomorphic carcinoma</th>\n",
       "      <td>qQPlOaeZ</td>\n",
       "      <td>pleomorphic carcinoma (morphologic abnormality...</td>\n",
       "      <td>90.0</td>\n",
       "    </tr>\n",
       "    <tr>\n",
       "      <th>sarcomatoid carcinoma</th>\n",
       "      <td>gaS0O3ee</td>\n",
       "      <td>spindle cell carcinoma (morphologic abnormalit...</td>\n",
       "      <td>90.0</td>\n",
       "    </tr>\n",
       "  </tbody>\n",
       "</table>\n",
       "</div>"
      ],
      "text/plain": [
       "                                 id  \\\n",
       "name                                  \n",
       "adenocarcinoma             O8eOaxZg   \n",
       "clear cell adenocarcinoma  LSTAbvaz   \n",
       "malignant mixed neoplasm   rHqZ9FK3   \n",
       "pleomorphic carcinoma      qQPlOaeZ   \n",
       "sarcomatoid carcinoma      gaS0O3ee   \n",
       "\n",
       "                                                                    synonyms  \\\n",
       "name                                                                           \n",
       "adenocarcinoma             adenocarcinoma NOS (morphologic abnormality)|a...   \n",
       "clear cell adenocarcinoma  water-clear cell adenocarcinoma (morphologic a...   \n",
       "malignant mixed neoplasm   malignant mixed cancer|malignant mixed tumor|m...   \n",
       "pleomorphic carcinoma      pleomorphic carcinoma (morphologic abnormality...   \n",
       "sarcomatoid carcinoma      spindle cell carcinoma (morphologic abnormalit...   \n",
       "\n",
       "                           __ratio__  \n",
       "name                                  \n",
       "adenocarcinoma                  90.0  \n",
       "clear cell adenocarcinoma       90.0  \n",
       "malignant mixed neoplasm        90.0  \n",
       "pleomorphic carcinoma           90.0  \n",
       "sarcomatoid carcinoma           90.0  "
      ]
     },
     "metadata": {},
     "output_type": "display_data"
    }
   ],
   "source": [
    "pato = lb.BiontySource.filter(source=\"pato\").one()\n",
    "normal_record = lb.Phenotype.from_bionty(ontology_id=\"PATO:0000461\", bionty_source=pato)\n",
    "lb.Disease(\n",
    "    name=normal_record.name,\n",
    "    ontology_id=normal_record.ontology_id,\n",
    "    description=normal_record.description,\n",
    "    bionty_source_id=normal_record.bionty_source_id,\n",
    ").save()"
   ]
  },
  {
   "cell_type": "code",
   "execution_count": 26,
   "metadata": {
    "tags": [
     "hide-output"
    ]
   },
   "outputs": [
    {
     "name": "stdout",
     "output_type": "stream",
     "text": [
      "\u2757 \u001b[1;91mdid not create\u001b[0m Ethnicity records for \u001b[1;93m2 non-validated\u001b[0m \u001b[3montology_ids\u001b[0m: \u001b[1;93m'multiethnic', 'unknown'\u001b[0m\n",
      "\u2757 census name 'Greater Middle Eastern  (Middle Eastern, North African or Persian)' doesn't match ontology name 'Greater Middle Eastern  (Middle Eastern or North African or Persian)', adding census name as a synonym\n",
      "\n",
      "\u2757 now recursing through parents: this only happens once, but is much slower than bulk saving\n"
     ]
    }
   ],
   "source": [
    "register_ontology(lb.Ethnicity, features.self_reported_ethnicity)"
   ]
  },
  {
   "cell_type": "markdown",
   "metadata": {},
   "source": [
    "Let's manually add two terms to the Ethnicity registry:"
   ]
  },
  {
   "cell_type": "code",
   "execution_count": 27,
   "metadata": {},
   "outputs": [],
   "source": [
    "lb.Ethnicity(name=\"multiethnic\").save()\n",
    "lb.Ethnicity(name=\"unknown\").save()"
   ]
  },
  {
   "cell_type": "code",
   "execution_count": 28,
   "metadata": {},
   "outputs": [
    {
     "name": "stdout",
     "output_type": "stream",
     "text": [
      "\u2757 \u001b[1;91mdid not create\u001b[0m Phenotype record for \u001b[1;93m1 non-validated\u001b[0m \u001b[3montology_id\u001b[0m: \u001b[1;93m'unknown'\u001b[0m\n"
     ]
    }
   ],
   "source": [
    "register_ontology(lb.Phenotype, features.sex, parents=False, bionty_source=pato)"
   ]
  },
  {
   "cell_type": "code",
   "execution_count": 29,
   "metadata": {},
   "outputs": [],
   "source": [
    "lb.Phenotype(name=\"unknown\").save()"
   ]
  },
  {
   "cell_type": "code",
   "execution_count": 30,
   "metadata": {
    "tags": [
     "hide-output"
    ]
   },
   "outputs": [
    {
     "name": "stdout",
     "output_type": "stream",
     "text": [
      "\u2757 now recursing through parents: this only happens once, but is much slower than bulk saving\n"
     ]
    }
   ],
   "source": [
    "register_ontology(lb.Tissue, features.tissue_general)"
   ]
  },
  {
   "cell_type": "code",
   "execution_count": 31,
   "metadata": {
    "tags": [
     "hide-output"
    ]
   },
   "outputs": [
    {
     "name": "stdout",
     "output_type": "stream",
     "text": [
      "\u2757 now recursing through parents: this only happens once, but is much slower than bulk saving\n"
     ]
    }
   ],
   "source": [
    "register_ontology(lb.Tissue, features.tissue)"
   ]
  },
  {
   "cell_type": "markdown",
   "metadata": {},
   "source": [
    "### Validate and register non-ontological metadata"
   ]
  },
  {
   "cell_type": "markdown",
   "metadata": {},
   "source": [
    "\"donor_id\" and \"suspension_type\" are two fields without public ontologies, let's register them using \"ULabel\":"
   ]
  },
  {
   "cell_type": "code",
   "execution_count": 35,
   "metadata": {},
   "outputs": [],
   "source": [
    "features_records.donor_id.registries = ln.ULabel.__get_name_with_schema__()\n",
    "features_records.donor_id.save()\n",
    "features_records.suspension_type.registries = ln.ULabel.__get_name_with_schema__()\n",
    "features_records.suspension_type.save()"
   ]
  },
  {
   "cell_type": "code",
   "execution_count": 26,
   "metadata": {},
   "outputs": [],
   "source": [
    "donor_ids = (\n",
    "    census_data.obs.read(column_names=[features.donor_id])\n",
    "    .concat()\n",
    "    .to_pandas()\n",
    "    .drop_duplicates()\n",
    ")"
   ]
  },
  {
   "cell_type": "code",
   "execution_count": null,
   "metadata": {},
   "outputs": [],
   "source": [
    "records = []\n",
    "for donor_id in donor_ids[features.donor_id].unique():\n",
    "    record = ln.ULabel(\n",
    "        name=donor_id, description=f\"human {features.donor_id}: {donor_id}\"\n",
    "    )\n",
    "    records.append(record)\n",
    "\n",
    "ln.save(records)"
   ]
  },
  {
   "cell_type": "markdown",
   "metadata": {},
   "source": [
    "Construct a parent \"is_donor\" to group these ulabels:"
   ]
  },
  {
   "cell_type": "code",
   "execution_count": 48,
   "metadata": {},
   "outputs": [],
   "source": [
    "is_donor = ln.ULabel(name=\"is_donor\", description=\"parent of donor ids\")\n",
    "is_donor.save()\n",
    "is_donor.children.set(records)"
   ]
  },
  {
   "cell_type": "markdown",
   "metadata": {},
   "source": [
    "We do the same for \"suspension_type\":"
   ]
  },
  {
   "cell_type": "code",
   "execution_count": 49,
   "metadata": {},
   "outputs": [
    {
     "name": "stdout",
     "output_type": "stream",
     "text": [
      "\u2757 records with similar names exist! did you mean to load one of them?\n"
     ]
    },
    {
     "data": {
      "text/html": [
       "<div>\n",
       "<style scoped>\n",
       "    .dataframe tbody tr th:only-of-type {\n",
       "        vertical-align: middle;\n",
       "    }\n",
       "\n",
       "    .dataframe tbody tr th {\n",
       "        vertical-align: top;\n",
       "    }\n",
       "\n",
       "    .dataframe thead th {\n",
       "        text-align: right;\n",
       "    }\n",
       "</style>\n",
       "<table border=\"1\" class=\"dataframe\">\n",
       "  <thead>\n",
       "    <tr style=\"text-align: right;\">\n",
       "      <th></th>\n",
       "      <th>id</th>\n",
       "      <th>__ratio__</th>\n",
       "    </tr>\n",
       "    <tr>\n",
       "      <th>name</th>\n",
       "      <th></th>\n",
       "      <th></th>\n",
       "    </tr>\n",
       "  </thead>\n",
       "  <tbody>\n",
       "    <tr>\n",
       "      <th>Emphysema Cell Atlas</th>\n",
       "      <td>EpGwiqdy</td>\n",
       "      <td>90.0</td>\n",
       "    </tr>\n",
       "    <tr>\n",
       "      <th>Human breast cell atlas</th>\n",
       "      <td>sxRX6DQT</td>\n",
       "      <td>90.0</td>\n",
       "    </tr>\n",
       "    <tr>\n",
       "      <th>Cells of the adult human heart</th>\n",
       "      <td>brx2R5s8</td>\n",
       "      <td>90.0</td>\n",
       "    </tr>\n",
       "  </tbody>\n",
       "</table>\n",
       "</div>"
      ],
      "text/plain": [
       "                                      id  __ratio__\n",
       "name                                               \n",
       "Emphysema Cell Atlas            EpGwiqdy       90.0\n",
       "Human breast cell atlas         sxRX6DQT       90.0\n",
       "Cells of the adult human heart  brx2R5s8       90.0"
      ]
     },
     "metadata": {},
     "output_type": "display_data"
    }
   ],
   "source": [
    "suspension_types = (\n",
    "    census_data.obs.read(column_names=[features.suspension_type])\n",
    "    .concat()\n",
    "    .to_pandas()\n",
    "    .drop_duplicates()\n",
    ")\n",
    "\n",
    "records = []\n",
    "for suspension_type in suspension_types[features.suspension_type].unique():\n",
    "    record = ln.ULabel(\n",
    "        name=suspension_type,\n",
    "        description=f\"{features.suspension_type}: {suspension_type}\",\n",
    "    )\n",
    "    records.append(record)\n",
    "\n",
    "ln.save(records)\n",
    "\n",
    "is_suspension_type = ln.ULabel(\n",
    "    name=\"is_suspension_type\", description=\"parent of suspension types\"\n",
    ")\n",
    "is_suspension_type.save()\n",
    "is_suspension_type.children.set(records)"
   ]
  },
  {
   "cell_type": "code",
   "execution_count": 50,
   "metadata": {},
   "outputs": [
    {
     "data": {
      "image/svg+xml": [
       "<?xml version=\"1.0\" encoding=\"UTF-8\" standalone=\"no\"?>\n",
       "<!DOCTYPE svg PUBLIC \"-//W3C//DTD SVG 1.1//EN\"\n",
       " \"http://www.w3.org/Graphics/SVG/1.1/DTD/svg11.dtd\">\n",
       "<!-- Generated by graphviz version 8.1.0 (20230707.0739)\n",
       " -->\n",
       "<!-- Title: TYoPsemI Pages: 1 -->\n",
       "<svg width=\"134pt\" height=\"116pt\"\n",
       " viewBox=\"0.00 0.00 134.00 116.00\" xmlns=\"http://www.w3.org/2000/svg\" xmlns:xlink=\"http://www.w3.org/1999/xlink\">\n",
       "<g id=\"graph0\" class=\"graph\" transform=\"scale(1 1) rotate(0) translate(4 112)\">\n",
       "<title>TYoPsemI</title>\n",
       "<polygon fill=\"white\" stroke=\"none\" points=\"-4,4 -4,-112 130,-112 130,4 -4,4\"/>\n",
       "<!-- TYoPsemI -->\n",
       "<g id=\"node1\" class=\"node\">\n",
       "<title>TYoPsemI</title>\n",
       "<path fill=\"#10b981\" stroke=\"#065f46\" d=\"M102.12,-108C102.12,-108 23.88,-108 23.88,-108 17.88,-108 11.88,-102 11.88,-96 11.88,-96 11.88,-84 11.88,-84 11.88,-78 17.88,-72 23.88,-72 23.88,-72 102.12,-72 102.12,-72 108.12,-72 114.12,-78 114.12,-84 114.12,-84 114.12,-96 114.12,-96 114.12,-102 108.12,-108 102.12,-108\"/>\n",
       "<text text-anchor=\"middle\" x=\"63\" y=\"-86.12\" font-family=\"Helvetica,sans-Serif\" font-size=\"10.00\">is_suspension_type</text>\n",
       "</g>\n",
       "<!-- AGjoHATa -->\n",
       "<g id=\"node2\" class=\"node\">\n",
       "<title>AGjoHATa</title>\n",
       "<path fill=\"honeydew\" stroke=\"#065f46\" d=\"M42,-36C42,-36 12,-36 12,-36 6,-36 0,-30 0,-24 0,-24 0,-12 0,-12 0,-6 6,0 12,0 12,0 42,0 42,0 48,0 54,-6 54,-12 54,-12 54,-24 54,-24 54,-30 48,-36 42,-36\"/>\n",
       "<text text-anchor=\"middle\" x=\"27\" y=\"-14.12\" font-family=\"Helvetica,sans-Serif\" font-size=\"10.00\">nucleus</text>\n",
       "</g>\n",
       "<!-- TYoPsemI&#45;&gt;AGjoHATa -->\n",
       "<g id=\"edge1\" class=\"edge\">\n",
       "<title>TYoPsemI&#45;&gt;AGjoHATa</title>\n",
       "<path fill=\"none\" stroke=\"dimgrey\" d=\"M54.1,-71.7C49.39,-62.54 43.56,-51.19 38.51,-41.38\"/>\n",
       "<polygon fill=\"dimgrey\" stroke=\"dimgrey\" points=\"39.64,-40.75 35.8,-37.1 36.53,-42.35 39.64,-40.75\"/>\n",
       "</g>\n",
       "<!-- me4qYHoA -->\n",
       "<g id=\"node3\" class=\"node\">\n",
       "<title>me4qYHoA</title>\n",
       "<path fill=\"honeydew\" stroke=\"#065f46\" d=\"M114,-36C114,-36 84,-36 84,-36 78,-36 72,-30 72,-24 72,-24 72,-12 72,-12 72,-6 78,0 84,0 84,0 114,0 114,0 120,0 126,-6 126,-12 126,-12 126,-24 126,-24 126,-30 120,-36 114,-36\"/>\n",
       "<text text-anchor=\"middle\" x=\"99\" y=\"-14.12\" font-family=\"Helvetica,sans-Serif\" font-size=\"10.00\">cell</text>\n",
       "</g>\n",
       "<!-- TYoPsemI&#45;&gt;me4qYHoA -->\n",
       "<g id=\"edge2\" class=\"edge\">\n",
       "<title>TYoPsemI&#45;&gt;me4qYHoA</title>\n",
       "<path fill=\"none\" stroke=\"dimgrey\" d=\"M71.9,-71.7C76.61,-62.54 82.44,-51.19 87.49,-41.38\"/>\n",
       "<polygon fill=\"dimgrey\" stroke=\"dimgrey\" points=\"89.47,-42.35 90.2,-37.1 86.36,-40.75 89.47,-42.35\"/>\n",
       "</g>\n",
       "</g>\n",
       "</svg>\n"
      ],
      "text/plain": [
       "<graphviz.graphs.Digraph at 0x17c658940>"
      ]
     },
     "metadata": {},
     "output_type": "display_data"
    }
   ],
   "source": [
    "is_suspension_type.view_parents(with_children=True)"
   ]
  },
  {
   "cell_type": "code",
   "execution_count": 51,
   "metadata": {},
   "outputs": [],
   "source": [
    "census.close()"
   ]
  }
 ],
 "metadata": {
  "kernelspec": {
   "display_name": "py39",
   "language": "python",
   "name": "python3"
  },
  "language_info": {
   "codemirror_mode": {
    "name": "ipython",
    "version": 3
   },
   "file_extension": ".py",
   "mimetype": "text/x-python",
   "name": "python",
   "nbconvert_exporter": "python",
   "pygments_lexer": "ipython3",
   "version": "3.9.16"
  },
  "nbproject": {
   "id": "wJfHkfyRK0Gp",
   "parent": null,
   "pypackage": null,
   "time_init": "2023-09-19T13:16:43.147615+00:00",
   "user_handle": null,
   "user_id": null,
   "user_name": null,
   "version": "1"
  },
  "orig_nbformat": 4
 },
 "nbformat": 4,
 "nbformat_minor": 2
}
