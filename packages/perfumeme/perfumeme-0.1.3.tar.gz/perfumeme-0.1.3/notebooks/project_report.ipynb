{
 "cells": [
  {
   "cell_type": "markdown",
   "id": "c42b30d6",
   "metadata": {},
   "source": [
    "# Welcome to __FRAGRANCEme.py__\n",
    "\n",
    "## Introduction\n",
    "Perfumes are a part of our everyday lives—whether it’s a subtle floral hint or a bold, spicy statement, most people have a signature scent that others come to recognize them by. But have you ever wondered what’s actually in your favorite fragrance? Perfumes are complex mixtures of countless molecules, and each one plays a unique role in shaping the scent you love.\n",
    "\n",
    "So how can you figure out which molecule is responsible for that special note in your perfume? And once you have a molecule in mind, how do you know if it’s safe, aromatic, or even used in other fragrances?\n",
    "\n",
    "Meet __FRAGRANCEme.py__, — a Python package that helps demystify the chemistry behind your scent. Simply input a molecule, and the tool will tell you:\n",
    "\n",
    "- Whether the molecule is fragrant or toxic\n",
    "- Its key physical properties, such as boiling point\n",
    "- How it evaporates over time, via an evaporation model\n",
    "- And best of all, which perfumes (when data allows) contain that exact molecule\n",
    "\n",
    "Unlock the secrets behind the scents — one molecule at a time.\n",
    "\n",
    "The main chemistry involved is..."
   ]
  },
  {
   "cell_type": "markdown",
   "id": "2bd6b122",
   "metadata": {},
   "source": [
    "## Material and methods\n",
    "Creating this package involved nee"
   ]
  },
  {
   "cell_type": "markdown",
   "id": "5df66441",
   "metadata": {},
   "source": [
    "## Results and discussion\n",
    "\n",
    "### Does it smell?\n",
    "\n",
    "The first step was\n",
    "\n",
    "- wanted database with all molecules -> way too many, would be too heavy and not possible to do a search of all molecules in the world. Instead for some functions, go directly on the web. If don't know SMILES, database with most common molecules in perfumes\n",
    "- database with most common molecules and their smiles\n",
    "- database with 29 perfumes and which molecules they contain\n",
    "- database with odor of these most common molecules -> maybe just put it in the smiles database?"
   ]
  }
 ],
 "metadata": {
  "language_info": {
   "name": "python"
  }
 },
 "nbformat": 4,
 "nbformat_minor": 5
}
