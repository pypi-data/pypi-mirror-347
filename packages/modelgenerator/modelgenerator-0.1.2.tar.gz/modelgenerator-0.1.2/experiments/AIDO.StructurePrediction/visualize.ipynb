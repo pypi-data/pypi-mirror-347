{
 "cells": [
  {
   "cell_type": "markdown",
   "id": "b27e89a6-0629-4939-bb45-cdfaacdaf4e7",
   "metadata": {},
   "source": [
    "# Install dependencies\n",
    "### (might need to reload Jupyter for widgets to show properly)"
   ]
  },
  {
   "cell_type": "code",
   "execution_count": null,
   "id": "ac1f8f8a",
   "metadata": {},
   "outputs": [],
   "source": [
    "!pip install py3Dmol\n",
    "!pip install ipywidgets"
   ]
  },
  {
   "cell_type": "markdown",
   "id": "38b592f0-2312-4de6-9279-928c92f21d63",
   "metadata": {},
   "source": [
    "## Helper functions"
   ]
  },
  {
   "cell_type": "code",
   "execution_count": null,
   "id": "51872666-3146-43fa-a4a1-f2e4f3cc9e2d",
   "metadata": {},
   "outputs": [],
   "source": [
    "import py3Dmol\n",
    "import json\n",
    "import ipywidgets as widgets\n",
    "from IPython.display import display, clear_output, HTML\n",
    "\n",
    "labels = [\n",
    "    \"0: Nanobody\",\n",
    "    \"1: Heavy Chain + Light Chain\",\n",
    "    \"2: Riboswitch + nucleoside precursor\",\n",
    "    \"3: tRNA\",\n",
    "    \"4: Enzyme catalytic domain + Nanobody\",\n",
    "    \"5: Enzyme + small molecule inhibitor\",\n",
    "    \"6: Bacterial enzyme\",\n",
    "    \"7: Nanobody + Protein\",\n",
    "    \"8: Fab + antibody-binding epitope\"\n",
    "]\n",
    "\n",
    "# Display\n",
    "def display_complex_cif(file_path, width=800, height=600):\n",
    "    with open(file_path, 'r') as f:\n",
    "        cif_data = f.read()\n",
    "    \n",
    "    view = py3Dmol.view(width=width, height=height)\n",
    "    view.addModel(cif_data, \"cif\")\n",
    "\n",
    "    view.setStyle({'chain': 'A0'}, {'cartoon': {'color': '#f5ae4c'}})\n",
    "    view.setStyle({'chain': 'B0'}, {'cartoon': {'color': '#58db9a'}})\n",
    "    view.setStyle({'chain': 'C0'}, {'cartoon': {'color': '#a887de'}})\n",
    "    \n",
    "    # Highlight ligands / small molecules\n",
    "    view.setStyle({'hetflag': True}, {'stick': {'colorscheme': 'greenCarbon'}, 'sphere': {'radius': 0.3}})\n",
    "\n",
    "    view.zoomTo()\n",
    "    return view._make_html()\n",
    "\n",
    "# Widget callback\n",
    "def on_select(change):\n",
    "    with viewer_output:\n",
    "        clear_output(wait=True)\n",
    "        html = display_complex_cif(label_to_cif[change['new']])\n",
    "        display(HTML(html))\n",
    "\n",
    "viewer_output = widgets.Output()\n",
    "\n",
    "dropdown = widgets.Dropdown(\n",
    "    options=labels,\n",
    "    value=labels[0],\n",
    "    description='Structure:',\n",
    "    layout=widgets.Layout(width='80%')\n",
    ")\n",
    "\n",
    "dropdown.observe(on_select, names='value')"
   ]
  },
  {
   "cell_type": "markdown",
   "id": "1193e6a9-1d0a-413d-99f2-2bac5ff6e6f0",
   "metadata": {},
   "source": [
    "## Load inference results"
   ]
  },
  {
   "cell_type": "code",
   "execution_count": null,
   "id": "77c15f7b",
   "metadata": {},
   "outputs": [],
   "source": [
    "with open('examples/example.json', 'r') as f:\n",
    "    jobs = json.load(f)\n",
    "\n",
    "# Construct labels and file paths\n",
    "results = [job['name'] for job in jobs]\n",
    "\n",
    "# Map labels to file paths\n",
    "label_to_cif = {\n",
    "    label: f'scripts/outputs/example-1234/{name}/seed_1234/predictions/{name}_seed_1234_sample_0.cif'\n",
    "    for label, name in zip(labels, results)\n",
    "}"
   ]
  },
  {
   "cell_type": "markdown",
   "id": "7f8c4363-32c0-417c-8b9d-154d6393836b",
   "metadata": {},
   "source": [
    "## Display results"
   ]
  },
  {
   "cell_type": "code",
   "execution_count": null,
   "id": "e49a6e19-350c-478e-aa7c-448f8f702664",
   "metadata": {},
   "outputs": [],
   "source": [
    "# 0: Nanobody\n",
    "# 1: Heavy Chain + Light Chain\n",
    "# 2: Riboswitch + nucleoside precursor\n",
    "# 3: tRNA\n",
    "# 4: Enzyme catalytic domain + Nanobody\n",
    "# 5: Enzyme + small molecule inhibitor\n",
    "# 6: Bacterial enzyme\n",
    "# 7: Nanobody + Protein\n",
    "# 8: Fab + antibody-binding epitope\n",
    "\n",
    "display(dropdown)\n",
    "with viewer_output:\n",
    "    html = display_complex_cif(label_to_cif[labels[0]])\n",
    "    display(HTML(html))\n",
    "display(viewer_output)\n",
    "# If you see a warning \"'3Dmol.js failed to load\", \n",
    "# just select another structure then come back to the first one."
   ]
  }
 ],
 "metadata": {
  "kernelspec": {
   "display_name": "Python 3",
   "language": "python",
   "name": "python3"
  },
  "language_info": {
   "codemirror_mode": {
    "name": "ipython",
    "version": 3
   },
   "file_extension": ".py",
   "mimetype": "text/x-python",
   "name": "python",
   "nbconvert_exporter": "python",
   "pygments_lexer": "ipython3",
   "version": "3.11.12"
  }
 },
 "nbformat": 4,
 "nbformat_minor": 5
}
