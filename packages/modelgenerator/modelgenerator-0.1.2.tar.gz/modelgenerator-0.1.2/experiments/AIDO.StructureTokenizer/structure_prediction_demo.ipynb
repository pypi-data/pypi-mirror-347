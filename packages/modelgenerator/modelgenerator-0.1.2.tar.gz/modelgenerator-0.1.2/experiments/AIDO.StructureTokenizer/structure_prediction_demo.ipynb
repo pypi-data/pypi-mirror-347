{
 "cells": [
  {
   "cell_type": "code",
   "execution_count": null,
   "metadata": {},
   "outputs": [],
   "source": [
    "!rm -rf tmp # cleaning up is necessary because the decoder will skip already existing files\n",
    "!mkdir -p tmp\n",
    "%cd tmp"
   ]
  },
  {
   "cell_type": "code",
   "execution_count": null,
   "metadata": {},
   "outputs": [],
   "source": [
    "# Get the sequence for structure prediction\n",
    "from modelgenerator.structure_tokenizer.datasets.protein import Protein\n",
    "from modelgenerator.structure_tokenizer.utils.constants import residue_constants as RC\n",
    "\n",
    "# 6vxx A chain\n",
    "pdb_id, chain_id = '6vxx', 'A'\n",
    "!wget -qnc https://files.rcsb.org/download/{pdb_id}.pdb\n",
    "\n",
    "aatype_tensor = Protein.from_pdb_file_path(f'{pdb_id}.pdb', chain_id).aatype\n",
    "seq = \"\".join(list(RC.restype_1to3)[i] for i in aatype_tensor)\n",
    "seq"
   ]
  },
  {
   "cell_type": "code",
   "execution_count": null,
   "metadata": {},
   "outputs": [],
   "source": [
    "# dump the sequence to a csv file\n",
    "import pandas as pd\n",
    "\n",
    "df = pd.DataFrame(data={\"idx\": [0], \"aa_seq\": [seq], \"seq_len\": [len(seq)]})\n",
    "df.to_csv(\"tmp.csv\", index=False)"
   ]
  },
  {
   "cell_type": "code",
   "execution_count": null,
   "metadata": {},
   "outputs": [],
   "source": [
    "# language model: amino acid sequence -> structure tokens\n",
    "!WANDB_MODE=dryrun mgen predict --config ../protein2structoken_16b.yaml \\\n",
    "            --data.init_args.path \"csv\" \\\n",
    "            --data.init_args.test_split_files [\"tmp.csv\"]"
   ]
  },
  {
   "cell_type": "code",
   "execution_count": null,
   "metadata": {},
   "outputs": [],
   "source": [
    "# post process\n",
    "!python ../struct_token_format_conversion.py logs/protein2structoken_16b/predict_predictions.tsv logs/protein2structoken_16b/predict_predictions.pt\n",
    "!python ../extract_structure_tokenizer_codebook.py --output_path logs/protein2structoken_16b/codebook.pt"
   ]
  },
  {
   "cell_type": "code",
   "execution_count": null,
   "metadata": {},
   "outputs": [],
   "source": [
    "# Decode: structure tokens -> 3D coordinates\n",
    "!WANDB_MODE=dryrun CUDA_VISIBLE_DEVICES=0 mgen predict --config ../decode.yaml \\\n",
    " --data.init_args.config.struct_tokens_datasets_configs.name=protein2structoken_16b \\\n",
    " --data.init_args.config.struct_tokens_datasets_configs.struct_tokens_path=./logs/protein2structoken_16b/predict_predictions.pt \\\n",
    " --data.init_args.config.struct_tokens_datasets_configs.codebook_path=./logs/protein2structoken_16b/codebook.pt"
   ]
  },
  {
   "cell_type": "code",
   "execution_count": null,
   "metadata": {},
   "outputs": [],
   "source": [
    "# install visualization tool\n",
    "!pip install py3Dmol -q\n",
    "import py3Dmol"
   ]
  },
  {
   "cell_type": "code",
   "execution_count": null,
   "metadata": {},
   "outputs": [],
   "source": [
    "# visualize the prediction and the ground truth\n",
    "def visualize(file):\n",
    "    view = py3Dmol.view(query='pdb')\n",
    "    with open(file, 'r') as f:\n",
    "        view.addModel(f.read(), 'pdb')\n",
    "    view.setStyle({'cartoon': {'color': 'spectrum'}})\n",
    "    view.zoomTo()\n",
    "    view.show()\n",
    "\n",
    "prediction = \"logs/protstruct_decode/protein2structoken_16b_pdb_files/0__output.pdb\"\n",
    "ground_truth = f\"{pdb_id}_{chain_id}.pdb\"\n",
    "# drop the additional chain in the ground truth before visualization\n",
    "Protein.from_pdb_file_path(f'{pdb_id}.pdb', chain_id).to_pdb(f\"{pdb_id}_{chain_id}.pdb\")\n",
    "\n",
    "print(\"Ground truth:\")\n",
    "visualize(f\"{pdb_id}_{chain_id}.pdb\")\n",
    "print(\"Prediction:\")\n",
    "visualize(prediction)"
   ]
  },
  {
   "cell_type": "code",
   "execution_count": null,
   "metadata": {},
   "outputs": [],
   "source": []
  }
 ],
 "metadata": {
  "kernelspec": {
   "display_name": "mgen",
   "language": "python",
   "name": "python3"
  },
  "language_info": {
   "codemirror_mode": {
    "name": "ipython",
    "version": 3
   },
   "file_extension": ".py",
   "mimetype": "text/x-python",
   "name": "python",
   "nbconvert_exporter": "python",
   "pygments_lexer": "ipython3",
   "version": "3.10.16"
  }
 },
 "nbformat": 4,
 "nbformat_minor": 2
}
