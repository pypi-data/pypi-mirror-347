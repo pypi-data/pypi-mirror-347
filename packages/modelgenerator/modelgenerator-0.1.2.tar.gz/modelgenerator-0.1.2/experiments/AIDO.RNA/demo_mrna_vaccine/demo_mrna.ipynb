{
 "cells": [
  {
   "cell_type": "markdown",
   "metadata": {},
   "source": [
    "# Designing an mRNA Vaccine with AIDO.ModelGenerator\n",
    "\n",
    "This demo walks through the core functionality of AIDO.ModelGenerator, and shows how it provides access to multiple foundation models for complex biological applications."
   ]
  },
  {
   "cell_type": "markdown",
   "metadata": {},
   "source": [
    "# AIDO.ModelGenerator Core Design-Build-Test Cycles\n",
    "\n",
    "AIDO.ModelGenerator provides a simple but highly customizeable framework for adapting, applying, and evaluating foundation models. See the [documentation](https://genbio-ai.github.io/ModelGenerator/) to deep-dive on any individual component. The core design-build-test cycle starts with fitting a model.\n",
    "\n",
    "`mgen fit` allows you to quickly start finetune a model by providing \n",
    "- a foundation model backbone (e.g. aido_dna_dummy for debuggin here),\n",
    "- a dataset (e.g. TranslationEfficiency),\n",
    "- and a task to connect the two (e.g. SequenceRegression).\n",
    "\n",
    "It handles all the heavy lifting and hardware coordination under the hood."
   ]
  },
  {
   "cell_type": "code",
   "execution_count": null,
   "metadata": {},
   "outputs": [],
   "source": [
    "# Fit\n",
    "!CUDA_VISIBLE_DEVICES=0 mgen fit --model SequenceRegression \\\n",
    "    --model.backbone aido_dna_dummy \\\n",
    "    --data TranslationEfficiency"
   ]
  },
  {
   "cell_type": "markdown",
   "metadata": {},
   "source": [
    "After fitting a model, you can find the checkpoint under `logs/`. \n",
    "Checkpoints for best validation loss will be automatically saved and stored, as well as best training loss and the last checkpoint.\n",
    "\n",
    "Using `mgen test` with the previous arguments and the checkpoint path, you can evaluate the test performance.\n",
    "Using `mgen validate` does the same on the validation set.\n",
    "\n",
    "Also make sure to check out the full `config.yaml` saved with the model checkpoint. \n",
    "This includes all the automatically configured behavior, which can be updated, hacked-on, and re-run with\n",
    "```\n",
    "mgen fit --config <path_to_config>.yaml\n",
    "```"
   ]
  },
  {
   "cell_type": "code",
   "execution_count": null,
   "metadata": {},
   "outputs": [],
   "source": [
    "# Test\n",
    "!CUDA_VISIBLE_DEVICES=0 mgen test --model SequenceRegression \\\n",
    "    --model.backbone aido_dna_dummy \\\n",
    "    --data TranslationEfficiency \\\n",
    "    --ckpt_path <your-checkpoint>.ckpt"
   ]
  },
  {
   "cell_type": "code",
   "execution_count": null,
   "metadata": {},
   "outputs": [],
   "source": [
    "# Don't be afraid to ask for help!\n",
    "# !mgen --help\n",
    "# !mgen fit --help\n",
    "# !mgen fit --model.help SequenceRegression\n",
    "# !mgen fit --model.help SequenceRegression.backbone"
   ]
  },
  {
   "cell_type": "code",
   "execution_count": null,
   "metadata": {},
   "outputs": [],
   "source": [
    "# See the full documentation for more help\n",
    "# https://genbio-ai.github.io/ModelGenerator/"
   ]
  },
  {
   "cell_type": "markdown",
   "metadata": {},
   "source": [
    "Now save the predictions to file and inspect what the model learned (or debug any issues).\n",
    "ModelGenerator allows pass-through for most values from the dataset that aren't used for training, so you can easily inspect even when things get out of order during high-performance distributed training."
   ]
  },
  {
   "cell_type": "code",
   "execution_count": null,
   "metadata": {},
   "outputs": [],
   "source": [
    "# Predict\n",
    "!CUDA_VISIBLE_DEVICES=0 mgen predict --model SequenceRegression \\\n",
    "    --model.backbone aido_dna_dummy \\\n",
    "    --data TranslationEfficiency \\\n",
    "    --ckpt_path <your-checkpoint>.ckpt \\\n",
    "    --config configs/examples/save_predictions.yaml"
   ]
  },
  {
   "cell_type": "code",
   "execution_count": null,
   "metadata": {},
   "outputs": [],
   "source": [
    "# Change the backbone and adapter to larger models\n",
    "# Apply mixed-precision, FSDP sharding, and parameter-efficient fine-tuning (PEFT) for large model training\n",
    "!CUDA_VISIBLE_DEVICES=0,1 mgen fit --model SequenceRegression \\\n",
    "    --model.backbone aido_rna_1b600m \\\n",
    "    --model.adapter MLPPoolAdapter \\\n",
    "    --model.adapter.pooling cls_pooling \\\n",
    "    --model.adapter.dropout 0.1 \\\n",
    "    --data TranslationEfficiency \\\n",
    "    --trainer.strategy.class_path lightning.pytorch.strategies.FSDPStrategy \\\n",
    "    --trainer.strategy.init_args.sharding_strategy FULL_SHARD \\\n",
    "    --trainer.strategy.init_args.auto_wrap_policy modelgenerator.distributed.fsdp.wrap.AutoWrapPolicy \\\n",
    "    --model.backbone.use_peft true \\\n",
    "    --trainer.precision 16-mixed\n",
    "# More backbones and datasets\n",
    "# https://huggingface.co/genbio-ai"
   ]
  },
  {
   "cell_type": "code",
   "execution_count": null,
   "metadata": {},
   "outputs": [],
   "source": [
    "# Even import an external backbone from Huggingface\n",
    "!CUDA_VISIBLE_DEVICES=0 mgen fit --model SequenceRegression \\\n",
    "    --model.backbone Huggingface \\\n",
    "    --model.backbone.model_path multimolecule/rnafm \\\n",
    "    --model.backbone.modules_for_model_registration+=multimolecule \\\n",
    "    --model.use_legacy_adapter true \\\n",
    "    --data TranslationEfficiency\n",
    "# https://huggingface.co/multimolecule/rnafm"
   ]
  },
  {
   "cell_type": "code",
   "execution_count": null,
   "metadata": {},
   "outputs": [],
   "source": [
    "# Use your own local data\n",
    "!CUDA_VISIBLE_DEVICES=0 mgen fit --model SequenceRegression \\\n",
    "    --model.backbone aido_dna_dummy \\\n",
    "    --data SequenceRegressionDataModule \\\n",
    "    --data.path predictions \\\n",
    "    --data.train_split_files predict_predictions.tsv \\\n",
    "    --data.x_col sequences \\\n",
    "    --data.y_col labels"
   ]
  },
  {
   "cell_type": "code",
   "execution_count": null,
   "metadata": {},
   "outputs": [],
   "source": [
    "# Automated hyperparameter sweeps\n",
    "!wandb sweep genbio_scripts/wandb_sweep/slurm_sweep.yaml"
   ]
  },
  {
   "cell_type": "markdown",
   "metadata": {},
   "source": [
    "# Demo: Developing a SARS-CoV-2 mRNA vaccine\n",
    "\n",
    "This is a simple example showing how ModelGenerator handles multiple large-scale foundation models in an in-silico experiment design workflow.\n",
    "\n",
    "We will optimize a few attributes of a SARS-CoV-2 mRNA vaccine.\n",
    "1. **5' UTR Design**: Design a 5' UTR for efficient translation in human muscle cells.\n",
    "\n",
    "2. **Coding Sequence Design**: Optimize the coding sequence for protein abundance in humans.\n",
    "\n",
    "3. **mRNA Folding**: Predict the structure of the optimized mRNA.\n",
    "\n",
    "4. **Protein Stabilization**: Improve the stability of the SARS-CoV-2 spike protein.\n",
    "\n",
    "5. **Protein Folding**: Predict the 3D structure of the optimized spike protein and compare to the wild-type structure."
   ]
  },
  {
   "cell_type": "code",
   "execution_count": null,
   "metadata": {},
   "outputs": [],
   "source": [
    "# Grab the antigen sequence: Spike protein coding sequence\n",
    "# https://www.ncbi.nlm.nih.gov/nuccore/NC_045512.2?report=fasta&from=21563&to=25384\n",
    "sequence = \"\"\"\n",
    "ATGTTTGTTTTTCTTGTTTTATTGCCACTAGTCTCTAGTCAGTGTGTTAATCTTACAACCAGAACTCAAT\n",
    "TACCCCCTGCATACACTAATTCTTTCACACGTGGTGTTTATTACCCTGACAAAGTTTTCAGATCCTCAGT\n",
    "TTTACATTCAACTCAGGACTTGTTCTTACCTTTCTTTTCCAATGTTACTTGGTTCCATGCTATACATGTC\n",
    "TCTGGGACCAATGGTACTAAGAGGTTTGATAACCCTGTCCTACCATTTAATGATGGTGTTTATTTTGCTT\n",
    "CCACTGAGAAGTCTAACATAATAAGAGGCTGGATTTTTGGTACTACTTTAGATTCGAAGACCCAGTCCCT\n",
    "ACTTATTGTTAATAACGCTACTAATGTTGTTATTAAAGTCTGTGAATTTCAATTTTGTAATGATCCATTT\n",
    "TTGGGTGTTTATTACCACAAAAACAACAAAAGTTGGATGGAAAGTGAGTTCAGAGTTTATTCTAGTGCGA\n",
    "ATAATTGCACTTTTGAATATGTCTCTCAGCCTTTTCTTATGGACCTTGAAGGAAAACAGGGTAATTTCAA\n",
    "AAATCTTAGGGAATTTGTGTTTAAGAATATTGATGGTTATTTTAAAATATATTCTAAGCACACGCCTATT\n",
    "AATTTAGTGCGTGATCTCCCTCAGGGTTTTTCGGCTTTAGAACCATTGGTAGATTTGCCAATAGGTATTA\n",
    "ACATCACTAGGTTTCAAACTTTACTTGCTTTACATAGAAGTTATTTGACTCCTGGTGATTCTTCTTCAGG\n",
    "TTGGACAGCTGGTGCTGCAGCTTATTATGTGGGTTATCTTCAACCTAGGACTTTTCTATTAAAATATAAT\n",
    "GAAAATGGAACCATTACAGATGCTGTAGACTGTGCACTTGACCCTCTCTCAGAAACAAAGTGTACGTTGA\n",
    "AATCCTTCACTGTAGAAAAAGGAATCTATCAAACTTCTAACTTTAGAGTCCAACCAACAGAATCTATTGT\n",
    "TAGATTTCCTAATATTACAAACTTGTGCCCTTTTGGTGAAGTTTTTAACGCCACCAGATTTGCATCTGTT\n",
    "TATGCTTGGAACAGGAAGAGAATCAGCAACTGTGTTGCTGATTATTCTGTCCTATATAATTCCGCATCAT\n",
    "TTTCCACTTTTAAGTGTTATGGAGTGTCTCCTACTAAATTAAATGATCTCTGCTTTACTAATGTCTATGC\n",
    "AGATTCATTTGTAATTAGAGGTGATGAAGTCAGACAAATCGCTCCAGGGCAAACTGGAAAGATTGCTGAT\n",
    "TATAATTATAAATTACCAGATGATTTTACAGGCTGCGTTATAGCTTGGAATTCTAACAATCTTGATTCTA\n",
    "AGGTTGGTGGTAATTATAATTACCTGTATAGATTGTTTAGGAAGTCTAATCTCAAACCTTTTGAGAGAGA\n",
    "TATTTCAACTGAAATCTATCAGGCCGGTAGCACACCTTGTAATGGTGTTGAAGGTTTTAATTGTTACTTT\n",
    "CCTTTACAATCATATGGTTTCCAACCCACTAATGGTGTTGGTTACCAACCATACAGAGTAGTAGTACTTT\n",
    "CTTTTGAACTTCTACATGCACCAGCAACTGTTTGTGGACCTAAAAAGTCTACTAATTTGGTTAAAAACAA\n",
    "ATGTGTCAATTTCAACTTCAATGGTTTAACAGGCACAGGTGTTCTTACTGAGTCTAACAAAAAGTTTCTG\n",
    "CCTTTCCAACAATTTGGCAGAGACATTGCTGACACTACTGATGCTGTCCGTGATCCACAGACACTTGAGA\n",
    "TTCTTGACATTACACCATGTTCTTTTGGTGGTGTCAGTGTTATAACACCAGGAACAAATACTTCTAACCA\n",
    "GGTTGCTGTTCTTTATCAGGATGTTAACTGCACAGAAGTCCCTGTTGCTATTCATGCAGATCAACTTACT\n",
    "CCTACTTGGCGTGTTTATTCTACAGGTTCTAATGTTTTTCAAACACGTGCAGGCTGTTTAATAGGGGCTG\n",
    "AACATGTCAACAACTCATATGAGTGTGACATACCCATTGGTGCAGGTATATGCGCTAGTTATCAGACTCA\n",
    "GACTAATTCTCCTCGGCGGGCACGTAGTGTAGCTAGTCAATCCATCATTGCCTACACTATGTCACTTGGT\n",
    "GCAGAAAATTCAGTTGCTTACTCTAATAACTCTATTGCCATACCCACAAATTTTACTATTAGTGTTACCA\n",
    "CAGAAATTCTACCAGTGTCTATGACCAAGACATCAGTAGATTGTACAATGTACATTTGTGGTGATTCAAC\n",
    "TGAATGCAGCAATCTTTTGTTGCAATATGGCAGTTTTTGTACACAATTAAACCGTGCTTTAACTGGAATA\n",
    "GCTGTTGAACAAGACAAAAACACCCAAGAAGTTTTTGCACAAGTCAAACAAATTTACAAAACACCACCAA\n",
    "TTAAAGATTTTGGTGGTTTTAATTTTTCACAAATATTACCAGATCCATCAAAACCAAGCAAGAGGTCATT\n",
    "TATTGAAGATCTACTTTTCAACAAAGTGACACTTGCAGATGCTGGCTTCATCAAACAATATGGTGATTGC\n",
    "CTTGGTGATATTGCTGCTAGAGACCTCATTTGTGCACAAAAGTTTAACGGCCTTACTGTTTTGCCACCTT\n",
    "TGCTCACAGATGAAATGATTGCTCAATACACTTCTGCACTGTTAGCGGGTACAATCACTTCTGGTTGGAC\n",
    "CTTTGGTGCAGGTGCTGCATTACAAATACCATTTGCTATGCAAATGGCTTATAGGTTTAATGGTATTGGA\n",
    "GTTACACAGAATGTTCTCTATGAGAACCAAAAATTGATTGCCAACCAATTTAATAGTGCTATTGGCAAAA\n",
    "TTCAAGACTCACTTTCTTCCACAGCAAGTGCACTTGGAAAACTTCAAGATGTGGTCAACCAAAATGCACA\n",
    "AGCTTTAAACACGCTTGTTAAACAACTTAGCTCCAATTTTGGTGCAATTTCAAGTGTTTTAAATGATATC\n",
    "CTTTCACGTCTTGACAAAGTTGAGGCTGAAGTGCAAATTGATAGGTTGATCACAGGCAGACTTCAAAGTT\n",
    "TGCAGACATATGTGACTCAACAATTAATTAGAGCTGCAGAAATCAGAGCTTCTGCTAATCTTGCTGCTAC\n",
    "TAAAATGTCAGAGTGTGTACTTGGACAATCAAAAAGAGTTGATTTTTGTGGAAAGGGCTATCATCTTATG\n",
    "TCCTTCCCTCAGTCAGCACCTCATGGTGTAGTCTTCTTGCATGTGACTTATGTCCCTGCACAAGAAAAGA\n",
    "ACTTCACAACTGCTCCTGCCATTTGTCATGATGGAAAAGCACACTTTCCTCGTGAAGGTGTCTTTGTTTC\n",
    "AAATGGCACACACTGGTTTGTAACACAAAGGAATTTTTATGAACCACAAATCATTACTACAGACAACACA\n",
    "TTTGTGTCTGGTAACTGTGATGTTGTAATAGGAATTGTCAACAACACAGTTTATGATCCTTTGCAACCTG\n",
    "AATTAGACTCATTCAAGGAGGAGTTAGATAAATATTTTAAGAATCATACATCACCAGATGTTGATTTAGG\n",
    "TGACATCTCTGGCATTAATGCTTCAGTTGTAAACATTCAAAAAGAAATTGACCGCCTCAATGAGGTTGCC\n",
    "AAGAATTTAAATGAATCTCTCATCGATCTCCAAGAACTTGGAAAGTATGAGCAGTATATAAAATGGCCAT\n",
    "GGTACATTTGGCTAGGTTTTATAGCTGGCTTGATTGCCATAGTAATGGTGACAATTATGCTTTGCTGTAT\n",
    "GACCAGTTGCTGTAGTTGTCTCAAGGGCTGTTGTTCTTGTGGATCCTGCTGCAAATTTGATGAAGACGAC\n",
    "TCTGAGCCAGTGCTCAAAGGAGTCAAATTACATTACACATAA\n",
    "\"\"\"\n",
    "sequence = sequence.replace('\\n', '')\n",
    "print(sequence)\n",
    "\n",
    "sample = {\n",
    "    'id': 'SPIKE_SARS2',\n",
    "    'sequence': sequence,\n",
    "    'label': 0,  # dummy label to fit with our othe data later\n",
    "}\n",
    "# save as tsv\n",
    "import os\n",
    "import pandas as pd\n",
    "os.makedirs(\"tmp\", exist_ok=True)\n",
    "pd.DataFrame([sample]).to_csv(\"tmp/spike_genes.tsv\", index=False, sep=\"\\t\")"
   ]
  },
  {
   "cell_type": "markdown",
   "metadata": {},
   "source": [
    "## Designing a 5' UTR for efficient translation in human muscle cells\n",
    "\n",
    "We're going to splice a new 5' UTR onto the SARS-CoV-2 spike protein coding sequence for efficient translation in human muscle cells."
   ]
  },
  {
   "cell_type": "code",
   "execution_count": null,
   "metadata": {},
   "outputs": [],
   "source": [
    "# Human Insulin mRNA\n",
    "# Split on the first start codon to get the 5' UTR\n",
    "utr_sequence = \"\"\"\n",
    "AGCCCTCCAGGACAGGCTGCATCAGAAGAGGCCATCAAGCAGATCACTGTCCTTCTGCCATGGCCCTGTG\n",
    "GATGCGCCTCCTGCCCCTGCTGGCGCTGCTGGCCCTCTGGGGACCTGACCCAGCCGCAGCCTTTGTGAAC\n",
    "CAACACCTGTGCGGCTCACACCTGGTGGAAGCTCTCTACCTAGTGTGCGGGGAACGAGGCTTCTTCTACA\n",
    "CACCCAAGACCCGCCGGGAGGCAGAGGACCTGCAGGTGGGGCAGGTGGAGCTGGGCGGGGGCCCTGGTGC\n",
    "AGGCAGCCTGCAGCCCTTGGCCCTGGAGGGGTCCCTGCAGAAGCGTGGCATTGTGGAACAATGCTGTACC\n",
    "AGCATCTGCTCCCTCTACCAGCTGGAGAACTACTGCAACTAGACGCAGCCCGCAGGCAGCCCCACACCCG\n",
    "CCGCCTCCTGCACCGAGAGAGATGGAATAAAGCCCTTGAACCAGC\n",
    "\"\"\"\n",
    "\n",
    "utr_sequence = utr_sequence.replace('\\n', '')\n",
    "utr_sequence = utr_sequence.split('ATG')[0]  # Get only the upstream regulatory region\n",
    "print(utr_sequence)\n",
    "\n",
    "sample = {\n",
    "    'id': 'INS',\n",
    "    'sequence': utr_sequence,\n",
    "    'label': 0,  # dummy label to fit with our othe data later\n",
    "}\n",
    "# save as tsv\n",
    "import pandas as pd\n",
    "pd.DataFrame([sample]).to_csv(\"tmp/genes.tsv\", index=False, sep=\"\\t\")"
   ]
  },
  {
   "cell_type": "markdown",
   "metadata": {},
   "source": [
    "### Download the AIDO.RNA Translation Efficiency Predictor\n",
    "\n",
    "Many finetuned models are already available on HuggingFace.\n",
    "This one was trained to predict translation efficiency: $\\frac{\\text{RNAseq}}{\\text{RiboSeq}}$\n",
    "\n",
    "We will optimize this for our 5' UTR design."
   ]
  },
  {
   "cell_type": "code",
   "execution_count": null,
   "metadata": {},
   "outputs": [],
   "source": [
    "!huggingface-cli download genbio-ai/AIDO.RNA-1.6B-translation-efficiency-muscle \\\n",
    "    --local-dir tmp/hf_models/genbio-ai/AIDO.RNA-1.6B-translation-efficiency-muscle"
   ]
  },
  {
   "cell_type": "markdown",
   "metadata": {},
   "source": [
    "### Validate the pretrained predictor and save a reference dataset"
   ]
  },
  {
   "cell_type": "code",
   "execution_count": null,
   "metadata": {},
   "outputs": [],
   "source": [
    "# Configs make it easy to reproduce results.\n",
    "# Test the model on the benchmark, and save the outputs for reference\n",
    "!CUDA_VISIBLE_DEVICES=1,2,3,4,5,6,7 mgen test --config hf_models/genbio-ai/AIDO.RNA-1.6B-translation-efficiency-muscle/config.yaml \\\n",
    "    --ckpt_path hf_models/genbio-ai/AIDO.RNA-1.6B-translation-efficiency-muscle/fold0/model.ckpt \\\n",
    "    --trainer.callbacks+=modelgenerator.callbacks.PredictionWriter \\\n",
    "    --trainer.callbacks.output_dir tmp/efficiency_test_predictions \\\n",
    "    --trainer.callbacks.filetype tsv \\\n",
    "    --trainer.callbacks.write_cols+=sequences \\\n",
    "    --trainer.callbacks.write_cols+=predictions \\\n",
    "    --trainer.callbacks.write_cols+=labels"
   ]
  },
  {
   "cell_type": "code",
   "execution_count": null,
   "metadata": {},
   "outputs": [],
   "source": [
    "import plotting_utils\n",
    "plotting_utils.prediction_histogram('tmp/efficiency_test_predictions/test_predictions.tsv')"
   ]
  },
  {
   "cell_type": "markdown",
   "metadata": {},
   "source": [
    "### Predict on the new gene's 5' UTR"
   ]
  },
  {
   "cell_type": "code",
   "execution_count": null,
   "metadata": {},
   "outputs": [],
   "source": [
    "# Predict the translation efficiency of the UTR candidate\n",
    "!CUDA_VISIBLE_DEVICES=1 mgen predict --config hf_models/genbio-ai/AIDO.RNA-1.6B-translation-efficiency-muscle/config.yaml \\\n",
    "    --ckpt_path hf_models/genbio-ai/AIDO.RNA-1.6B-translation-efficiency-muscle/fold0/model.ckpt \\\n",
    "    --data SequenceRegressionDataModule \\\n",
    "    --data.path tmp \\\n",
    "    --data.config_name null \\\n",
    "    --data.test_split_files genes.tsv \\\n",
    "    --data.cv_num_folds 0 \\\n",
    "    --data.cv_fold_id_col null \\\n",
    "    --data.batch_size 1 \\\n",
    "    --trainer.callbacks+=modelgenerator.callbacks.PredictionWriter \\\n",
    "    --trainer.callbacks.output_dir tmp/efficiency_gene_predictions \\\n",
    "    --trainer.callbacks.filetype tsv \\\n",
    "    --trainer.callbacks.write_cols+=sequences \\\n",
    "    --trainer.callbacks.write_cols+=predictions \\\n",
    "    --trainer.callbacks.write_cols+=labels"
   ]
  },
  {
   "cell_type": "code",
   "execution_count": null,
   "metadata": {},
   "outputs": [],
   "source": [
    "plotting_utils.prediction_histogram(\n",
    "    background_pred = 'tmp/efficiency_test_predictions/test_predictions.tsv',\n",
    "    gene_pred = 'tmp/efficiency_gene_predictions/predict_predictions.tsv'\n",
    ")"
   ]
  },
  {
   "cell_type": "markdown",
   "metadata": {},
   "source": [
    "### Mutate the UTR and predict mutation effects"
   ]
  },
  {
   "cell_type": "code",
   "execution_count": null,
   "metadata": {},
   "outputs": [],
   "source": [
    "# Mutate the UTR\n",
    "# Read in the genes and vocabulary\n",
    "genes = pd.read_csv('tmp/genes.tsv', sep='\\t')\n",
    "vocab = ['A', 'T', 'C', 'G']\n",
    "\n",
    "rows = []\n",
    "# For each gene in the genes dataframe\n",
    "for i, (id, gene, label) in genes.iterrows():\n",
    "    gene_list = list(gene)\n",
    "    for j in range(len(gene_list)):\n",
    "        for v in vocab:\n",
    "            new_gene = gene_list.copy()\n",
    "            if new_gene[j] == v:\n",
    "                continue\n",
    "            new_gene[j] = v\n",
    "            rows.append({'id': f'{id}_{gene_list[j]}{j+1}{v}', 'sequence': ''.join(new_gene), 'label': label})\n",
    "    df = pd.DataFrame(rows)\n",
    "    df.to_csv(f'tmp/{id}_mutated.tsv', sep='\\t', index=False)"
   ]
  },
  {
   "cell_type": "code",
   "execution_count": null,
   "metadata": {},
   "outputs": [],
   "source": [
    "# Predict translation efficiency of mutant UTRs\n",
    "!CUDA_VISIBLE_DEVICES=1,2,3,4 mgen predict --config hf_models/genbio-ai/AIDO.RNA-1.6B-translation-efficiency-muscle/config.yaml \\\n",
    "    --ckpt_path hf_models/genbio-ai/AIDO.RNA-1.6B-translation-efficiency-muscle/fold0/model.ckpt \\\n",
    "    --data SequenceRegressionDataModule \\\n",
    "    --data.path tmp \\\n",
    "    --data.test_split_files INS_mutated.tsv \\\n",
    "    --data.config_name null \\\n",
    "    --data.cv_num_folds 0 \\\n",
    "    --data.cv_fold_id_col null \\\n",
    "    --data.batch_size 4 \\\n",
    "    --trainer.callbacks+=modelgenerator.callbacks.PredictionWriter \\\n",
    "    --trainer.callbacks.output_dir efficiency_mutant_predictions \\\n",
    "    --trainer.callbacks.filetype tsv \\\n",
    "    --trainer.callbacks.write_cols+=sequences \\\n",
    "    --trainer.callbacks.write_cols+=predictions \\\n",
    "    --trainer.callbacks.write_cols+=labels"
   ]
  },
  {
   "cell_type": "code",
   "execution_count": null,
   "metadata": {},
   "outputs": [],
   "source": [
    "plotting_utils.prediction_histogram(\n",
    "    background_pred = 'tmp/efficiency_test_predictions/test_predictions.tsv',\n",
    "    gene_pred = 'tmp/efficiency_gene_predictions/predict_predictions.tsv',\n",
    "    mutated_pred = 'tmp/efficiency_mutant_predictions/predict_predictions.tsv',\n",
    "    mutated_ids = 'tmp/INS_mutated.tsv'\n",
    ")"
   ]
  },
  {
   "cell_type": "markdown",
   "metadata": {},
   "source": [
    "### Alternative design workflow 1: Conditional generation\n",
    "\n",
    "Foundation models can be used to generate new sequences, and ModelGenerator helps to adapt them to direct the generation process.\n",
    "\n",
    "Here, we invert the efficiency prediction problem to generate new 5' UTR sequences given a desired translation efficiency."
   ]
  },
  {
   "cell_type": "code",
   "execution_count": null,
   "metadata": {},
   "outputs": [],
   "source": [
    "# Fit the model\n",
    "# !CUDA_VISIBLE_DEVICES=1 mgen fit \\\n",
    "#     --config train_conditional_diffusion.yaml \\\n",
    "\n",
    "# Test the model\n",
    "# !CUDA_VISIBLE_DEVICES=0,1,2,3 mgen test \\\n",
    "#     --config train_conditional_diffusion.yaml \\\n",
    "#     --ckpt_path <path-to-your-ckpt>.ckpt\n",
    "\n",
    "# Generate 5' UTR sequences for specific efficiencies\n",
    "import numpy as np\n",
    "expr_range = np.linspace(-2, 2, 10)\n",
    "rows = []\n",
    "for i, expr in enumerate(expr_range):\n",
    "    rows.append({'id': f'gene_{i}', 'label': expr, 'sequence': ('[MASK]' * 50) + 'ATG'})\n",
    "pd.DataFrame(rows).to_csv('tmp/genes_masked.tsv', sep='\\t', index=False)\n",
    "\n",
    "!CUDA_VISIBLE_DEVICES=0 mgen predict \\\n",
    "    --ckpt_path <your-ckpt>.ckpt \\\n",
    "    --model ConditionalDiffusion \\\n",
    "    --model.backbone aido_rna_650m_cds \\\n",
    "    --model.num_denoise_steps 50 \\\n",
    "    --model.sample_seq true \\\n",
    "    --model.sampling_temperature 0.5 \\\n",
    "    --model.verbose true \\\n",
    "    --data ConditionalDiffusionDataModule \\\n",
    "    --data.path experiments/Demo \\\n",
    "    --data.test_split_files genes_masked.tsv \\\n",
    "    --data.batch_size 1 \\\n",
    "    --data.normalize false"
   ]
  },
  {
   "cell_type": "markdown",
   "metadata": {},
   "source": [
    "### Alternative workflow 2: Embedding Painting\n",
    "\n",
    "In previous examples we used finetuning is used to refine foundation models for specific tasks.\n",
    "\n",
    "Sometimes foundation models learn useful properties from self-supervision, and no finetuning is necessary.\n",
    "\n",
    "Here, we explore the pre-trained model's embeddings to see if it might have learned about translation efficiency without any further supervision.\n",
    "\n",
    "This helps enable design even when data is so limited it can't be used for finetuning."
   ]
  },
  {
   "cell_type": "code",
   "execution_count": null,
   "metadata": {},
   "outputs": [],
   "source": [
    "# Embed the wild-type sequence\n",
    "!CUDA_VISIBLE_DEVICES=1 mgen predict --model Embed \\\n",
    "    --model.backbone aido_rna_1b600m \\\n",
    "    --data SequencesDataModule \\\n",
    "    --data.path tmp \\\n",
    "    --data.test_split_files genes.tsv \\\n",
    "    --data.batch_size 1 \\\n",
    "    --trainer.callbacks+=modelgenerator.callbacks.PredictionWriter \\\n",
    "    --trainer.callbacks.output_dir tmp/efficiency_gene_embeddings \\\n",
    "    --trainer.callbacks.filetype pt"
   ]
  },
  {
   "cell_type": "code",
   "execution_count": null,
   "metadata": {},
   "outputs": [],
   "source": [
    "# Embed the mutant sequences\n",
    "!CUDA_VISIBLE_DEVICES=1,2,3,4,5,6,7 mgen predict --model Embed \\\n",
    "    --model.backbone aido_rna_1b600m_cds \\\n",
    "    --data SequencesDataModule \\\n",
    "    --data.path tmp \\\n",
    "    --data.test_split_files INS_mutated.tsv \\\n",
    "    --data.batch_size 16 \\\n",
    "    --trainer.callbacks+=modelgenerator.callbacks.PredictionWriter \\\n",
    "    --trainer.callbacks.output_dir tmp/efficiency_mutant_embeddings \\\n",
    "    --trainer.callbacks.filetype pt"
   ]
  },
  {
   "cell_type": "code",
   "execution_count": null,
   "metadata": {},
   "outputs": [],
   "source": [
    "# Compile the embeddings\n",
    "!python get_mean_embeddings.py --directory tmp/efficiency_gene_embeddings\n",
    "!python get_mean_embeddings.py --directory tmp/efficiency_mutant_embeddings"
   ]
  },
  {
   "cell_type": "code",
   "execution_count": null,
   "metadata": {},
   "outputs": [],
   "source": [
    "# Visualize the embeddings\n",
    "plotting_utils.prediction_embeddings(\n",
    "    gene_pred = 'tmp/efficiency_gene_predictions/predict_predictions.tsv',\n",
    "    mutated_pred = 'tmp/efficiency_mutant_predictions/predict_predictions.tsv',\n",
    "    mutated_ids = 'tmp/INS_mutated.tsv',\n",
    "    mutated_embeddings = 'tmp/efficiency_mutant_embeddings/mean_embeddings.pt',\n",
    "    gene_embedding = 'tmp/efficiency_gene_embeddings/mean_embeddings.pt',\n",
    ")"
   ]
  },
  {
   "cell_type": "markdown",
   "metadata": {},
   "source": [
    "## Optimizing the spike protein coding sequence for protein abundance in human cells"
   ]
  },
  {
   "cell_type": "markdown",
   "metadata": {},
   "source": [
    "### Download the AIDO.RNA Abundance Predictor and run through the simple mutation workflow"
   ]
  },
  {
   "cell_type": "code",
   "execution_count": null,
   "metadata": {},
   "outputs": [],
   "source": [
    "!huggingface-cli download genbio-ai/AIDO.RNA-1.6B-CDS-protein-abundance-hsapiens \\\n",
    "    --local-dir tmp/hf_models/genbio-ai/AIDO.RNA-1.6B-CDS-protein-abundance-hsapiens"
   ]
  },
  {
   "cell_type": "code",
   "execution_count": null,
   "metadata": {},
   "outputs": [],
   "source": [
    "# Validate the model using the config it comes with, save the predictions to compare\n",
    "!mgen test --config tmp/hf_models/genbio-ai/AIDO.RNA-1.6B-CDS-protein-abundance-hsapiens/config.yaml \\\n",
    "    --ckpt_path tmp/hf_models/genbio-ai/AIDO.RNA-1.6B-CDS-protein-abundance-hsapiens/fold0/model.ckpt \\\n",
    "    --model.strict_loading false \\\n",
    "    --trainer.callbacks+=modelgenerator.callbacks.PredictionWriter \\\n",
    "    --trainer.callbacks.output_dir tmp/protein_abundance_test_predictions \\\n",
    "    --trainer.callbacks.filetype tsv \\\n",
    "    --trainer.callbacks.write_cols+=sequences \\\n",
    "    --trainer.callbacks.write_cols+=predictions \\\n",
    "    --trainer.callbacks.write_cols+=labels"
   ]
  },
  {
   "cell_type": "code",
   "execution_count": null,
   "metadata": {},
   "outputs": [],
   "source": [
    "import plotting_utils\n",
    "plotting_utils.prediction_histogram('tmp/protein_abundance_test_predictions/test_predictions.tsv')"
   ]
  },
  {
   "cell_type": "code",
   "execution_count": null,
   "metadata": {},
   "outputs": [],
   "source": [
    "!mgen predict --config tmp/hf_models/genbio-ai/AIDO.RNA-1.6B-CDS-protein-abundance-hsapiens/config.yaml \\\n",
    "    --ckpt_path tmp/hf_models/genbio-ai/AIDO.RNA-1.6B-CDS-protein-abundance-hsapiens/fold0/model.ckpt \\\n",
    "    --model.strict_loading false \\\n",
    "    --data SequenceRegressionDataModule \\\n",
    "    --data.path tmp \\\n",
    "    --data.config_name null \\\n",
    "    --data.test_split_files spike_genes.tsv \\\n",
    "    --data.cv_num_folds 0 \\\n",
    "    --data.cv_fold_id_col null \\\n",
    "    --data.batch_size 1 \\\n",
    "    --trainer.callbacks+=modelgenerator.callbacks.PredictionWriter \\\n",
    "    --trainer.callbacks.output_dir tmp/protein_abundance_gene_predictions \\\n",
    "    --trainer.callbacks.filetype tsv \\\n",
    "    --trainer.callbacks.write_cols+=sequences \\\n",
    "    --trainer.callbacks.write_cols+=predictions \\\n",
    "    --trainer.callbacks.write_cols+=labels"
   ]
  },
  {
   "cell_type": "code",
   "execution_count": null,
   "metadata": {},
   "outputs": [],
   "source": [
    "plotting_utils.prediction_histogram(\n",
    "    background_pred = 'tmp/protein_abundance_test_predictions/test_predictions.tsv',\n",
    "    gene_pred = 'tmp/protein_abundance_gene_predictions/predict_predictions.tsv'\n",
    ")"
   ]
  },
  {
   "cell_type": "markdown",
   "metadata": {},
   "source": [
    "### Mutate the sequence with __silent__ mutations and predict the effects on protein abundance\n",
    "\n",
    "Some mutations improve abundance without changing the resulting antigen!"
   ]
  },
  {
   "cell_type": "code",
   "execution_count": null,
   "metadata": {},
   "outputs": [],
   "source": [
    "# Mutate the gene\n",
    "# Read in the genes and vocabulary\n",
    "genes = pd.read_csv('tmp/spike_genes.tsv', sep='\\t')\n",
    "vocab = ['A', 'T', 'C', 'G']\n",
    "\n",
    "# Get codon mapping\n",
    "codon_lookup = {\n",
    "    'TCA': 'S',\n",
    "    'TCC': 'S',\n",
    "    'TCG': 'S',\n",
    "    'TCT': 'S',\n",
    "    'TTC': 'F',\n",
    "    'TTT': 'F',\n",
    "    'TTA': 'L',\n",
    "    'TTG': 'L',\n",
    "    'TAC': 'Y',\n",
    "    'TAT': 'Y',\n",
    "    'TAA': '*',\n",
    "    'TAG': '*',\n",
    "    'TGC': 'C',\n",
    "    'TGT': 'C',\n",
    "    'TGA': '*',\n",
    "    'TGG': 'W',\n",
    "    'CTA': 'L',\n",
    "    'CTC': 'L',\n",
    "    'CTG': 'L',\n",
    "    'CTT': 'L',\n",
    "    'CCA': 'P',\n",
    "    'CCC': 'P',\n",
    "    'CCG': 'P',\n",
    "    'CCT': 'P',\n",
    "    'CAC': 'H',\n",
    "    'CAT': 'H',\n",
    "    'CAA': 'Q',\n",
    "    'CAG': 'Q',\n",
    "    'CGA': 'R',\n",
    "    'CGC': 'R',\n",
    "    'CGG': 'R',\n",
    "    'CGT': 'R',\n",
    "    'ATA': 'I',\n",
    "    'ATC': 'I',\n",
    "    'ATT': 'I',\n",
    "    'ATG': 'M',\n",
    "    'ACA': 'T',\n",
    "    'ACC': 'T',\n",
    "    'ACG': 'T',\n",
    "    'ACT': 'T',\n",
    "    'AAC': 'N',\n",
    "    'AAT': 'N',\n",
    "    'AAA': 'K',\n",
    "    'AAG': 'K',\n",
    "    'AGC': 'S',\n",
    "    'AGT': 'S',\n",
    "    'AGA': 'R',\n",
    "    'AGG': 'R',\n",
    "    'GTA': 'V',\n",
    "    'GTC': 'V',\n",
    "    'GTG': 'V',\n",
    "    'GTT': 'V',\n",
    "    'GCA': 'A',\n",
    "    'GCC': 'A',\n",
    "    'GCG': 'A',\n",
    "    'GCT': 'A',\n",
    "    'GAC': 'D',\n",
    "    'GAT': 'D',\n",
    "    'GAA': 'E',\n",
    "    'GAG': 'E',\n",
    "    'GGA': 'G',\n",
    "    'GGC': 'G',\n",
    "    'GGG': 'G',\n",
    "    'GGT': 'G' \n",
    "}\n",
    "# Make reverse lookup\n",
    "codon_rev_lookup = {}\n",
    "for k, v in codon_lookup.items():\n",
    "    codon_rev_lookup[v] = codon_rev_lookup.get(v, [])\n",
    "    codon_rev_lookup[v].append(k)\n",
    "\n",
    "rows = []\n",
    "# For each gene in the genes dataframe\n",
    "for i, (id, gene, label) in genes.iterrows():\n",
    "    gene_list = list(gene)\n",
    "    for j in range(0, len(gene_list), 3):\n",
    "        if j > 1024:\n",
    "            break\n",
    "        codon = ''.join(gene_list[j:j+3])\n",
    "        if len(codon) < 3:\n",
    "            continue\n",
    "        # Only make synonymous mutations\n",
    "        aa = codon_lookup[codon]\n",
    "        synonymous_codons = codon_rev_lookup[aa]\n",
    "        for v in synonymous_codons:\n",
    "            if v == codon:\n",
    "                continue\n",
    "            new_gene = gene_list.copy()\n",
    "            new_gene[j:j+3] = list(v)\n",
    "            rows.append({'id': f'{id}_{j}{v}', 'sequence': ''.join(new_gene), 'label': label})\n",
    "    df = pd.DataFrame(rows)\n",
    "    df.to_csv(f'tmp/{id}_silent_mutated.tsv', sep='\\t', index=False)"
   ]
  },
  {
   "cell_type": "code",
   "execution_count": null,
   "metadata": {},
   "outputs": [],
   "source": [
    "!CUDA_VISIBLE_DEVICES=1,2 taskset -c 32-63 mgen predict --config tmp/hf_models/genbio-ai/AIDO.RNA-1.6B-CDS-protein-abundance-hsapiens/config.yaml \\\n",
    "    --ckpt_path tmp/hf_models/genbio-ai/AIDO.RNA-1.6B-CDS-protein-abundance-hsapiens/fold0/model.ckpt \\\n",
    "    --model.strict_loading false \\\n",
    "    --data SequenceRegressionDataModule \\\n",
    "    --data.path tmp \\\n",
    "    --data.config_name null \\\n",
    "    --data.test_split_files SPIKE_SARS2_silent_mutated.tsv \\\n",
    "    --data.cv_num_folds 0 \\\n",
    "    --data.cv_fold_id_col null \\\n",
    "    --data.batch_size 4 \\\n",
    "    --trainer.callbacks+=modelgenerator.callbacks.PredictionWriter \\\n",
    "    --trainer.callbacks.output_dir tmp/spike_mutant_predictions \\\n",
    "    --trainer.callbacks.filetype tsv \\\n",
    "    --trainer.callbacks.write_cols+=sequences \\\n",
    "    --trainer.callbacks.write_cols+=predictions \\\n",
    "    --trainer.callbacks.write_cols+=labels"
   ]
  },
  {
   "cell_type": "code",
   "execution_count": null,
   "metadata": {},
   "outputs": [],
   "source": [
    "plotting_utils.prediction_histogram(\n",
    "    background_pred = 'tmp/protein_abundance_test_predictions/test_predictions.tsv',\n",
    "    gene_pred = 'tmp/protein_abundance_gene_predictions/predict_predictions.tsv',\n",
    "    mutated_pred = 'tmp/spike_mutant_predictions/predict_predictions.tsv',\n",
    "    mutated_ids = 'tmp/SPIKE_SARS2_silent_mutated.tsv',\n",
    ")"
   ]
  },
  {
   "cell_type": "markdown",
   "metadata": {},
   "source": [
    "### Wild-type CDS\n",
    "ATGTTTGTTTTTCTTGTTTTATTGCCACTAGTCTCTAGTCAG __TGT__ GTTAATCTTACAACCAGAACTCAAT\n",
    "TACCCCCTGCATACACTAATTCTTTCACACGTGGTGTTTATTACCCTGACAAAGTTTTCAGATCCTCAGT\n",
    "...\n",
    "### Optimized CDS\n",
    "ATGTTTGTTTTTCTTGTTTTATTGCCACTAGTCTCTAGTCAG __TGC__ GTTAATCTTACAACCAGAACTCAAT\n",
    "TACCCCCTGCATACACTAATTCTTTCACACGTGGTGTTTATTACCCTGACAAAGTTTTCAGATCCTCAGT\n",
    "..."
   ]
  },
  {
   "cell_type": "code",
   "execution_count": null,
   "metadata": {},
   "outputs": [],
   "source": [
    "# Compile UTR and CDS for the candidate molecule\n",
    "utr = \"AATTTGCAGCCTCAGCCCCCAGCCATCTGCCGACCCCCCCACCCCAGGCCCTA\"\n",
    "candidate = utr + sequence\n",
    "print(candidate)\n",
    "\n",
    "pd.DataFrame([{'id': 'SPIKE_SARS2_Candidate', 'sequence': candidate[:1024], 'label': 0}]).to_csv(\"tmp/spike_candidate.tsv\", index=False, sep=\"\\t\")"
   ]
  },
  {
   "cell_type": "markdown",
   "metadata": {},
   "source": [
    "# Predict Candidate mRNA Folding\n",
    "\n",
    "Many of the predicted optimizations will relate to structural changes in the mRNA. Understanding the folding of the mRNA can help inform future designs."
   ]
  },
  {
   "cell_type": "code",
   "execution_count": null,
   "metadata": {},
   "outputs": [],
   "source": [
    "## make a directory to store the sample for inference\n",
    "!mkdir -p tmp/RNA_SS/CUSTOM_SS_DATA/test/ "
   ]
  },
  {
   "cell_type": "code",
   "execution_count": null,
   "metadata": {},
   "outputs": [],
   "source": [
    "## 1. Chunk up the sequences into 500 length fragments (model was trained with max 1000 len sequences, and there is max vRAM limit). We later merge them. A commonly used approximation.\n",
    "## 2. generate .ct files with \"dummpy ss\" just to keep the same format (this will NOT be used for for evaluation in inference-only run).\n",
    "\n",
    "plotting_utils.generate_ct_files(candidate, \"tmp/RNA_SS/CUSTOM_SS_DATA/test/spike_gene\")"
   ]
  },
  {
   "cell_type": "code",
   "execution_count": null,
   "metadata": {},
   "outputs": [],
   "source": [
    "!huggingface-cli download genbio-ai/AIDO.RNA-1.6B-bpRNA_secondary_structure_prediction \\\n",
    "    --local-dir tmp/hf_models/genbio-ai/AIDO.RNA-1.6B-bpRNA_secondary_structure_prediction"
   ]
  },
  {
   "cell_type": "code",
   "execution_count": null,
   "metadata": {},
   "outputs": [],
   "source": [
    "## run inference for the candidate\n",
    "!mgen predict --config experiments/AIDO.RNA/rna_secondary_structure_prediction/rna_ss_prediction.yaml \\\n",
    "\t\t\t--data.path tmp/RNA_SS/ \\\n",
    "\t\t\t--data.dataset CUSTOM_SS_DATA \\\n",
    "\t\t\t--trainer.default_root_dir tmp/RNA_SS/outputs/ \\\n",
    "\t\t\t--trainer.callbacks.ft_schedule_path ../rna_secondary_structure_prediction/ft_schedules/layers_0_32.yaml \\\n",
    "\t\t\t--ckpt_path tmp/hf_models/genbio-ai/AIDO.RNA-1.6B-bpRNA_secondary_structure_prediction/model.ckpt \\\n",
    "\t\t\t--trainer.devices 0,"
   ]
  },
  {
   "cell_type": "code",
   "execution_count": null,
   "metadata": {},
   "outputs": [],
   "source": [
    "## merge the ss of individual chunks and convert to dot-bracket and matrix formats\n",
    "import numpy as np\n",
    "from matplotlib import pyplot as plt\n",
    "from genbio_scripts import plotting_utils\n",
    "\n",
    "nucleotides, rna_ss, ss_probab_matrix = plotting_utils.ct_to_dot_bracket(\"tmp/RNA_SS/outputs/\", \"tmp/RNA_SS/spike_pred_ss.dot\", len(candidate))\n",
    "print(\">infered\\n\" + nucleotides + \"\\n\" + rna_ss + \"\\n\")\n",
    "\n",
    "ss_binary_matrix = plotting_utils.dot_bracket_to_matrix(rna_ss)\n",
    "plt.figure(figsize=(10, 10))\n",
    "plt.imshow(ss_binary_matrix, cmap='gray_r', interpolation='nearest')\n",
    "plt.title('SS binary contact map')\n",
    "plt.show()"
   ]
  },
  {
   "cell_type": "markdown",
   "metadata": {},
   "source": [
    "# Alternative workflow: Dependency Mapping\n",
    "\n",
    "[Nucleotide Dependency Mapping](https://www.biorxiv.org/content/10.1101/2024.07.27.605418v1) produces a 2D grid of dependency values between each nucleotide, indicating their co-conservation and likely functional dependency.\n",
    "The grid of predicted dependencies is composed of dependency pixels $e_{i, j}$ for each nucleotide pair $i$ and $j$, where\n",
    "\n",
    "$$e_{i, j} = \\max_{k,q\\in\\{A,T,C,G\\}} \\left| \\log_2 \\left( \\frac{\\hat{\\text{odds}}(n_j=k \\mid n_1, ..., n_i=q, ..., n_L)}{\\hat{\\text{odds}}(n_j=k \\mid n_1, ..., n_L)} \\right) \\right|,$$\n",
    "\n",
    "such that $k$ and $q$ are the key and query nucleotide types, $n$ is a length $L$ DNA sequence, and $\\hat{\\text{odds}}$ are the odds inferred using the pretrained AIDO.DNA."
   ]
  },
  {
   "cell_type": "code",
   "execution_count": null,
   "metadata": {},
   "outputs": [],
   "source": [
    "# Dependency Mapping\n",
    "!mgen predict --config ../dependency_mapping/config.yaml \\\n",
    "    --data.path tmp \\\n",
    "    --data.test_split_files spike_candidate.tsv\n",
    "\n",
    "!python experiments/AIDO.RNA/dependency_mapping/plot_dependency_maps.py \\\n",
    "    -i depmap_predictions \\\n",
    "    -o depmap_plots \\\n",
    "    -v ../dependency_mapping/DNA.txt \\\n",
    "    -t ../../../modelgenerator/huggingface_models/rnabert/vocab.txt"
   ]
  },
  {
   "cell_type": "code",
   "execution_count": null,
   "metadata": {},
   "outputs": [],
   "source": [
    "from PIL import Image\n",
    "# Image.open('depmap_plots/>NR_002092.1|RNAseP|Drosophila_heatmap.png')\n",
    "Image.open('depmap_plots/SPIKE_SARS2_Candidate_heatmap.png')"
   ]
  },
  {
   "cell_type": "markdown",
   "metadata": {},
   "source": [
    "# Protein Stabilization\n",
    "\n",
    "Here we make single mutations to the protein to improve stability and minimize degradation, while keeping the antigen structure similar."
   ]
  },
  {
   "cell_type": "code",
   "execution_count": null,
   "metadata": {},
   "outputs": [],
   "source": [
    "# download protein sequence\n",
    "from modelgenerator.structure_tokenizer.datasets.protein import Protein\n",
    "from modelgenerator.structure_tokenizer.utils.constants import residue_constants as RC\n",
    "import pandas as pd\n",
    "\n",
    "# 6vxx A chain\n",
    "pdb_id, chain_id = '6vxx', 'A'\n",
    "!wget -qnc https://files.rcsb.org/download/{pdb_id}.pdb\n",
    "\n",
    "aatype_tensor = Protein.from_pdb_file_path(f'{pdb_id}.pdb', chain_id).aatype\n",
    "seq = \"\".join(list(RC.restype_1to3)[i] for i in aatype_tensor)\n",
    "seq"
   ]
  },
  {
   "cell_type": "code",
   "execution_count": null,
   "metadata": {},
   "outputs": [],
   "source": [
    "# save as tsv\n",
    "sample = {\n",
    "    'id': '6vxx_A',\n",
    "    'sequence': seq,\n",
    "    'label': 0,\n",
    "}\n",
    "pd.DataFrame([sample]).to_csv(\"tmp/protein.tsv\", index=False, sep=\"\\t\")"
   ]
  },
  {
   "cell_type": "code",
   "execution_count": null,
   "metadata": {},
   "outputs": [],
   "source": [
    "# Todo: upload stability predictor to HF\n",
    "# !huggingface-cli download genbio-ai/AIDO.RNA-1.6B-bpRNA_secondary_structure_prediction \\\n",
    "#     --local-dir tmp/hf_models/genbio-ai/AIDO.RNA-1.6B-bpRNA_secondary_structure_prediction"
   ]
  },
  {
   "cell_type": "code",
   "execution_count": null,
   "metadata": {},
   "outputs": [],
   "source": [
    "# predict protein abundance\n",
    "!CUDA_VISIBLE_DEVICES=0 mgen predict --config ../../AIDO.Protein/xTrimo/configs/stability.yaml \\\n",
    "    --ckpt_path best_val:epoch=5-val_spearman=0.821.ckpt \\\n",
    "    --data SequenceRegressionDataModule \\\n",
    "    --data.path tmp \\\n",
    "    --data.test_split_files protein.tsv \\\n",
    "    --data.config_name null \\\n",
    "    --data.cv_num_folds 0 \\\n",
    "    --data.cv_fold_id_col null \\\n",
    "    --data.batch_size 1 \\\n",
    "    --trainer.callbacks+=modelgenerator.callbacks.PredictionWriter \\\n",
    "    --trainer.callbacks.output_dir tmp/stability_protein_predictions \\\n",
    "    --trainer.callbacks.filetype tsv \\\n",
    "    --trainer.callbacks.write_cols+=sequences \\\n",
    "    --trainer.callbacks.write_cols+=predictions \\\n",
    "    --trainer.callbacks.write_cols+=labels"
   ]
  },
  {
   "cell_type": "code",
   "execution_count": null,
   "metadata": {},
   "outputs": [],
   "source": [
    "# get all possible mutation\n",
    "vocab = [\"L\",\"A\", \"G\", \"V\", \"S\", \"E\", \"R\", \"T\", \"I\", \"D\", \"P\", \"K\", \"Q\", \"N\", \"F\", \"Y\", \"M\", \"H\", \"W\", \"C\", \"X\"]\n",
    "rows = []\n",
    "gene_list = list(seq)\n",
    "# add original seq\n",
    "rows.append({'mutation': f'', 'sequence': seq, 'label':-1})\n",
    "for j in range(len(gene_list)):\n",
    "    for v in vocab:\n",
    "        new_gene = gene_list.copy()\n",
    "        if new_gene[j] == v:\n",
    "            continue\n",
    "        new_gene[j] = v\n",
    "        # fake label required by sequnce regression module\n",
    "        rows.append({'mutation': f'{gene_list[j]}{j+1}{v}', 'sequence': ''.join(new_gene), 'label':-1})\n",
    "df = pd.DataFrame(rows)\n",
    "df.to_csv(f'tmp/protein_mutated.tsv', sep='\\t', index=False)"
   ]
  },
  {
   "cell_type": "code",
   "execution_count": null,
   "metadata": {},
   "outputs": [],
   "source": [
    "!CUDA_VISIBLE_DEVICES=0,1,2,3 mgen predict --config ../../AIDO.Protein/xTrimo/configs/stability.yaml \\\n",
    "    --ckpt_path best_val:epoch=5-val_spearman=0.821.ckpt \\\n",
    "    --data SequenceRegressionDataModule \\\n",
    "    --data.path tmp \\\n",
    "    --data.test_split_files protein_mutated.tsv \\\n",
    "    --data.config_name null \\\n",
    "    --data.cv_num_folds 0 \\\n",
    "    --data.cv_fold_id_col null \\\n",
    "    --data.batch_size 16 \\\n",
    "    --trainer.callbacks+=modelgenerator.callbacks.PredictionWriter \\\n",
    "    --trainer.callbacks.output_dir tmp/stability_mutant_predictions \\\n",
    "    --trainer.callbacks.filetype tsv \\\n",
    "    --trainer.callbacks.write_cols+=sequences \\\n",
    "    --trainer.callbacks.write_cols+=predictions \\\n",
    "    --trainer.callbacks.write_cols+=labels"
   ]
  },
  {
   "cell_type": "code",
   "execution_count": null,
   "metadata": {},
   "outputs": [],
   "source": [
    "plotting_utils.prediction_histogram(\n",
    "    background_pred = 'tmp/stability_mutant_predictions/predict_predictions.tsv',\n",
    "    gene_pred = 'tmp/stability_protein_predictions/predict_predictions.tsv',\n",
    "    background_pred_var = 'predictions',\n",
    ")"
   ]
  },
  {
   "cell_type": "code",
   "execution_count": null,
   "metadata": {},
   "outputs": [],
   "source": [
    "# get the gene sequence and the mutated sequence with the highest stable score\n",
    "import pandas as pd\n",
    "df = pd.read_csv('tmp/stability_mutant_predictions/predict_predictions.tsv', sep='\\t')\n",
    "top_10 = df.nlargest(10, 'predictions')[['predictions', 'sequences']]\n",
    "origin_seq_score = df[df['sequences']==''.join(gene_list)]['predictions'].values[0]\n",
    "print(f'COVID protein stability score {origin_seq_score:.4f}')\n",
    "print(top_10)\n",
    "best_mutated_seq = top_10.iloc[0]['sequences']"
   ]
  },
  {
   "cell_type": "markdown",
   "metadata": {},
   "source": [
    "# Protein Folding\n",
    "\n",
    "Check if the stabilized protein has a similar 3D structure to the wild-type antigen."
   ]
  },
  {
   "cell_type": "code",
   "execution_count": null,
   "metadata": {},
   "outputs": [],
   "source": [
    "# Structure prediction\n",
    "!rm -rf tmp_str # cleaning up is necessary because the decoder will skip already existing files\n",
    "!mkdir -p tmp_str"
   ]
  },
  {
   "cell_type": "code",
   "execution_count": null,
   "metadata": {},
   "outputs": [],
   "source": [
    "# visualize top 10 structures\n",
    "df = pd.DataFrame(data={\"idx\": [i for i in range(10)], \"aa_seq\": [top_10['sequences'].values[i] for i in range(10)], \"seq_len\": [len(best_mutated_seq)]*10})\n",
    "df.to_csv(\"tmp_str/tmp.csv\", index=False)"
   ]
  },
  {
   "cell_type": "code",
   "execution_count": null,
   "metadata": {},
   "outputs": [],
   "source": [
    "# language model: amino acid sequence -> structure tokens\n",
    "!WANDB_MODE=dryrun CUDA_VISIBLE_DEVICES=0 mgen predict --config ../AIDO.StructureTokenizer/protein2structoken_16b.yaml \\\n",
    "            --data.init_args.path \"csv\" \\\n",
    "            --data.init_args.test_split_files [\"tmp_str/tmp.csv\"]"
   ]
  },
  {
   "cell_type": "code",
   "execution_count": null,
   "metadata": {},
   "outputs": [],
   "source": [
    "# post process\n",
    "!python ../../AIDO.StructureTokenizer/struct_token_format_conversion.py logs/protein2structoken_16b/predict_predictions.tsv logs/protein2structoken_16b/predict_predictions.pt\n",
    "!python ../../AIDO.StructureTokenizer/extract_structure_tokenizer_codebook.py --output_path logs/protein2structoken_16b/codebook.pt"
   ]
  },
  {
   "cell_type": "code",
   "execution_count": null,
   "metadata": {},
   "outputs": [],
   "source": [
    "# Decode: structure tokens -> 3D coordinates\n",
    "!WANDB_MODE=dryrun CUDA_VISIBLE_DEVICES=0,1,2,3 mgen predict --config ../AIDO.StructureTokenizer/decode.yaml \\\n",
    " --data.init_args.config.struct_tokens_datasets_configs.name=protein2structoken_16b \\\n",
    " --data.init_args.config.struct_tokens_datasets_configs.struct_tokens_path=./logs/protein2structoken_16b/predict_predictions.pt \\\n",
    " --data.init_args.config.struct_tokens_datasets_configs.codebook_path=./logs/protein2structoken_16b/codebook.pt \\\n",
    " --data.init_args.config.struct_tokens_datasets_configs.batch_size=1"
   ]
  },
  {
   "cell_type": "code",
   "execution_count": null,
   "metadata": {},
   "outputs": [],
   "source": [
    "from modelgenerator.structure_tokenizer.datasets.protein import Protein\n",
    "from modelgenerator.structure_tokenizer.utils.constants import residue_constants as RC\n",
    "prediction = \"logs/protstruct_decode/protein2structoken_16b_pdb_files/4__output.pdb\"\n",
    "ground_truth = f\"{pdb_id}_{chain_id}.pdb\"\n",
    "# drop the additional chain in the ground truth before visualization\n",
    "Protein.from_pdb_file_path(f'{pdb_id}.pdb', chain_id).to_pdb(f\"{pdb_id}_{chain_id}.pdb\")"
   ]
  },
  {
   "cell_type": "markdown",
   "metadata": {},
   "source": [
    "# Ground Truth Structure"
   ]
  },
  {
   "cell_type": "code",
   "execution_count": null,
   "metadata": {},
   "outputs": [],
   "source": [
    "from genbio_scripts import plotting_utils\n",
    "pdb_id, chain_id = '6vxx', 'A'\n",
    "plotting_utils.show_protein(f\"{pdb_id}_{chain_id}.pdb\")"
   ]
  },
  {
   "cell_type": "markdown",
   "metadata": {},
   "source": [
    "# Stabilized Structure"
   ]
  },
  {
   "cell_type": "code",
   "execution_count": null,
   "metadata": {},
   "outputs": [],
   "source": [
    "plotting_utils.show_protein(prediction)"
   ]
  }
 ],
 "metadata": {
  "kernelspec": {
   "display_name": "mgen",
   "language": "python",
   "name": "python3"
  },
  "language_info": {
   "codemirror_mode": {
    "name": "ipython",
    "version": 3
   },
   "file_extension": ".py",
   "mimetype": "text/x-python",
   "name": "python",
   "nbconvert_exporter": "python",
   "pygments_lexer": "ipython3",
   "version": "3.10.16"
  }
 },
 "nbformat": 4,
 "nbformat_minor": 2
}
