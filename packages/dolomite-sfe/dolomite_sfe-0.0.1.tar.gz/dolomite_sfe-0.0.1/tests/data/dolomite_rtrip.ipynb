{
 "cells": [
  {
   "cell_type": "code",
   "execution_count": 1,
   "id": "8e721e55",
   "metadata": {},
   "outputs": [
    {
     "data": {
      "text/plain": [
       "'0.0.post1.dev3+gf1c7a09.d20250513'"
      ]
     },
     "execution_count": 1,
     "metadata": {},
     "output_type": "execute_result"
    }
   ],
   "source": [
    "import dolomite_sfe as dsfe\n",
    "\n",
    "dsfe.__version__"
   ]
  },
  {
   "cell_type": "code",
   "execution_count": null,
   "id": "51b054cb",
   "metadata": {},
   "outputs": [],
   "source": [
    "path = \"./sfe_save\""
   ]
  },
  {
   "cell_type": "code",
   "execution_count": 3,
   "id": "b149ff01",
   "metadata": {},
   "outputs": [
    {
     "name": "stdout",
     "output_type": "stream",
     "text": [
      "./tests/data/sfe_save {'summarized_experiment': {'version': '1.0', 'dimensions': [398, 6272]}, 'type': 'spatial_feature_experiment', 'ranged_summarized_experiment': {'version': '1.0'}, 'single_cell_experiment': {'version': '1.0'}, 'spatial_experiment': {'version': '1.2'}, 'spatial_feature_experiment': {'version': '1.10.1', 'unit': 'micron'}} {}\n",
      "class: SpatialExperiment\n",
      "dimensions: (398, 6272)\n",
      "assays(2): ['counts', 'logcounts']\n",
      "row_data columns(5): ['ID', 'Symbol', 'Type', 'moran_sample01', 'K_sample01']\n",
      "row_names(398): ['ABCC11', 'ACE2', 'ACKR1', ..., 'UnassignedCodeword_0479', 'UnassignedCodeword_0488', 'UnassignedCodeword_0497']\n",
      "column_data columns(10): ['transcript_counts', 'control_probe_counts', 'control_codeword_counts', 'unassigned_codeword_counts', 'deprecated_codeword_counts', 'total_counts', 'cell_area', 'nucleus_area', 'sample_id', 'sizeFactor']\n",
      "column_names(6272): ['abclkehb-1', 'abcnopgp-1', 'abcobdon-1', ..., 'odmglico-1', 'odmgoega-1', 'odmgojlc-1']\n",
      "main_experiment_name:  \n",
      "reduced_dims(0): []\n",
      "alternative_experiments(0): []\n",
      "row_pairs(0): []\n",
      "column_pairs(0): []\n",
      "metadata(1): Samples\n",
      "spatial_coords columns(0): []\n",
      "img_data columns(4): ['sample_id', 'image_id', 'data', 'scale_factor']\n",
      "BiocFrame with 1 row and 4 columns\n",
      "            sample_id          image_id                                     data       scale_factor\n",
      "    <ndarray[str256]> <ndarray[str512]>                                   <list> <ndarray[float64]>\n",
      "[0]          sample01  morphology_focus class: BioFormatsImage\n",
      "path: tests/da...                1.0\n",
      "['FUN'='findSpatialNeighbors', 'package'=NamedList(data=['SpatialFeatureExperiment', '1.10.1']), 'args'=NamedList(data=['knearneigh', 5.0, 'bioc', 'none', 'W', 1.0, True, 'sample01', 'spatialCoords', 2.0], names=Names(['method', 'k', 'nn_method', 'dist_type', 'style', 'alpha', 'zero.policy', 'sample_id', 'type', 'MARGIN']))] <Compressed Sparse Row sparse matrix of dtype 'float64'\n",
      "\twith 31360 stored elements and shape (6272, 6272)>\n",
      "  Coords\tValues\n",
      "  (0, 2)\t0.2\n",
      "  (0, 3)\t0.2\n",
      "  (0, 10)\t0.2\n",
      "  (0, 12)\t0.2\n",
      "  (0, 4459)\t0.2\n",
      "  (1, 2)\t0.2\n",
      "  (1, 3)\t0.2\n",
      "  (1, 26)\t0.2\n",
      "  (1, 28)\t0.2\n",
      "  (1, 4458)\t0.2\n",
      "  (2, 0)\t0.2\n",
      "  (2, 1)\t0.2\n",
      "  (2, 3)\t0.2\n",
      "  (2, 28)\t0.2\n",
      "  (2, 4458)\t0.2\n",
      "  (3, 0)\t0.2\n",
      "  (3, 1)\t0.2\n",
      "  (3, 2)\t0.2\n",
      "  (3, 10)\t0.2\n",
      "  (3, 4459)\t0.2\n",
      "  (4, 7)\t0.2\n",
      "  (4, 8)\t0.2\n",
      "  (4, 9)\t0.2\n",
      "  (4, 520)\t0.2\n",
      "  (4, 523)\t0.2\n",
      "  :\t:\n",
      "  (6267, 5827)\t0.2\n",
      "  (6267, 6238)\t0.2\n",
      "  (6267, 6239)\t0.2\n",
      "  (6267, 6265)\t0.2\n",
      "  (6267, 6266)\t0.2\n",
      "  (6268, 5879)\t0.2\n",
      "  (6268, 5880)\t0.2\n",
      "  (6268, 5882)\t0.2\n",
      "  (6268, 5883)\t0.2\n",
      "  (6268, 5887)\t0.2\n",
      "  (6269, 1146)\t0.2\n",
      "  (6269, 5902)\t0.2\n",
      "  (6269, 5903)\t0.2\n",
      "  (6269, 5920)\t0.2\n",
      "  (6269, 5921)\t0.2\n",
      "  (6270, 1096)\t0.2\n",
      "  (6270, 5955)\t0.2\n",
      "  (6270, 5956)\t0.2\n",
      "  (6270, 5958)\t0.2\n",
      "  (6270, 5968)\t0.2\n",
      "  (6271, 6016)\t0.2\n",
      "  (6271, 6017)\t0.2\n",
      "  (6271, 6018)\t0.2\n",
      "  (6271, 6019)\t0.2\n",
      "  (6271, 6020)\t0.2\n",
      "<Graph of 6272 nodes and 31360 nonzero edges indexed by\n",
      " [0, 1, 2, 3, 4, ...]>\n",
      "Warning: 'scaleFactor' column missing in SpatialExperiment.img_data. Assuming scale factor of 1.0 for all images.\n"
     ]
    }
   ],
   "source": [
    "import dolomite_base as dlb\n",
    "\n",
    "res = dlb.read_object(path=path)"
   ]
  },
  {
   "cell_type": "code",
   "execution_count": 4,
   "id": "2ca87304",
   "metadata": {},
   "outputs": [
    {
     "name": "stdout",
     "output_type": "stream",
     "text": [
      "class: SpatialFeatureExperiment\n",
      "dimensions: (398, 6272)\n",
      "assays(2): ['counts', 'logcounts']\n",
      "row_data columns(5): ['ID', 'Symbol', 'Type', 'moran_sample01', 'K_sample01']\n",
      "row_names(398): ['ABCC11', 'ACE2', 'ACKR1', ..., 'UnassignedCodeword_0479', 'UnassignedCodeword_0488', 'UnassignedCodeword_0497']\n",
      "column_data columns(10): ['transcript_counts', 'control_probe_counts', 'control_codeword_counts', 'unassigned_codeword_counts', 'deprecated_codeword_counts', 'total_counts', 'cell_area', 'nucleus_area', 'sample_id', 'sizeFactor']\n",
      "column_names(6272): ['abclkehb-1', 'abcnopgp-1', 'abcobdon-1', ..., 'odmglico-1', 'odmgoega-1', 'odmgojlc-1']\n",
      "main_experiment_name:  \n",
      "reduced_dims(0): []\n",
      "alternative_experiments(0): []\n",
      "row_pairs(0): []\n",
      "column_pairs(0): []\n",
      "metadata(1): Samples\n",
      "spatial_coords columns(0): []\n",
      "img_data columns(5): ['sample_id', 'image_id', 'data', 'scale_factor', 'scaleFactor']\n",
      "unit: None\n",
      "Geometries:\n",
      "col_geometries(3): centroids cellSeg nucSeg\n",
      "row_geometries(1): txSpots\n",
      "\n",
      "Graphs:spatial_graphs(1):sample01\n",
      "\n"
     ]
    }
   ],
   "source": [
    "print(res)"
   ]
  },
  {
   "cell_type": "code",
   "execution_count": 6,
   "id": "34a2583d",
   "metadata": {},
   "outputs": [
    {
     "data": {
      "text/plain": [
       "dict_keys(['centroids', 'cellSeg', 'nucSeg'])"
      ]
     },
     "execution_count": 6,
     "metadata": {},
     "output_type": "execute_result"
    }
   ],
   "source": [
    "res.get_col_geometries().keys()"
   ]
  },
  {
   "cell_type": "code",
   "execution_count": 13,
   "id": "9b869073",
   "metadata": {},
   "outputs": [
    {
     "data": {
      "text/html": [
       "<div>\n",
       "<style scoped>\n",
       "    .dataframe tbody tr th:only-of-type {\n",
       "        vertical-align: middle;\n",
       "    }\n",
       "\n",
       "    .dataframe tbody tr th {\n",
       "        vertical-align: top;\n",
       "    }\n",
       "\n",
       "    .dataframe thead th {\n",
       "        text-align: right;\n",
       "    }\n",
       "</style>\n",
       "<table border=\"1\" class=\"dataframe\">\n",
       "  <thead>\n",
       "    <tr style=\"text-align: right;\">\n",
       "      <th></th>\n",
       "      <th>geometry</th>\n",
       "    </tr>\n",
       "    <tr>\n",
       "      <th>rownames</th>\n",
       "      <th></th>\n",
       "    </tr>\n",
       "  </thead>\n",
       "  <tbody>\n",
       "    <tr>\n",
       "      <th>abclkehb-1</th>\n",
       "      <td>POINT (197.545 -810.519)</td>\n",
       "    </tr>\n",
       "    <tr>\n",
       "      <th>abcnopgp-1</th>\n",
       "      <td>POINT (181.218 -815.187)</td>\n",
       "    </tr>\n",
       "    <tr>\n",
       "      <th>abcobdon-1</th>\n",
       "      <td>POINT (186.657 -813.361)</td>\n",
       "    </tr>\n",
       "    <tr>\n",
       "      <th>abcohgbl-1</th>\n",
       "      <td>POINT (192.755 -811.894)</td>\n",
       "    </tr>\n",
       "    <tr>\n",
       "      <th>abcoochm-1</th>\n",
       "      <td>POINT (231.293 -800.422)</td>\n",
       "    </tr>\n",
       "    <tr>\n",
       "      <th>...</th>\n",
       "      <td>...</td>\n",
       "    </tr>\n",
       "    <tr>\n",
       "      <th>odmfjplg-1</th>\n",
       "      <td>POINT (687.908 -727.991)</td>\n",
       "    </tr>\n",
       "    <tr>\n",
       "      <th>odmfpjop-1</th>\n",
       "      <td>POINT (885.647 -659.807)</td>\n",
       "    </tr>\n",
       "    <tr>\n",
       "      <th>odmglico-1</th>\n",
       "      <td>POINT (833.775 -755.541)</td>\n",
       "    </tr>\n",
       "    <tr>\n",
       "      <th>odmgoega-1</th>\n",
       "      <td>POINT (929.854 -758.582)</td>\n",
       "    </tr>\n",
       "    <tr>\n",
       "      <th>odmgojlc-1</th>\n",
       "      <td>POINT (921.586 -652.168)</td>\n",
       "    </tr>\n",
       "  </tbody>\n",
       "</table>\n",
       "<p>6272 rows × 1 columns</p>\n",
       "</div>"
      ],
      "text/plain": [
       "                            geometry\n",
       "rownames                            \n",
       "abclkehb-1  POINT (197.545 -810.519)\n",
       "abcnopgp-1  POINT (181.218 -815.187)\n",
       "abcobdon-1  POINT (186.657 -813.361)\n",
       "abcohgbl-1  POINT (192.755 -811.894)\n",
       "abcoochm-1  POINT (231.293 -800.422)\n",
       "...                              ...\n",
       "odmfjplg-1  POINT (687.908 -727.991)\n",
       "odmfpjop-1  POINT (885.647 -659.807)\n",
       "odmglico-1  POINT (833.775 -755.541)\n",
       "odmgoega-1  POINT (929.854 -758.582)\n",
       "odmgojlc-1  POINT (921.586 -652.168)\n",
       "\n",
       "[6272 rows x 1 columns]"
      ]
     },
     "execution_count": 13,
     "metadata": {},
     "output_type": "execute_result"
    }
   ],
   "source": [
    "res.get_col_geometries()[\"centroids\"]"
   ]
  },
  {
   "cell_type": "code",
   "execution_count": null,
   "id": "f56bad4e",
   "metadata": {},
   "outputs": [],
   "source": []
  }
 ],
 "metadata": {
  "kernelspec": {
   "display_name": "biocpy",
   "language": "python",
   "name": "python3"
  },
  "language_info": {
   "codemirror_mode": {
    "name": "ipython",
    "version": 3
   },
   "file_extension": ".py",
   "mimetype": "text/x-python",
   "name": "python",
   "nbconvert_exporter": "python",
   "pygments_lexer": "ipython3",
   "version": "3.12.8"
  }
 },
 "nbformat": 4,
 "nbformat_minor": 5
}
