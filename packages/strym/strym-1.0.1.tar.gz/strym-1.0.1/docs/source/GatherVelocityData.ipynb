{
 "cells": [
  {
   "cell_type": "markdown",
   "metadata": {},
   "source": [
    "# Aggregating Velocity Data"
   ]
  },
  {
   "cell_type": "markdown",
   "metadata": {},
   "source": [
    "In this notebook, we will write a code to gather velocity data from all the drives we have done so far."
   ]
  },
  {
   "cell_type": "code",
   "execution_count": null,
   "metadata": {},
   "outputs": [],
   "source": [
    "from strym import strymread\n",
    "import strym\n",
    "import glob\n",
    "import pandas as pd\n",
    "import os"
   ]
  },
  {
   "cell_type": "code",
   "execution_count": null,
   "metadata": {},
   "outputs": [],
   "source": [
    "parentfolder = \"../../PandaData/\"\n",
    "csvlist = []\n",
    "folderlist = glob.glob(parentfolder+\"*\")\n",
    "speedlist = []\n",
    "for datafolder in folderlist:\n",
    "    csvlisttmp = glob.glob(datafolder+\"/*.csv\")\n",
    "    for f in csvlisttmp:\n",
    "        if \"CAN\" not in f:\n",
    "            continue\n",
    "        csvlist.append(f)\n"
   ]
  },
  {
   "cell_type": "code",
   "execution_count": null,
   "metadata": {
    "scrolled": true
   },
   "outputs": [],
   "source": [
    "vel_directory = '../../speed/'\n",
    "if not os.path.exists(vel_directory):\n",
    "    os.mkdir(vel_directory)\n",
    "for csv in csvlist:\n",
    "    print(\"\\nReading the CSV file {}\".format(csv))\n",
    "    pathsplit = csv.split('/')\n",
    "    speedfile = vel_directory + pathsplit[-1][0:-4] + \"_speed.csv\"\n",
    "    if os.path.exists(speedfile):\n",
    "        continue\n",
    "    \n",
    "    r = strymread(csvfile=csv)\n",
    "    if r.success == True :\n",
    "        speed = r.speed()\n",
    "        print(\"Writing Speed Data to CSV file {}\\n\".format(speedfile))\n",
    "        speed.to_csv(speedfile)"
   ]
  }
 ],
 "metadata": {
  "kernelspec": {
   "display_name": "Python 3",
   "language": "python",
   "name": "python3"
  },
  "language_info": {
   "codemirror_mode": {
    "name": "ipython",
    "version": 3
   },
   "file_extension": ".py",
   "mimetype": "text/x-python",
   "name": "python",
   "nbconvert_exporter": "python",
   "pygments_lexer": "ipython3",
   "version": "3.7.5"
  }
 },
 "nbformat": 4,
 "nbformat_minor": 2
}
