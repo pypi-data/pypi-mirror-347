{
 "cells": [
  {
   "cell_type": "code",
   "execution_count": null,
   "metadata": {},
   "outputs": [],
   "source": [
    "!pip install scipy dask matplotlib"
   ]
  },
  {
   "cell_type": "code",
   "execution_count": null,
   "metadata": {},
   "outputs": [],
   "source": [
    "from pathlib import Path\n",
    "from zipfile import ZipFile\n",
    "\n",
    "from rich.progress import track\n",
    "from jupytergis.tiler import GISDocument\n",
    "import httpx\n",
    "import rioxarray\n",
    "import xarray as xr\n",
    "import scipy.ndimage"
   ]
  },
  {
   "cell_type": "markdown",
   "metadata": {},
   "source": [
    "We first download the awesome [HydroSHEDS](https://hydrosheds.org) dataset, and in particular the flow accumulation for South America. You can think of flow accumulation as a potential river flow, so we will have a visual representation of rivers, including the great Amazon river."
   ]
  },
  {
   "cell_type": "code",
   "execution_count": null,
   "metadata": {},
   "outputs": [],
   "source": [
    "url = \"https://edcintl.cr.usgs.gov/downloads/sciweb1/shared/hydrosheds/sa_30s_zip_grid/sa_acc_30s_grid.zip\"\n",
    "filename = Path(url).name\n",
    "name = filename[: filename.find(\"_grid\")]\n",
    "adffile = Path(name) / name / \"w001001.adf\"\n",
    "\n",
    "if not adffile.exists():\n",
    "    with httpx.stream(\"GET\", url) as r, open(filename, \"wb\") as f:\n",
    "        total = int(r.headers[\"Content-Length\"]) / 1024\n",
    "        for data in track(\n",
    "            r.iter_bytes(chunk_size=1024), total=total, description=\"Downloading\"\n",
    "        ):\n",
    "            f.write(data)\n",
    "        f.flush()\n",
    "    zip = ZipFile(filename)\n",
    "    zip.extractall(\".\")"
   ]
  },
  {
   "cell_type": "markdown",
   "metadata": {},
   "source": [
    "Let's open the box and see what's in there."
   ]
  },
  {
   "cell_type": "code",
   "execution_count": null,
   "metadata": {},
   "outputs": [],
   "source": [
    "da = rioxarray.open_rasterio(adffile, masked=True)\n",
    "da"
   ]
  },
  {
   "cell_type": "markdown",
   "metadata": {},
   "source": [
    "We just need to select the band. We will also chunk it in order to improve performances."
   ]
  },
  {
   "cell_type": "code",
   "execution_count": null,
   "metadata": {},
   "outputs": [],
   "source": [
    "da = da.sel(band=1)\n",
    "da = da.chunk(dict(x=1000, y=1000))"
   ]
  },
  {
   "cell_type": "code",
   "execution_count": null,
   "metadata": {},
   "outputs": [],
   "source": [
    "vmin, vmax = int(da.min().compute()), int(da.max().compute())\n",
    "vmin, vmax"
   ]
  },
  {
   "cell_type": "code",
   "execution_count": null,
   "metadata": {},
   "outputs": [],
   "source": [
    "from titiler.core.algorithm import BaseAlgorithm\n",
    "from rio_tiler.models import ImageData\n",
    "import numpy as np\n",
    "\n",
    "class Log(BaseAlgorithm):\n",
    "    def __call__(self, img: ImageData) -> ImageData:\n",
    "        radius = 2\n",
    "        circle = np.zeros((2*radius+1, 2*radius+1)).astype(\"uint8\")\n",
    "        y, x = np.ogrid[-radius:radius+1, -radius:radius+1]\n",
    "        index = x**2 + y**2 <= radius**2\n",
    "        circle[index] = 1\n",
    "        data = np.sqrt(img.data[0])\n",
    "        data = scipy.ndimage.maximum_filter(data, footprint=circle)\n",
    "        return ImageData(\n",
    "            data,\n",
    "            img.mask,\n",
    "            assets=img.assets,\n",
    "            crs=img.crs,\n",
    "            bounds=img.bounds,\n",
    "        )"
   ]
  },
  {
   "cell_type": "code",
   "execution_count": null,
   "metadata": {},
   "outputs": [],
   "source": [
    "doc = GISDocument()\n",
    "doc"
   ]
  },
  {
   "cell_type": "code",
   "execution_count": null,
   "metadata": {
    "scrolled": true
   },
   "outputs": [],
   "source": [
    "await doc.add_tiler_layer(\n",
    "    name=\"Flow accumulation layer\",\n",
    "    data_array=da,\n",
    "    colormap_name=\"viridis\",\n",
    "    rescale=np.sqrt([vmin, vmax]),\n",
    "    algorithm=Log,\n",
    "    reproject=\"max\",\n",
    ")"
   ]
  }
 ],
 "metadata": {
  "kernelspec": {
   "display_name": "Python 3 (ipykernel)",
   "language": "python",
   "name": "python3"
  },
  "language_info": {
   "codemirror_mode": {
    "name": "ipython",
    "version": 3
   },
   "file_extension": ".py",
   "mimetype": "text/x-python",
   "name": "python",
   "nbconvert_exporter": "python",
   "pygments_lexer": "ipython3",
   "version": "3.13.3"
  }
 },
 "nbformat": 4,
 "nbformat_minor": 4
}
