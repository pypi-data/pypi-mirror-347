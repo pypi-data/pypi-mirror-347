{
 "cells": [
  {
   "cell_type": "code",
   "execution_count": null,
   "id": "b2272198",
   "metadata": {},
   "outputs": [],
   "source": [
    "from labda import Subject\n",
    "\n",
    "gps = Subject.from_parquet(\"../examples/test_data/gps.parquet\")\n",
    "# gps.set_timezone(\"Europe/Prague\")\n",
    "motus = Subject.from_parquet(\"../examples/test_data/motus.parquet\")\n",
    "\n",
    "motus.resample(gps.metadata.sampling_frequency, drop=True)\n",
    "motus.metadata.timezone = \"UTC\"\n",
    "motus.set_timezone(gps.metadata.timezone)\n",
    "motus.id = gps.id\n",
    "gps.merge(motus, how=\"inner\")\n",
    "gps.to_parquet(\"../examples/test_data/test_01.parquet\")"
   ]
  },
  {
   "cell_type": "code",
   "execution_count": null,
   "id": "58843af2",
   "metadata": {},
   "outputs": [],
   "source": [
    "from labda import Subject, Features\n",
    "from labda.spatial.transportation import TRANSPORTATION_CUT_POINTS\n",
    "\n",
    "sbj = Subject.from_parquet(\"../examples/test_data/test_01.parquet\")\n",
    "\n",
    "params = {\n",
    "    \"stop_radius\": 40,\n",
    "    \"stop_duration\": \"4min\",\n",
    "    \"pause_radius\": 20,\n",
    "    \"pause_duration\": \"2min\",\n",
    "    \"min_duration\": \"2min\",\n",
    "    \"indoor_limit\": None,\n",
    "    \"turn_angle\": 90,\n",
    "}\n",
    "sbj.detect_trips(**params, overwrite=True)\n",
    "sbj.detect_transportation(TRANSPORTATION_CUT_POINTS[\"heidler_2025\"], overwrite=True)\n",
    "\n",
    "features = Features.from_dataframe(sbj.df, sbj.metadata.crs)\n",
    "sbj.detect_locations(features, overwrite=True)\n",
    "\n",
    "sbj.to_parquet(\"../examples/test_data/test_01_detected.parquet\")"
   ]
  },
  {
   "cell_type": "code",
   "execution_count": null,
   "id": "4ce3ad8c",
   "metadata": {},
   "outputs": [],
   "source": [
    "from labda import Subject\n",
    "\n",
    "sbj = Subject.from_parquet(\"../examples/test_data/test_01_detected.parquet\")\n",
    "# sbj.set_timeframe(\"2025-02-04 14:00\", \"2025-02-04 16:00\")\n",
    "\n",
    "sbj.plot(\"map\", color=\"osm_location\")\n",
    "\n",
    "temp = sbj.df.copy()\n",
    "# df = df[df[\"trip_id\"] == 2]\n",
    "trips = temp[temp[\"trip_status\"] == \"transport\"]\n",
    "\n",
    "ids = temp.groupby(\"trip_id\")\n",
    "\n",
    "for x, id in ids:\n",
    "    statuses = id[\"trip_status\"].unique()\n",
    "    if len(statuses) > 1:\n",
    "        print(x, statuses.tolist())"
   ]
  },
  {
   "cell_type": "code",
   "execution_count": null,
   "id": "963c6202",
   "metadata": {},
   "outputs": [],
   "source": [
    "from labda import Subject\n",
    "\n",
    "sbj = Subject.from_parquet(\"../examples/test_data/test_01_detected.parquet\")\n",
    "summary = sbj.get_summary([\"trip_transport\"])\n",
    "timeline = sbj.get_timeline(\"transport\")\n",
    "timeline"
   ]
  }
 ],
 "metadata": {
  "kernelspec": {
   "display_name": ".venv",
   "language": "python",
   "name": "python3"
  },
  "language_info": {
   "codemirror_mode": {
    "name": "ipython",
    "version": 3
   },
   "file_extension": ".py",
   "mimetype": "text/x-python",
   "name": "python",
   "nbconvert_exporter": "python",
   "pygments_lexer": "ipython3",
   "version": "3.12.3"
  }
 },
 "nbformat": 4,
 "nbformat_minor": 5
}
