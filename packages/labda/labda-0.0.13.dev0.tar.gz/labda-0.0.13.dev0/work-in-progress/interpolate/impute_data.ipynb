{
 "cells": [
  {
   "cell_type": "code",
   "execution_count": 89,
   "id": "f57d8826",
   "metadata": {},
   "outputs": [],
   "source": [
    "from labda import Subject\n",
    "import pandas as pd\n",
    "\n",
    "sbj = Subject.from_parquet(\"temp.parquet\")\n",
    "crs = sbj.metadata.crs\n",
    "sampling_frequency = sbj.metadata.sampling_frequency\n",
    "sbj.add_timedelta()\n",
    "sbj.add_distance()\n",
    "sbj.add_speed()\n",
    "\n",
    "df = sbj.df"
   ]
  },
  {
   "cell_type": "code",
   "execution_count": 90,
   "id": "60931b7b",
   "metadata": {},
   "outputs": [],
   "source": [
    "from labda.spatial.interpolate import interpolate\n",
    "\n",
    "\n",
    "df = sbj.df.copy()\n",
    "df_removed = df.loc[~df[\"remove\"]]\n",
    "\n",
    "limit = \"15m\"\n",
    "window = \"5m\"\n",
    "\n",
    "linear = interpolate(df_removed, sampling_frequency, crs, limit=limit, method=\"linear\")\n",
    "meseck = interpolate(\n",
    "    df_removed, sampling_frequency, crs, limit=limit, method=\"meseck\", window=window\n",
    ")\n",
    "hwang = interpolate(\n",
    "    df_removed, sampling_frequency, crs, limit=limit, method=\"hwang\", window=window\n",
    ")"
   ]
  },
  {
   "cell_type": "code",
   "execution_count": null,
   "id": "610fa176",
   "metadata": {},
   "outputs": [],
   "source": [
    "import numpy as np\n",
    "from labda.spatial.utils import df_to_gdf, valid_coordinates\n",
    "from labda.core.utils import get_rle\n",
    "from datetime import timedelta\n",
    "from prepare_data import get_origin_geodataframe, get_interpolate_geodataframe\n",
    "\n",
    "\n",
    "df_geo = get_origin_geodataframe(df, sampling_frequency, crs)\n",
    "df_geo[[\"geometry\"]].to_file(\"origin.geojson\", driver=\"GeoJSON\")\n",
    "# origin[[\"geometry\", \"start\", \"end\"]].to_file('origin.geojson', driver='GeoJSON')\n",
    "\n",
    "linear_geo = get_interpolate_geodataframe(linear, sampling_frequency, crs)\n",
    "linear_geo[[\"geometry\", \"impute\"]].to_file(\"linear.geojson\", driver=\"GeoJSON\")\n",
    "\n",
    "meseck_geo = get_interpolate_geodataframe(meseck, sampling_frequency, crs)\n",
    "meseck_geo[[\"geometry\", \"impute\"]].to_file(\"meseck.geojson\", driver=\"GeoJSON\")\n",
    "\n",
    "hwang_geo = get_interpolate_geodataframe(hwang, sampling_frequency)\n",
    "hwang_geo[[\"geometry\", \"impute\"]].to_file(\"hwang.geojson\", driver=\"GeoJSON\")"
   ]
  },
  {
   "cell_type": "code",
   "execution_count": null,
   "id": "de4efe98",
   "metadata": {},
   "outputs": [
    {
     "data": {
      "text/plain": [
       "np.float64(19.14711784791216)"
      ]
     },
     "execution_count": 95,
     "metadata": {},
     "output_type": "execute_result"
    }
   ],
   "source": [
    "impute = hwang_geo"
   ]
  }
 ],
 "metadata": {
  "kernelspec": {
   "display_name": ".venv",
   "language": "python",
   "name": "python3"
  },
  "language_info": {
   "codemirror_mode": {
    "name": "ipython",
    "version": 3
   },
   "file_extension": ".py",
   "mimetype": "text/x-python",
   "name": "python",
   "nbconvert_exporter": "python",
   "pygments_lexer": "ipython3",
   "version": "3.12.3"
  }
 },
 "nbformat": 4,
 "nbformat_minor": 5
}
