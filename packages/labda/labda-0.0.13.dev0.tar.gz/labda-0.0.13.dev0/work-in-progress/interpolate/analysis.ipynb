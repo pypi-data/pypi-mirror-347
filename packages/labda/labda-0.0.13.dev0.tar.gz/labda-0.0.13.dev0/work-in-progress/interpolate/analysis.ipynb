{
 "cells": [
  {
   "cell_type": "code",
   "execution_count": null,
   "id": "f6523cdc",
   "metadata": {},
   "outputs": [
    {
     "name": "stdout",
     "output_type": "stream",
     "text": [
      "116\n",
      "108\n",
      "89\n",
      "94\n",
      "86\n",
      "109\n",
      "80\n",
      "111\n",
      "88\n",
      "91\n",
      "85\n",
      "114\n",
      "122\n",
      "Error processing 122: DataFrame is empty.\n",
      "93\n",
      "115\n",
      "117\n",
      "102\n",
      "103\n",
      "105\n",
      "123\n",
      "97\n",
      "96\n",
      "101\n",
      "78\n",
      "79\n",
      "112\n",
      "99\n",
      "82\n",
      "113\n",
      "118\n",
      "92\n",
      "124\n",
      "119\n",
      "121\n",
      "98\n",
      "120\n",
      "87\n",
      "90\n",
      "100\n",
      "104\n"
     ]
    }
   ],
   "source": [
    "from labda import Subject\n",
    "from pathlib import Path\n",
    "from prepare_data import (\n",
    "    randomly_remove_data,\n",
    "    get_origin_geodataframe,\n",
    "    get_interpolate_geodataframe,\n",
    "    get_location_deviation,\n",
    ")\n",
    "from labda.spatial.interpolate import interpolate\n",
    "import pandas as pd\n",
    "\n",
    "files = Path(\"../../temp/Carlson/Processed\").glob(\"*.parquet\")\n",
    "\n",
    "max_missing_bout = \"1m\"\n",
    "min_continous_bout = \"2h\"\n",
    "max_duration = \"15m\"\n",
    "samples = (2, 10)\n",
    "\n",
    "window = \"5m\"\n",
    "\n",
    "results = []\n",
    "\n",
    "for file in files:\n",
    "    sbj = Subject.from_parquet(file)\n",
    "    print(sbj.id)\n",
    "    crs = sbj.metadata.crs\n",
    "    sampling_frequency = sbj.metadata.sampling_frequency\n",
    "    try:\n",
    "        df = randomly_remove_data(\n",
    "            sbj.df,\n",
    "            sampling_frequency,\n",
    "            max_missing_bout,\n",
    "            min_continous_bout,\n",
    "            max_duration,\n",
    "            samples,\n",
    "        )\n",
    "    except Exception as e:\n",
    "        print(f\"Error processing {sbj.id}: {e}\")\n",
    "        continue\n",
    "\n",
    "    df_removed = df.loc[~df[\"remove\"]]\n",
    "    df = get_origin_geodataframe(df, sampling_frequency, crs)\n",
    "\n",
    "    linear = interpolate(\n",
    "        df_removed, sampling_frequency, crs, limit=max_duration, method=\"linear\"\n",
    "    )\n",
    "    linear = get_interpolate_geodataframe(linear, sampling_frequency, crs)\n",
    "    linear = get_location_deviation(df, linear, crs)\n",
    "    linear.name = \"linear\"\n",
    "\n",
    "    meseck = interpolate(\n",
    "        df_removed,\n",
    "        sampling_frequency,\n",
    "        crs,\n",
    "        limit=max_duration,\n",
    "        method=\"meseck\",\n",
    "        window=window,\n",
    "    )\n",
    "    meseck = get_interpolate_geodataframe(meseck, sampling_frequency, crs)\n",
    "    meseck = get_location_deviation(df, meseck, crs)\n",
    "    meseck.name = \"meseck\"\n",
    "\n",
    "    hwang = interpolate(\n",
    "        df_removed,\n",
    "        sampling_frequency,\n",
    "        crs,\n",
    "        limit=max_duration,\n",
    "        method=\"hwang\",\n",
    "        window=window,\n",
    "    )\n",
    "    hwang = get_interpolate_geodataframe(hwang, sampling_frequency, crs)\n",
    "    hwang = get_location_deviation(df, hwang, crs)\n",
    "    hwang.name = \"hwang\"\n",
    "\n",
    "    result = pd.concat([linear, meseck, hwang], axis=1)\n",
    "    result[\"subject\"] = sbj.id\n",
    "    results.append(result)"
   ]
  },
  {
   "cell_type": "code",
   "execution_count": null,
   "id": "8b5655b2",
   "metadata": {},
   "outputs": [
    {
     "name": "stdout",
     "output_type": "stream",
     "text": [
      "90\n",
      "DataFrame is empty or has only two rows. Future features cannot be calculated.\n",
      "DataFrame is empty or has only two rows. Future features cannot be calculated.\n"
     ]
    },
    {
     "data": {
      "text/plain": [
       "impute\n",
       "False            1785\n",
       "stop              636\n",
       "move              129\n",
       "interpolate        30\n",
       "stop-and-move      20\n",
       "Name: count, dtype: int64"
      ]
     },
     "execution_count": 4,
     "metadata": {},
     "output_type": "execute_result"
    }
   ],
   "source": [
    "from labda import Subject\n",
    "from prepare_data import (\n",
    "    randomly_remove_data,\n",
    ")\n",
    "from labda.spatial.interpolate import interpolate\n",
    "import pandas as pd\n",
    "\n",
    "max_missing_bout = \"1m\"\n",
    "min_continous_bout = \"2h\"\n",
    "max_duration = \"15m\"\n",
    "samples = (2, 10)\n",
    "\n",
    "window = \"5m\"\n",
    "\n",
    "sbj = Subject.from_parquet(\"../../temp/Carlson/Processed/90.parquet\")\n",
    "print(sbj.id)\n",
    "crs = sbj.metadata.crs\n",
    "sampling_frequency = sbj.metadata.sampling_frequency\n",
    "# df = randomly_remove_data(\n",
    "#         sbj.df,\n",
    "#         sampling_frequency,\n",
    "#         max_missing_bout,\n",
    "#         min_continous_bout,\n",
    "#         max_duration,\n",
    "#         samples,\n",
    "#     )\n",
    "\n",
    "# df_removed = df.loc[~df[\"remove\"]]\n",
    "# df = get_origin_geodataframe(df, sampling_frequency, crs)\n",
    "\n",
    "df_removed = pd.read_parquet(\"error.parquet\")\n",
    "\n",
    "hwang = interpolate(\n",
    "    df_removed,\n",
    "    sampling_frequency,\n",
    "    crs,\n",
    "    limit=max_duration,\n",
    "    method=\"hwang\",\n",
    "    window=window,\n",
    ")\n",
    "\n",
    "hwang[\"impute\"].value_counts(dropna=False)"
   ]
  },
  {
   "cell_type": "code",
   "execution_count": null,
   "id": "bb3dfd6c",
   "metadata": {},
   "outputs": [],
   "source": [
    "df_removed.to_parquet(\"error.parquet\")"
   ]
  },
  {
   "cell_type": "code",
   "execution_count": 14,
   "id": "f63e5360",
   "metadata": {},
   "outputs": [
    {
     "data": {
      "text/plain": [
       "linear     82.106679\n",
       "meseck    346.359766\n",
       "hwang      84.202062\n",
       "dtype: float64"
      ]
     },
     "execution_count": 14,
     "metadata": {},
     "output_type": "execute_result"
    }
   ],
   "source": [
    "analysis = pd.concat(results, axis=0)\n",
    "analysis[[\"linear\", \"meseck\", \"hwang\"]].mean()"
   ]
  }
 ],
 "metadata": {
  "kernelspec": {
   "display_name": ".venv",
   "language": "python",
   "name": "python3"
  },
  "language_info": {
   "codemirror_mode": {
    "name": "ipython",
    "version": 3
   },
   "file_extension": ".py",
   "mimetype": "text/x-python",
   "name": "python",
   "nbconvert_exporter": "python",
   "pygments_lexer": "ipython3",
   "version": "3.12.3"
  }
 },
 "nbformat": 4,
 "nbformat_minor": 5
}
