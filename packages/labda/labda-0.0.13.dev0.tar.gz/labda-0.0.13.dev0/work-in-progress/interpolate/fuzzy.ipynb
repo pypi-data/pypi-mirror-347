{
 "cells": [
  {
   "cell_type": "code",
   "execution_count": 1,
   "id": "41dc7874",
   "metadata": {},
   "outputs": [],
   "source": [
    "from labda import Subject\n",
    "import pandas as pd\n",
    "\n",
    "sbj = Subject.from_parquet(\"temp.parquet\")\n",
    "crs = sbj.metadata.crs\n",
    "sampling_frequency = sbj.metadata.sampling_frequency"
   ]
  },
  {
   "cell_type": "code",
   "execution_count": 2,
   "id": "fba8ba66",
   "metadata": {},
   "outputs": [
    {
     "data": {
      "text/plain": [
       "np.float32(0.49380553)"
      ]
     },
     "execution_count": 2,
     "metadata": {},
     "output_type": "execute_result"
    }
   ],
   "source": [
    "from labda.spatial.fuzzy_features import get_fuzzy_features\n",
    "\n",
    "\n",
    "df = sbj.df.copy()\n",
    "df = df.iloc[:100]\n",
    "\n",
    "fuzzy = get_fuzzy_features(df, crs)\n",
    "fuzzy[\"probabilities\"][\"stop\"][\"value\"]"
   ]
  }
 ],
 "metadata": {
  "kernelspec": {
   "display_name": ".venv",
   "language": "python",
   "name": "python3"
  },
  "language_info": {
   "codemirror_mode": {
    "name": "ipython",
    "version": 3
   },
   "file_extension": ".py",
   "mimetype": "text/x-python",
   "name": "python",
   "nbconvert_exporter": "python",
   "pygments_lexer": "ipython3",
   "version": "3.12.3"
  }
 },
 "nbformat": 4,
 "nbformat_minor": 5
}
