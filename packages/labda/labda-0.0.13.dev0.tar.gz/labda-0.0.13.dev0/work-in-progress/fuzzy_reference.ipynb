{
 "cells": [
  {
   "cell_type": "code",
   "execution_count": null,
   "metadata": {},
   "outputs": [],
   "source": [
    "from labda import Subject\n",
    "from labda.core.utils import get_missing_records\n",
    "from labda.spatial.impute import impute_gaps\n",
    "\n",
    "sbj = Subject.from_parquet(\"78_carlson.parquet\")\n",
    "sf = sbj.metadata.sampling_frequency\n",
    "crs = sbj.metadata.crs\n",
    "timezone = sbj.metadata.timezone\n",
    "\n",
    "# sbj.df = sbj.df[[\"latitude\", \"longitude\"]]\n",
    "# sbj.set_timeframe(start=\"2011-07-14 08:45:00\", end=\"2011-07-14 09:15:00\")\n",
    "\n",
    "distance = 100\n",
    "velocity = 1 * 3.6\n",
    "duration = \"5m\"\n",
    "\n",
    "df = sbj.df\n",
    "nsat_used = (df[df[\"nsat_used\"] < 4]).index\n",
    "df.drop(nsat_used, inplace=True)\n",
    "# df.drop(index=df.iloc[60:90].index, inplace=True)\n",
    "missing_records = get_missing_records(df, sf)\n",
    "\n",
    "if missing_records.empty:\n",
    "    raise ValueError(\"No missing records found.\")\n",
    "\n",
    "\n",
    "df, gaps, fuzzy = impute_gaps(df, crs, sf, duration, duration, velocity, distance)\n",
    "fuzzy"
   ]
  },
  {
   "cell_type": "markdown",
   "metadata": {},
   "source": [
    "1 m/s, 100 m - STOP if less than that.\n",
    "IMPUTED if both gap distance and velocity large\n",
    "\n",
    "large gap distance, small velocity - SAM (stop-and-move)\n",
    "small gap, large velocity - SOM (stop or move)\n",
    "\n",
    "MV - gap velocity (1 m/s)\n",
    "SR - gap distance (100 m)\n",
    "\n",
    "Any gaps ranging from 90 sec to 2 days (tracking period) are imputed.\n",
    "\n",
    "imputed only if between MinStopDuration and MaxStopDuration\n",
    "\n",
    "#####\n",
    "\n",
    "HDOP >= 4\n",
    "low number of satellites used < 4\n",
    "no location fix\n",
    "redudant records small distance < 10 or less (depending on interval)\n",
    "\n",
    "> 45 m/s removed,\n",
    "abrupt location change - a location deviation score is calculated as a ratio of the distance between the current point p and the representative location of p’s temporal neighbor to standard distance of p’s temporal neighbor. The higher the location deviation score, the more the current location is deviated from its temporal neighbor. Data points with a location deviation score >2.4 are marked as outliers based on experimentations.\n",
    "\n",
    "fuzzy - "
   ]
  },
  {
   "cell_type": "code",
   "execution_count": null,
   "metadata": {},
   "outputs": [],
   "source": [
    "import pandas as pd\n",
    "\n",
    "from labda.core.resample import resample\n",
    "from labda.spatial.expanders import get_distance, get_speed\n",
    "\n",
    "df = pd.read_parquet(\"../temp/actigraph_qstarz_testing_files/test.parquet\")\n",
    "metadata = df.attrs\n",
    "crs = metadata[\"crs\"]\n",
    "\n",
    "df = resample(df, \"15s\")\n",
    "df[\"speed\"] = get_speed(df)\n",
    "df[\"distance\"] = get_distance(df, crs)\n",
    "# all_nan_rows = df[df.isna().all(axis=1)]\n",
    "# all_nan_rows"
   ]
  },
  {
   "cell_type": "code",
   "execution_count": null,
   "metadata": {},
   "outputs": [],
   "source": [
    "df[\"info\"] = \"valid\"\n",
    "df.loc[(df[\"speed\"] > 200), \"info\"] = \"high_speed\"\n",
    "df.loc[(df[\"snr_used\"] < 100), \"info\"] = \"low_snr\"\n",
    "df.loc[(df[\"sat_ratio\"] < 0.5), \"info\"] = \"low_sat_ratio\"\n",
    "df.loc[df[\"sat_used\"] < 4, \"info\"] = \"fewer satellites\"\n",
    "df[\"info\"].value_counts()"
   ]
  }
 ],
 "metadata": {
  "kernelspec": {
   "display_name": ".venv",
   "language": "python",
   "name": "python3"
  },
  "language_info": {
   "codemirror_mode": {
    "name": "ipython",
    "version": 3
   },
   "file_extension": ".py",
   "mimetype": "text/x-python",
   "name": "python",
   "nbconvert_exporter": "python",
   "pygments_lexer": "ipython3",
   "version": "3.12.3"
  }
 },
 "nbformat": 4,
 "nbformat_minor": 2
}
