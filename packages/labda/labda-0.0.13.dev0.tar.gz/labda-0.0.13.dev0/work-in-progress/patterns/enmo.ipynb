{
 "cells": [
  {
   "cell_type": "code",
   "execution_count": null,
   "metadata": {},
   "outputs": [],
   "source": [
    "from labda.parsers import Sens\n",
    "from labda import Subject\n",
    "\n",
    "path = \"data/102225.bin\"\n",
    "sbj = Subject.from_parser(*Sens.from_file(path))\n",
    "sbj.calibrate()\n",
    "enmo = sbj.get_enmo(\"1s\")\n",
    "\n",
    "enmo.head()"
   ]
  }
 ],
 "metadata": {
  "kernelspec": {
   "display_name": ".venv",
   "language": "python",
   "name": "python3"
  },
  "language_info": {
   "codemirror_mode": {
    "name": "ipython",
    "version": 3
   },
   "file_extension": ".py",
   "mimetype": "text/x-python",
   "name": "python",
   "nbconvert_exporter": "python",
   "pygments_lexer": "ipython3",
   "version": "3.12.7"
  }
 },
 "nbformat": 4,
 "nbformat_minor": 2
}
