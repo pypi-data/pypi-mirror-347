{
 "cells": [
  {
   "cell_type": "code",
   "execution_count": null,
   "id": "f857208b",
   "metadata": {},
   "outputs": [],
   "source": [
    "from labda import Subject\n",
    "from labda.spatial.osm import features_from_dataframe\n",
    "\n",
    "sbj = Subject.from_parquet(\"560102.parquet\")\n",
    "\n",
    "crs = sbj.metadata.crs\n",
    "df = sbj.df\n",
    "df = df.loc[df[\"trip_status\"] == \"stationary\", [\"latitude\", \"longitude\", \"trip_id\"]]\n",
    "\n",
    "tags = {\n",
    "    \"aerialway\": False,\n",
    "    \"aeroway\": False,\n",
    "    \"amenity\": True,\n",
    "    \"barrier\": False,\n",
    "    \"boundary\": False,\n",
    "    \"building\": True,\n",
    "    \"craft\": True,\n",
    "    \"emergency\": True,\n",
    "    \"geological\": False,\n",
    "    \"healthcare\": True,\n",
    "    \"highway\": False,\n",
    "    \"historic\": False,\n",
    "    \"landuse\": False,\n",
    "    \"leisure\": True,\n",
    "    \"man_made\": False,\n",
    "    \"military\": False,\n",
    "    \"natural\": False,\n",
    "    \"office\": True,\n",
    "    \"place\": False,\n",
    "    \"power\": False,\n",
    "    \"public_transport\": False,\n",
    "    \"railway\": False,\n",
    "    \"route\": False,\n",
    "    \"shop\": True,\n",
    "    \"telecom\": False,\n",
    "    \"tourism\": False,\n",
    "    \"water\": False,\n",
    "    \"waterway\": False,\n",
    "}\n",
    "\n",
    "features = features_from_dataframe(\n",
    "    df, crs, tags, \"trip_id\", buffer=100, elements=[\"way\"], geometry=[\"Polygon\"]\n",
    ")"
   ]
  },
  {
   "cell_type": "code",
   "execution_count": 26,
   "id": "ffdc3f58",
   "metadata": {},
   "outputs": [
    {
     "data": {
      "text/plain": [
       "LocationOSM(id=29383689, name='Næsby Skole', geometry=<POLYGON ((585900.819 6142142.015, 585895.717 6142142.25, 585894.76 6142130....>, amenity='school', building=None, tags=[])"
      ]
     },
     "execution_count": 26,
     "metadata": {},
     "output_type": "execute_result"
    }
   ],
   "source": [
    "from pydantic import (\n",
    "    BaseModel,\n",
    "    ConfigDict,\n",
    "    TypeAdapter,\n",
    "    field_validator,\n",
    "    Field,\n",
    "    model_validator,\n",
    "    BeforeValidator,\n",
    ")\n",
    "from shapely.geometry import Polygon\n",
    "from typing import Annotated, Any, Self\n",
    "import numpy as np\n",
    "import pandas as pd\n",
    "\n",
    "\n",
    "def fix_nan(value: Any) -> Any:\n",
    "    if isinstance(value, float):\n",
    "        value = None if np.isnan(value) else value\n",
    "    else:\n",
    "        return value\n",
    "\n",
    "\n",
    "def fix_building(value: Any) -> str | bool | None:\n",
    "    return True if value == \"yes\" else value\n",
    "\n",
    "\n",
    "def parse_leisure(value: Any) -> str | None:\n",
    "    value = fix_nan(value)\n",
    "\n",
    "    if value and value not in [\"common\"]:\n",
    "        return value\n",
    "\n",
    "\n",
    "# class Address(BaseModel):\n",
    "#     house_number: str | None = Field(alias=\"housenumber\")\n",
    "#     name: str | None = Field(alias=\"housename\")\n",
    "#     conscription_number: str | None = Field(alias=\"conscriptionnumber\")\n",
    "#     street: str | None\n",
    "#     place: str | None\n",
    "#     postcode: str | None\n",
    "#     city: str | None\n",
    "#     country: str | None\n",
    "#     state: str | None\n",
    "\n",
    "\n",
    "class LocationOSM(BaseModel):\n",
    "    id: int = Field(alias=\"osm_id\")\n",
    "    # address: Annotated[str | None, BeforeValidator(fix_nan)]\n",
    "    name: Annotated[str | None, BeforeValidator(fix_nan)]\n",
    "    geometry: Polygon\n",
    "    amenity: Annotated[str | None, BeforeValidator(fix_nan)]\n",
    "    building: Annotated[\n",
    "        str | bool | None, BeforeValidator(fix_nan), BeforeValidator(fix_building)\n",
    "    ]\n",
    "    tags: list[str] = Field(default_factory=list)\n",
    "\n",
    "    model_config = ConfigDict(\n",
    "        arbitrary_types_allowed=True,\n",
    "        extra=\"ignore\",\n",
    "    )\n",
    "\n",
    "    @model_validator(mode=\"before\")\n",
    "    @classmethod\n",
    "    def validate_tags(cls, values: Any) -> Any:\n",
    "        tags = []\n",
    "\n",
    "        tags.append(parse_leisure(values.get(\"leisure\")))\n",
    "        values[\"tags\"] = [tag for tag in tags if tag is not None]\n",
    "\n",
    "        return values\n",
    "\n",
    "\n",
    "class Locations(BaseModel):\n",
    "    values: list[LocationOSM] = Field(default_factory=list)\n",
    "\n",
    "    @classmethod\n",
    "    def _from_features(cls, df: pd.DataFrame) -> Self:\n",
    "        locations = df.reset_index().to_dict(orient=\"records\")\n",
    "        return cls(values=locations)\n",
    "\n",
    "\n",
    "locations = Locations._from_features(features)\n",
    "locations.values[0]"
   ]
  },
  {
   "cell_type": "markdown",
   "id": "eec18fe6",
   "metadata": {},
   "source": [
    "# Columns to keep\n",
    "- brand\n",
    "\n",
    "## Maybe"
   ]
  },
  {
   "cell_type": "code",
   "execution_count": null,
   "id": "1d6f938c",
   "metadata": {},
   "outputs": [],
   "source": [
    "import osmnx as ox\n",
    "\n",
    "# features = ox.features_from_address(\"Odense\", tags, dist=5000)"
   ]
  },
  {
   "cell_type": "code",
   "execution_count": null,
   "id": "79b083b2",
   "metadata": {},
   "outputs": [],
   "source": [
    "f = features.copy()\n",
    "\n",
    "for col in f.columns:\n",
    "    print(col)\n",
    "    print(f\"{f[col].value_counts()}\")\n",
    "    print(\"---\")"
   ]
  },
  {
   "cell_type": "code",
   "execution_count": null,
   "id": "4d86e2af",
   "metadata": {},
   "outputs": [],
   "source": [
    "f[\"addr:place\"]"
   ]
  }
 ],
 "metadata": {
  "kernelspec": {
   "display_name": ".venv",
   "language": "python",
   "name": "python3"
  },
  "language_info": {
   "codemirror_mode": {
    "name": "ipython",
    "version": 3
   },
   "file_extension": ".py",
   "mimetype": "text/x-python",
   "name": "python",
   "nbconvert_exporter": "python",
   "pygments_lexer": "ipython3",
   "version": "3.12.3"
  }
 },
 "nbformat": 4,
 "nbformat_minor": 5
}
