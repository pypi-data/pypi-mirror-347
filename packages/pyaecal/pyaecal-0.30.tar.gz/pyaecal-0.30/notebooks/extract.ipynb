{
 "cells": [
  {
   "cell_type": "code",
   "execution_count": 1,
   "metadata": {},
   "outputs": [],
   "source": [
    "import logging\n",
    "import warnings\n",
    "import os\n",
    "import sys\n",
    "module_path = os.path.abspath(os.path.join('..'))\n",
    "if module_path not in sys.path:\n",
    "    sys.path.append(module_path)\n",
    "\n",
    "warnings.filterwarnings(\"ignore\")\n",
    "\n",
    "logging.basicConfig(stream=sys.stdout, level=logging.INFO)"
   ]
  },
  {
   "cell_type": "code",
   "execution_count": 2,
   "metadata": {},
   "outputs": [],
   "source": [
    "from src.pyaecal.extract import Extract\n",
    "extract = Extract()"
   ]
  },
  {
   "cell_type": "code",
   "execution_count": 3,
   "metadata": {},
   "outputs": [],
   "source": [
    "extract.add_channel('n_Eng','n')\n",
    "extract.add_channel('T_Eng_curr','tq')\n",
    "\n",
    "#extract.add_channel('gmea_s_tcuTrnsShiftInProcess_B','sip', optional=True)"
   ]
  },
  {
   "cell_type": "code",
   "execution_count": 10,
   "metadata": {},
   "outputs": [
    {
     "name": "stdout",
     "output_type": "stream",
     "text": [
      "INFO:root:./data/DEMO_AT.mdf: 62188 rows\n"
     ]
    },
    {
     "data": {
      "text/html": [
       "<div><style>\n",
       ".dataframe > thead > tr,\n",
       ".dataframe > tbody > tr {\n",
       "  text-align: right;\n",
       "  white-space: pre-wrap;\n",
       "}\n",
       "</style>\n",
       "<small>shape: (62_188, 3)</small><table border=\"1\" class=\"dataframe\"><thead><tr><th>offset</th><th>n</th><th>tq</th></tr><tr><td>f32</td><td>f32</td><td>f32</td></tr></thead><tbody><tr><td>0.0</td><td>850.0</td><td>8.0</td></tr><tr><td>0.01</td><td>850.0</td><td>8.0</td></tr><tr><td>0.02</td><td>850.0</td><td>8.0</td></tr><tr><td>0.03</td><td>850.826843</td><td>8.0</td></tr><tr><td>0.04</td><td>851.0</td><td>8.0</td></tr><tr><td>&hellip;</td><td>&hellip;</td><td>&hellip;</td></tr><tr><td>621.830688</td><td>850.0</td><td>-3.25</td></tr><tr><td>621.840637</td><td>850.0</td><td>-3.25</td></tr><tr><td>621.850647</td><td>850.0</td><td>-3.25</td></tr><tr><td>621.860657</td><td>850.0</td><td>-3.25</td></tr><tr><td>621.870667</td><td>850.0</td><td>-3.25</td></tr></tbody></table></div>"
      ],
      "text/plain": [
       "shape: (62_188, 3)\n",
       "┌────────────┬────────────┬───────┐\n",
       "│ offset     ┆ n          ┆ tq    │\n",
       "│ ---        ┆ ---        ┆ ---   │\n",
       "│ f32        ┆ f32        ┆ f32   │\n",
       "╞════════════╪════════════╪═══════╡\n",
       "│ 0.0        ┆ 850.0      ┆ 8.0   │\n",
       "│ 0.01       ┆ 850.0      ┆ 8.0   │\n",
       "│ 0.02       ┆ 850.0      ┆ 8.0   │\n",
       "│ 0.03       ┆ 850.826843 ┆ 8.0   │\n",
       "│ 0.04       ┆ 851.0      ┆ 8.0   │\n",
       "│ …          ┆ …          ┆ …     │\n",
       "│ 621.830688 ┆ 850.0      ┆ -3.25 │\n",
       "│ 621.840637 ┆ 850.0      ┆ -3.25 │\n",
       "│ 621.850647 ┆ 850.0      ┆ -3.25 │\n",
       "│ 621.860657 ┆ 850.0      ┆ -3.25 │\n",
       "│ 621.870667 ┆ 850.0      ┆ -3.25 │\n",
       "└────────────┴────────────┴───────┘"
      ]
     },
     "execution_count": 10,
     "metadata": {},
     "output_type": "execute_result"
    }
   ],
   "source": [
    "# standard extract\n",
    "extract.get_data('./data/DEMO_AT.mdf')"
   ]
  },
  {
   "cell_type": "code",
   "execution_count": 5,
   "metadata": {},
   "outputs": [],
   "source": [
    "# start thread\n",
    "files, data = extract.start()"
   ]
  },
  {
   "cell_type": "code",
   "execution_count": 6,
   "metadata": {},
   "outputs": [],
   "source": [
    "extract.add_directory('./data')"
   ]
  },
  {
   "cell_type": "code",
   "execution_count": 7,
   "metadata": {},
   "outputs": [
    {
     "name": "stdout",
     "output_type": "stream",
     "text": [
      "INFO:root:./data/DEMO_AT.mdf: 62188 rows\n",
      "('DEMO_AT', shape: (62_188, 3)\n",
      "┌────────────┬────────────┬───────┐\n",
      "│ offset     ┆ n          ┆ tq    │\n",
      "│ ---        ┆ ---        ┆ ---   │\n",
      "│ f32        ┆ f32        ┆ f32   │\n",
      "╞════════════╪════════════╪═══════╡\n",
      "│ 0.0        ┆ 850.0      ┆ 8.0   │\n",
      "│ 0.01       ┆ 850.0      ┆ 8.0   │\n",
      "│ 0.02       ┆ 850.0      ┆ 8.0   │\n",
      "│ 0.03       ┆ 850.826843 ┆ 8.0   │\n",
      "│ 0.04       ┆ 851.0      ┆ 8.0   │\n",
      "│ …          ┆ …          ┆ …     │\n",
      "│ 621.830688 ┆ 850.0      ┆ -3.25 │\n",
      "│ 621.840637 ┆ 850.0      ┆ -3.25 │\n",
      "│ 621.850647 ┆ 850.0      ┆ -3.25 │\n",
      "│ 621.860657 ┆ 850.0      ┆ -3.25 │\n",
      "│ 621.870667 ┆ 850.0      ┆ -3.25 │\n",
      "└────────────┴────────────┴───────┘)\n"
     ]
    }
   ],
   "source": [
    "for data in extract:\n",
    "    print(data)"
   ]
  },
  {
   "cell_type": "code",
   "execution_count": 8,
   "metadata": {},
   "outputs": [],
   "source": [
    "import mdfreader as mdfr\n",
    "mdf=mdfr.Mdf('./data/DEMO_AT.mdf')"
   ]
  },
  {
   "cell_type": "code",
   "execution_count": 9,
   "metadata": {},
   "outputs": [
    {
     "data": {
      "text/plain": [
       "OrderedDict([('time',\n",
       "              ['time',\n",
       "               'State_shift_fil',\n",
       "               'State_shift_mode',\n",
       "               'Sig_AccPed',\n",
       "               'n_Eng',\n",
       "               'gear_tar',\n",
       "               'Sig_Brake',\n",
       "               'State_program',\n",
       "               'n_Trans_out_filt',\n",
       "               'State_clc',\n",
       "               'slip_clc_set',\n",
       "               'n_Trans_out',\n",
       "               'State_clutch_new',\n",
       "               'State_clutch_old',\n",
       "               'State_shift_mode_map',\n",
       "               'T_Brake',\n",
       "               'State_shift_spd',\n",
       "               'State_shift_trq',\n",
       "               'T_Eng_curr',\n",
       "               'T_clc',\n",
       "               'T_pump_hydro',\n",
       "               'T_turb',\n",
       "               'Temp_Oil',\n",
       "               'W_dis_rel',\n",
       "               'acc_Veh',\n",
       "               'acc_Veh_offset',\n",
       "               'slope',\n",
       "               'gear_curr_round',\n",
       "               'dn_clutch_new',\n",
       "               'p_clutch_old',\n",
       "               'dn_clutch_new_set',\n",
       "               'dn_clutch_old',\n",
       "               'gear_curr',\n",
       "               'n_Trans_in',\n",
       "               'n_Trans_in_filt',\n",
       "               'n_Whl_fl',\n",
       "               'n_Whl_fr',\n",
       "               'n_Whl_rl',\n",
       "               'n_Whl_rr',\n",
       "               'p_clutch_new',\n",
       "               'v_Veh'])])"
      ]
     },
     "execution_count": 9,
     "metadata": {},
     "output_type": "execute_result"
    }
   ],
   "source": [
    "mdf.masterChannelList"
   ]
  }
 ],
 "metadata": {
  "kernelspec": {
   "display_name": ".venv",
   "language": "python",
   "name": "python3"
  },
  "language_info": {
   "codemirror_mode": {
    "name": "ipython",
    "version": 3
   },
   "file_extension": ".py",
   "mimetype": "text/x-python",
   "name": "python",
   "nbconvert_exporter": "python",
   "pygments_lexer": "ipython3",
   "version": "3.12.7"
  }
 },
 "nbformat": 4,
 "nbformat_minor": 2
}
