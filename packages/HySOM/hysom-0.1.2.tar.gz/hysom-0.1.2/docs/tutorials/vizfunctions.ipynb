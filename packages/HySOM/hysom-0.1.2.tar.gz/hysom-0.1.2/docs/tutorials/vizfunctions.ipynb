{
 "cells": [
  {
   "cell_type": "markdown",
   "id": "9ddf5b27",
   "metadata": {},
   "source": [
    "# This content is currently unavailable "
   ]
  }
 ],
 "metadata": {
  "kernelspec": {
   "display_name": "sphinx_doc",
   "language": "python",
   "name": "python3"
  },
  "language_info": {
   "codemirror_mode": {
    "name": "ipython",
    "version": 3
   },
   "file_extension": ".py",
   "mimetype": "text/x-python",
   "name": "python",
   "nbconvert_exporter": "python",
   "pygments_lexer": "ipython3",
   "version": "3.13.2"
  }
 },
 "nbformat": 4,
 "nbformat_minor": 5
}
