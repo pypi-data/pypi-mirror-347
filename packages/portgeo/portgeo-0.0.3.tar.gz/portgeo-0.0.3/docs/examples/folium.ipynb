{
 "cells": [
  {
   "cell_type": "markdown",
   "id": "0",
   "metadata": {},
   "source": [
    "# Folium Demo\n",
    "\n",
    "[![Open In Colab](https://colab.research.google.com/assets/colab-badge.svg)](https://colab.research.google.com/github/noportman/portgeo/blob/main/docs/examples/foliumap.ipynb)"
   ]
  },
  {
   "cell_type": "code",
   "execution_count": null,
   "id": "1",
   "metadata": {},
   "outputs": [],
   "source": [
    "import portgeo.foliumap as portgeo\n",
    "import geopandas as gpd\n",
    "import pandas as pd"
   ]
  },
  {
   "cell_type": "code",
   "execution_count": null,
   "id": "2",
   "metadata": {},
   "outputs": [],
   "source": [
    "m = portgeo.Map()\n",
    "url = \"https://github.com/opengeos/datasets/releases/download/world/continents.geojson\"\n",
    "m.add_geojson(\n",
    "    url,\n",
    "    name=\"Continents\",\n",
    "    center=(20, 0),\n",
    "    zoom=1,\n",
    "    key_on=\"CONTINENT\",\n",
    "    tooltip_fields=[\"CONTINENT\"],\n",
    "    tooltip_aliases=[\"Continent\"],\n",
    "    style={\"color\": \"blue\", \"weight\": 2, \"fillOpacity\": 0.2},\n",
    ")\n",
    "m.add_layer_control()\n",
    "m"
   ]
  },
  {
   "cell_type": "code",
   "execution_count": null,
   "id": "3",
   "metadata": {},
   "outputs": [],
   "source": [
    "url = \"https://github.com/opengeos/datasets/releases/download/us/us_states.geojson\"\n",
    "gdf = gpd.read_file(url)\n",
    "\n",
    "gdf[\"value\"] = range(len(gdf))\n",
    "\n",
    "gdf.head()"
   ]
  },
  {
   "cell_type": "code",
   "execution_count": null,
   "id": "4",
   "metadata": {},
   "outputs": [],
   "source": [
    "m = portgeo.Map(center=(40, -100), zoom=4)\n",
    "\n",
    "m.add_choropleth(\n",
    "    gdf=gdf,\n",
    "    column=\"value\",\n",
    "    join_col=\"name\",\n",
    "    key_on=\"feature.properties.name\",\n",
    "    fill_color=\"YlOrRd\",\n",
    "    legend_name=\"US States\",\n",
    "    tooltip_fields=[\"name\", \"value\"],\n",
    "    tooltip_alias={\"name\": \"State\", \"value\": \"Value\"},\n",
    "    name=\"US States\",\n",
    ")\n",
    "m"
   ]
  }
 ],
 "metadata": {
  "kernelspec": {
   "display_name": "geo",
   "language": "python",
   "name": "python3"
  },
  "language_info": {
   "codemirror_mode": {
    "name": "ipython",
    "version": 3
   },
   "file_extension": ".py",
   "mimetype": "text/x-python",
   "name": "python",
   "nbconvert_exporter": "python",
   "pygments_lexer": "ipython3",
   "version": "3.12.9"
  }
 },
 "nbformat": 4,
 "nbformat_minor": 5
}
