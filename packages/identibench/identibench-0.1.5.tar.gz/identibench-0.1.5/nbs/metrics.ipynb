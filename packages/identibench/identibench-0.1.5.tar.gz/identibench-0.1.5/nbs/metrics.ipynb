{
 "cells": [
  {
   "cell_type": "markdown",
   "metadata": {},
   "source": [
    "# Metrics\n",
    "\n",
    "> Fill in a module description here"
   ]
  },
  {
   "cell_type": "code",
   "execution_count": null,
   "metadata": {},
   "outputs": [],
   "source": [
    "#| default_exp metrics"
   ]
  },
  {
   "cell_type": "code",
   "execution_count": null,
   "metadata": {},
   "outputs": [],
   "source": [
    "#| export\n",
    "import numpy as np\n",
    "import warnings"
   ]
  },
  {
   "cell_type": "code",
   "execution_count": null,
   "metadata": {},
   "outputs": [],
   "source": [
    "#| hide\n",
    "from fastcore.test import test_close, test_eq"
   ]
  },
  {
   "cell_type": "code",
   "execution_count": null,
   "metadata": {},
   "outputs": [],
   "source": [
    "#| export\n",
    "def rmse(\n",
    "    y_true: np.ndarray, # Ground truth target values.\n",
    "    y_pred: np.ndarray, # Estimated target values.\n",
    "    time_axis: int = 0 # Axis representing time or samples.\n",
    "    ) -> np.ndarray: # Root Mean Squared Error for each channel.\n",
    "    \"\"\"\n",
    "    Computes the Root Mean Square Error (RMSE) along a specified time axis.\n",
    "\n",
    "    Calculates RMSE = sqrt(mean((y_pred - y_true)**2)) separately for each channel\n",
    "    defined by the remaining axes.\n",
    "    \"\"\"\n",
    "    y_true = np.asarray(y_true)\n",
    "    y_pred = np.asarray(y_pred)\n",
    "    if y_true.shape != y_pred.shape:\n",
    "        raise ValueError(f\"Input shapes must match. Got {y_true.shape} and {y_pred.shape}\")\n",
    "\n",
    "    # Ensure time_axis is valid\n",
    "    if not (0 <= time_axis < y_true.ndim):\n",
    "         raise ValueError(f\"Invalid time_axis {time_axis} for array with {y_true.ndim} dimensions\")\n",
    "\n",
    "    # Calculate RMSE\n",
    "    try:\n",
    "        rmse_val = np.sqrt(np.mean((y_pred - y_true)**2, axis=time_axis))\n",
    "    except FloatingPointError as e:\n",
    "         warnings.warn(f\"Floating point error during RMSE calculation: {e}. Check for NaNs or Infs.\", RuntimeWarning)\n",
    "         # Decide how to handle - perhaps return NaN or raise a more specific error\n",
    "         # For now, re-raising but ideally might return NaN or a specific value\n",
    "         raise e\n",
    "    return rmse_val"
   ]
  },
  {
   "cell_type": "code",
   "execution_count": null,
   "metadata": {},
   "outputs": [
    {
     "name": "stdout",
     "output_type": "stream",
     "text": [
      "RMSE (1D): 0.09999999999999991\n",
      "RMSE (2D, time_axis=0): [0. 1.]\n",
      "RMSE (3D, time_axis=1, shape=(2, 3)): [[0.09308798 0.11013668 0.11058777]\n",
      " [0.08573954 0.06386016 0.06679621]]\n"
     ]
    }
   ],
   "source": [
    "# Example usage for rmse\n",
    "\n",
    "# 1D case\n",
    "y_t1 = np.array([1, 2, 3, 4, 5])\n",
    "y_p1 = np.array([1.1, 2.1, 3.1, 4.1, 5.1]) # Small error\n",
    "rmse_val_1d = rmse(y_t1, y_p1)\n",
    "print(f\"RMSE (1D): {rmse_val_1d}\") # Should be ~0.1\n",
    "\n",
    "# 2D case (e.g., time x features)\n",
    "y_t2 = np.array([[1, 10], [2, 20], [3, 30]])\n",
    "y_p2 = np.array([[1, 11], [2, 21], [3, 31]]) # Error=0 in col 0, Error=1 in col 1\n",
    "rmse_val_2d = rmse(y_t2, y_p2, time_axis=0)\n",
    "print(f\"RMSE (2D, time_axis=0): {rmse_val_2d}\") # Should be [0., 1.]\n",
    "\n",
    "# 3D case (e.g., batch x time x features)\n",
    "y_t3 = np.random.rand(2, 10, 3) # batch=2, time=10, features=3\n",
    "y_p3 = y_t3 + np.random.randn(2, 10, 3) * 0.1\n",
    "rmse_val_3d = rmse(y_t3, y_p3, time_axis=1) # Calculate RMSE over time axis\n",
    "print(f\"RMSE (3D, time_axis=1, shape={rmse_val_3d.shape}): {rmse_val_3d}\") # Should have shape (2, 3)"
   ]
  },
  {
   "cell_type": "code",
   "execution_count": null,
   "metadata": {},
   "outputs": [],
   "source": [
    "#| export\n",
    "def nrmse(\n",
    "    y_true: np.ndarray, # Ground truth target values.\n",
    "    y_pred: np.ndarray, # Estimated target values.\n",
    "    time_axis: int = 0, # Axis representing time or samples.\n",
    "    std_tolerance: float = 1e-9 # Minimum standard deviation allowed for y_true to avoid division by zero.\n",
    "    ) -> np.ndarray: # Normalized Root Mean Squared Error for each channel.\n",
    "    \"\"\"\n",
    "    Computes the Normalized Root Mean Square Error (NRMSE).\n",
    "\n",
    "    Calculates NRMSE = RMSE / std(y_true) separately for each channel.\n",
    "    Returns NaN for channels where std(y_true) is close to zero (below std_tolerance).\n",
    "    \"\"\"\n",
    "    rmse_val = rmse(y_true, y_pred, time_axis=time_axis)\n",
    "    std_true = np.std(y_true, axis=time_axis)\n",
    "\n",
    "    # Initialize nrmse_val with NaNs or another placeholder\n",
    "    nrmse_val = np.full_like(std_true, fill_value=np.nan, dtype=np.float64)\n",
    "\n",
    "    # Identify channels with standard deviation above the tolerance\n",
    "    valid_std_mask = std_true > std_tolerance\n",
    "\n",
    "    # Calculate NRMSE only for valid channels\n",
    "    # Using np.divide with 'where' handles division by zero gracefully if needed,\n",
    "    # but the explicit check is clearer here.\n",
    "    if np.any(valid_std_mask):\n",
    "        nrmse_val[valid_std_mask] = rmse_val[valid_std_mask] / std_true[valid_std_mask]\n",
    "\n",
    "    # Warn if any channels had std below tolerance\n",
    "    if not np.all(valid_std_mask):\n",
    "        warnings.warn(f\"Standard deviation of y_true is below tolerance ({std_tolerance}) for some channels. NRMSE set to NaN for these channels.\", RuntimeWarning)\n",
    "\n",
    "    return nrmse_val"
   ]
  },
  {
   "cell_type": "code",
   "execution_count": null,
   "metadata": {},
   "outputs": [
    {
     "name": "stdout",
     "output_type": "stream",
     "text": [
      "NRMSE (1D): 0.07071067811865468\n",
      "NRMSE (2D, time_axis=0): [0.         0.12247449]\n",
      "NRMSE (Constant y_true): nan\n"
     ]
    },
    {
     "name": "stderr",
     "output_type": "stream",
     "text": [
      "/var/folders/pc/13zbh_m514n1tp522cx9npt00000gn/T/ipykernel_17861/2787241071.py:31: RuntimeWarning: Standard deviation of y_true is below tolerance (1e-09) for some channels. NRMSE set to NaN for these channels.\n",
      "  warnings.warn(f\"Standard deviation of y_true is below tolerance ({std_tolerance}) for some channels. NRMSE set to NaN for these channels.\", RuntimeWarning)\n"
     ]
    }
   ],
   "source": [
    "# Example usage for nrmse\n",
    "\n",
    "# 1D case\n",
    "y_t1 = np.array([1, 2, 3, 4, 5])\n",
    "y_p1 = y_t1 + 0.1 # Constant offset error\n",
    "nrmse_val_1d = nrmse(y_t1, y_p1)\n",
    "print(f\"NRMSE (1D): {nrmse_val_1d}\") # RMSE is 0.1, std(y_t1) is sqrt(2). NRMSE = 0.1 / sqrt(2)\n",
    "\n",
    "# 2D case\n",
    "y_t2 = np.array([[1, 10], [2, 20], [3, 30]])\n",
    "y_p2 = np.array([[1, 11], [2, 21], [3, 31]]) # Error=0 in col 0, Error=1 in col 1\n",
    "# Std dev col 0: ~0.816, Std dev col 1: ~8.165\n",
    "# RMSE col 0: 0, RMSE col 1: 1\n",
    "# NRMSE col 0: 0 / 0.816 = 0\n",
    "# NRMSE col 1: 1 / 8.165 = ~0.122\n",
    "nrmse_val_2d = nrmse(y_t2, y_p2, time_axis=0)\n",
    "print(f\"NRMSE (2D, time_axis=0): {nrmse_val_2d}\") # Should be approx [0., 0.122]\n",
    "\n",
    "# Case with zero standard deviation\n",
    "y_t_const = np.array([5, 5, 5, 5])\n",
    "y_p_const = np.array([5, 5, 5, 6]) # RMSE = 0.5\n",
    "nrmse_val_const = nrmse(y_t_const, y_p_const)\n",
    "print(f\"NRMSE (Constant y_true): {nrmse_val_const}\") # Should be NaN with a warning"
   ]
  },
  {
   "cell_type": "code",
   "execution_count": null,
   "metadata": {},
   "outputs": [],
   "source": [
    "#| export\n",
    "def fit_index(\n",
    "    y_true: np.ndarray, # Ground truth target values.\n",
    "    y_pred: np.ndarray, # Estimated target values.\n",
    "    time_axis: int = 0, # Axis representing time or samples.\n",
    "    std_tolerance: float = 1e-9 # Minimum standard deviation allowed for y_true.\n",
    "    ) -> np.ndarray: # Fit index (in percent) for each channel.\n",
    "    \"\"\"\n",
    "    Computes the Fit Index (FIT) commonly used in System Identification.\n",
    "\n",
    "    Calculates FIT = 100 * (1 - NRMSE) separately for each channel.\n",
    "    Returns NaN for channels where NRMSE could not be calculated (e.g., std(y_true) near zero).\n",
    "    \"\"\"\n",
    "    nrmse_val = nrmse(y_true, y_pred, time_axis=time_axis, std_tolerance=std_tolerance)\n",
    "\n",
    "    # Fit index calculation, handles potential NaNs from nrmse\n",
    "    fit_val = 100.0 * (1.0 - nrmse_val)\n",
    "\n",
    "    return fit_val"
   ]
  },
  {
   "cell_type": "code",
   "execution_count": null,
   "metadata": {},
   "outputs": [
    {
     "name": "stdout",
     "output_type": "stream",
     "text": [
      "Fit Index (1D): 92.92893218813452\n",
      "Fit Index (2D, time_axis=0): [100.          87.75255129]\n",
      "Fit Index (Constant y_true): nan\n"
     ]
    },
    {
     "name": "stderr",
     "output_type": "stream",
     "text": [
      "/var/folders/pc/13zbh_m514n1tp522cx9npt00000gn/T/ipykernel_17861/2787241071.py:31: RuntimeWarning: Standard deviation of y_true is below tolerance (1e-09) for some channels. NRMSE set to NaN for these channels.\n",
      "  warnings.warn(f\"Standard deviation of y_true is below tolerance ({std_tolerance}) for some channels. NRMSE set to NaN for these channels.\", RuntimeWarning)\n"
     ]
    }
   ],
   "source": [
    "# Example usage for fit_index\n",
    "\n",
    "# 1D case (using previous example)\n",
    "# NRMSE = 0.1 / sqrt(2) approx 0.0707\n",
    "# FIT = 100 * (1 - 0.0707) approx 92.93\n",
    "fit_val_1d = fit_index(y_t1, y_p1)\n",
    "print(f\"Fit Index (1D): {fit_val_1d}\")\n",
    "\n",
    "# 2D case (using previous example)\n",
    "# NRMSE approx [0., 0.122]\n",
    "# FIT approx [100 * (1 - 0), 100 * (1 - 0.122)] = [100, 87.8]\n",
    "fit_val_2d = fit_index(y_t2, y_p2, time_axis=0)\n",
    "print(f\"Fit Index (2D, time_axis=0): {fit_val_2d}\")\n",
    "\n",
    "# Constant case (using previous example)\n",
    "# NRMSE is NaN\n",
    "# FIT should also be NaN\n",
    "fit_val_const = fit_index(y_t_const, y_p_const)\n",
    "print(f\"Fit Index (Constant y_true): {fit_val_const}\")"
   ]
  },
  {
   "cell_type": "code",
   "execution_count": null,
   "metadata": {},
   "outputs": [],
   "source": [
    "#| export\n",
    "def mae(\n",
    "    y_true: np.ndarray, # Ground truth target values.\n",
    "    y_pred: np.ndarray, # Estimated target values.\n",
    "    time_axis: int = 0 # Axis representing time or samples.\n",
    "    ) -> np.ndarray: # Mean Absolute Error for each channel.\n",
    "    \"\"\"\n",
    "    Computes the Mean Absolute Error (MAE) along a specified time axis.\n",
    "\n",
    "    Calculates MAE = mean(abs(y_pred - y_true)) separately for each channel\n",
    "    defined by the remaining axes.\n",
    "    \"\"\"\n",
    "    y_true = np.asarray(y_true)\n",
    "    y_pred = np.asarray(y_pred)\n",
    "    if y_true.shape != y_pred.shape:\n",
    "        raise ValueError(f\"Input shapes must match. Got {y_true.shape} and {y_pred.shape}\")\n",
    "\n",
    "    # Ensure time_axis is valid\n",
    "    if not (0 <= time_axis < y_true.ndim):\n",
    "         raise ValueError(f\"Invalid time_axis {time_axis} for array with {y_true.ndim} dimensions\")\n",
    "\n",
    "    # Calculate MAE\n",
    "    try:\n",
    "        mae_val = np.mean(np.abs(y_pred - y_true), axis=time_axis)\n",
    "    except FloatingPointError as e:\n",
    "         warnings.warn(f\"Floating point error during MAE calculation: {e}. Check for NaNs or Infs.\", RuntimeWarning)\n",
    "         # Decide how to handle - perhaps return NaN or raise a more specific error\n",
    "         raise e\n",
    "    return mae_val"
   ]
  },
  {
   "cell_type": "code",
   "execution_count": null,
   "metadata": {},
   "outputs": [
    {
     "name": "stdout",
     "output_type": "stream",
     "text": [
      "MAE (1D): 0.09999999999999991\n",
      "MAE (1D, negative err): 1.0\n",
      "MAE (2D, time_axis=0): [0. 1.]\n"
     ]
    }
   ],
   "source": [
    "# Example usage for mae\n",
    "\n",
    "# 1D case\n",
    "y_t1 = np.array([1, 2, 3, 4, 5])\n",
    "y_p1 = np.array([1.1, 2.1, 3.1, 4.1, 5.1]) # Constant error of 0.1\n",
    "mae_val_1d = mae(y_t1, y_p1)\n",
    "print(f\"MAE (1D): {mae_val_1d}\") # Should be 0.1\n",
    "\n",
    "y_p2 = np.array([0, 1, 2, 3, 4]) # Constant error of -1 -> abs error 1\n",
    "mae_val_1d_neg = mae(y_t1, y_p2)\n",
    "print(f\"MAE (1D, negative err): {mae_val_1d_neg}\") # Should be 1.0\n",
    "\n",
    "# 2D case (e.g., time x features)\n",
    "y_t2 = np.array([[1, 10], [2, 20], [3, 30]])\n",
    "y_p3 = np.array([[1, 11], [2, 21], [3, 31]]) # Error=0 in col 0, Error=1 in col 1\n",
    "mae_val_2d = mae(y_t2, y_p3, time_axis=0)\n",
    "print(f\"MAE (2D, time_axis=0): {mae_val_2d}\") # Should be [0., 1.]"
   ]
  },
  {
   "cell_type": "code",
   "execution_count": null,
   "metadata": {},
   "outputs": [],
   "source": [
    "#| export\n",
    "def r_squared(\n",
    "    y_true: np.ndarray, # Ground truth target values.\n",
    "    y_pred: np.ndarray, # Estimated target values.\n",
    "    time_axis: int = 0, # Axis representing time or samples.\n",
    "    std_tolerance: float = 1e-9 # Minimum standard deviation allowed for y_true.\n",
    "    ) -> np.ndarray: # R-squared (coefficient of determination) for each channel.\n",
    "    \"\"\"\n",
    "    Computes the R-squared (coefficient of determination) score.\n",
    "\n",
    "    Calculates R^2 = 1 - NRMSE^2 separately for each channel.\n",
    "    Returns NaN for channels where NRMSE could not be calculated (e.g., std(y_true) near zero).\n",
    "    A constant model that always predicts the mean of y_true would get R^2=0.\n",
    "    \"\"\"\n",
    "    nrmse_val = nrmse(y_true, y_pred, time_axis=time_axis, std_tolerance=std_tolerance)\n",
    "\n",
    "    # R^2 calculation, handles potential NaNs from nrmse\n",
    "    # Ensure we don't take the square of NaN resulting in NaN where 0 might be expected if rmse is 0\n",
    "    r2 = 1.0 - nrmse_val**2\n",
    "\n",
    "    return r2"
   ]
  },
  {
   "cell_type": "code",
   "execution_count": null,
   "metadata": {},
   "outputs": [
    {
     "name": "stdout",
     "output_type": "stream",
     "text": [
      "R-squared (1D): 0.995\n",
      "R-squared (1D, perfect): 1.0\n",
      "R-squared (2D, time_axis=0): [1.    0.985]\n",
      "R-squared (Constant y_true): nan\n"
     ]
    },
    {
     "name": "stderr",
     "output_type": "stream",
     "text": [
      "/var/folders/pc/13zbh_m514n1tp522cx9npt00000gn/T/ipykernel_17861/2787241071.py:31: RuntimeWarning: Standard deviation of y_true is below tolerance (1e-09) for some channels. NRMSE set to NaN for these channels.\n",
      "  warnings.warn(f\"Standard deviation of y_true is below tolerance ({std_tolerance}) for some channels. NRMSE set to NaN for these channels.\", RuntimeWarning)\n"
     ]
    }
   ],
   "source": [
    "# Example usage for r_squared\n",
    "\n",
    "# 1D case (using previous nrmse example)\n",
    "# NRMSE = 0.1 / sqrt(2) approx 0.0707\n",
    "# R^2 = 1 - (0.0707)^2 approx 1 - 0.005 = 0.995\n",
    "y_t1 = np.array([1, 2, 3, 4, 5])\n",
    "y_p1 = np.array([1.1, 2.1, 3.1, 4.1, 5.1])\n",
    "r2_val_1d = r_squared(y_t1, y_p1)\n",
    "print(f\"R-squared (1D): {r2_val_1d}\")\n",
    "\n",
    "# Perfect prediction\n",
    "r2_perfect = r_squared(y_t1, y_t1)\n",
    "print(f\"R-squared (1D, perfect): {r2_perfect}\") # Should be 1.0\n",
    "\n",
    "# 2D case (using previous nrmse example)\n",
    "# NRMSE approx [0., 0.122]\n",
    "# R^2 approx [1 - 0^2, 1 - 0.122^2] = [1, 1 - 0.0149] = [1, 0.9851]\n",
    "y_t2 = np.array([[1, 10], [2, 20], [3, 30]])\n",
    "y_p2 = np.array([[1, 11], [2, 21], [3, 31]])\n",
    "r2_val_2d = r_squared(y_t2, y_p2, time_axis=0)\n",
    "print(f\"R-squared (2D, time_axis=0): {r2_val_2d}\")\n",
    "\n",
    "# Constant case (using previous nrmse example)\n",
    "# NRMSE is NaN\n",
    "# R^2 should also be NaN\n",
    "y_t_const = np.array([5, 5, 5, 5])\n",
    "y_p_const = np.array([5, 5, 5, 6])\n",
    "r2_val_const = r_squared(y_t_const, y_p_const)\n",
    "print(f\"R-squared (Constant y_true): {r2_val_const}\") # Should be NaN with a warning from nrmse"
   ]
  },
  {
   "cell_type": "code",
   "execution_count": null,
   "metadata": {},
   "outputs": [
    {
     "name": "stderr",
     "output_type": "stream",
     "text": [
      "/var/folders/pc/13zbh_m514n1tp522cx9npt00000gn/T/ipykernel_17861/2787241071.py:31: RuntimeWarning: Standard deviation of y_true is below tolerance (1e-09) for some channels. NRMSE set to NaN for these channels.\n",
      "  warnings.warn(f\"Standard deviation of y_true is below tolerance ({std_tolerance}) for some channels. NRMSE set to NaN for these channels.\", RuntimeWarning)\n"
     ]
    }
   ],
   "source": [
    "#| hide\n",
    "# --- Tests ---\n",
    "\n",
    "# Test data\n",
    "y_t_1d = np.array([1., 2., 3., 4., 5.])\n",
    "y_p_1d_perfect = np.array([1., 2., 3., 4., 5.])\n",
    "y_p_1d_offset = np.array([1.1, 2.1, 3.1, 4.1, 5.1]) # Error=0.1\n",
    "y_p_1d_noise = np.array([1.1, 1.9, 3.1, 4.1, 4.9]) # Errors: 0.1, -0.1, 0.1, 0.1, -0.1\n",
    "y_p_1d_neg_offset = np.array([0., 1., 2., 3., 4.]) # Error=-1.0\n",
    "\n",
    "y_t_2d = np.array([[1., 10.], [2., 20.], [3., 30.]]) # time x features\n",
    "y_p_2d_perfect = np.array([[1., 10.], [2., 20.], [3., 30.]])\n",
    "y_p_2d_offset = np.array([[1., 11.], [2., 21.], [3., 31.]]) # Error=[0, 1]\n",
    "y_p_2d_mixed_err = np.array([[1.1, 10.], [1.9, 21.], [3.1, 30.]]) # Errors: [0.1, 0], [-0.1, 1], [0.1, 0]\n",
    "\n",
    "y_t_const = np.array([5., 5., 5.])\n",
    "y_p_const_err = np.array([5., 5., 6.]) # Error=[0, 0, 1]\n",
    "\n",
    "# RMSE Tests\n",
    "test_close(rmse(y_t_1d, y_p_1d_perfect), 0.0)\n",
    "test_close(rmse(y_t_1d, y_p_1d_offset), 0.1)\n",
    "test_close(rmse(y_t_2d, y_p_2d_perfect, time_axis=0), np.array([0., 0.]))\n",
    "test_close(rmse(y_t_2d, y_p_2d_offset, time_axis=0), np.array([0., 1.]))\n",
    "\n",
    "# NRMSE Tests\n",
    "std_1d = np.std(y_t_1d)\n",
    "nrmse_1d_offset_expected = 0.1 / std_1d\n",
    "test_close(nrmse(y_t_1d, y_p_1d_offset), nrmse_1d_offset_expected)\n",
    "\n",
    "std_2d = np.std(y_t_2d, axis=0)\n",
    "nrmse_2d_offset_expected = np.array([0., 1.]) / std_2d\n",
    "test_close(nrmse(y_t_2d, y_p_2d_offset, time_axis=0), nrmse_2d_offset_expected)\n",
    "\n",
    "# Test NRMSE with zero std - should return NaN and warn\n",
    "nrmse_const = nrmse(y_t_const, y_p_const_err)\n",
    "test_eq(np.isnan(nrmse_const).all(), True) # Check if all elements are NaN if multi-output\n",
    "\n",
    "# Fit Index Tests\n",
    "fit_1d_offset_expected = 100.0 * (1.0 - nrmse_1d_offset_expected)\n",
    "test_close(fit_index(y_t_1d, y_p_1d_offset), fit_1d_offset_expected)\n",
    "\n",
    "fit_2d_offset_expected = 100.0 * (1.0 - nrmse_2d_offset_expected)\n",
    "test_close(fit_index(y_t_2d, y_p_2d_offset, time_axis=0), fit_2d_offset_expected)\n",
    "\n",
    "# Test Fit Index with zero std - should return NaN\n",
    "fit_const = fit_index(y_t_const, y_p_const_err)\n",
    "test_eq(np.isnan(fit_const).all(), True) # Check if all elements are NaN\n",
    "\n",
    "# MAE Tests\n",
    "test_close(mae(y_t_1d, y_p_1d_perfect), 0.0)\n",
    "test_close(mae(y_t_1d, y_p_1d_offset), 0.1)\n",
    "test_close(mae(y_t_1d, y_p_1d_neg_offset), 1.0)\n",
    "test_close(mae(y_t_1d, y_p_1d_noise), np.mean([0.1, 0.1, 0.1, 0.1, 0.1]))\n",
    "test_close(mae(y_t_2d, y_p_2d_perfect, time_axis=0), np.array([0., 0.]))\n",
    "test_close(mae(y_t_2d, y_p_2d_offset, time_axis=0), np.array([0., 1.]))\n",
    "# MAE for mixed errors: abs errors are [[0.1, 0], [0.1, 1], [0.1, 0]]\n",
    "# Mean along axis 0: [mean(0.1, 0.1, 0.1), mean(0, 1, 0)] = [0.1, 1/3]\n",
    "test_close(mae(y_t_2d, y_p_2d_mixed_err, time_axis=0), np.array([0.1, 1./3.]))\n",
    "\n",
    "# R-squared Tests\n",
    "test_close(r_squared(y_t_1d, y_p_1d_perfect), 1.0)\n",
    "r2_1d_offset_expected = 1.0 - nrmse_1d_offset_expected**2\n",
    "test_close(r_squared(y_t_1d, y_p_1d_offset), r2_1d_offset_expected)\n",
    "\n",
    "r2_2d_offset_expected = 1.0 - nrmse_2d_offset_expected**2\n",
    "test_close(r_squared(y_t_2d, y_p_2d_offset, time_axis=0), r2_2d_offset_expected)\n",
    "\n",
    "# Test R-squared with zero std - should return NaN\n",
    "r2_const = r_squared(y_t_const, y_p_const_err)\n",
    "test_eq(np.isnan(r2_const).all(), True) # Check if all elements are NaN"
   ]
  },
  {
   "cell_type": "code",
   "execution_count": null,
   "metadata": {},
   "outputs": [],
   "source": [
    "#| hide\n",
    "import nbdev; nbdev.nbdev_export()"
   ]
  }
 ],
 "metadata": {
  "kernelspec": {
   "display_name": "python3",
   "language": "python",
   "name": "python3"
  }
 },
 "nbformat": 4,
 "nbformat_minor": 2
}
