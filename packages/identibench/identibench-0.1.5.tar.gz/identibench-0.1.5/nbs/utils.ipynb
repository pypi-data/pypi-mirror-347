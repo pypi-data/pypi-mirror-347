{
 "cells": [
  {
   "cell_type": "markdown",
   "metadata": {},
   "source": [
    "# Data Utilities\n",
    "\n",
    "> Fill in a module description here"
   ]
  },
  {
   "cell_type": "code",
   "execution_count": null,
   "metadata": {},
   "outputs": [],
   "source": [
    "#| default_exp utils"
   ]
  },
  {
   "cell_type": "markdown",
   "metadata": {},
   "source": [
    "First, we evaluate how the datasets are loaded by the `nonlinear_benchmarks` library"
   ]
  },
  {
   "cell_type": "code",
   "execution_count": null,
   "metadata": {},
   "outputs": [],
   "source": [
    "#| export\n",
    "from nonlinear_benchmarks import *\n",
    "from collections.abc import Iterator\n",
    "from pathlib import Path\n",
    "import numpy as np\n",
    "import h5py\n",
    "import os"
   ]
  },
  {
   "cell_type": "code",
   "execution_count": null,
   "metadata": {},
   "outputs": [],
   "source": [
    "#| hide\n",
    "from fastcore.test import test_eq,test_ne\n",
    "import matplotlib.pyplot as plt"
   ]
  },
  {
   "cell_type": "code",
   "execution_count": null,
   "metadata": {},
   "outputs": [],
   "source": [
    "#| export\n",
    "def get_default_data_root() -> Path:\n",
    "    \"\"\"\n",
    "    Returns the default root directory for datasets.\n",
    "\n",
    "    Checks the 'IDENTIBENCH_DATA_ROOT' environment variable first,\n",
    "    otherwise defaults to '~/.identibench_data'.\n",
    "    \"\"\"\n",
    "    return Path(os.environ.get('IDENTIBENCH_DATA_ROOT', Path.home() / '.identibench_data'))\n"
   ]
  },
  {
   "cell_type": "markdown",
   "metadata": {},
   "source": [
    "## Test utilities"
   ]
  },
  {
   "cell_type": "code",
   "execution_count": null,
   "metadata": {},
   "outputs": [],
   "source": [
    "#| exporti\n",
    "def _dummy_dataset_loader(\n",
    "    save_path: Path, # Directory where the dummy dataset files will be written\n",
    "    force_download: bool = False, # Argument for interface compatibility\n",
    "    create_train_valid_dir: bool = False # If True, create a 'train_valid' subdir as well\n",
    "    ) -> None:\n",
    "    \"\"\"Creates a dummy dataset structure with minimal HDF5 files for testing.\"\"\"\n",
    "    save_path = Path(save_path)\n",
    "    if save_path.is_dir() and not force_download: return\n",
    "\n",
    "    save_path.mkdir(parents=True, exist_ok=True)\n",
    "    seq_len = 50\n",
    "    subdirs = ['train', 'valid', 'test']\n",
    "    if create_train_valid_dir:\n",
    "        subdirs.append('train_valid')\n",
    "\n",
    "    for subdir in subdirs:\n",
    "        subdir_path = save_path / subdir\n",
    "        subdir_path.mkdir(exist_ok=True)\n",
    "        n_files = 1 if subdir == 'train_valid' else 2 # Create fewer files in train_valid for testing differentiation\n",
    "        for i in range(n_files):\n",
    "            dummy_file_path = subdir_path / f'{subdir}_{i}.hdf5'\n",
    "            try:\n",
    "                with h5py.File(dummy_file_path, 'w') as f:\n",
    "                    f.create_dataset('u0', data=np.random.rand(seq_len).astype(np.float32))\n",
    "                    f.create_dataset('u1', data=np.random.rand(seq_len).astype(np.float32))\n",
    "                    f.create_dataset('y0', data=np.random.rand(seq_len).astype(np.float32))\n",
    "                    f.attrs['fs'] = 10.0\n",
    "            except Exception as e: print(f\"Failed to create dummy file {dummy_file_path}: {e}\")"
   ]
  },
  {
   "cell_type": "code",
   "execution_count": null,
   "metadata": {},
   "outputs": [],
   "source": [
    "#| export\n",
    "def hdf_files_from_path(fpath: Path) -> list[Path]:\n",
    "        return sorted(list(fpath.glob('*.hdf5'))) "
   ]
  },
  {
   "cell_type": "markdown",
   "metadata": {},
   "source": [
    "## data utilities"
   ]
  },
  {
   "cell_type": "code",
   "execution_count": null,
   "metadata": {},
   "outputs": [],
   "source": [
    "#| exporti\n",
    "def _load_sequences_from_files(\n",
    "        file_paths: list[Path],\n",
    "        u_cols: list[str],\n",
    "        y_cols: list[str],\n",
    "        x_cols: list[str]|None = None,\n",
    "        win_sz: int|None = None,\n",
    "        stp_sz: int|None = None\n",
    "    ) -> Iterator[tuple[np.ndarray, np.ndarray, np.ndarray|None]]:\n",
    "    if not file_paths: return iter([]) \n",
    "    if win_sz is None and stp_sz is not None:\n",
    "        raise ValueError(\"win_sz must be provided if stp_sz is provided\")\n",
    "    if stp_sz is None and win_sz is not None:\n",
    "        raise ValueError(\"stp_sz must be provided if win_sz is provided\")\n",
    "\n",
    "    for file_path in file_paths:\n",
    "        try:\n",
    "            with h5py.File(file_path, 'r') as f:\n",
    "                u_data = np.stack([f[col][()] for col in u_cols], axis=-1).astype(np.float32)\n",
    "                y_data = np.stack([f[col][()] for col in y_cols], axis=-1).astype(np.float32)\n",
    "                x_data = np.stack([f[col][()] for col in x_cols], axis=-1).astype(np.float32) if x_cols else None\n",
    "        except Exception as e:\n",
    "            print(f\"Warning: Error reading {file_path}: {e}\")\n",
    "            continue\n",
    "\n",
    "        if win_sz is None:\n",
    "            yield u_data, y_data, x_data\n",
    "            continue\n",
    "\n",
    "        seq_len = u_data.shape[0]\n",
    "        if seq_len < win_sz: continue\n",
    "\n",
    "        for start in range(0, seq_len - win_sz + 1, stp_sz):\n",
    "            end = start + win_sz\n",
    "            x_win = x_data[start:end] if x_data is not None else None\n",
    "            yield u_data[start:end], y_data[start:end], x_win"
   ]
  },
  {
   "cell_type": "code",
   "execution_count": null,
   "metadata": {},
   "outputs": [
    {
     "data": {
      "text/plain": [
       "nonlinear_benchmarks.utilities.Input_output_data"
      ]
     },
     "execution_count": null,
     "metadata": {},
     "output_type": "execute_result"
    },
    {
     "data": {
      "image/png": "[encoded data removed]",
      "text/plain": [
       "<Figure size 640x480 with 1 Axes>"
      ]
     },
     "metadata": {},
     "output_type": "display_data"
    }
   ],
   "source": [
    "train_val, test = nonlinear_benchmarks.WienerHammerBenchMark()\n",
    "plt.plot(train_val.y)\n",
    "type(train_val)"
   ]
  },
  {
   "cell_type": "markdown",
   "metadata": {},
   "source": [
    "The data is store in a `Input_output_data` class, which provides customized access. We want to write a function, which exports the underlying data to hdf5 files."
   ]
  },
  {
   "cell_type": "code",
   "execution_count": null,
   "metadata": {},
   "outputs": [
    {
     "data": {
      "text/plain": [
       "(100000, 1)"
      ]
     },
     "execution_count": null,
     "metadata": {},
     "output_type": "execute_result"
    }
   ],
   "source": [
    "u = train_val.atleast_2d().u\n",
    "u.shape"
   ]
  },
  {
   "cell_type": "code",
   "execution_count": null,
   "metadata": {},
   "outputs": [],
   "source": [
    "#| export\n",
    "def write_dataset(\n",
    "     group: h5py.File | h5py.Group,\n",
    "     ds_name: str,\n",
    "     data: np.ndarray,\n",
    "     dtype: str = 'f4',\n",
    "     chunks: tuple[int, ...]|None = None\n",
    "     ) -> None:\n",
    "     group.create_dataset(ds_name, data=data, dtype=dtype, chunks=chunks)"
   ]
  },
  {
   "cell_type": "code",
   "execution_count": null,
   "metadata": {},
   "outputs": [],
   "source": []
  },
  {
   "cell_type": "code",
   "execution_count": null,
   "metadata": {},
   "outputs": [],
   "source": [
    "tmp_dir = Path('./tmp/')\n",
    "os.makedirs(tmp_dir,exist_ok=True)\n",
    "tmp_file = tmp_dir / 'tmp.hdf5'\n",
    "with h5py.File(tmp_file,'w') as f:\n",
    "    write_dataset(f,'u',u)\n",
    "\n",
    "with h5py.File(tmp_file,'r') as f:\n",
    "    hdf_u = f['u'][:]\n",
    "    test_ne(hdf_u.dtype,u.dtype)\n",
    "    test_eq(hdf_u,u.astype('f4'))"
   ]
  },
  {
   "cell_type": "code",
   "execution_count": null,
   "metadata": {},
   "outputs": [],
   "source": [
    "#| export\n",
    "def write_array(\n",
    "        group: h5py.File | h5py.Group,\n",
    "        ds_name: str,\n",
    "        data: np.ndarray,\n",
    "        dtype: str = 'f4',\n",
    "        chunks: tuple[int, ...]|None = None\n",
    "    ) -> None:\n",
    "    'Writes a 2d numpy array rowwise to a hdf5 file.'\n",
    "    for i in range(data.shape[1]):\n",
    "        write_dataset(group, f'{ds_name}{i}', data[:,i], dtype, chunks)"
   ]
  },
  {
   "cell_type": "code",
   "execution_count": null,
   "metadata": {},
   "outputs": [],
   "source": [
    "with h5py.File(tmp_file,'w') as f:\n",
    "    write_array(f,'u',u)\n",
    "\n",
    "with h5py.File(tmp_file,'r') as f:\n",
    "    hdf_u = f['u0'][:]\n",
    "    test_ne(hdf_u.dtype,u.dtype)\n",
    "    test_ne(hdf_u,u.astype('f4'))\n",
    "    test_eq(hdf_u[:,None],u.astype('f4'))"
   ]
  },
  {
   "cell_type": "code",
   "execution_count": null,
   "metadata": {},
   "outputs": [],
   "source": [
    "#| export\n",
    "def iodata_to_hdf5(iodata:Input_output_data, # data to save to file\n",
    "            hdf_dir:Path, # Export directory for hdf5 files\n",
    "            f_name:str = None # name of hdf5 file without '.hdf5' ending\n",
    "            ) -> Path:\n",
    "    data_2d = iodata.atleast_2d()\n",
    "    u,y = data_2d.u, data_2d.y\n",
    "    \n",
    "    os.makedirs(hdf_dir,exist_ok=True)\n",
    "    if f_name is None: f_name = iodata.name\n",
    "    \n",
    "    hdf_path = Path(hdf_dir) / f'{f_name}.hdf5'.replace(\" \", \"_\")\n",
    "    with h5py.File(hdf_path,'w') as f:\n",
    "        write_array(f,'u',u)\n",
    "        write_array(f,'y',y)\n",
    "        \n",
    "        # Save sampling_rate and init_window_size as attributes\n",
    "        if iodata.sampling_time is not None:\n",
    "            f.attrs['fs'] = 1/iodata.sampling_time\n",
    "        if iodata.state_initialization_window_length is not None:\n",
    "            f.attrs['init_sz'] = iodata.state_initialization_window_length\n",
    "\n",
    "    return hdf_path "
   ]
  },
  {
   "cell_type": "code",
   "execution_count": null,
   "metadata": {},
   "outputs": [],
   "source": [
    "fname = iodata_to_hdf5(train_val,tmp_dir)\n",
    "\n",
    "with h5py.File(fname,'r') as f:\n",
    "    hdf_u = f['u0'][:]\n",
    "    hdf_y = f['y0'][:]\n",
    "    test_eq(hdf_u[:,None],train_val.atleast_2d().u.astype('f4'))\n",
    "    test_eq(hdf_y[:,None],train_val.atleast_2d().y.astype('f4'))"
   ]
  },
  {
   "cell_type": "markdown",
   "metadata": {},
   "source": [
    "Let us evaluate how the general shape of the downloaded datasets looks like"
   ]
  },
  {
   "cell_type": "code",
   "execution_count": null,
   "metadata": {},
   "outputs": [
    {
     "name": "stdout",
     "output_type": "stream",
     "text": [
      "<class 'tuple'>\n",
      "<class 'nonlinear_benchmarks.utilities.Input_output_data'>\n"
     ]
    }
   ],
   "source": [
    "for bench in nonlinear_benchmarks.all_splitted_benchmarks:\n",
    "    train,test = bench(atleast_2d=True,always_return_tuples_of_datasets=True)\n",
    "    print(type(train))\n",
    "    print(type(train[0]))\n",
    "    break"
   ]
  },
  {
   "cell_type": "markdown",
   "metadata": {},
   "source": [
    "With the correct flags set, all datasets have a consistent training and test tuple of one or more elements of type `Input_output_data`. We will transform that in a training, validation and test tuple, which we will then save with a single function."
   ]
  },
  {
   "cell_type": "code",
   "execution_count": null,
   "metadata": {},
   "outputs": [],
   "source": [
    "# for bench in nonlinear_benchmarks.all_not_splitted_benchmarks:\n",
    "#     train = bench()\n",
    "#     if len(train) == 2:\n",
    "#         train, test = train\n",
    "#         # print('\\n'.join(map(str,train)))\n",
    "#         if isinstance(train,list):\n",
    "#             print(len(train))\n",
    "#             print(train[0].name)"
   ]
  },
  {
   "cell_type": "markdown",
   "metadata": {},
   "source": [
    "Only the datasets in `nonlinear_benchmarks.all_splitted_benchmarks` have a consistent output form. The other benchmarks have random splits"
   ]
  },
  {
   "cell_type": "code",
   "execution_count": null,
   "metadata": {},
   "outputs": [],
   "source": [
    "#| export\n",
    "def dataset_to_hdf5(train:tuple, #tuple of Input_output_data for training\n",
    "                    valid:tuple,#tuple of Input_output_data for validation\n",
    "                    test:tuple,#tuple of Input_output_data for test\n",
    "                    save_path: Path, #directory the files are written to, created if it does not exist\n",
    "                    train_valid: tuple = None # optional tuple of unsplit Input_output_data for training and validation\n",
    "                    ) -> None:\n",
    "    'Save a dataset consisting of training, validation, and test set in hdf5 format in seperate subdirectories'\n",
    "    save_path = Path(save_path)\n",
    "    \n",
    "    dict_data = {'train':train,\n",
    "                 'valid':valid,\n",
    "                 'test':test,\n",
    "                 'train_valid':train_valid}\n",
    "    for subset,ds_entries in dict_data.items():\n",
    "        if ds_entries is None: continue\n",
    "        if isinstance(ds_entries,tuple):\n",
    "            if not isinstance(ds_entries[0],Input_output_data): raise ValueError(f'Data has to be stored in tuples of Input_output_data. Got {type(ds_entries[0])}')\n",
    "        else:\n",
    "            if not isinstance(ds_entries,Input_output_data): raise ValueError(f'Data has to be stored in Input_output_data. Got {type(ds_entries)}')\n",
    "            dict_data[subset] = (ds_entries,)\n",
    "\n",
    "    os.makedirs(save_path,exist_ok=True)\n",
    "\n",
    "    for subset,ds_entries in dict_data.items():\n",
    "        if ds_entries is None: continue\n",
    "        for idx,iodata in enumerate(ds_entries):\n",
    "            iodata_to_hdf5(iodata,save_path / subset,f'{subset}_{idx}')"
   ]
  },
  {
   "cell_type": "code",
   "execution_count": null,
   "metadata": {},
   "outputs": [],
   "source": [
    "train_val, test = nonlinear_benchmarks.WienerHammerBenchMark()\n",
    "split_idx = 90_000\n",
    "train = train_val[:split_idx]\n",
    "valid = train_val[split_idx:]\n",
    "test = test"
   ]
  },
  {
   "cell_type": "code",
   "execution_count": null,
   "metadata": {},
   "outputs": [],
   "source": [
    "dataset_to_hdf5(train,valid,test,tmp_dir)\n",
    "dataset_to_hdf5((train,),valid,test,tmp_dir)"
   ]
  },
  {
   "cell_type": "markdown",
   "metadata": {},
   "source": [
    "## Download Utilities"
   ]
  },
  {
   "cell_type": "code",
   "execution_count": null,
   "metadata": {},
   "outputs": [],
   "source": [
    "#| export\n",
    "import requests\n",
    "import io\n",
    "import os\n",
    "import zipfile\n",
    "import rarfile"
   ]
  },
  {
   "cell_type": "code",
   "execution_count": null,
   "metadata": {},
   "outputs": [],
   "source": [
    "#| export\n",
    "def unzip_download(url:str, #url to file to download\n",
    "                   extract_dir: Path = Path('.') #directory the archive is extracted to\n",
    "                   ) -> None:\n",
    "    'downloads a zip archive to ram and extracts it'\n",
    "    response = requests.get(url)\n",
    "    with zipfile.ZipFile(io.BytesIO(response.content)) as zip_ref:\n",
    "        zip_ref.extractall(extract_dir)"
   ]
  },
  {
   "cell_type": "code",
   "execution_count": null,
   "metadata": {},
   "outputs": [],
   "source": [
    "#| export\n",
    "def unrar_download(url:str, #url to file to download\n",
    "                   extract_dir: Path = Path('.') #directory the archive is extracted to\n",
    "                   ) -> None:\n",
    "    'downloads a rar archive to ram and extracts it'\n",
    "    response = requests.get(url)\n",
    "    with rarfile.RarFile(io.BytesIO(response.content)) as zip_ref:\n",
    "        zip_ref.extractall(extract_dir)"
   ]
  },
  {
   "cell_type": "code",
   "execution_count": null,
   "metadata": {},
   "outputs": [],
   "source": [
    "#| export\n",
    "def download(url:str, #url to file to download\n",
    "             target_dir: Path = Path('.')\n",
    "             ) -> Path:\n",
    "    fname = Path(url).name\n",
    "    if os.path.isfile(fname): return\n",
    "    response = requests.get(url)\n",
    "    p_name = Path(target_dir).joinpath(fname)\n",
    "    with open(p_name, \"wb\") as file:\n",
    "        file.write(response.content)\n",
    "    return p_name"
   ]
  },
  {
   "cell_type": "code",
   "execution_count": null,
   "metadata": {},
   "outputs": [],
   "source": [
    "#| hide\n",
    "import nbdev; nbdev.nbdev_export()"
   ]
  }
 ],
 "metadata": {
  "kernelspec": {
   "display_name": "python3",
   "language": "python",
   "name": "python3"
  }
 },
 "nbformat": 4,
 "nbformat_minor": 4
}
