{
 "cells": [
  {
   "cell_type": "markdown",
   "metadata": {},
   "source": [
    "# Quadrotor Pelican Dataset\n",
    "\n",
    "> Fill in a module description here"
   ]
  },
  {
   "cell_type": "code",
   "execution_count": null,
   "metadata": {},
   "outputs": [],
   "source": [
    "#| default_exp datasets.quad_pelican"
   ]
  },
  {
   "cell_type": "code",
   "execution_count": null,
   "metadata": {},
   "outputs": [],
   "source": [
    "#| export\n",
    "from nonlinear_benchmarks.utilities import cashed_download\n",
    "import identibench.benchmark as idb\n",
    "import identibench.metrics\n",
    "from pathlib import Path\n",
    "import os\n",
    "import h5py\n",
    "import numpy as np\n",
    "import scipy.io as sio"
   ]
  },
  {
   "cell_type": "code",
   "execution_count": null,
   "metadata": {},
   "outputs": [],
   "source": [
    "#| exporti\n",
    "pelican_fnames_train = ['hdf5flight24.hdf5',\n",
    "                        'hdf5flight25.hdf5',\n",
    "                        'hdf5flight38.hdf5',\n",
    "                        'hdf5flight20.hdf5',\n",
    "                        'hdf5flight26.hdf5',\n",
    "                        'hdf5flight14.hdf5',\n",
    "                        'hdf5flight21.hdf5',\n",
    "                        'hdf5flight11.hdf5',\n",
    "                        'hdf5flight40.hdf5',\n",
    "                        'hdf5flight9.hdf5',\n",
    "                        'hdf5flight23.hdf5',\n",
    "                        'hdf5flight19.hdf5',\n",
    "                        'hdf5flight27.hdf5',\n",
    "                        'hdf5flight12.hdf5',\n",
    "                        'hdf5flight6.hdf5',\n",
    "                        'hdf5flight50.hdf5',\n",
    "                        'hdf5flight36.hdf5',\n",
    "                        'hdf5flight48.hdf5',\n",
    "                        'hdf5flight28.hdf5',\n",
    "                        'hdf5flight44.hdf5',\n",
    "                        'hdf5flight34.hdf5',\n",
    "                        'hdf5flight32.hdf5',\n",
    "                        'hdf5flight3.hdf5',\n",
    "                        'hdf5flight45.hdf5',\n",
    "                        'hdf5flight33.hdf5',\n",
    "                        'hdf5flight4.hdf5']\n",
    "\n",
    "pelican_fnames_valid =[  'hdf5flight10.hdf5',\n",
    "                         'hdf5flight15.hdf5',\n",
    "                         'hdf5flight2.hdf5',\n",
    "                         'hdf5flight18.hdf5',\n",
    "                         'hdf5flight51.hdf5',\n",
    "                         'hdf5flight52.hdf5',\n",
    "                         'hdf5flight35.hdf5',\n",
    "                         'hdf5flight13.hdf5',\n",
    "                         'hdf5flight22.hdf5',\n",
    "                         'hdf5flight53.hdf5']\n",
    "\n",
    "pelican_fnames_test = [  'hdf5flight8.hdf5',\n",
    "                         'hdf5flight16.hdf5',\n",
    "                         'hdf5flight5.hdf5',\n",
    "                         'hdf5flight7.hdf5',\n",
    "                         'hdf5flight41.hdf5',\n",
    "                         'hdf5flight1.hdf5',\n",
    "                         'hdf5flight17.hdf5',\n",
    "                         'hdf5flight37.hdf5',\n",
    "                         'hdf5flight30.hdf5',\n",
    "                         'hdf5flight49.hdf5',\n",
    "                         'hdf5flight29.hdf5',\n",
    "                         'hdf5flight31.hdf5',\n",
    "                         'hdf5flight39.hdf5',\n",
    "                         'hdf5flight54.hdf5',\n",
    "                         'hdf5flight47.hdf5',\n",
    "                         'hdf5flight43.hdf5',\n",
    "                         'hdf5flight42.hdf5',\n",
    "                         'hdf5flight46.hdf5']\n",
    "\n",
    "def get_parent_dir(f_name: str # name of the flight\n",
    "                  ) -> str:\n",
    "    if f_name in pelican_fnames_train:\n",
    "        return 'train'\n",
    "    elif f_name in pelican_fnames_valid:\n",
    "        return 'valid'\n",
    "    elif f_name in pelican_fnames_test:\n",
    "        return 'test'\n",
    "    else:\n",
    "        return ValueError(f'Filename {f_name} not recognized!')"
   ]
  },
  {
   "cell_type": "code",
   "execution_count": null,
   "metadata": {},
   "outputs": [],
   "source": [
    "#| export\n",
    "\n",
    "def dl_quad_pelican(\n",
    "        save_path: Path, #directory the files are written to, created if it does not exist\n",
    "        force_download: bool = False, # force download the dataset\n",
    "        remove_download: bool = False\n",
    ") -> None:\n",
    "    save_path = Path(save_path)\n",
    "    url_pelican = 'http://wavelab.uwaterloo.ca/wp-content/uploads/2017/09/AscTec_Pelican_Flight_Dataset.mat'\n",
    "   \n",
    "    tmp_dir = cashed_download(url_pelican,'Quad_pelican',zipped=False,force_download=force_download)\n",
    "    downloaded_fname = Path(tmp_dir) / Path(url_pelican).name\n",
    "    \n",
    "    def write_signal(fname: Path, sname: str, signal: np.ndarray) -> None:\n",
    "        with h5py.File(fname, 'a') as f:\n",
    "            for i in range(signal.shape[1]):\n",
    "                ds_name = f'{sname}{i+1}'\n",
    "                sig = signal[:, i]\n",
    "                f.create_dataset(ds_name, data=sig, dtype='f4')\n",
    "    \n",
    "    flight_data = sio.loadmat(downloaded_fname,simplify_cells=True)\n",
    "    flights = flight_data['flights']\n",
    "    \n",
    "    for k, flight in enumerate(flights, start=1):\n",
    "        f_name = f'hdf5flight{k}.hdf5'\n",
    "        parent_dir = Path(save_path) / get_parent_dir(f_name)\n",
    "        f_path = parent_dir / f_name\n",
    "\n",
    "        os.makedirs(parent_dir, exist_ok=True)\n",
    "        \n",
    "        if os.path.exists(f_path):\n",
    "            os.remove(f_path)\n",
    "\n",
    "        write_signal(f_path, 'vel', flight['Vel'])\n",
    "        write_signal(f_path, 'pos', flight['Pos'][1:, :])\n",
    "        write_signal(f_path, 'euler', flight['Euler'][1:, :])\n",
    "        write_signal(f_path, 'euler_rates', flight['Euler_Rates'])\n",
    "        write_signal(f_path, 'motors', flight['Motors'][1:, :])\n",
    "        write_signal(f_path, 'motors_cmd', flight['Motors_CMD'][1:, :])\n",
    "        write_signal(f_path, 'pqr', flight['pqr'][:-1, :])\n",
    "    \n",
    "    # %%\n",
    "    #cleanup downloaded quadrotor file\n",
    "    if remove_download: os.remove(downloaded_fname)"
   ]
  },
  {
   "cell_type": "code",
   "execution_count": null,
   "metadata": {},
   "outputs": [],
   "source": [
    "tmp_dir = idb.get_default_data_root()\n",
    "dl_quad_pelican(tmp_dir / 'quad_pelican')"
   ]
  },
  {
   "cell_type": "code",
   "execution_count": null,
   "metadata": {},
   "outputs": [],
   "source": [
    "#| export\n",
    "pelican_u_motors = [f'motors{i}' for i in range(1,4+1)]\n",
    "pelican_u_motors_cmd = [f'motors_cmd{i}' for i in range(1,4+1)]\n",
    "\n",
    "pelican_y_euler = [f'euler{i}' for i in range(1,3+1)]\n",
    "pelican_y_euler_rates = [f'euler_rates{i}' for i in range(1,3+1)]\n",
    "pelican_y_pos = [f'pos{i}' for i in range(1,3+1)]\n",
    "pelican_y_vel = [f'vel{i}' for i in range(1,3+1)]\n",
    "pelican_y_rate = [f'pqr{i}' for i in range(1,3+1)]\n",
    "\n",
    "pelican_u = pelican_u_motors\n",
    "pelican_y = pelican_y_euler_rates+pelican_y_vel"
   ]
  },
  {
   "cell_type": "code",
   "execution_count": null,
   "metadata": {},
   "outputs": [],
   "source": [
    "#| export\n",
    "BenchmarkQuadPelican_Simulation = idb.BenchmarkSpecSimulation(\n",
    "    name='BenchmarkQuadPelican_Simulation', dataset_id='quad_pelican',\n",
    "    u_cols=pelican_u, y_cols=pelican_y, metric_func=identibench.metrics.rmse, \n",
    "    download_func=dl_quad_pelican,\n",
    "    init_window=100\n",
    ")\n",
    "BenchmarkQuadPelican_Prediction = idb.BenchmarkSpecPrediction(\n",
    "    name='BenchmarkQuadPelican_Prediction', dataset_id='quad_pelican',\n",
    "    u_cols=pelican_u, y_cols=pelican_y, metric_func=identibench.metrics.rmse, \n",
    "    download_func=dl_quad_pelican,\n",
    "    init_window=100, pred_horizon=100,pred_step=100\n",
    ")"
   ]
  },
  {
   "cell_type": "code",
   "execution_count": null,
   "metadata": {},
   "outputs": [
    {
     "name": "stdout",
     "output_type": "stream",
     "text": [
      "Building model with spec: BenchmarkQuadPelican_Simulation, seed: 878947819\n"
     ]
    },
    {
     "data": {
      "text/plain": [
       "0.5067444513771566"
      ]
     },
     "execution_count": null,
     "metadata": {},
     "output_type": "execute_result"
    }
   ],
   "source": [
    "results = idb.run_benchmark(\n",
    "    spec=BenchmarkQuadPelican_Simulation, \n",
    "    build_model=idb._dummy_build_model\n",
    ")\n",
    "results['metric_score']"
   ]
  },
  {
   "cell_type": "code",
   "execution_count": null,
   "metadata": {},
   "outputs": [
    {
     "name": "stdout",
     "output_type": "stream",
     "text": [
      "Building model with spec: BenchmarkQuadPelican_Prediction, seed: 2768208524\n"
     ]
    },
    {
     "data": {
      "text/plain": [
       "0.4127927071400583"
      ]
     },
     "execution_count": null,
     "metadata": {},
     "output_type": "execute_result"
    }
   ],
   "source": [
    "results = idb.run_benchmark(\n",
    "    spec=BenchmarkQuadPelican_Prediction, \n",
    "    build_model=idb._dummy_build_model\n",
    ")\n",
    "results['metric_score']"
   ]
  },
  {
   "cell_type": "code",
   "execution_count": null,
   "metadata": {},
   "outputs": [],
   "source": [
    "#| hide\n",
    "import nbdev; nbdev.nbdev_export()"
   ]
  }
 ],
 "metadata": {
  "kernelspec": {
   "display_name": "python3",
   "language": "python",
   "name": "python3"
  }
 },
 "nbformat": 4,
 "nbformat_minor": 4
}
