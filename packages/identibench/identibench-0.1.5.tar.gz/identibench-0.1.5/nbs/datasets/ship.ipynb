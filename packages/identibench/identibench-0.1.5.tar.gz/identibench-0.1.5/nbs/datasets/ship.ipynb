{
 "cells": [
  {
   "cell_type": "markdown",
   "metadata": {},
   "source": [
    "# Ship Dataset\n",
    "\n",
    "> Fill in a module description here"
   ]
  },
  {
   "cell_type": "code",
   "execution_count": null,
   "metadata": {},
   "outputs": [],
   "source": [
    "#| default_exp datasets.ship"
   ]
  },
  {
   "cell_type": "code",
   "execution_count": null,
   "metadata": {},
   "outputs": [],
   "source": [
    "#| export\n",
    "from nonlinear_benchmarks.utilities import get_tmp_benchmark_directory\n",
    "import identibench.benchmark as idb\n",
    "import identibench.metrics\n",
    "from pathlib import Path\n",
    "import os\n",
    "import h5py\n",
    "import numpy as np\n",
    "from easyDataverse import Dataverse\n",
    "import pandas as pd\n",
    "import shutil"
   ]
  },
  {
   "cell_type": "code",
   "execution_count": null,
   "metadata": {},
   "outputs": [],
   "source": [
    "#| export\n",
    "\n",
    "def dl_ship(\n",
    "        save_path: Path, #directory the files are written to, created if it does not exist\n",
    "        force_download: bool = False, # force download the dataset\n",
    "        remove_download: bool = True\n",
    ") -> None:\n",
    "    save_path = Path(save_path)\n",
    "    download_dir = Path(get_tmp_benchmark_directory()) / 'Ship'\n",
    "\n",
    "    if force_download and download_dir.exists():\n",
    "        print(f\"Force reload: Removing existing directory: {download_dir}\")\n",
    "        shutil.rmtree(download_dir)\n",
    "\n",
    "    dataverse = Dataverse('https://darus.uni-stuttgart.de/')\n",
    "    dataverse.load_dataset(\n",
    "        pid='doi:10.18419/darus-2905',\n",
    "        filedir=download_dir,\n",
    "    )\n",
    "\n",
    "    #str to Path to be plattform independent\n",
    "    structure_mapping = {\n",
    "        Path('patrol_ship_routine/processed/train'): 'train',\n",
    "        Path('patrol_ship_routine/processed/validation'): 'valid',\n",
    "        Path('patrol_ship_routine/processed/test'): 'test',\n",
    "        Path('patrol_ship_ood/processed/test'): 'test_ood'\n",
    "    }\n",
    "\n",
    "    # Ensure desired directories exist\n",
    "    for subdir in structure_mapping.values():\n",
    "        os.makedirs(os.path.join(save_path, subdir), exist_ok=True)\n",
    "\n",
    "    def convert_tab_to_hdf5(tab_path: Path, hdf5_path: Path) -> None:\n",
    "        df = pd.read_csv(tab_path, sep='\\t')\n",
    "        with h5py.File(hdf5_path, 'w') as hdf:\n",
    "            for column in df.columns:\n",
    "                data = df[column].astype(np.float32).values\n",
    "                hdf.create_dataset(column, data=data, dtype='f4')\n",
    "\n",
    "    # Walk through the current directory structure and process files\n",
    "    for subdir, dirs, files in os.walk(download_dir):\n",
    "        for file in files:\n",
    "            if file.endswith('.tab'):\n",
    "                current_file_path = os.path.join(subdir, file)\n",
    "                \n",
    "                # Determine the relative path\n",
    "                relative_subdir = Path(os.path.relpath(subdir, download_dir))\n",
    "                \n",
    "                # Find the corresponding desired subdir\n",
    "                if relative_subdir in structure_mapping:\n",
    "                    desired_subdir = structure_mapping[relative_subdir]\n",
    "                    \n",
    "                    # Construct desired file paths\n",
    "                    base_filename = file.replace('.tab', '')\n",
    "                    desired_hdf5_path = os.path.join(save_path, desired_subdir, base_filename + '.hdf5')\n",
    "                    \n",
    "                    convert_tab_to_hdf5(current_file_path, desired_hdf5_path)\n",
    "\n",
    "    #remove downloaded files\n",
    "    if remove_download:\n",
    "        shutil.rmtree(download_dir)"
   ]
  },
  {
   "cell_type": "code",
   "execution_count": null,
   "metadata": {},
   "outputs": [
    {
     "data": {
      "text/html": [
       "<pre style=\"white-space:pre;overflow-x:auto;line-height:normal;font-family:Menlo,'DejaVu Sans Mono',consolas,'Courier New',monospace\">/Users/daniel/Development/identibench/.venv/lib/python3.10/site-packages/rich/live.py:231: UserWarning: install \n",
       "\"ipywidgets\" for Jupyter support\n",
       "  warnings.warn('install \"ipywidgets\" for Jupyter support')\n",
       "</pre>\n"
      ],
      "text/plain": [
       "/Users/daniel/Development/identibench/.venv/lib/python3.10/site-packages/rich/live.py:231: UserWarning: install \n",
       "\"ipywidgets\" for Jupyter support\n",
       "  warnings.warn('install \"ipywidgets\" for Jupyter support')\n"
      ]
     },
     "metadata": {},
     "output_type": "display_data"
    },
    {
     "name": "stdout",
     "output_type": "stream",
     "text": [
      "\n",
      "\n"
     ]
    },
    {
     "data": {
      "text/html": [
       "<pre style=\"white-space:pre;overflow-x:auto;line-height:normal;font-family:Menlo,'DejaVu Sans Mono',consolas,'Courier New',monospace\">🎉 <span style=\"font-weight: bold\">Connected to </span><span style=\"color: #008000; text-decoration-color: #008000; font-weight: bold\">'https://darus.uni-stuttgart.de/'</span>\n",
       "</pre>\n"
      ],
      "text/plain": [
       "🎉 \u001b[1mConnected to \u001b[0m\u001b[1;32m'https://darus.uni-stuttgart.de/'\u001b[0m\n"
      ]
     },
     "metadata": {},
     "output_type": "display_data"
    },
    {
     "data": {
      "text/html": [
       "<pre style=\"white-space:pre;overflow-x:auto;line-height:normal;font-family:Menlo,'DejaVu Sans Mono',consolas,'Courier New',monospace\"></pre>\n"
      ],
      "text/plain": []
     },
     "metadata": {},
     "output_type": "display_data"
    },
    {
     "data": {
      "text/html": [
       "<pre style=\"white-space:pre;overflow-x:auto;line-height:normal;font-family:Menlo,'DejaVu Sans Mono',consolas,'Courier New',monospace\"><span style=\"font-weight: bold\">Fetching dataset </span><span style=\"color: #008000; text-decoration-color: #008000; font-weight: bold\">'doi:10.18419/darus-2905'</span><span style=\"font-weight: bold\"> from </span><span style=\"color: #008000; text-decoration-color: #008000; font-weight: bold\">'https://darus.uni-stuttgart.de/'</span>\n",
       "\n",
       "</pre>\n"
      ],
      "text/plain": [
       "\u001b[1mFetching dataset \u001b[0m\u001b[1;32m'doi:10.18419/darus-2905'\u001b[0m\u001b[1m from \u001b[0m\u001b[1;32m'https://darus.uni-stuttgart.de/'\u001b[0m\n",
       "\n"
      ]
     },
     "metadata": {},
     "output_type": "display_data"
    },
    {
     "data": {
      "text/html": [
       "<pre style=\"white-space:pre;overflow-x:auto;line-height:normal;font-family:Menlo,'DejaVu Sans Mono',consolas,'Courier New',monospace\">╭────────────────────────────────────────── <span style=\"font-weight: bold\">Dataset Information</span> ──────────────────────────────────────────╮\n",
       "│ Title: <span style=\"font-weight: bold\">A Simulated 4-DOF Ship Motion Dataset for System Identification under Environmental Disturbances</span> │\n",
       "│ Version: latest                                                                                         │\n",
       "│ Files: 126                                                                                              │\n",
       "╰─────────────────────────────────────────────────────────────────────────────────────────────────────────╯\n",
       "</pre>\n"
      ],
      "text/plain": [
       "╭────────────────────────────────────────── \u001b[1mDataset Information\u001b[0m ──────────────────────────────────────────╮\n",
       "│ Title: \u001b[1mA Simulated 4-DOF Ship Motion Dataset for System Identification under Environmental Disturbances\u001b[0m │\n",
       "│ Version: latest                                                                                         │\n",
       "│ Files: 126                                                                                              │\n",
       "╰─────────────────────────────────────────────────────────────────────────────────────────────────────────╯\n"
      ]
     },
     "metadata": {},
     "output_type": "display_data"
    },
    {
     "data": {
      "text/html": [
       "<pre style=\"white-space:pre;overflow-x:auto;line-height:normal;font-family:Menlo,'DejaVu Sans Mono',consolas,'Courier New',monospace\">\n",
       "<span style=\"font-weight: bold\">Downloading files</span>\n",
       "\n",
       "</pre>\n"
      ],
      "text/plain": [
       "\n",
       "\u001b[1mDownloading files\u001b[0m\n",
       "\n"
      ]
     },
     "metadata": {},
     "output_type": "display_data"
    },
    {
     "data": {
      "text/html": [
       "<pre style=\"white-space:pre;overflow-x:auto;line-height:normal;font-family:Menlo,'DejaVu Sans Mono',consolas,'Courier New',monospace\"></pre>\n"
      ],
      "text/plain": []
     },
     "metadata": {},
     "output_type": "display_data"
    },
    {
     "data": {
      "text/html": [
       "<pre style=\"white-space:pre;overflow-x:auto;line-height:normal;font-family:Menlo,'DejaVu Sans Mono',consolas,'Courier New',monospace\">╰── <span style=\"font-weight: bold\">✅ Done </span>\n",
       "\n",
       "</pre>\n"
      ],
      "text/plain": [
       "╰── \u001b[1m✅ Done \u001b[0m\n",
       "\n"
      ]
     },
     "metadata": {},
     "output_type": "display_data"
    }
   ],
   "source": [
    "tmp_dir = idb.get_default_data_root()\n",
    "dl_ship(tmp_dir / 'ship')"
   ]
  },
  {
   "cell_type": "code",
   "execution_count": null,
   "metadata": {},
   "outputs": [],
   "source": [
    "#| export\n",
    "ship_u = ['n','deltal','deltar','Vw']\n",
    "ship_y = ['alpha_x','alpha_y','u','v','p','r','phi']\n",
    "\n",
    "BenchmarkShip_Simulation = idb.BenchmarkSpecSimulation(\n",
    "    name='BenchmarkShip_Simulation', dataset_id='ship',\n",
    "    u_cols=ship_u, y_cols=ship_y, metric_func=identibench.metrics.rmse, \n",
    "    download_func=dl_ship,\n",
    "    init_window=100\n",
    ")\n",
    "BenchmarkShip_Prediction = idb.BenchmarkSpecPrediction(\n",
    "    name='BenchmarkShip_Prediction', dataset_id='ship',\n",
    "    u_cols=ship_u, y_cols=ship_y, metric_func=identibench.metrics.rmse, \n",
    "    download_func=dl_ship,\n",
    "    init_window=100, pred_horizon=100,pred_step=100\n",
    ")"
   ]
  },
  {
   "cell_type": "code",
   "execution_count": null,
   "metadata": {},
   "outputs": [
    {
     "name": "stdout",
     "output_type": "stream",
     "text": [
      "Building model with spec: BenchmarkShip_Simulation, seed: 3748348152\n"
     ]
    },
    {
     "data": {
      "text/plain": [
       "1.1163076096434674"
      ]
     },
     "execution_count": null,
     "metadata": {},
     "output_type": "execute_result"
    }
   ],
   "source": [
    "results = idb.run_benchmark(\n",
    "    spec=BenchmarkShip_Simulation, \n",
    "    build_model=idb._dummy_build_model\n",
    ")\n",
    "results['metric_score']"
   ]
  },
  {
   "cell_type": "code",
   "execution_count": null,
   "metadata": {},
   "outputs": [
    {
     "name": "stdout",
     "output_type": "stream",
     "text": [
      "Building model with spec: BenchmarkShip_Prediction, seed: 4165156300\n"
     ]
    },
    {
     "data": {
      "text/plain": [
       "1.0794470890247279"
      ]
     },
     "execution_count": null,
     "metadata": {},
     "output_type": "execute_result"
    }
   ],
   "source": [
    "results = idb.run_benchmark(\n",
    "    spec=BenchmarkShip_Prediction, \n",
    "    build_model=idb._dummy_build_model\n",
    ")\n",
    "results['metric_score']"
   ]
  },
  {
   "cell_type": "code",
   "execution_count": null,
   "metadata": {},
   "outputs": [],
   "source": [
    "#| hide\n",
    "import nbdev; nbdev.nbdev_export()"
   ]
  },
  {
   "cell_type": "code",
   "execution_count": null,
   "metadata": {},
   "outputs": [],
   "source": []
  }
 ],
 "metadata": {
  "kernelspec": {
   "display_name": "python3",
   "language": "python",
   "name": "python3"
  }
 },
 "nbformat": 4,
 "nbformat_minor": 4
}
