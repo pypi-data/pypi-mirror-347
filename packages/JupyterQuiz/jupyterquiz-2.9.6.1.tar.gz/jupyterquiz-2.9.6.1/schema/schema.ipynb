{
 "cells": [
  {
   "cell_type": "code",
   "execution_count": 1,
   "id": "c1a447f9",
   "metadata": {},
   "outputs": [],
   "source": [
    "from jsonschema import validate\n"
   ]
  },
  {
   "cell_type": "code",
   "execution_count": 2,
   "id": "1f4d598a",
   "metadata": {},
   "outputs": [],
   "source": [
    "import json\n",
    "with open(\"../examples/questions.json\", \"r\") as file:\n",
    "    questions=json.load(file)"
   ]
  },
  {
   "cell_type": "markdown",
   "id": "c539a78f",
   "metadata": {
    "user_expressions": []
   },
   "source": [
    "# Schema for Multiple Choice Questions"
   ]
  },
  {
   "cell_type": "code",
   "execution_count": 3,
   "id": "1a1577de",
   "metadata": {},
   "outputs": [
    {
     "data": {
      "text/plain": [
       "{'question': 'Choose all of the following that can be included in Jupyter notebooks?',\n",
       " 'type': 'many_choice',\n",
       " 'answers': [{'answer': 'Text and graphics output from Python',\n",
       "   'correct': True,\n",
       "   'feedback': 'Correct.'},\n",
       "  {'answer': 'Typeset mathematics', 'correct': True, 'feedback': 'Correct.'},\n",
       "  {'answer': 'Python executable code',\n",
       "   'correct': True,\n",
       "   'feedback': 'Correct.'},\n",
       "  {'answer': 'Formatted text', 'correct': True, 'feedback': 'Correct.'},\n",
       "  {'answer': 'Live snakes via Python',\n",
       "   'correct': False,\n",
       "   'feedback': 'I hope not.'}]}"
      ]
     },
     "execution_count": 3,
     "metadata": {},
     "output_type": "execute_result"
    }
   ],
   "source": [
    "multiple_choice=questions[0]\n",
    "multiple_choice"
   ]
  },
  {
   "cell_type": "code",
   "execution_count": 6,
   "id": "885e0c61",
   "metadata": {},
   "outputs": [],
   "source": [
    "mc_schema={\n",
    "  \"$schema\": \"https://json-schema.org/draft/2020-12/schema\",\n",
    "  \"$id\": \"https://github.com/jmshea/jupyterquiz/mc_schema.json\",\n",
    "  \"title\": \"JupyterQuiz Multiple or Many Choice Quiz\",\n",
    "  \"description\": \"Schema for Multiple or Many Choice Questions in JupyterQuiz\",\n",
    "\n",
    "  \"type\": \"object\",\n",
    "  \"properties\": {\n",
    "      \"question\": {\"type\": \"string\"},\n",
    "      \"type\": {\"type\": \"string\",\n",
    "                  \"pattern\": \"multiple_choice|many_choice\"},\n",
    "      \"answers\": {\"type\": \"array\",\n",
    "                 \"items\":{\n",
    "                     \"type\": \"object\",\n",
    "                     \"properties\": {\n",
    "                     \"answer\": {\"type\": \"string\"},\n",
    "                     \"correct\": {\"type\": \"boolean\"},\n",
    "                     \"feedback\": {\"type\": \"string\"},\n",
    "                     \"answer_cols\": {\"type\": \"number\"}\n",
    "                     },\n",
    "                     \"required\": [\"answer\", \"correct\"]\n",
    "                 }\n",
    "                 },\n",
    "      \"code\": {\"type\":\"string\"}\n",
    "  },\n",
    "  \"required\": [\"type\", \"question\", \"answers\"]\n",
    "\n",
    "\n",
    "\n",
    "}"
   ]
  },
  {
   "cell_type": "code",
   "execution_count": 7,
   "id": "84dea887",
   "metadata": {},
   "outputs": [],
   "source": [
    "validate(multiple_choice, mc_schema)"
   ]
  },
  {
   "cell_type": "code",
   "execution_count": 8,
   "id": "a320d6fb",
   "metadata": {},
   "outputs": [],
   "source": [
    "with open(\"mc_schema.json\", \"w\") as file:\n",
    "    json.dump(mc_schema, file, indent=4)"
   ]
  },
  {
   "cell_type": "markdown",
   "id": "59619017",
   "metadata": {},
   "source": [
    "# Schema for Numeric Questions"
   ]
  },
  {
   "cell_type": "code",
   "execution_count": 7,
   "id": "e35c1639",
   "metadata": {},
   "outputs": [
    {
     "data": {
      "text/plain": [
       "{'question': 'Enter the value of pi to 2 decimal places:',\n",
       " 'type': 'numeric',\n",
       " 'answers': [{'type': 'value',\n",
       "   'value': 3.14,\n",
       "   'correct': True,\n",
       "   'feedback': 'Correct.'},\n",
       "  {'type': 'range',\n",
       "   'range': [3.142857, 3.142858],\n",
       "   'correct': True,\n",
       "   'feedback': 'True to 2 decimal places, but you know pi is not really 22/7, right?'},\n",
       "  {'type': 'range',\n",
       "   'range': [-100000000, 0],\n",
       "   'correct': False,\n",
       "   'feedback': 'pi is the AREA of a circle of radius 1. Try again.'},\n",
       "  {'type': 'default',\n",
       "   'feedback': 'pi is the area of a circle of radius 1. Try again.'}]}"
      ]
     },
     "execution_count": 7,
     "metadata": {},
     "output_type": "execute_result"
    }
   ],
   "source": [
    "numeric=questions[2].copy()\n",
    "numeric"
   ]
  },
  {
   "cell_type": "code",
   "execution_count": 8,
   "id": "a4b8bf02",
   "metadata": {},
   "outputs": [],
   "source": [
    "num_schema={\n",
    "  \"$schema\": \"https://json-schema.org/draft/2020-12/schema\",\n",
    "  \"$id\": \"https://github.com/jmshea/jupyterquiz/num_schema.json\",\n",
    "  \"title\": \"JupyterQuiz Numeric Question\",\n",
    "  \"description\": \"Schema for Multiple or Many Choice Questions in JupyterQuiz\",\n",
    "\n",
    "  \"type\": \"object\",\n",
    "  \"properties\": {\n",
    "      \"question\": {\"type\": \"string\"},\n",
    "      \"type\": {\"type\": \"string\",\n",
    "                  \"pattern\": \"numeric\"},\n",
    "      \"precision\": {\"type\": \"integer\"},\n",
    "      \"answers\":{ \"type\": \"array\",\n",
    "             \"items\": { \"anyOf\":\n",
    "             [\n",
    "                 {\"type\": \"object\",\n",
    "                  \"properties\": {\n",
    "                      \"value\": {\"type\": \"number\"},\n",
    "                      \"correct\": {\"type\": \"boolean\"},\n",
    "                      \"feedback\": {\"type\": \"string\"}\n",
    "                  },\n",
    "                  \"required\":[\"value\", \"correct\"]\n",
    "                 },\n",
    "                 \n",
    "                 {\"type\": \"object\",\n",
    "                  \"properties\": {\n",
    "                      \"range\": {\n",
    "                      \"type\": \"array\",\n",
    "                      \"minItems\": 2,\n",
    "                      \"maxItems\": 2},\n",
    "                      \"correct\": {\"type\": \"boolean\"},\n",
    "                      \"feedback\": {\"type\": \"string\"}\n",
    "                  },\n",
    "                  \"required\":[\"range\", \"correct\"]\n",
    "                 },\n",
    "                \n",
    "                 {\"type\": \"object\",\n",
    "                  \"properties\": {\n",
    "                      \"type\": {\"type\": \"string\",\n",
    "                              \"pattern\": \"default\"},\n",
    "                      \"feedback\": {\"type\": \"string\"}\n",
    "                  },\n",
    "                  \"required\":[\"type\", \"feedback\"]\n",
    "                 }\n",
    "             ]\n",
    "            }\n",
    "            }\n",
    "  }\n",
    "}"
   ]
  },
  {
   "cell_type": "code",
   "execution_count": 9,
   "id": "98deeb11",
   "metadata": {},
   "outputs": [],
   "source": [
    "validate(numeric, num_schema)"
   ]
  },
  {
   "cell_type": "code",
   "execution_count": 10,
   "id": "614d1c53",
   "metadata": {},
   "outputs": [],
   "source": [
    "with open(\"num_schema.json\", \"w\") as file:\n",
    "    json.dump(num_schema, file, indent=4)"
   ]
  },
  {
   "cell_type": "code",
   "execution_count": null,
   "id": "3c2686c1",
   "metadata": {},
   "outputs": [],
   "source": []
  }
 ],
 "metadata": {
  "kernelspec": {
   "display_name": "Python 3 (ipykernel)",
   "language": "python",
   "name": "python3"
  },
  "language_info": {
   "codemirror_mode": {
    "name": "ipython",
    "version": 3
   },
   "file_extension": ".py",
   "mimetype": "text/x-python",
   "name": "python",
   "nbconvert_exporter": "python",
   "pygments_lexer": "ipython3",
   "version": "3.9.15"
  }
 },
 "nbformat": 4,
 "nbformat_minor": 5
}
