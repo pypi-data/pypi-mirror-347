{
 "cells": [
  {
   "cell_type": "markdown",
   "id": "18d3099a",
   "metadata": {},
   "source": [
    "# Creating the data to test in STATA and Python"
   ]
  },
  {
   "cell_type": "code",
   "execution_count": 7,
   "id": "2cbb33d9",
   "metadata": {},
   "outputs": [
    {
     "name": "stderr",
     "output_type": "stream",
     "text": [
      "/Users/jonathanhyatt/weak_instruments/src/weak_instruments/ujive1.py:171: RuntimeWarning: Normally this estimator is used when Z has more columns than X. In this case Z has 2 columns and X has 2 columns.\n",
      "  warnings.warn(f\"Normally this estimator is used when Z has more columns than X. In this case Z has {Z.shape[1]} columns and X has {X.shape[1]} columns.\", RuntimeWarning)\n",
      "/Users/jonathanhyatt/weak_instruments/src/weak_instruments/ujive1.py:211: RuntimeWarning: divide by zero encountered in matmul\n",
      "  P = Z @ np.linalg.inv(Z.T @ Z) @ Z.T\n",
      "/Users/jonathanhyatt/weak_instruments/src/weak_instruments/ujive1.py:211: RuntimeWarning: overflow encountered in matmul\n",
      "  P = Z @ np.linalg.inv(Z.T @ Z) @ Z.T\n",
      "/Users/jonathanhyatt/weak_instruments/src/weak_instruments/ujive1.py:211: RuntimeWarning: invalid value encountered in matmul\n",
      "  P = Z @ np.linalg.inv(Z.T @ Z) @ Z.T\n",
      "/Users/jonathanhyatt/weak_instruments/src/weak_instruments/ujive1.py:212: RuntimeWarning: divide by zero encountered in matmul\n",
      "  fit = P @ X #  Z @ np.linalg.inv(Z.T @ Z) @ Z.T @ X\n",
      "/Users/jonathanhyatt/weak_instruments/src/weak_instruments/ujive1.py:212: RuntimeWarning: overflow encountered in matmul\n",
      "  fit = P @ X #  Z @ np.linalg.inv(Z.T @ Z) @ Z.T @ X\n",
      "/Users/jonathanhyatt/weak_instruments/src/weak_instruments/ujive1.py:212: RuntimeWarning: invalid value encountered in matmul\n",
      "  fit = P @ X #  Z @ np.linalg.inv(Z.T @ Z) @ Z.T @ X\n",
      "/Users/jonathanhyatt/weak_instruments/src/weak_instruments/ujive1.py:268: RuntimeWarning: divide by zero encountered in matmul\n",
      "  yfit = X @ beta_jive1\n",
      "/Users/jonathanhyatt/weak_instruments/src/weak_instruments/ujive1.py:268: RuntimeWarning: overflow encountered in matmul\n",
      "  yfit = X @ beta_jive1\n",
      "/Users/jonathanhyatt/weak_instruments/src/weak_instruments/ujive1.py:268: RuntimeWarning: invalid value encountered in matmul\n",
      "  yfit = X @ beta_jive1\n",
      "/Users/jonathanhyatt/weak_instruments/src/weak_instruments/ujive1.py:275: RuntimeWarning: divide by zero encountered in matmul\n",
      "  F = ((np.sum((yfit-ybar)**2)) / (q-1)) / ((e.T @ e)/(N-q))\n",
      "/Users/jonathanhyatt/weak_instruments/src/weak_instruments/ujive1.py:275: RuntimeWarning: overflow encountered in matmul\n",
      "  F = ((np.sum((yfit-ybar)**2)) / (q-1)) / ((e.T @ e)/(N-q))\n",
      "/Users/jonathanhyatt/weak_instruments/src/weak_instruments/ujive1.py:275: RuntimeWarning: invalid value encountered in matmul\n",
      "  F = ((np.sum((yfit-ybar)**2)) / (q-1)) / ((e.T @ e)/(N-q))\n",
      "/Users/jonathanhyatt/weak_instruments/src/weak_instruments/ujive1.py:286: RuntimeWarning: divide by zero encountered in matmul\n",
      "  fs_fit = Z @ np.linalg.inv(Z.T @ Z) @ Z.T @ X_fs\n",
      "/Users/jonathanhyatt/weak_instruments/src/weak_instruments/ujive1.py:286: RuntimeWarning: overflow encountered in matmul\n",
      "  fs_fit = Z @ np.linalg.inv(Z.T @ Z) @ Z.T @ X_fs\n",
      "/Users/jonathanhyatt/weak_instruments/src/weak_instruments/ujive1.py:286: RuntimeWarning: invalid value encountered in matmul\n",
      "  fs_fit = Z @ np.linalg.inv(Z.T @ Z) @ Z.T @ X_fs\n",
      "/Users/jonathanhyatt/weak_instruments/src/weak_instruments/ujive1.py:295: RuntimeWarning: divide by zero encountered in matmul\n",
      "  fs_F = ((np.sum((fs_fit - xbar) ** 2))/(q_fs-1))/((e_fs.T @ e_fs)/(N-q_fs))\n",
      "/Users/jonathanhyatt/weak_instruments/src/weak_instruments/ujive1.py:295: RuntimeWarning: overflow encountered in matmul\n",
      "  fs_F = ((np.sum((fs_fit - xbar) ** 2))/(q_fs-1))/((e_fs.T @ e_fs)/(N-q_fs))\n",
      "/Users/jonathanhyatt/weak_instruments/src/weak_instruments/ujive1.py:295: RuntimeWarning: invalid value encountered in matmul\n",
      "  fs_F = ((np.sum((fs_fit - xbar) ** 2))/(q_fs-1))/((e_fs.T @ e_fs)/(N-q_fs))\n",
      "Normally this estimator is used when Z has more columns than X. In this case Z has 2 columns and X has 2 columns.\n"
     ]
    },
    {
     "name": "stdout",
     "output_type": "stream",
     "text": [
      "Z'Z is invertible\n",
      "Condition number of Z.T @ Z: 1.035242579245795\n",
      "OLS: 14.834920684452495\n",
      "2SLS: 3.370775391299805\n",
      "Jive 1: [-1.57784354  3.32739487]\n",
      "\n",
      "UJIVE1 Regression Results\n",
      "================================================================================\n",
      " Coefficient  Std. Error    t-stat    P>|t|  Conf. Int. Low  Conf. Int. High\n",
      "   -1.577844    1.589756 -0.992507 0.321191       -4.697491         1.541804\n",
      "    3.327395    1.066825 -0.992507 0.321191        1.233918         5.420872\n",
      "--------------------------------------------------------------------------------\n",
      "R-squared: 0.132188\n",
      "Adjusted R-squared: 0.131319\n",
      "F-statistic: 19.201961\n",
      "Root MSE: 34.905596\n",
      "================================================================================\n",
      "None\n",
      "Jive 2: [-1.57517123  3.32473983]\n",
      "\n",
      "UJIVE2 Regression Results\n",
      "================================================================================\n",
      " Coefficient  Std. Error    t-stat    P>|t|  Conf. Int. Low  Conf. Int. High\n",
      "   -1.575171    1.589923 -0.990721 0.322062       -4.695148         1.544805\n",
      "    3.324740    1.067072 -0.990721 0.322062        1.230777         5.418703\n",
      "--------------------------------------------------------------------------------\n",
      "R-squared: 0.132096\n",
      "Adjusted R-squared: 0.131226\n",
      "F-statistic: 19.169293\n",
      "Root MSE: 34.907450\n",
      "================================================================================\n",
      "None\n"
     ]
    },
    {
     "name": "stderr",
     "output_type": "stream",
     "text": [
      "/Users/jonathanhyatt/weak_instruments/src/weak_instruments/ujive2.py:203: RuntimeWarning: divide by zero encountered in matmul\n",
      "  fit = Z @ np.linalg.inv(Z.T @ Z) @ Z.T @ X\n",
      "/Users/jonathanhyatt/weak_instruments/src/weak_instruments/ujive2.py:203: RuntimeWarning: overflow encountered in matmul\n",
      "  fit = Z @ np.linalg.inv(Z.T @ Z) @ Z.T @ X\n",
      "/Users/jonathanhyatt/weak_instruments/src/weak_instruments/ujive2.py:203: RuntimeWarning: invalid value encountered in matmul\n",
      "  fit = Z @ np.linalg.inv(Z.T @ Z) @ Z.T @ X\n",
      "/Users/jonathanhyatt/weak_instruments/src/weak_instruments/ujive2.py:206: RuntimeWarning: divide by zero encountered in matmul\n",
      "  leverage = np.diag(Z @ np.linalg.inv(Z.T @ Z) @ Z.T)\n",
      "/Users/jonathanhyatt/weak_instruments/src/weak_instruments/ujive2.py:206: RuntimeWarning: overflow encountered in matmul\n",
      "  leverage = np.diag(Z @ np.linalg.inv(Z.T @ Z) @ Z.T)\n",
      "/Users/jonathanhyatt/weak_instruments/src/weak_instruments/ujive2.py:206: RuntimeWarning: invalid value encountered in matmul\n",
      "  leverage = np.diag(Z @ np.linalg.inv(Z.T @ Z) @ Z.T)\n",
      "/Users/jonathanhyatt/weak_instruments/src/weak_instruments/ujive2.py:258: RuntimeWarning: divide by zero encountered in matmul\n",
      "  yfit = X @ beta_jive2\n",
      "/Users/jonathanhyatt/weak_instruments/src/weak_instruments/ujive2.py:258: RuntimeWarning: overflow encountered in matmul\n",
      "  yfit = X @ beta_jive2\n",
      "/Users/jonathanhyatt/weak_instruments/src/weak_instruments/ujive2.py:258: RuntimeWarning: invalid value encountered in matmul\n",
      "  yfit = X @ beta_jive2\n",
      "/Users/jonathanhyatt/weak_instruments/src/weak_instruments/ujive2.py:265: RuntimeWarning: divide by zero encountered in matmul\n",
      "  F = ((np.sum((yfit - ybar) ** 2)) / (q - 1)) / ((e.T @ e) / (N - q))\n",
      "/Users/jonathanhyatt/weak_instruments/src/weak_instruments/ujive2.py:265: RuntimeWarning: overflow encountered in matmul\n",
      "  F = ((np.sum((yfit - ybar) ** 2)) / (q - 1)) / ((e.T @ e) / (N - q))\n",
      "/Users/jonathanhyatt/weak_instruments/src/weak_instruments/ujive2.py:265: RuntimeWarning: invalid value encountered in matmul\n",
      "  F = ((np.sum((yfit - ybar) ** 2)) / (q - 1)) / ((e.T @ e) / (N - q))\n",
      "/Users/jonathanhyatt/weak_instruments/src/weak_instruments/ujive2.py:276: RuntimeWarning: divide by zero encountered in matmul\n",
      "  fs_fit = Z @ np.linalg.inv(Z.T @ Z) @ Z.T @ X_fs\n",
      "/Users/jonathanhyatt/weak_instruments/src/weak_instruments/ujive2.py:276: RuntimeWarning: overflow encountered in matmul\n",
      "  fs_fit = Z @ np.linalg.inv(Z.T @ Z) @ Z.T @ X_fs\n",
      "/Users/jonathanhyatt/weak_instruments/src/weak_instruments/ujive2.py:276: RuntimeWarning: invalid value encountered in matmul\n",
      "  fs_fit = Z @ np.linalg.inv(Z.T @ Z) @ Z.T @ X_fs\n",
      "/Users/jonathanhyatt/weak_instruments/src/weak_instruments/ujive2.py:285: RuntimeWarning: divide by zero encountered in matmul\n",
      "  fs_F = ((np.sum((fs_fit - xbar) ** 2)) / (q_fs - 1)) / ((e_fs.T @ e_fs) / (N - q_fs))\n",
      "/Users/jonathanhyatt/weak_instruments/src/weak_instruments/ujive2.py:285: RuntimeWarning: overflow encountered in matmul\n",
      "  fs_F = ((np.sum((fs_fit - xbar) ** 2)) / (q_fs - 1)) / ((e_fs.T @ e_fs) / (N - q_fs))\n",
      "/Users/jonathanhyatt/weak_instruments/src/weak_instruments/ujive2.py:285: RuntimeWarning: invalid value encountered in matmul\n",
      "  fs_F = ((np.sum((fs_fit - xbar) ** 2)) / (q_fs - 1)) / ((e_fs.T @ e_fs) / (N - q_fs))\n"
     ]
    }
   ],
   "source": [
    "import numpy as np\n",
    "import pandas as pd\n",
    "from ujive1 import *\n",
    "from ujive2 import *\n",
    "from tsls import * \n",
    "\n",
    "#Pick a vector length:\n",
    "n = 1000\n",
    "\n",
    "#Getting our Z's and making a Z matrix:\n",
    "Z = np.random.randn(n, 1)\n",
    "column_of_ones = np.ones((Z.shape[0], 1))\n",
    "Z = np.hstack((column_of_ones, Z))\n",
    "#pprint(Z)\n",
    "\n",
    "#Parameter vectors:\n",
    "α = np.array([1,1])\n",
    "β = np.array([1,2])\n",
    "#pprint(α)\n",
    "#pprint(β)\n",
    "\n",
    "#Error terms:\n",
    "e1 = np.random.normal(0,5,n)\n",
    "e2 = np.random.normal(0,5,n)\n",
    "δ = np.random.normal(0,1)\n",
    "ε = 5*e1 - 5*e2 + δ\n",
    "\n",
    "#Making our endogenous variable:\n",
    "x = np.dot(Z,α) + .2*e1\n",
    "X = np.column_stack((column_of_ones, x))\n",
    "#pprint(X)\n",
    "\n",
    "#Outcome vector:\n",
    "Y = np.dot(X,β) + ε\n",
    "\n",
    "#OLS benchmark:\n",
    "bhat_ols = np.dot(np.linalg.inv(np.dot(X.T,X)), np.dot(X.T, Y))\n",
    "\n",
    "# Check to see if the Z'Z matrix is invertible\n",
    "if np.linalg.matrix_rank(Z.T @ Z) == Z.shape[1]:  # Should be True\n",
    "    print(\"Z'Z is invertible\")\n",
    "else:\n",
    "    print(\"Z'Z is not invertible\")\n",
    "\n",
    "cond_number = np.linalg.cond(Z.T @ Z)\n",
    "print(f\"Condition number of Z.T @ Z: {cond_number}\")\n",
    "if cond_number > 1e10:  # Threshold for ill-conditioning\n",
    "    raise ValueError(\"Z.T @ Z is ill-conditioned and may cause numerical instability.\")\n",
    "\n",
    "\n",
    "#2sls comparison:\n",
    "Zt_Z = np.dot(Z.T, Z)\n",
    "Zt_Z_inv = np.linalg.inv(Zt_Z)\n",
    "pz = np.dot(np.dot(Z, Zt_Z_inv), Z.T)\n",
    "proj_x = np.dot(pz, X)\n",
    "first = np.linalg.inv(np.dot(proj_x.T, X))\n",
    "second = np.dot(proj_x.T, Y)\n",
    "bhat_2sls = np.dot(first, second)\n",
    "\n",
    "\n",
    "ujive1 = UJIVE1(Y,X,Z,talk=False)\n",
    "ujive2 = UJIVE2(Y,X,Z,talk=False)\n",
    "#tsls = TSLS(Y,X,Z)\n",
    "\n",
    "# Combine matrices into a single DataFrame\n",
    "df = pd.DataFrame({\n",
    "    \"Y\": Y,  # Outcome vector\n",
    "    **{f\"X{i}\": X[:, i] for i in range(X.shape[1])},  # Endogenous variables\n",
    "    **{f\"Z{i}\": Z[:, i] for i in range(Z.shape[1])}   # Instrumental variables\n",
    "})\n",
    "\n",
    "# Save the DataFrame to a CSV file\n",
    "df.to_csv('data.csv', index=False)\n",
    "\n",
    "#Compare them:\n",
    "print(\"OLS:\", bhat_ols[1])\n",
    "print(\"2SLS:\", bhat_2sls[1])\n",
    "print(\"Jive 1:\", ujive1['beta'])\n",
    "print(ujive1.summary())\n",
    "print(\"Jive 2:\",ujive2['beta'])\n",
    "print(ujive2.summary())"
   ]
  },
  {
   "cell_type": "code",
   "execution_count": 8,
   "id": "458b0c5b",
   "metadata": {},
   "outputs": [
    {
     "data": {
      "text/plain": [
       "array([[ 9.93887380e-04,  7.14128733e-04],\n",
       "       [ 1.01062506e-03, -1.24131060e-03],\n",
       "       [ 1.01812446e-03, -2.11745554e-03],\n",
       "       ...,\n",
       "       [ 1.00010196e-03, -1.19112685e-05],\n",
       "       [ 9.97412397e-04,  3.02306068e-04],\n",
       "       [ 9.95333090e-04,  5.45228540e-04]], shape=(1000, 2))"
      ]
     },
     "execution_count": 8,
     "metadata": {},
     "output_type": "execute_result"
    }
   ],
   "source": [
    "(Z @ np.linalg.inv(np.dot(Z.T,Z))) #@ Z.T"
   ]
  },
  {
   "cell_type": "code",
   "execution_count": 9,
   "id": "232be533",
   "metadata": {},
   "outputs": [
    {
     "name": "stdout",
     "output_type": "stream",
     "text": [
      "[[ 1.00007109e-03 -8.30506095e-06]\n",
      " [-8.30506095e-06  9.70268567e-04]]\n"
     ]
    }
   ],
   "source": [
    "ZtZ_inv = np.linalg.inv(Z.T @ Z)\n",
    "print(ZtZ_inv)\n"
   ]
  },
  {
   "cell_type": "code",
   "execution_count": 10,
   "id": "69ab92c9",
   "metadata": {},
   "outputs": [
    {
     "data": {
      "text/plain": [
       "array([[ 1.        ,  0.74457096],\n",
       "       [ 1.        , -1.27078789],\n",
       "       [ 1.        , -2.17378007],\n",
       "       ...,\n",
       "       [ 1.        , -0.00371671],\n",
       "       [ 1.        ,  0.32012902],\n",
       "       [ 1.        ,  0.57049524]], shape=(1000, 2))"
      ]
     },
     "execution_count": 10,
     "metadata": {},
     "output_type": "execute_result"
    }
   ],
   "source": [
    "Z"
   ]
  },
  {
   "cell_type": "code",
   "execution_count": 11,
   "id": "5f341cfd",
   "metadata": {},
   "outputs": [],
   "source": [
    "assert np.allclose(Z.T @ Z, (Z.T @ Z).T), \"Z'Z is not symmetric.\""
   ]
  },
  {
   "cell_type": "code",
   "execution_count": null,
   "id": "893438e7",
   "metadata": {},
   "outputs": [],
   "source": []
  }
 ],
 "metadata": {
  "kernelspec": {
   "display_name": "myenv",
   "language": "python",
   "name": "python3"
  },
  "language_info": {
   "codemirror_mode": {
    "name": "ipython",
    "version": 3
   },
   "file_extension": ".py",
   "mimetype": "text/x-python",
   "name": "python",
   "nbconvert_exporter": "python",
   "pygments_lexer": "ipython3",
   "version": "3.13.3"
  }
 },
 "nbformat": 4,
 "nbformat_minor": 5
}
