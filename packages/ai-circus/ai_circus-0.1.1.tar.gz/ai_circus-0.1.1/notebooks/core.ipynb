{
  "cells": [
    {
      "cell_type": "code",
      "execution_count": null,
      "id": "4f08fa4f",
      "metadata": {},
      "outputs": [],
      "source": [
        "%load_ext autoreload\n",
        "%autoreload 2\n",
        "\n",
        "from ai_circus.core import custom_logger\n",
        "\n",
        "logger =  custom_logger.init(level=\"INFO\")\n",
        "logger.info(\"Starting the script...\")"
      ]
    },
    {
      "cell_type": "code",
      "execution_count": null,
      "id": "dfdd8085",
      "metadata": {},
      "outputs": [],
      "source": [
        "from ai_circus.core.info import info_system\n",
        "\n",
        "info_system()"
      ]
    }
  ],
  "metadata": {
    "kernelspec": {
      "display_name": ".venv",
      "language": "python",
      "name": "python3"
    },
    "language_info": {
      "codemirror_mode": {
        "name": "ipython",
        "version": 3
      },
      "file_extension": ".py",
      "mimetype": "text/x-python",
      "name": "python",
      "nbconvert_exporter": "python",
      "pygments_lexer": "ipython3",
      "version": "3.13.3"
    }
  },
  "nbformat": 4,
  "nbformat_minor": 5
}
