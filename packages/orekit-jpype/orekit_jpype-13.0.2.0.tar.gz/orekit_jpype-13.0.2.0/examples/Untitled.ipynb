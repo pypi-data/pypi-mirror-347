{
 "cells": [
  {
   "cell_type": "code",
   "execution_count": 8,
   "id": "5e7ac0e0-20ae-4e9b-b78c-301cb21c69c0",
   "metadata": {},
   "outputs": [],
   "source": [
    "import orekit_jpype\n",
    "orekit_jpype.initVM()\n",
    "from orekit_jpype.pyhelpers import setup_orekit_data\n",
    "setup_orekit_data()"
   ]
  },
  {
   "cell_type": "code",
   "execution_count": 5,
   "id": "e3565ad9-4a15-42a5-84cc-7b371143b96a",
   "metadata": {},
   "outputs": [],
   "source": [
    "#from .setup_orekit_od import attach_thread  # This also setsup orekit\n",
    "from org.orekit.time import AbsoluteDate, TimeScalesFactory\n",
    "from org.orekit.propagation.analytical.tle import TLE, TLEPropagator\n",
    "utc = TimeScalesFactory.getUTC()"
   ]
  },
  {
   "cell_type": "code",
   "execution_count": 6,
   "id": "955e8c5d-d3a4-4fe3-8c29-b3ba9689d447",
   "metadata": {},
   "outputs": [
    {
     "data": {
      "text/plain": [
       "<SpacecraftState: SpacecraftState{orbit=Cartesian parameters: {P(-4.190699023096728E7, 3.17517168445169E7, 2.6951345931116626E7), V(842.7778641748178, -1501.2336941955657, 313.05443366379285)}, attitude=org.orekit.attitudes.Attitude@47542153, mass=1000.0, additional={}, additionalDot={}}>"
      ]
     },
     "execution_count": 6,
     "metadata": {},
     "output_type": "execute_result"
    }
   ],
   "source": [
    "# This is a \"good\" TLE\n",
    "line1_1 = \"1 12345U 18022A   25178.44132059  .00000000  00000+0 -10688+2 0 01805\"\n",
    "line2_1 = \"2 12345  59.3792 127.9393 8065348 194.8884   1.2457  1.22150854    09\"\n",
    "tle_1 = TLE(line1_1, line2_1)\n",
    "propagator_1 = TLEPropagator.selectExtrapolator(tle_1)\n",
    "start_1 = AbsoluteDate(2025, 6, 27, 10, 34, 30.0, utc)\n",
    "stop_1 = AbsoluteDate(2025, 7, 27, 10, 34, 30.0, utc)\n",
    "propagator_1.propagate(start_1, stop_1)"
   ]
  },
  {
   "cell_type": "code",
   "execution_count": 7,
   "id": "f3e6ec55-b08f-4b78-9b01-6c567453a1ac",
   "metadata": {},
   "outputs": [
    {
     "ename": "org.orekit.errors.OrekitException",
     "evalue": "org.orekit.errors.OrekitException: too large eccentricity for propagation model: e = 1.014",
     "output_type": "error",
     "traceback": [
      "\u001b[31m---------------------------------------------------------------------------\u001b[39m",
      "\u001b[31morg.orekit.errors.OrekitException\u001b[39m         Traceback (most recent call last)",
      "\u001b[36mFile \u001b[39m\u001b[32mAbstractAnalyticalPropagator.java:154\u001b[39m, in \u001b[36morg.orekit.propagation.analytical.AbstractAnalyticalPropagator.propagate\u001b[39m\u001b[34m()\u001b[39m\n",
      "\u001b[31morg.orekit.errors.OrekitException\u001b[39m: org.orekit.errors.OrekitException: too large eccentricity for propagation model: e = 1.014",
      "\nThe above exception was the direct cause of the following exception:\n",
      "\u001b[31mException\u001b[39m                                 Traceback (most recent call last)",
      "\u001b[36mFile \u001b[39m\u001b[32mAbstractAnalyticalPropagator.java:154\u001b[39m, in \u001b[36morg.orekit.propagation.analytical.AbstractAnalyticalPropagator.propagate\u001b[39m\u001b[34m()\u001b[39m\n",
      "\u001b[31mException\u001b[39m: Java Exception",
      "\nThe above exception was the direct cause of the following exception:\n",
      "\u001b[31morg.orekit.errors.OrekitException\u001b[39m         Traceback (most recent call last)",
      "\u001b[36mCell\u001b[39m\u001b[36m \u001b[39m\u001b[32mIn[7]\u001b[39m\u001b[32m, line 8\u001b[39m\n\u001b[32m      6\u001b[39m start_2 = AbsoluteDate(\u001b[32m2025\u001b[39m, \u001b[32m6\u001b[39m, \u001b[32m28\u001b[39m, \u001b[32m6\u001b[39m, \u001b[32m14\u001b[39m, \u001b[32m56.156352\u001b[39m, utc)\n\u001b[32m      7\u001b[39m stop_2 = AbsoluteDate(\u001b[32m2025\u001b[39m, \u001b[32m7\u001b[39m, \u001b[32m7\u001b[39m, \u001b[32m6\u001b[39m, \u001b[32m14\u001b[39m, \u001b[32m56.0\u001b[39m, utc) \u001b[38;5;66;03m# day 6 works\u001b[39;00m\n\u001b[32m----> \u001b[39m\u001b[32m8\u001b[39m \u001b[43mpropagator_2\u001b[49m\u001b[43m.\u001b[49m\u001b[43mpropagate\u001b[49m\u001b[43m(\u001b[49m\u001b[43mstart_2\u001b[49m\u001b[43m,\u001b[49m\u001b[43m \u001b[49m\u001b[43mstop_2\u001b[49m\u001b[43m)\u001b[49m\n",
      "\u001b[31morg.orekit.errors.OrekitException\u001b[39m: org.orekit.errors.OrekitException: too large eccentricity for propagation model: e = 1.014"
     ]
    }
   ],
   "source": [
    "# This a \"strange\" TLE\n",
    "line1_2 = \"1 12345U 18022A   25179.26037218  .00000000  00000+0 -89565+3 0 01819\"\n",
    "line2_2 = \"2 12345  59.0747 127.5637 8068242 194.7820   1.1678  1.22005360    03\"\n",
    "tle_2 = TLE(line1_2, line2_2)\n",
    "propagator_2 = TLEPropagator.selectExtrapolator(tle_2)\n",
    "start_2 = AbsoluteDate(2025, 6, 28, 6, 14, 56.156352, utc)\n",
    "stop_2 = AbsoluteDate(2025, 7, 7, 6, 14, 56.0, utc) # day 6 works\n",
    "propagator_2.propagate(start_2, stop_2)"
   ]
  },
  {
   "cell_type": "code",
   "execution_count": null,
   "id": "860ea377-ebf8-421c-9395-2bedf3d8f6d7",
   "metadata": {},
   "outputs": [],
   "source": []
  }
 ],
 "metadata": {
  "kernelspec": {
   "display_name": "Python 3 (ipykernel)",
   "language": "python",
   "name": "python3"
  },
  "language_info": {
   "codemirror_mode": {
    "name": "ipython",
    "version": 3
   },
   "file_extension": ".py",
   "mimetype": "text/x-python",
   "name": "python",
   "nbconvert_exporter": "python",
   "pygments_lexer": "ipython3",
   "version": "3.12.5"
  }
 },
 "nbformat": 4,
 "nbformat_minor": 5
}
