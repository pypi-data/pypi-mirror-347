{
 "cells": [
  {
   "cell_type": "code",
   "execution_count": 1,
   "id": "71b0eb0b",
   "metadata": {},
   "outputs": [
    {
     "name": "stdout",
     "output_type": "stream",
     "text": [
      "Hello\n"
     ]
    }
   ],
   "source": [
    "print(\"Hello\")"
   ]
  },
  {
   "cell_type": "code",
   "execution_count": 5,
   "id": "04af4f48",
   "metadata": {},
   "outputs": [
    {
     "name": "stdout",
     "output_type": "stream",
     "text": [
      "File saved successfully\n"
     ]
    }
   ],
   "source": [
    "from Bio.SeqRecord import SeqRecord\n",
    "from Bio.Seq import Seq\n",
    "from Bio import SeqIO\n",
    "\n",
    "seq = Seq(\"ATGCATGCGCTA\")\n",
    "seqRec = SeqRecord(\n",
    "    seq,\n",
    "    id=\"1bm22\",\n",
    "    name=\"Exmaple_Seq\",\n",
    "    description=\"This is the exmaple data\",\n",
    "    annotations={\n",
    "        \"molecule_type\": \"DNA\",\n",
    "        \"function\": \"Hypothetical function\",\n",
    "        \"organism\": \"New variety\"\n",
    "    }\n",
    ")\n",
    "\n",
    "SeqIO.write(seqRec, \"./All Files/outputGen3.genbank\", \"genbank\")\n",
    "print(\"File saved successfully\")"
   ]
  },
  {
   "cell_type": "code",
   "execution_count": null,
   "id": "a3b703df",
   "metadata": {},
   "outputs": [],
   "source": []
  }
 ],
 "metadata": {
  "kernelspec": {
   "display_name": "Python 3",
   "language": "python",
   "name": "python3"
  },
  "language_info": {
   "codemirror_mode": {
    "name": "ipython",
    "version": 3
   },
   "file_extension": ".py",
   "mimetype": "text/x-python",
   "name": "python",
   "nbconvert_exporter": "python",
   "pygments_lexer": "ipython3",
   "version": "3.9.6"
  }
 },
 "nbformat": 4,
 "nbformat_minor": 5
}
