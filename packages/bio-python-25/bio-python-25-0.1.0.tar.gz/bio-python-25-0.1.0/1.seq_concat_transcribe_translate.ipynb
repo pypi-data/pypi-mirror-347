{
 "cells": [
  {
   "cell_type": "code",
   "execution_count": 1,
   "id": "6fd5dae9",
   "metadata": {},
   "outputs": [
    {
     "name": "stdout",
     "output_type": "stream",
     "text": [
      "Hello\n"
     ]
    }
   ],
   "source": [
    "print(\"Hello\")"
   ]
  },
  {
   "cell_type": "code",
   "execution_count": 10,
   "id": "2a42e54b",
   "metadata": {},
   "outputs": [
    {
     "name": "stdout",
     "output_type": "stream",
     "text": [
      "12\n",
      "ATGCTGCAGCTAATGC\n",
      "GCTGC\n",
      "ATGCCTA\n",
      "GCTGCATGCCTA\n",
      "GCUGCAUGCCUA\n",
      "AACL\n"
     ]
    }
   ],
   "source": [
    "from Bio.Seq import Seq\n",
    "\n",
    "dna_seq = Seq(\"ATGCTGCAGCTAATGC\")\n",
    "dna_slice = dna_seq[2:7]\n",
    "\n",
    "another_seq = Seq(\"ATGCCTA\")\n",
    "\n",
    "concat_seq = dna_slice + another_seq\n",
    "print(len(concat_seq))\n",
    "\n",
    "# convert dna to rna\n",
    "rna_seq = concat_seq.transcribe()\n",
    "\n",
    "# convert rna to protein\n",
    "protein_seq = rna_seq.translate()\n",
    "\n",
    "print(dna_seq)\n",
    "print(dna_slice)\n",
    "print(another_seq)\n",
    "print(concat_seq)\n",
    "print(rna_seq)\n",
    "print(protein_seq) "
   ]
  },
  {
   "cell_type": "code",
   "execution_count": null,
   "id": "d38048cd",
   "metadata": {},
   "outputs": [],
   "source": []
  }
 ],
 "metadata": {
  "kernelspec": {
   "display_name": "Python 3",
   "language": "python",
   "name": "python3"
  },
  "language_info": {
   "codemirror_mode": {
    "name": "ipython",
    "version": 3
   },
   "file_extension": ".py",
   "mimetype": "text/x-python",
   "name": "python",
   "nbconvert_exporter": "python",
   "pygments_lexer": "ipython3",
   "version": "3.9.6"
  }
 },
 "nbformat": 4,
 "nbformat_minor": 5
}
