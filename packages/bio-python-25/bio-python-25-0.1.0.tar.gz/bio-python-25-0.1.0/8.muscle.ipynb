{
 "cells": [
  {
   "cell_type": "code",
   "execution_count": 1,
   "id": "a01591e1",
   "metadata": {},
   "outputs": [
    {
     "name": "stdout",
     "output_type": "stream",
     "text": [
      "Hello\n"
     ]
    }
   ],
   "source": [
    "print(\"Hello\")"
   ]
  },
  {
   "cell_type": "code",
   "execution_count": 2,
   "id": "dd0881d4",
   "metadata": {},
   "outputs": [
    {
     "name": "stdout",
     "output_type": "stream",
     "text": [
      "Collecting biopython\n",
      "  Downloading biopython-1.85-cp312-cp312-win_amd64.whl.metadata (13 kB)\n",
      "Requirement already satisfied: numpy in c:\\users\\dell\\anaconda3\\lib\\site-packages (from biopython) (1.26.4)\n",
      "Downloading biopython-1.85-cp312-cp312-win_amd64.whl (2.8 MB)\n",
      "   ---------------------------------------- 0.0/2.8 MB ? eta -:--:--\n",
      "   ------------------------------------- -- 2.6/2.8 MB 13.7 MB/s eta 0:00:01\n",
      "   ---------------------------------------- 2.8/2.8 MB 11.7 MB/s eta 0:00:00\n",
      "Installing collected packages: biopython\n",
      "Successfully installed biopython-1.85\n",
      "Note: you may need to restart the kernel to use updated packages.\n"
     ]
    }
   ],
   "source": [
    "pip install biopython"
   ]
  },
  {
   "cell_type": "code",
   "execution_count": null,
   "id": "93eb983a",
   "metadata": {},
   "outputs": [],
   "source": [
    "\n"
   ]
  },
  {
   "cell_type": "code",
   "execution_count": 6,
   "id": "a5ca4d0b",
   "metadata": {},
   "outputs": [
    {
     "name": "stdout",
     "output_type": "stream",
     "text": [
      "Alignment with 3 rows and 2819 columns\n",
      "AATCCCCGTACTCTCTCTCTCTCTCCCTTTTCTTGAAAC---TT...AAA NM_001354869.1\n",
      "---CTCAAAAGTCTAGAGC-----CACCGTCCAGGGAGCAGGTA...CCA NM_000546.6\n",
      "---CTCAAAAGTCTAGAGC-----CACCGTCCAGGGAGCAGGTA...CCA NM_001126112.3\n"
     ]
    }
   ],
   "source": [
    "from Bio import Entrez, SeqIO\n",
    "import subprocess\n",
    "from Bio import AlignIO\n",
    "\n",
    "# Set your email\n",
    "Entrez.email = \"your_email@example.com\"\n",
    "\n",
    "# Step 1: Fetch 3 Homo sapiens gene sequences by accession ID\n",
    "accessions = [\"NM_000546\", \"NM_001126112\", \"NM_001354869\"]  # Example mRNA sequences\n",
    "\n",
    "with open(\"./All Files/input_sequences.fasta\", \"w\") as fasta_file:\n",
    "    for acc in accessions:\n",
    "        handle = Entrez.efetch(db=\"nucleotide\", id=acc, rettype=\"fasta\", retmode=\"text\")\n",
    "        seq_record = SeqIO.read(handle, \"fasta\")\n",
    "        SeqIO.write(seq_record, fasta_file, \"fasta\")\n",
    "        handle.close()\n",
    "\n",
    "# Step 2: Run MUSCLE alignment\n",
    "muscle_exe = \"./muscle3.8.31_i86win32.exe\"\n",
    "\n",
    "try:\n",
    "    subprocess.run([muscle_exe, \"-in\", \"./All Files/input_sequences.fasta\", \"-out\", \"./All Files/aligned_sequences.fasta\"], check=True)\n",
    "    alignment = AlignIO.read(\"./All Files/aligned_sequences.fasta\", \"fasta\")\n",
    "    print(alignment)\n",
    "except FileNotFoundError:\n",
    "    print(\"Error: MUSCLE executable not found. Check the path:\", muscle_exe)\n",
    "except subprocess.CalledProcessError as e:\n",
    "    print(f\"Error running MUSCLE: {e}\")\n"
   ]
  },
  {
   "cell_type": "code",
   "execution_count": null,
   "id": "ff67e566",
   "metadata": {},
   "outputs": [],
   "source": []
  }
 ],
 "metadata": {
  "kernelspec": {
   "display_name": "base",
   "language": "python",
   "name": "python3"
  },
  "language_info": {
   "codemirror_mode": {
    "name": "ipython",
    "version": 3
   },
   "file_extension": ".py",
   "mimetype": "text/x-python",
   "name": "python",
   "nbconvert_exporter": "python",
   "pygments_lexer": "ipython3",
   "version": "3.12.7"
  }
 },
 "nbformat": 4,
 "nbformat_minor": 5
}
