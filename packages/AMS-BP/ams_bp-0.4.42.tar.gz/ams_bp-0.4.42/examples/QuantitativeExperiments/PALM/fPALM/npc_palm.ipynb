{
 "cells": [
  {
   "cell_type": "markdown",
   "metadata": {},
   "source": [
    "Nuclear pores as versatile reference standards for quantitative superresolution microscopy\n",
    "1.  https://pmc.ncbi.nlm.nih.gov/articles/PMC6768092/"
   ]
  },
  {
   "cell_type": "code",
   "execution_count": 2,
   "metadata": {},
   "outputs": [
    {
     "name": "stdout",
     "output_type": "stream",
     "text": [
      "cell_type='RectangularCell' params={'bounds': [4, 7, 3, 9, -0.5, 0.5]}\n"
     ]
    }
   ],
   "source": [
    "from AMS_BP.core.configio.configmodels import CellParameters\n",
    "\n",
    "cellp = CellParameters(cell_type=\"RectangularCell\",params = {\"bounds\":[4, 7, 3, 9,-0.5,0.5]})\n",
    "\n",
    "print(cellp)"
   ]
  },
  {
   "cell_type": "code",
   "execution_count": 3,
   "metadata": {},
   "outputs": [
    {
     "name": "stdout",
     "output_type": "stream",
     "text": [
      "RectangularCell(mesh=PolyData (0x1403059c0)\n",
      "  N Cells:    12\n",
      "  N Points:   8\n",
      "  N Strips:   0\n",
      "  X Bounds:   4.000e+00, 7.000e+00\n",
      "  Y Bounds:   3.000e+00, 9.000e+00\n",
      "  Z Bounds:   -5.000e-01, 5.000e-01\n",
      "  N Arrays:   2, bounds=[4, 7, 3, 9, -0.5, 0.5])\n"
     ]
    }
   ],
   "source": [
    "from AMS_BP.core.configio.convertconfig import make_cell\n",
    "\n",
    "rcell = make_cell(cellp)\n",
    "print(\n",
    "    rcell\n",
    ")"
   ]
  },
  {
   "cell_type": "code",
   "execution_count": 4,
   "metadata": {},
   "outputs": [
    {
     "name": "stdout",
     "output_type": "stream",
     "text": [
      "sample_plane_dim=array([10., 10.]) cycle_count=1000 exposure_time=20 interval_time=0 oversample_motion_time=10\n"
     ]
    }
   ],
   "source": [
    "sample_plane_dim = [\n",
    "    10,\n",
    "    10,\n",
    "]  # in um. Describes the size of the plane on which the sample is placed.\n",
    "cycle_count = 1000  # Number of cycles to run the simulation for. (this would be the # of frames in a movies if a time series)\n",
    "# cycle_count is 1 for each exposure_time + interval_time in the simulation.\n",
    "exposure_time = 20  # in ms\n",
    "interval_time = 0  # in ms\n",
    "oversample_motion_time = 10  # this is the smallest time step in the simulation for the motion of the molecules. Both the exposure_time and interval_time need to be equal to or larger than this, or be 0.\n",
    "\n",
    "from AMS_BP.core.configio.convertconfig import GlobalParameters\n",
    "\n",
    "globalp = GlobalParameters(\n",
    "    sample_plane_dim=sample_plane_dim,\n",
    "    cycle_count=cycle_count,\n",
    "    exposure_time=exposure_time,\n",
    "    interval_time=interval_time,\n",
    "    oversample_motion_time=oversample_motion_time,\n",
    ")\n",
    "print(globalp)"
   ]
  },
  {
   "cell_type": "code",
   "execution_count": 5,
   "metadata": {},
   "outputs": [],
   "source": [
    "from AMS_BP.core.configio.convertconfig import ConfigList\n",
    "config_list = ConfigList(\n",
    "    CellParameter = cellp,\n",
    "    MoleculeParameter = None,\n",
    "    GlobalParameter = globalp,\n",
    "    CondensateParameter = None,\n",
    "    OutputParameter = None,\n",
    ")"
   ]
  },
  {
   "cell_type": "code",
   "execution_count": 6,
   "metadata": {},
   "outputs": [],
   "source": [
    "num_of_fluorophores = 1\n",
    "fluorophore_names = [\"PAmCherry\"]\n"
   ]
  },
  {
   "cell_type": "code",
   "execution_count": 7,
   "metadata": {},
   "outputs": [
    {
     "name": "stdout",
     "output_type": "stream",
     "text": [
      "name='mMaple' states={'bright_red': State(name='bright_red', state_type=<StateType.FLUORESCENT: 'fluorescent'>, excitation_spectrum=SpectralData(wavelengths=[325.0, 411.0, 569.0, 611.0, 612.0], values=[0.355, 0.033, 1.0, 0.0075, 0.0068], cache_values={325.0: 0.355, 411.0: 0.033, 569.0: 1.0, 611.0: 0.0075, 612.0: 0.0068}), emission_spectrum=SpectralData(wavelengths=[530.0, 583.0, 600.0, 650.0, 700.0], values=[0.001, 1.0, 0.52, 0.25, 0.068], cache_values={530.0: 0.001, 583.0: 1.0, 600.0: 0.52, 650.0: 0.25, 700.0: 0.068}), quantum_yield_lambda_val=0.56, quantum_yield=WavelengthDependentProperty(wavelengths=[530.0, 583.0, 600.0, 650.0, 700.0], values=[0.0005600000000000001, 0.56, 0.2912, 0.14, 0.03808000000000001], cache_values={530.0: 0.0005600000000000001, 583.0: 0.56, 600.0: 0.2912, 650.0: 0.14, 700.0: 0.03808000000000001}), extinction_coefficient_lambda_val=30000.0, extinction_coefficient=WavelengthDependentProperty(wavelengths=[325.0, 411.0, 569.0, 611.0, 612.0], values=[10650.0, 990.0, 30000.0, 225.0, 204.0], cache_values={325.0: 10650.0, 411.0: 990.0, 569.0: 30000.0, 611.0: 225.0, 612.0: 204.0}), ex_max=569.0, em_max=583.0, molar_cross_section=WavelengthDependentProperty(wavelengths=[325.0, 411.0, 569.0, 611.0, 612.0], values=[4.0720621150653056e-17, 3.78529717738465e-18, 1.1470597507226213e-16, 8.602948130419659e-19, 7.800006304913825e-19], cache_values={325.0: 4.0720621150653056e-17, 411.0: 3.78529717738465e-18, 569.0: 1.1470597507226213e-16, 611.0: 8.602948130419659e-19, 612.0: 7.800006304913825e-19}), fluorescent_lifetime=1e-09, fluorescent_lifetime_inverse=999999999.9999999), 'bright_green': State(name='bright_green', state_type=<StateType.FLUORESCENT: 'fluorescent'>, excitation_spectrum=SpectralData(wavelengths=[353.0, 411.0, 490.0, 511.0, 527.0], values=[0.012, 0.047, 1.0, 0.125, 0.036], cache_values={353.0: 0.012, 411.0: 0.047, 490.0: 1.0, 511.0: 0.125, 527.0: 0.036}), emission_spectrum=SpectralData(wavelengths=[471.0, 490.0, 500.0, 505.0, 520.0, 549.0, 632.0], values=[0.0038, 0.24, 0.86, 1.0, 0.55, 0.25, 0.004], cache_values={471.0: 0.0038, 490.0: 0.24, 500.0: 0.86, 505.0: 1.0, 520.0: 0.55, 549.0: 0.25, 632.0: 0.004}), quantum_yield_lambda_val=0.74, quantum_yield=WavelengthDependentProperty(wavelengths=[471.0, 490.0, 500.0, 505.0, 520.0, 549.0, 632.0], values=[0.002812, 0.17759999999999998, 0.6364, 0.74, 0.40700000000000003, 0.185, 0.00296], cache_values={471.0: 0.002812, 490.0: 0.17759999999999998, 500.0: 0.6364, 505.0: 0.74, 520.0: 0.40700000000000003, 549.0: 0.185, 632.0: 0.00296}), extinction_coefficient_lambda_val=15000.0, extinction_coefficient=WavelengthDependentProperty(wavelengths=[353.0, 411.0, 490.0, 511.0, 527.0], values=[180.0, 705.0, 15000.0, 1875.0, 540.0], cache_values={353.0: 180.0, 411.0: 705.0, 490.0: 15000.0, 511.0: 1875.0, 527.0: 540.0}), ex_max=490.0, em_max=505.0, molar_cross_section=WavelengthDependentProperty(wavelengths=[353.0, 411.0, 490.0, 511.0, 527.0], values=[6.882358504335727e-19, 2.69559041419816e-18, 5.735298753613106e-17, 7.169123442016383e-18, 2.0647075513007183e-18], cache_values={353.0: 6.882358504335727e-19, 411.0: 2.69559041419816e-18, 490.0: 5.735298753613106e-17, 511.0: 7.169123442016383e-18, 527.0: 2.0647075513007183e-18}), fluorescent_lifetime=1e-09, fluorescent_lifetime_inverse=999999999.9999999), 'bleached_red': State(name='bleached_red', state_type=<StateType.BLEACHED: 'bleached'>, excitation_spectrum=None, emission_spectrum=None, quantum_yield_lambda_val=None, quantum_yield=None, extinction_coefficient_lambda_val=None, extinction_coefficient=None, ex_max=None, em_max=None, molar_cross_section=None, fluorescent_lifetime=None, fluorescent_lifetime_inverse=None), 'bleached_green': State(name='bleached_green', state_type=<StateType.BLEACHED: 'bleached'>, excitation_spectrum=None, emission_spectrum=None, quantum_yield_lambda_val=None, quantum_yield=None, extinction_coefficient_lambda_val=None, extinction_coefficient=None, ex_max=None, em_max=None, molar_cross_section=None, fluorescent_lifetime=None, fluorescent_lifetime_inverse=None), 'triplet_red': State(name='triplet_red', state_type=<StateType.DARK: 'dark'>, excitation_spectrum=None, emission_spectrum=None, quantum_yield_lambda_val=None, quantum_yield=None, extinction_coefficient_lambda_val=None, extinction_coefficient=None, ex_max=None, em_max=None, molar_cross_section=None, fluorescent_lifetime=None, fluorescent_lifetime_inverse=None), 'triplet_green': State(name='triplet_green', state_type=<StateType.DARK: 'dark'>, excitation_spectrum=None, emission_spectrum=None, quantum_yield_lambda_val=None, quantum_yield=None, extinction_coefficient_lambda_val=None, extinction_coefficient=None, ex_max=None, em_max=None, molar_cross_section=None, fluorescent_lifetime=None, fluorescent_lifetime_inverse=None)} transitions={'bright_greenbright_red': StateTransition(from_state='bright_green', to_state='bright_red', spectrum=SpectralData(wavelengths=[330.0, 350.0, 380.0, 400.0, 420.0, 450.0], values=[0.01, 0.5, 1.0, 0.8, 0.5, 0.01], cache_values={330.0: 0.01, 350.0: 0.5, 380.0: 1.0, 400.0: 0.8, 420.0: 0.5, 450.0: 0.01}), extinction_coefficient_lambda_val=6500.0, extinction_coefficient=WavelengthDependentProperty(wavelengths=[330.0, 350.0, 380.0, 400.0, 420.0, 450.0], values=[65.0, 3250.0, 6500.0, 5200.0, 3250.0, 65.0], cache_values={330.0: 65.0, 350.0: 3250.0, 380.0: 6500.0, 400.0: 5200.0, 420.0: 3250.0, 450.0: 65.0}), cross_section=WavelengthDependentProperty(wavelengths=[330.0, 350.0, 380.0, 400.0, 420.0, 450.0], values=[2.4852961265656794e-19, 1.2426480632828397e-17, 2.4852961265656793e-17, 1.9882369012525434e-17, 1.2426480632828397e-17, 2.4852961265656794e-19], cache_values={330.0: 2.4852961265656794e-19, 350.0: 1.2426480632828397e-17, 380.0: 2.4852961265656793e-17, 400.0: 1.9882369012525434e-17, 420.0: 1.2426480632828397e-17, 450.0: 2.4852961265656794e-19}), base_rate=None, quantum_yield=5e-06), 'bright_redbleached_red': StateTransition(from_state='bright_red', to_state='bleached_red', spectrum=SpectralData(wavelengths=[325.0, 411.0, 569.0, 611.0, 612.0], values=[0.355, 0.033, 1.0, 0.0075, 0.0068], cache_values={325.0: 0.355, 411.0: 0.033, 569.0: 1.0, 611.0: 0.0075, 612.0: 0.0068}), extinction_coefficient_lambda_val=18000.0, extinction_coefficient=WavelengthDependentProperty(wavelengths=[325.0, 411.0, 569.0, 611.0, 612.0], values=[6390.0, 594.0, 18000.0, 135.0, 122.39999999999999], cache_values={325.0: 6390.0, 411.0: 594.0, 569.0: 18000.0, 611.0: 135.0, 612.0: 122.39999999999999}), cross_section=WavelengthDependentProperty(wavelengths=[325.0, 411.0, 569.0, 611.0, 612.0], values=[2.443237269039183e-17, 2.27117830643079e-18, 6.882358504335727e-17, 5.161768878251796e-19, 4.680003782948294e-19], cache_values={325.0: 2.443237269039183e-17, 411.0: 2.27117830643079e-18, 569.0: 6.882358504335727e-17, 611.0: 5.161768878251796e-19, 612.0: 4.680003782948294e-19}), base_rate=None, quantum_yield=5e-06), 'bright_greenbleached_green': StateTransition(from_state='bright_green', to_state='bleached_green', spectrum=SpectralData(wavelengths=[353.0, 411.0, 490.0, 511.0, 527.0], values=[0.012, 0.047, 1.0, 0.125, 0.036], cache_values={353.0: 0.012, 411.0: 0.047, 490.0: 1.0, 511.0: 0.125, 527.0: 0.036}), extinction_coefficient_lambda_val=18000.0, extinction_coefficient=WavelengthDependentProperty(wavelengths=[353.0, 411.0, 490.0, 511.0, 527.0], values=[216.0, 846.0, 18000.0, 2250.0, 648.0], cache_values={353.0: 216.0, 411.0: 846.0, 490.0: 18000.0, 511.0: 2250.0, 527.0: 648.0}), cross_section=WavelengthDependentProperty(wavelengths=[353.0, 411.0, 490.0, 511.0, 527.0], values=[8.258830205202872e-19, 3.2347084970377918e-18, 6.882358504335727e-17, 8.602948130419659e-18, 2.4776490615608617e-18], cache_values={353.0: 8.258830205202872e-19, 411.0: 3.2347084970377918e-18, 490.0: 6.882358504335727e-17, 511.0: 8.602948130419659e-18, 527.0: 2.4776490615608617e-18}), base_rate=None, quantum_yield=5e-06), 'bright_redtriplet_red': StateTransition(from_state='bright_red', to_state='triplet_red', spectrum=SpectralData(wavelengths=[325.0, 411.0, 569.0, 611.0, 612.0], values=[0.355, 0.033, 1.0, 0.0075, 0.0068], cache_values={325.0: 0.355, 411.0: 0.033, 569.0: 1.0, 611.0: 0.0075, 612.0: 0.0068}), extinction_coefficient_lambda_val=18000.0, extinction_coefficient=WavelengthDependentProperty(wavelengths=[325.0, 411.0, 569.0, 611.0, 612.0], values=[6390.0, 594.0, 18000.0, 135.0, 122.39999999999999], cache_values={325.0: 6390.0, 411.0: 594.0, 569.0: 18000.0, 611.0: 135.0, 612.0: 122.39999999999999}), cross_section=WavelengthDependentProperty(wavelengths=[325.0, 411.0, 569.0, 611.0, 612.0], values=[2.443237269039183e-17, 2.27117830643079e-18, 6.882358504335727e-17, 5.161768878251796e-19, 4.680003782948294e-19], cache_values={325.0: 2.443237269039183e-17, 411.0: 2.27117830643079e-18, 569.0: 6.882358504335727e-17, 611.0: 5.161768878251796e-19, 612.0: 4.680003782948294e-19}), base_rate=None, quantum_yield=5e-06), 'bright_greentriplet_green': StateTransition(from_state='bright_green', to_state='triplet_green', spectrum=SpectralData(wavelengths=[353.0, 411.0, 490.0, 511.0, 527.0], values=[0.012, 0.047, 1.0, 0.125, 0.036], cache_values={353.0: 0.012, 411.0: 0.047, 490.0: 1.0, 511.0: 0.125, 527.0: 0.036}), extinction_coefficient_lambda_val=18000.0, extinction_coefficient=WavelengthDependentProperty(wavelengths=[353.0, 411.0, 490.0, 511.0, 527.0], values=[216.0, 846.0, 18000.0, 2250.0, 648.0], cache_values={353.0: 216.0, 411.0: 846.0, 490.0: 18000.0, 511.0: 2250.0, 527.0: 648.0}), cross_section=WavelengthDependentProperty(wavelengths=[353.0, 411.0, 490.0, 511.0, 527.0], values=[8.258830205202872e-19, 3.2347084970377918e-18, 6.882358504335727e-17, 8.602948130419659e-18, 2.4776490615608617e-18], cache_values={353.0: 8.258830205202872e-19, 411.0: 3.2347084970377918e-18, 490.0: 6.882358504335727e-17, 511.0: 8.602948130419659e-18, 527.0: 2.4776490615608617e-18}), base_rate=None, quantum_yield=5e-06), 'triplet_redbright_red': StateTransition(from_state='triplet_red', to_state='bright_red', spectrum=None, extinction_coefficient_lambda_val=None, extinction_coefficient=None, cross_section=None, base_rate=1.0, quantum_yield=None), 'triplet_greenbright_green': StateTransition(from_state='triplet_green', to_state='bright_green', spectrum=None, extinction_coefficient_lambda_val=None, extinction_coefficient=None, cross_section=None, base_rate=1.0, quantum_yield=None), 'triplet_redbleached_red': StateTransition(from_state='triplet_red', to_state='bleached_red', spectrum=None, extinction_coefficient_lambda_val=None, extinction_coefficient=None, cross_section=None, base_rate=1.0, quantum_yield=None), 'triplet_greenbleached_green': StateTransition(from_state='triplet_green', to_state='bleached_green', spectrum=None, extinction_coefficient_lambda_val=None, extinction_coefficient=None, cross_section=None, base_rate=1.0, quantum_yield=None)} initial_state=State(name='bright_green', state_type=<StateType.FLUORESCENT: 'fluorescent'>, excitation_spectrum=SpectralData(wavelengths=[353.0, 411.0, 490.0, 511.0, 527.0], values=[0.012, 0.047, 1.0, 0.125, 0.036], cache_values={353.0: 0.012, 411.0: 0.047, 490.0: 1.0, 511.0: 0.125, 527.0: 0.036}), emission_spectrum=SpectralData(wavelengths=[471.0, 490.0, 500.0, 505.0, 520.0, 549.0, 632.0], values=[0.0038, 0.24, 0.86, 1.0, 0.55, 0.25, 0.004], cache_values={471.0: 0.0038, 490.0: 0.24, 500.0: 0.86, 505.0: 1.0, 520.0: 0.55, 549.0: 0.25, 632.0: 0.004}), quantum_yield_lambda_val=0.74, quantum_yield=WavelengthDependentProperty(wavelengths=[471.0, 490.0, 500.0, 505.0, 520.0, 549.0, 632.0], values=[0.002812, 0.17759999999999998, 0.6364, 0.74, 0.40700000000000003, 0.185, 0.00296], cache_values={471.0: 0.002812, 490.0: 0.17759999999999998, 500.0: 0.6364, 505.0: 0.74, 520.0: 0.40700000000000003, 549.0: 0.185, 632.0: 0.00296}), extinction_coefficient_lambda_val=15000.0, extinction_coefficient=WavelengthDependentProperty(wavelengths=[353.0, 411.0, 490.0, 511.0, 527.0], values=[180.0, 705.0, 15000.0, 1875.0, 540.0], cache_values={353.0: 180.0, 411.0: 705.0, 490.0: 15000.0, 511.0: 1875.0, 527.0: 540.0}), ex_max=490.0, em_max=505.0, molar_cross_section=WavelengthDependentProperty(wavelengths=[353.0, 411.0, 490.0, 511.0, 527.0], values=[6.882358504335727e-19, 2.69559041419816e-18, 5.735298753613106e-17, 7.169123442016383e-18, 2.0647075513007183e-18], cache_values={353.0: 6.882358504335727e-19, 411.0: 2.69559041419816e-18, 490.0: 5.735298753613106e-17, 511.0: 7.169123442016383e-18, 527.0: 2.0647075513007183e-18}), fluorescent_lifetime=1e-09, fluorescent_lifetime_inverse=999999999.9999999)\n"
     ]
    }
   ],
   "source": [
    "from AMS_BP.core.sample.flurophores.flurophore_schema import Fluorophore, State, StateTransition, SpectralData\n",
    "# mMaple\n",
    "mMaple_f = {\n",
    "    \"name\" : 'mMaple',\n",
    "    \"initial_state\" : \"bright_green\", # must be one of the defined states below.\n",
    "}\n",
    "bright_state_red = State(\n",
    "            name = \"bright_red\",\n",
    "            state_type = \"fluorescent\", # one of \"fluorescent\" or \"dark\" or \"bleached\"\n",
    "            quantum_yield_lambda_val = 0.56, # unitless; 0-1\n",
    "            extinction_coefficient_lambda_val = 30000, # in M^-1 cm^-1\n",
    "            fluorescent_lifetime = 0.000000001, # in seconds\n",
    "            excitation_spectrum = SpectralData(\n",
    "                    wavelengths = [325.0, 411.0, 569.0, 611.0, 612.0], # in nm\n",
    "                    intensities = [0.355, 0.033, 1.0, 0.0075, 0.0068], # in arbitrary units\n",
    "                ),\n",
    "            emission_spectrum = SpectralData(\n",
    "                    wavelengths = [530.0, 583, 600.0, 650.0, 700.0], # in nm\n",
    "                    intensities = [0.001,1.0,  0.52, 0.25, 0.068], # in arbitrary units\n",
    "                ),\n",
    "            )\n",
    "bright_state_green = State(\n",
    "            name = \"bright_green\",\n",
    "            state_type = \"fluorescent\", # one of \"fluorescent\" or \"dark\" or \"bleached\"\n",
    "            quantum_yield_lambda_val = 0.74, # unitless; 0-1\n",
    "            extinction_coefficient_lambda_val = 15000, # in M^-1 cm^-1\n",
    "            fluorescent_lifetime = 0.000000001, # in seconds\n",
    "            excitation_spectrum = SpectralData(\n",
    "                    wavelengths = [353.0, 411.0, 490.0, 511.0, 527.0], # in nm\n",
    "                    intensities = [0.012, 0.047, 1.0, 0.125, 0.036], # in arbitrary units\n",
    "                ),\n",
    "            emission_spectrum = SpectralData(\n",
    "                    wavelengths = [471.0, 490.0, 500.0, 505.0, 520.0, 549.0, 632.0], # in nm\n",
    "                    intensities = [0.0038, 0.24, 0.86, 1.0, 0.55, 0.25, 0.004], # in arbitrary units\n",
    "                ),\n",
    "            )\n",
    "triplet_state_red = State(\n",
    "            name = \"triplet_red\",\n",
    "            state_type = \"dark\", # one of \"fluorescent\" or \"dark\" or \"bleached\"\n",
    "            quantum_yield_lambda_val = None,\n",
    "            extinction_coefficient_lambda_val = None,\n",
    "            fluorescent_lifetime = None,\n",
    "            excitation_spectrum = None,\n",
    "            emission_spectrum = None,\n",
    "            )\n",
    "triplet_state_green = State(\n",
    "            name = \"triplet_green\",\n",
    "            state_type = \"dark\", # one of \"fluorescent\" or \"dark\" or \"bleached\"\n",
    "            quantum_yield_lambda_val = None,\n",
    "            extinction_coefficient_lambda_val = None,\n",
    "            fluorescent_lifetime = None,\n",
    "            excitation_spectrum = None,\n",
    "            emission_spectrum = None,\n",
    "            )\n",
    "bleached_state_red = State(\n",
    "            name = \"bleached_red\",\n",
    "            state_type = \"bleached\", # one of \"fluorescent\" or \"dark\" or \"bleached\"\n",
    "            quantum_yield_lambda_val = None,\n",
    "            extinction_coefficient_lambda_val = None,\n",
    "            fluorescent_lifetime = None,\n",
    "            excitation_spectrum = None,\n",
    "            emission_spectrum = None,\n",
    "            )\n",
    "bleached_state_green = State(\n",
    "            name = \"bleached_green\",\n",
    "            state_type = \"bleached\", # one of \"fluorescent\" or \"dark\" or \"bleached\"\n",
    "            quantum_yield_lambda_val = None,\n",
    "            extinction_coefficient_lambda_val = None,\n",
    "            fluorescent_lifetime = None,\n",
    "            excitation_spectrum = None,\n",
    "            emission_spectrum = None,\n",
    "            )\n",
    "transition_gtr = StateTransition(\n",
    "    from_state = \"bright_green\",\n",
    "    to_state = \"bright_red\",\n",
    "    photon_dependent = True,\n",
    "    spectrum = SpectralData(\n",
    "        wavelengths = [330,350,380,400,420,450], # in nm\n",
    "        intensities = [0.01,0.5,1.0,0.8,0.5,0.01], # in arbitrary units\n",
    "        ),\n",
    "    extinction_coefficient_lambda_val = 6500,                                   # M^-1 cm^-1\n",
    "    quantum_yield = 0.000005,                \n",
    "    )\n",
    "transition_rtBr = StateTransition(\n",
    "    from_state = \"bright_red\",\n",
    "    to_state = \"bleached_red\",\n",
    "    photon_dependent = True,\n",
    "    spectrum = SpectralData(\n",
    "        wavelengths = [325.0, 411.0, 569.0, 611.0, 612.0], # in nm\n",
    "        intensities = [0.355, 0.033, 1.0, 0.0075, 0.0068], # in arbitrary units\n",
    "        ),\n",
    "    extinction_coefficient_lambda_val = 18000,                                   # M^-1 cm^-1\n",
    "    quantum_yield = 0.000005,\n",
    "    )\n",
    "transition_gtBg = StateTransition(\n",
    "    from_state = \"bright_green\",\n",
    "    to_state = \"bleached_green\",\n",
    "    photon_dependent = True,\n",
    "    spectrum = SpectralData(\n",
    "        wavelengths = [353.0, 411.0, 490.0, 511.0, 527.0], # in nm\n",
    "        intensities = [0.012, 0.047, 1.0, 0.125, 0.036], # in arbitrary units\n",
    "        ),\n",
    "    extinction_coefficient_lambda_val = 18000,                                   # M^-1 cm^-1\n",
    "    quantum_yield = 0.000005,\n",
    "    )\n",
    "transition_rtTr = StateTransition(\n",
    "    from_state = \"bright_red\",\n",
    "    to_state = \"triplet_red\",\n",
    "    photon_dependent = True,\n",
    "    spectrum = SpectralData(\n",
    "        wavelengths = [325.0, 411.0, 569.0, 611.0, 612.0], # in nm\n",
    "        intensities = [0.355, 0.033, 1.0, 0.0075, 0.0068], # in arbitrary units\n",
    "        ),\n",
    "    extinction_coefficient_lambda_val = 18000,                                   # M^-1 cm^-1\n",
    "    quantum_yield = 0.000005,\n",
    "    )\n",
    "transition_gtTg = StateTransition(\n",
    "    from_state = \"bright_green\",\n",
    "    to_state = \"triplet_green\",\n",
    "    photon_dependent = True,\n",
    "    spectrum = SpectralData(\n",
    "        wavelengths = [353.0, 411.0, 490.0, 511.0, 527.0], # in nm\n",
    "        intensities = [0.012, 0.047, 1.0, 0.125, 0.036], # in arbitrary units\n",
    "        ),\n",
    "    extinction_coefficient_lambda_val = 18000,                                   # M^-1 cm^-1\n",
    "    quantum_yield = 0.000005,\n",
    "    )\n",
    "transition_Trtr = StateTransition(\n",
    "    from_state = \"triplet_red\",\n",
    "    to_state = \"bright_red\",\n",
    "    photon_dependent = False,\n",
    "    base_rate = 1, #1/s\n",
    "    spectrum = None,\n",
    "    extinction_coefficient = None,\n",
    "    quantum_yield = None,\n",
    "    )\n",
    "transition_Tgtg = StateTransition(\n",
    "    from_state = \"triplet_green\",\n",
    "    to_state = \"bright_green\",\n",
    "    photon_dependent = False,\n",
    "    base_rate = 1, #1/s\n",
    "    spectrum = None,\n",
    "    extinction_coefficient = None,\n",
    "    quantum_yield = None,\n",
    "    )\n",
    "transition_TrtBr = StateTransition(\n",
    "    from_state = \"triplet_red\",\n",
    "    to_state = \"bleached_red\",\n",
    "    photon_dependent = False,\n",
    "    base_rate = 1, #1/s\n",
    "    spectrum = None,\n",
    "    extinction_coefficient = None,\n",
    "    quantum_yield = None,\n",
    "    )\n",
    "transition_TgtBg = StateTransition(\n",
    "    from_state = \"triplet_green\",\n",
    "    to_state = \"bleached_green\",\n",
    "    photon_dependent = False,\n",
    "    base_rate = 1, #1/s\n",
    "    spectrum = None,\n",
    "    extinction_coefficient = None,\n",
    "    quantum_yield = None,\n",
    "    )\n",
    "transitions = {\n",
    "    \"bright_greenbright_red\" : transition_gtr,\n",
    "    \"bright_redbleached_red\" : transition_rtBr,\n",
    "    \"bright_greenbleached_green\" : transition_gtBg,\n",
    "    \"bright_redtriplet_red\" : transition_rtTr,\n",
    "    \"bright_greentriplet_green\" : transition_gtTg,\n",
    "    \"triplet_redbright_red\" : transition_Trtr,\n",
    "    \"triplet_greenbright_green\" : transition_Tgtg,\n",
    "    \"triplet_redbleached_red\" : transition_TrtBr,\n",
    "    \"triplet_greenbleached_green\" : transition_TgtBg,\n",
    "}\n",
    "# fluorophore definition\n",
    "fmMaple = Fluorophore(\n",
    "    name = mMaple_f['name'],\n",
    "    initial_state = bright_state_green,\n",
    "    states = {\n",
    "        \"bright_red\" : bright_state_red,\n",
    "        \"bright_green\" : bright_state_green,\n",
    "        \"bleached_red\" : bleached_state_red,\n",
    "        \"bleached_green\" : bleached_state_green,\n",
    "        \"triplet_red\" : triplet_state_red,\n",
    "        \"triplet_green\" : triplet_state_green,\n",
    "        },\n",
    "    transitions = transitions,\n",
    "    )\n",
    "print(fmMaple)"
   ]
  },
  {
   "cell_type": "code",
   "execution_count": 8,
   "metadata": {},
   "outputs": [
    {
     "name": "stdout",
     "output_type": "stream",
     "text": [
      "QuantumEfficiency(wavelength_qe={399: 0.0, 400: 0.8, 500: 0.9, 600: 0.95, 700: 0.9, 800: 0.7, 900: 0.4, 901: 0.0}, _cached_wavelength_qe={399: 0.0, 400: 0.8, 500: 0.9, 600: 0.95, 700: 0.9, 800: 0.7, 900: 0.4, 901: 0.0})\n"
     ]
    }
   ],
   "source": [
    "# Quantum efficiency curve (wavelength in nm : efficiency 0-1)\n",
    "# extrapotation for wavelengths not included uses edge values\n",
    "quantum_efficiency = [\n",
    "    [\n",
    "        399,\n",
    "        0.00,\n",
    "    ],\n",
    "    [\n",
    "        400,\n",
    "        0.80,\n",
    "    ],\n",
    "    [\n",
    "        500,\n",
    "        0.90,\n",
    "    ],\n",
    "    [\n",
    "        600,\n",
    "        0.95,\n",
    "    ],\n",
    "    [\n",
    "        700,\n",
    "        0.90,\n",
    "    ],\n",
    "    [\n",
    "        800,\n",
    "        0.70,\n",
    "    ],\n",
    "    [\n",
    "        900,\n",
    "        0.40,\n",
    "    ],\n",
    "    [\n",
    "        901,\n",
    "        0.00,\n",
    "    ],\n",
    "]\n",
    "wavelength_qe = {pair[0]: pair[1] for pair in quantum_efficiency}\n",
    "\n",
    "\n",
    "from AMS_BP.core.optics.camera.quantum_eff import QuantumEfficiency\n",
    "quantum_efficiency = QuantumEfficiency(wavelength_qe=wavelength_qe)\n",
    "print(quantum_efficiency)"
   ]
  },
  {
   "cell_type": "code",
   "execution_count": 9,
   "metadata": {},
   "outputs": [
    {
     "name": "stdout",
     "output_type": "stream",
     "text": [
      "<AMS_BP.core.optics.camera.detectors.CMOSDetector object at 0x136a7dbb0>\n"
     ]
    }
   ],
   "source": [
    "from AMS_BP.core.optics.camera.detectors import CMOSDetector\n",
    "pixel_count = [190, 190]  # [width, height], 1200x1200 (x pixel_size)\n",
    "pixel_detector_size = 6.5 # um\n",
    "magnification = 100\n",
    "dark_current = 0.0005     # electrons/pixel/second\n",
    "readout_noise = 1.6       # electrons RMS\n",
    "bit_depth = 16\n",
    "sensitivity = 1.0         # electrons/ADU\n",
    "base_adu = 100            #ADU\n",
    "binning_size = 1          # 1x1 , if 2 then 2x2\n",
    "detector = CMOSDetector(\n",
    "    pixel_count=pixel_count,\n",
    "    pixel_detector_size=pixel_detector_size,\n",
    "    magnification=magnification,\n",
    "    dark_current=dark_current,\n",
    "    readout_noise=readout_noise,\n",
    "    bit_depth=bit_depth,\n",
    "    sensitivity=sensitivity,\n",
    "    base_adu=base_adu,\n",
    "    binning_size=binning_size,\n",
    "    pixel_size = pixel_detector_size/magnification,\n",
    ")\n",
    "print(detector)"
   ]
  },
  {
   "cell_type": "code",
   "execution_count": 10,
   "metadata": {},
   "outputs": [
    {
     "name": "stdout",
     "output_type": "stream",
     "text": [
      "<function make_psf.<locals>.Partial_PSFengine at 0x136aa14e0>\n"
     ]
    }
   ],
   "source": [
    "from AMS_BP.core.optics.psf.psf_engine import PSFEngine, PSFParameters\n",
    "from typing import Optional\n",
    "\n",
    "params_config = {\n",
    "    \"numerical_aperture\": 1.4,\n",
    "    \"refractive_index\": 1.0,\n",
    "    # \"pinhole_diameter\": 0.002, # do not include is no pinhole.\n",
    "}\n",
    "\n",
    "\n",
    "def make_psf(params_config: dict, pixel_size: int | float) -> PSFEngine:\n",
    "    def Partial_PSFengine(\n",
    "                wavelength: int | float, z_step: Optional[int | float] = None\n",
    "            ):\n",
    "                # Create PSFParameters instance\n",
    "                parameters = PSFParameters(\n",
    "                    emission_wavelength=wavelength,\n",
    "                    numerical_aperture=float(params_config[\"numerical_aperture\"]),\n",
    "                    pixel_size=pixel_size,\n",
    "                    z_step=float(params_config[\"z_step\"]) if z_step is None else z_step,\n",
    "                    refractive_index=float(params_config.get(\"refractive_index\", 1.0)),\n",
    "                    pinhole_diameter=params_config.get(\"pinhole_diameter\", None),\n",
    "                )\n",
    "\n",
    "                # Create PSF engine\n",
    "                psf_engine = PSFEngine(parameters)\n",
    "                return psf_engine\n",
    "    return Partial_PSFengine\n",
    "psf_generator = make_psf(params_config, pixel_size=(pixel_detector_size/magnification))\n",
    "print(psf_generator)"
   ]
  },
  {
   "cell_type": "code",
   "execution_count": 11,
   "metadata": {},
   "outputs": [],
   "source": [
    "from AMS_BP.core.optics.filters.channels.channelschema import Channels\n",
    "from AMS_BP.core.optics.filters.filters import create_allow_all_filter, create_bandpass_filter, FilterSet"
   ]
  },
  {
   "cell_type": "code",
   "execution_count": 12,
   "metadata": {},
   "outputs": [],
   "source": [
    "c1filterset = FilterSet(\n",
    "    name = \"c1\",\n",
    "    excitation = create_allow_all_filter(points = 1000),\n",
    "    dichroic = create_allow_all_filter(points = 1000),\n",
    "    emission = create_bandpass_filter(\n",
    "        center_wavelength = 600.0,\n",
    "        bandwidth = 35,\n",
    "        transmission_peak = 0.95,\n",
    "        points = 1000,\n",
    "    ),\n",
    ")\n",
    "c2filterset = FilterSet(\n",
    "    name = \"c2\",\n",
    "    excitation = create_allow_all_filter(points = 1000),\n",
    "    dichroic = create_allow_all_filter(points = 1000),\n",
    "    emission = create_bandpass_filter(\n",
    "        center_wavelength = 500.0,\n",
    "        bandwidth = 35,\n",
    "        transmission_peak = 0.95,\n",
    "        points = 1000,\n",
    "    ),\n",
    ")\n",
    "channels = Channels(\n",
    "    filtersets = [c1filterset, c2filterset],\n",
    "    num_channels = 2,\n",
    "    splitting_efficiency = [1,1],\n",
    "    names = [\"c1\", \"c2\"],\n",
    ")"
   ]
  },
  {
   "cell_type": "markdown",
   "metadata": {},
   "source": [
    "### Define Functions for Laser Modulation"
   ]
  },
  {
   "cell_type": "code",
   "execution_count": 13,
   "metadata": {},
   "outputs": [
    {
     "name": "stdout",
     "output_type": "stream",
     "text": [
      "<AMS_BP.core.optics.lasers.laser_profiles.WidefieldBeam object at 0x1352b02f0> <AMS_BP.core.optics.lasers.laser_profiles.WidefieldBeam object at 0x136a6bf80>\n"
     ]
    }
   ],
   "source": [
    "from AMS_BP.core.optics.lasers.laser_profiles import LaserParameters, WidefieldBeam, GaussianBeam\n",
    "\n",
    "# two lasers, 405 and 600 nm both widefield\n",
    "laser_params_600 = LaserParameters(\n",
    "    power = 50000,           # Power in watts \n",
    "    wavelength = 600,         # Wavelength in nanometers\n",
    "    beam_width = 5.0,         # 1/e² beam width at waist in microns\n",
    "    numerical_aperture = 1.4, # NA of focusing lens\n",
    "    refractive_index = 1.518,\n",
    ")\n",
    "\n",
    "def lpb(t):\n",
    "    # t in s\n",
    "    if t <=0.02:\n",
    "        return 0\n",
    "    else:\n",
    "        return 0.05\n",
    "\n",
    "laser_params_405 = LaserParameters(\n",
    "    power = 5,\n",
    "    wavelength = 405,\n",
    "    beam_width = 5.0,\n",
    "    numerical_aperture = 1.4,\n",
    "    refractive_index = 1.518,\n",
    ")\n",
    "wide600 = WidefieldBeam(laser_params_600)\n",
    "wide405 = WidefieldBeam(laser_params_405)\n",
    "print(wide600, wide405)\n",
    "lasers = {\"blue\": wide405, \"red\": wide600}"
   ]
  },
  {
   "cell_type": "code",
   "execution_count": 14,
   "metadata": {},
   "outputs": [],
   "source": [
    "from AMS_BP.core.configio.convertconfig import make_sample, make_condensatedict, make_samplingfunction, gen_initial_positions, create_track_generator, get_tracks, add_tracks_to_sample"
   ]
  },
  {
   "cell_type": "markdown",
   "metadata": {},
   "source": [
    "Make custom molecule positions/trajectories for NPC-Nup96. \n",
    "\n",
    "From: https://pmc.ncbi.nlm.nih.gov/articles/PMC6768092/.\n",
    "<img src=\"f1.jpeg\" width=\"500\"/>\n",
    "\n",
    "> 36 total Nup96 molecules.\n",
    "\n",
    "> 16 nuclear side, 16 cytoplasmic side.\n",
    "\n",
    "> 8-sided NPC. 2 rings of octomer, 2 molecules per section.\n",
    "\n",
    "> Ring diameter: 107 nm.\n",
    "\n",
    "> Section diameter: 12 nm.\n",
    "\n",
    "> Ring spacing: 50 nm.\n"
   ]
  },
  {
   "cell_type": "code",
   "execution_count": 15,
   "metadata": {},
   "outputs": [],
   "source": [
    "import numpy as np"
   ]
  },
  {
   "cell_type": "code",
   "execution_count": 16,
   "metadata": {},
   "outputs": [],
   "source": [
    "def generate_nup96_positions(ring_diameter: float=107.0, molecule_spacing: float=12.0, ring_spacing: float=50.0) -> np.ndarray:\n",
    "    \"\"\"\n",
    "    Generate the 3D coordinates of Nup96 proteins in the nuclear pore complex.\n",
    "    \n",
    "    Parameters:\n",
    "    -----------\n",
    "    ring_diameter : float\n",
    "        Diameter of the main ring in nanometers (default: 107.0 nm)\n",
    "    molecule_spacing : float\n",
    "        Distance between two Nup96 molecules within same section (default: 12.0 nm)\n",
    "    ring_spacing : float\n",
    "        Distance between nuclear and cytoplasmic rings in z-direction (default: 50.0 nm)\n",
    "        \n",
    "    Returns:\n",
    "    --------\n",
    "    numpy.ndarray\n",
    "        Array of shape (32, 3) containing x, y, z coordinates for all Nup96 proteins in um\n",
    "        First 32 coordinates are the main structural Nup96 (16 nuclear, 16 cytoplasmic)\n",
    "    \"\"\"\n",
    "    \n",
    "    # Initialize array to store coordinates\n",
    "    coordinates = np.zeros((32, 3))\n",
    "    ring_radius = ring_diameter / 2\n",
    "    \n",
    "    # Generate positions for both main rings (nuclear and cytoplasmic)\n",
    "    for ring in range(2):  # 0 = nuclear side, 1 = cytoplasmic side\n",
    "        z = ring_spacing/2 if ring == 0 else -ring_spacing/2\n",
    "        \n",
    "        for octant in range(8):\n",
    "            # Calculate base angle for this octant\n",
    "            base_angle = octant * 2 * np.pi / 8\n",
    "            \n",
    "            # Calculate the center position of this octamer\n",
    "            center_x = ring_radius * np.cos(base_angle)\n",
    "            center_y = ring_radius * np.sin(base_angle)\n",
    "            \n",
    "            # Place two Nup96 molecules in each octant section\n",
    "            for molecule in range(2):\n",
    "                # Calculate the offset direction perpendicular to the radius\n",
    "                perpendicular_angle = base_angle + np.pi/2 + molecule_spacing/3 * (1 if molecule == 0 else -1)\n",
    "                \n",
    "                # Offset from center position\n",
    "                offset = (molecule_spacing/3) * (-1 if molecule == 0 else 1) + (molecule_spacing/5) * (-1 if ring == 0 else 1)\n",
    "                \n",
    "                # Calculate final x and y coordinates\n",
    "                x = center_x + offset * np.cos(perpendicular_angle)\n",
    "                y = center_y + offset * np.sin(perpendicular_angle)\n",
    "                \n",
    "                # Store coordinates\n",
    "                idx = ring * 16 + octant * 2 + molecule\n",
    "                coordinates[idx] = [x, y, z]\n",
    "                # add 1 nm gitter\n",
    "                coordinates[idx] += np.random.normal(0, 1, 3)\n",
    "    \n",
    "    return coordinates/1000.\n"
   ]
  },
  {
   "cell_type": "code",
   "execution_count": 17,
   "metadata": {},
   "outputs": [
    {
     "data": {
      "image/png": "[encoded data removed]",
      "text/plain": [
       "<Figure size 640x480 with 1 Axes>"
      ]
     },
     "metadata": {},
     "output_type": "display_data"
    },
    {
     "data": {
      "image/png": "[encoded data removed]",
      "text/plain": [
       "<Figure size 640x480 with 1 Axes>"
      ]
     },
     "metadata": {},
     "output_type": "display_data"
    }
   ],
   "source": [
    "\n",
    "import matplotlib.pyplot as plt\n",
    "\n",
    "plt.plot(generate_nup96_positions()[:,0][:16], generate_nup96_positions()[:,1][:16], 'o')\n",
    "plt.plot(generate_nup96_positions()[:,0][16:], generate_nup96_positions()[:,1][16:], 'o')\n",
    "plt.ylabel('Relative y Position (um)')\n",
    "plt.xlabel('Relative x Position (um)')\n",
    "plt.show()\n",
    "plt.plot(generate_nup96_positions()[:,0][:], generate_nup96_positions()[:,2][:], 'o')\n",
    "plt.ylabel('Relative z Position (um)')\n",
    "plt.xlabel('Relative x Position (um)')\n",
    "plt.show()"
   ]
  },
  {
   "cell_type": "code",
   "execution_count": 18,
   "metadata": {},
   "outputs": [],
   "source": [
    "# make 10 NPCs top view\n",
    "num_npc = 20\n",
    "tracks = [{}]\n",
    "startingx = np.random.choice(np.linspace(4,7,num_npc*2),size=num_npc,replace=False)\n",
    "startingy = np.random.choice(np.linspace(4,7,num_npc*2),size=num_npc,replace=False)\n",
    "for i in range(num_npc):\n",
    "    npc = generate_nup96_positions()\n",
    "    #x_add \n",
    "    npc[:,0] += startingx[i]\n",
    "    #y_add\n",
    "    npc[:,1] += startingy[i]\n",
    "\n",
    "    for j in range(len(npc)):\n",
    "        tracks[0][j+i*len(npc)] = {\"xy\": [npc[j]] * int(globalp.cycle_count * (globalp.exposure_time + globalp.interval_time)/globalp.oversample_motion_time), \"frames\": np.arange(0,globalp.cycle_count * (globalp.exposure_time + globalp.interval_time),globalp.oversample_motion_time)}"
   ]
  },
  {
   "cell_type": "code",
   "execution_count": 19,
   "metadata": {},
   "outputs": [],
   "source": [
    "# # make 10 NPCs side view\n",
    "# num_npc = 20\n",
    "# tracks = [{}]\n",
    "# startingx = np.random.choice(np.linspace(4,7,num_npc*2),size=num_npc,replace=False)\n",
    "# startingy = np.random.choice(np.linspace(4,7,num_npc*2),size=num_npc,replace=False)\n",
    "# for i in range(num_npc):\n",
    "#     npc = generate_nup96_positions()\n",
    "#     #z_add \n",
    "#     npc[:,2] += startingx[i]\n",
    "#     #y_add\n",
    "#     npc[:,1] += startingy[i]\n",
    "\n",
    "#     # reorder the axis. \n",
    "#     npc = npc[:, [1,2, 0]]\n",
    "\n",
    "#     for j in range(len(npc)):\n",
    "#         tracks[0][j+i*len(npc)] = {\"xy\": [npc[j]] * int(globalp.cycle_count * (globalp.exposure_time + globalp.interval_time)/globalp.oversample_motion_time), \"frames\": np.arange(0,globalp.cycle_count * (globalp.exposure_time + globalp.interval_time),globalp.oversample_motion_time)}"
   ]
  },
  {
   "cell_type": "code",
   "execution_count": 20,
   "metadata": {},
   "outputs": [],
   "source": [
    "tracks = [{}]\n",
    "startingx = np.random.choice(np.linspace(4,7,10),size=1,replace=False)\n",
    "startingy = np.random.choice(np.linspace(4,7,10),size=1,replace=False)\n",
    "tracks[0][0] = {'xy': [[startingx[0],startingy[0],0]] * int(globalp.cycle_count * (globalp.exposure_time + globalp.interval_time)/globalp.oversample_motion_time), \"frames\": np.arange(0,globalp.cycle_count * (globalp.exposure_time + globalp.interval_time),globalp.oversample_motion_time)}"
   ]
  },
  {
   "cell_type": "code",
   "execution_count": 21,
   "metadata": {},
   "outputs": [],
   "source": [
    "# make initial sample plane\n",
    "sample_plane = make_sample(\n",
    "    global_params=config_list.GlobalParameter,\n",
    "    cell=rcell,\n",
    ")\n",
    "\n",
    "# make custom trajectories for NUP96\n",
    "\n",
    "\n",
    "# add tracks to sample\n",
    "sample_plane = add_tracks_to_sample(\n",
    "    tracks=tracks, sample_plane=sample_plane, fluorophore= [fmMaple]\n",
    ")\n"
   ]
  },
  {
   "cell_type": "markdown",
   "metadata": {},
   "source": []
  },
  {
   "cell_type": "code",
   "execution_count": 22,
   "metadata": {},
   "outputs": [],
   "source": [
    "from AMS_BP.core.sim_microscopy import VirtualMicroscope\n",
    "\n",
    "vm = VirtualMicroscope(\n",
    "    camera = (detector, quantum_efficiency),\n",
    "    sample_plane = sample_plane,\n",
    "    lasers = lasers,\n",
    "    channels = channels,\n",
    "    psf = psf_generator,\n",
    "    config = config_list,\n",
    ")"
   ]
  },
  {
   "cell_type": "code",
   "execution_count": 23,
   "metadata": {},
   "outputs": [
    {
     "data": {
      "text/plain": [
       "True"
      ]
     },
     "execution_count": 23,
     "metadata": {},
     "output_type": "execute_result"
    }
   ],
   "source": [
    "# reset the microscope\n",
    "vm.reset_to_initial_config()"
   ]
  },
  {
   "cell_type": "code",
   "execution_count": 24,
   "metadata": {},
   "outputs": [],
   "source": [
    "def rectangular_wave(t):\n",
    "    \"\"\"\n",
    "    Generate a periodic rectangular wave with:\n",
    "    - Peak value: 0.05\n",
    "    - Peak duration: 0.02 seconds\n",
    "    - Zero duration: 0.02 seconds\n",
    "    - Total period: 0.04 seconds\n",
    "    \n",
    "    Parameters:\n",
    "        t (float or numpy.ndarray): Time in seconds\n",
    "        \n",
    "    Returns:\n",
    "        float or numpy.ndarray: Value of rectangular wave at time t\n",
    "    \"\"\"\n",
    "    # Total period is 0.04 seconds (0.02s high + 0.02s low)\n",
    "    period = 0.04\n",
    "    \n",
    "    # Normalize time to within one period\n",
    "    t_normalized = t % period\n",
    "    \n",
    "    # Return 0.05 for first 0.02s of period, 0 for remainder\n",
    "    return np.where(t_normalized < 0.02, 0.003925, 0)"
   ]
  },
  {
   "cell_type": "code",
   "execution_count": 25,
   "metadata": {},
   "outputs": [],
   "source": [
    "total_duration = 20000\n",
    "frames, metadata = vm.run_sim(\n",
    "    z_val=0.0,\n",
    "    laser_power={\"red\": 0.39, \"blue\": rectangular_wave},\n",
    "    laser_position={\"red\": (5, 5,0), \"blue\": (5, 5,0)},\n",
    "    xyoffset=[0,0],\n",
    "    duration_total=total_duration,\n",
    "    exposure_time=20,\n",
    "    interval_time=0,\n",
    ")"
   ]
  },
  {
   "cell_type": "code",
   "execution_count": 26,
   "metadata": {},
   "outputs": [],
   "source": [
    "from tifffile import TiffWriter\n",
    "with TiffWriter(\n",
    "    \"NPC_MOVIE_v3_mMaple_full2_state_0039_039.ome.tiff\", bigtiff=True\n",
    ") as f:\n",
    "    f.write(\n",
    "        frames,\n",
    "        metadata={\"axes\": \"CTYX\"},\n",
    "    )"
   ]
  },
  {
   "cell_type": "code",
   "execution_count": 27,
   "metadata": {},
   "outputs": [],
   "source": [
    "from cluster_detection.reconstruction.recon import SMReconstruction"
   ]
  },
  {
   "cell_type": "code",
   "execution_count": 28,
   "metadata": {},
   "outputs": [
    {
     "name": "stdout",
     "output_type": "stream",
     "text": [
      "['LABEL', 'ID', 'TRACK_ID', 'QUALITY', 'POSITION_X', 'POSITION_Y', 'POSITION_Z', 'POSITION_T', 'FRAME', 'RADIUS', 'VISIBILITY', 'MANUAL_SPOT_COLOR', 'MEAN_INTENSITY_CH1', 'MEDIAN_INTENSITY_CH1', 'MIN_INTENSITY_CH1', 'MAX_INTENSITY_CH1', 'TOTAL_INTENSITY_CH1', 'STD_INTENSITY_CH1', 'MEAN_INTENSITY_CH2', 'MEDIAN_INTENSITY_CH2', 'MIN_INTENSITY_CH2', 'MAX_INTENSITY_CH2', 'TOTAL_INTENSITY_CH2', 'STD_INTENSITY_CH2', 'CONTRAST_CH1', 'SNR_CH1', 'CONTRAST_CH2', 'SNR_CH2']\n",
      "['Label', 'Spot ID', 'Track ID', 'Quality', 'X', 'Y', 'Z', 'T', 'Frame', 'Radius', 'Visibility', 'Manual spot color', 'Mean intensity ch1', 'Median intensity ch1', 'Min intensity ch1', 'Max intensity ch1', 'Sum intensity ch1', 'Std intensity ch1', 'Mean intensity ch2', 'Median intensity ch2', 'Min intensity ch2', 'Max intensity ch2', 'Sum intensity ch2', 'Std intensity ch2', 'Contrast ch1', 'Signal/Noise ratio ch1', 'Contrast ch2', 'Signal/Noise ratio ch2']\n",
      "['', '', '', '(quality)', '(pixel)', '(pixel)', '(pixel)', '(sec)', '', '(pixel)', '', '', '(counts)', '(counts)', '(counts)', '(counts)', '(counts)', '(counts)', '(counts)', '(counts)', '(counts)', '(counts)', '(counts)', '(counts)', '', '', '', '']\n"
     ]
    }
   ],
   "source": [
    "from matplotlib_scalebar.scalebar import ScaleBar\n",
    "import csv\n",
    "header = []\n",
    "data = []\n",
    "with open(\"export_full2_0039_039.csv\", \"r\") as f:\n",
    "    reader = csv.reader(f)\n",
    "    head = next(reader)\n",
    "    print(head)\n",
    "    head = next(reader)\n",
    "    print(head)\n",
    "    head = next(reader)\n",
    "    head = next(reader)\n",
    "    header = head\n",
    "    for row in reader:\n",
    "        data.append([float(row[i]) for i in range(len(row)) if i not in [0,1,2,11]])\n",
    "data = np.array(data)\n",
    "print(header)"
   ]
  },
  {
   "cell_type": "code",
   "execution_count": 29,
   "metadata": {},
   "outputs": [
    {
     "data": {
      "image/png": "[encoded data removed]",
      "text/plain": [
       "<Figure size 640x480 with 1 Axes>"
      ]
     },
     "metadata": {},
     "output_type": "display_data"
    }
   ],
   "source": [
    "smr_generator = SMReconstruction(\n",
    "    (190,190),\n",
    "    65,\n",
    "    10,\n",
    ")\n",
    "max_ref = 2.19\n",
    "img_widefield = smr_generator.make_reconstruction(np.array(list(zip(data[:,1][:],data[:,2][:]))), 130)\n",
    "img_palm = smr_generator.make_reconstruction(np.array(list(zip(data[:,1][:],data[:,2][:]))), 10)\n",
    "img_con = smr_generator.make_reconstruction(np.array(list(zip(data[:,1][:],data[:,2][:]))), 100)\n",
    "# plt.imshow(img_palm,cmap = \"gray\")\n",
    "# # flip y axis on image\n",
    "# plt.gca().invert_yaxis()\n",
    "# # plt.xlim(600,700)\n",
    "# # plt.ylim(600,700)\n",
    "# plt.grid(False)\n",
    "# # plt.xlim(500,560)\n",
    "# # plt.ylim(580,640)\n",
    "# #from tifffile import imsave\n",
    "# #imsave(\"palm_npc_comparison.tif\",img_palm)\n",
    "# plt.show()\n",
    "\n",
    "\n",
    "fig, ax = plt.subplots()\n",
    "ax.imshow(img_palm,cmap = \"gray\")#,vmin = 0, vmax = max_ref)\n",
    "ax.grid(False)\n",
    "ax.set_xlim(400,700)\n",
    "ax.set_ylim(400,700)\n",
    "# ax.invert_yaxis()\n",
    "ax.set_axis_off()\n",
    "scalebar = ScaleBar(10, \"nm\", label = None, fixed_value=100, color='white', location='lower right',frameon=False)\n",
    "ax.add_artist(scalebar)\n",
    "#plt.savefig(\"palmcloseup_NPC.svg\",format = \"svg\")\n",
    "plt.show()"
   ]
  },
  {
   "cell_type": "markdown",
   "metadata": {},
   "source": [
    "Make Figure For Paper"
   ]
  },
  {
   "cell_type": "code",
   "execution_count": 30,
   "metadata": {},
   "outputs": [
    {
     "data": {
      "image/png": "[encoded data removed]",
      "text/plain": [
       "<Figure size 1200x600 with 4 Axes>"
      ]
     },
     "metadata": {},
     "output_type": "display_data"
    }
   ],
   "source": [
    "fig, axes = plt.subplots(1, 4, figsize=(12, 6))\n",
    "# Plot the first image\n",
    "axes[0].plot(generate_nup96_positions()[:,0][:16], generate_nup96_positions()[:,1][:16], 'ro',alpha=0.7)\n",
    "axes[0].plot(generate_nup96_positions()[:,0][16:], generate_nup96_positions()[:,1][16:], 'ro',alpha=0.2)\n",
    "\n",
    "axes[0].set_box_aspect(1)\n",
    "axes[0].set_axis_off()\n",
    "axes[0].set_title('Nup96 Top View \\n')\n",
    "\n",
    "\n",
    "axes[1].plot(generate_nup96_positions()[:,1][:16:3], generate_nup96_positions()[:,2][:16:3], 'ro',alpha=0.7)\n",
    "axes[1].plot(generate_nup96_positions()[:,1][:16:2], generate_nup96_positions()[:,2][:16:2], 'ro',alpha=0.2)\n",
    "axes[1].plot(generate_nup96_positions()[:,1][16::2], generate_nup96_positions()[:,2][16::2], 'ro',alpha=0.7)\n",
    "axes[1].plot(generate_nup96_positions()[:,1][16::3], generate_nup96_positions()[:,2][16::3], 'ro',alpha=0.2)\n",
    "\n",
    "axes[1].set_box_aspect(1)\n",
    "axes[1].set_axis_off()\n",
    "axes[1].set_title('Nup96 Side View \\n')\n",
    "\n",
    "axes[2].imshow(img_widefield, cmap='gray')\n",
    "axes[2].set_box_aspect(1)\n",
    "axes[2].set_axis_off()\n",
    "axes[2].set_title('Widefield \\n ')\n",
    "axes[2].set_xlim(400, 700)\n",
    "axes[2].set_ylim(400, 700)\n",
    "scalebar = ScaleBar(0.01, \"um\", label = None, fixed_value=1, color='white', location='lower right',frameon=False)\n",
    "axes[2].add_artist(scalebar)\n",
    "\n",
    "axes[3].imshow(img_con, cmap='gray')\n",
    "axes[3].set_box_aspect(1)\n",
    "axes[3].set_axis_off()\n",
    "axes[3].set_title('Confocal \\n (1 Airy Unit Pinhole Diameter)')\n",
    "axes[3].set_xlim(400, 700)\n",
    "axes[3].set_ylim(400, 700)\n",
    "scalebar = ScaleBar(0.01, \"um\", label = None, fixed_value=1, color='white', location='lower right',frameon=False)\n",
    "axes[3].add_artist(scalebar)\n",
    "#plt.savefig('plane1_npc.svg', dpi = 300)\n",
    "#plt.savefig('plane11_npc.svg', dpi = 300)\n",
    "plt.show()"
   ]
  }
 ],
 "metadata": {
  "kernelspec": {
   "display_name": ".venv",
   "language": "python",
   "name": "python3"
  },
  "language_info": {
   "codemirror_mode": {
    "name": "ipython",
    "version": 3
   },
   "file_extension": ".py",
   "mimetype": "text/x-python",
   "name": "python",
   "nbconvert_exporter": "python",
   "pygments_lexer": "ipython3",
   "version": "3.12.5"
  }
 },
 "nbformat": 4,
 "nbformat_minor": 2
}
