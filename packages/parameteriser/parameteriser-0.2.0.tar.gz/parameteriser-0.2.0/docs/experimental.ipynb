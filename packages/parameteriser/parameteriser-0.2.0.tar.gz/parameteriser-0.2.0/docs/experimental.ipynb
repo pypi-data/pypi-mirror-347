{
 "cells": [
  {
   "cell_type": "markdown",
   "metadata": {},
   "source": [
    "# Experimental features"
   ]
  },
  {
   "cell_type": "code",
   "execution_count": null,
   "metadata": {},
   "outputs": [],
   "source": [
    "from __future__ import annotations\n",
    "\n",
    "from pathlib import Path\n",
    "from typing import cast\n",
    "\n",
    "import deepmolecules\n",
    "import matplotlib.pyplot as plt\n",
    "import pandas as pd\n",
    "from parameteriser import (\n",
    "    plot_parameter_distributions,\n",
    "    select_substrate,\n",
    ")\n",
    "from parameteriser.brenda.v0 import Brenda\n",
    "\n",
    "\n",
    "def download_top_n_sequences(ec: str, taxonomy_id: int, n: int = 100) -> pd.DataFrame:\n",
    "    import zlib\n",
    "    from io import BytesIO\n",
    "    from urllib.parse import quote\n",
    "\n",
    "    import requests\n",
    "\n",
    "    url = (\n",
    "        \"https://rest.uniprot.org/uniprotkb/search?\"\n",
    "        \"compressed=true\"\n",
    "        + quote(\"&fields=accession,organism_name,sequence\", safe=\"&=+\")\n",
    "        + \"&format=tsv\"\n",
    "        + quote(f\"&query=((ec:{ec})+AND+(taxonomy_id:{taxonomy_id}))\", safe=\"&=+\")\n",
    "        + f\"&size={n}\"\n",
    "    )\n",
    "\n",
    "    return pd.read_csv(\n",
    "        BytesIO(\n",
    "            zlib.decompress(\n",
    "                requests.get(url, timeout=60).content,\n",
    "                wbits=16 + zlib.MAX_WBITS,\n",
    "            ),\n",
    "        ),\n",
    "        sep=\"\\t\",\n",
    "    )"
   ]
  },
  {
   "cell_type": "code",
   "execution_count": null,
   "metadata": {},
   "outputs": [],
   "source": [
    "brenda = Brenda()\n",
    "\n",
    "if (path := Path.home() / \"Documents\" / \"brenda_2023_1.json\").exists():\n",
    "    brenda.read_database(path)"
   ]
  },
  {
   "cell_type": "markdown",
   "metadata": {},
   "source": [
    "## Check distribution of predicted kms for a wide range of organisms\n",
    "\n",
    "- Viridiplantae (plants & algae)\n",
    "  - embryophyta (land plants, taxonomy_id: 3193)\n",
    "- get protein sequence for all plants / algea?"
   ]
  },
  {
   "cell_type": "code",
   "execution_count": null,
   "metadata": {},
   "outputs": [],
   "source": [
    "ec = \"4.1.1.39\"\n",
    "brenda_substrate = \"CO2\"\n",
    "kegg_substrate = \"C00011\"  # CO2\n",
    "embryophyta = 3193  # embroyphyta\n",
    "\n",
    "seqs = download_top_n_sequences(ec=ec, taxonomy_id=embryophyta, n=100)\n",
    "seqs = seqs.iloc[seqs[\"Organism\"].drop_duplicates().index]\n",
    "brenda_kms = cast(\n",
    "    pd.Series,\n",
    "    (\n",
    "        select_substrate(\n",
    "            brenda.get_kms_and_kcats(ec=ec)[0],\n",
    "            brenda_substrate,\n",
    "        )[\"value\"]\n",
    "    ),\n",
    ")\n",
    "predicted_kms = deepmolecules.km.predict(\n",
    "    [kegg_substrate] * len(seqs),\n",
    "    seqs[\"Sequence\"].values,\n",
    ")[\"KM [mM]\"]\n",
    "fig, ax = plot_parameter_distributions(\n",
    "    brenda_kms,\n",
    "    predicted_kms,\n",
    "    organism_name=f\"{ec} - {brenda_substrate}\",\n",
    ")\n",
    "plt.show()"
   ]
  }
 ],
 "metadata": {
  "kernelspec": {
   "display_name": "default",
   "language": "python",
   "name": "python3"
  },
  "language_info": {
   "codemirror_mode": {
    "name": "ipython",
    "version": 3
   },
   "file_extension": ".py",
   "mimetype": "text/x-python",
   "name": "python",
   "nbconvert_exporter": "python",
   "pygments_lexer": "ipython3",
   "version": "3.11.11"
  }
 },
 "nbformat": 4,
 "nbformat_minor": 2
}
